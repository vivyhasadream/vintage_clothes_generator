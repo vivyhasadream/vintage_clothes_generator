{
 "cells": [
  {
   "cell_type": "markdown",
   "metadata": {},
   "source": [
    "## SETUP"
   ]
  },
  {
   "cell_type": "code",
   "execution_count": 203,
   "metadata": {},
   "outputs": [],
   "source": [
    "import pandas as pd\n",
    "import numpy as np\n",
    "import cv2\n",
    "import os\n",
    "import time\n",
    "import matplotlib.pyplot as plt\n",
    "from matplotlib import image as mpimg\n",
    "from PIL import Image\n",
    "import shutil\n",
    "\n",
    "\n",
    "# show all dataframe\n",
    "pd.set_option('display.max_colwidth', None) \n",
    "pd.set_option('display.max_columns', None)  "
   ]
  },
  {
   "cell_type": "markdown",
   "metadata": {},
   "source": [
    "## IMPORT"
   ]
  },
  {
   "cell_type": "code",
   "execution_count": 299,
   "metadata": {},
   "outputs": [],
   "source": [
    "df_raw = pd.read_csv('scrapped_data\\MET_full_selection_Keywords.csv')"
   ]
  },
  {
   "cell_type": "code",
   "execution_count": 303,
   "metadata": {},
   "outputs": [
    {
     "data": {
      "text/plain": [
       "Index(['objectID', 'isHighlight', 'accessionNumber', 'accessionYear',\n",
       "       'isPublicDomain', 'primaryImage', 'primaryImageSmall',\n",
       "       'additionalImages', 'constituents', 'department', 'objectName', 'title',\n",
       "       'culture', 'period', 'dynasty', 'reign', 'portfolio', 'artistRole',\n",
       "       'artistPrefix', 'artistDisplayName', 'artistDisplayBio', 'artistSuffix',\n",
       "       'artistAlphaSort', 'artistNationality', 'artistBeginDate',\n",
       "       'artistEndDate', 'artistGender', 'artistWikidata_URL', 'artistULAN_URL',\n",
       "       'objectDate', 'objectBeginDate', 'objectEndDate', 'medium',\n",
       "       'dimensions', 'measurements', 'creditLine', 'geographyType', 'city',\n",
       "       'state', 'county', 'country', 'region', 'subregion', 'locale', 'locus',\n",
       "       'excavation', 'river', 'classification', 'rightsAndReproduction',\n",
       "       'linkResource', 'metadataDate', 'repository', 'objectURL', 'tags',\n",
       "       'objectWikidata_URL', 'isTimelineWork', 'GalleryNumber'],\n",
       "      dtype='object')"
      ]
     },
     "execution_count": 303,
     "metadata": {},
     "output_type": "execute_result"
    }
   ],
   "source": [
    "df_raw.columns"
   ]
  },
  {
   "cell_type": "code",
   "execution_count": 348,
   "metadata": {},
   "outputs": [],
   "source": [
    "# select some columns for easier management\n",
    "col_sel = ['objectID','isPublicDomain', 'primaryImage' ,'department','objectName', \n",
    "            'title', 'culture', 'period']\n",
    "\n",
    "df = df_raw[col_sel]"
   ]
  },
  {
   "cell_type": "code",
   "execution_count": 349,
   "metadata": {},
   "outputs": [],
   "source": [
    "# only take the ones in public domain\n",
    "# because the first batch is public domain images only\n",
    "df = df[df['isPublicDomain']==True]"
   ]
  },
  {
   "cell_type": "code",
   "execution_count": 350,
   "metadata": {},
   "outputs": [],
   "source": [
    "# get rid of the one without primary image link\n",
    "df = df[df['primaryImage'].notna()==True]"
   ]
  },
  {
   "cell_type": "code",
   "execution_count": 351,
   "metadata": {},
   "outputs": [
    {
     "name": "stdout",
     "output_type": "stream",
     "text": [
      "<class 'pandas.core.frame.DataFrame'>\n",
      "Int64Index: 3017 entries, 13 to 14289\n",
      "Data columns (total 8 columns):\n",
      " #   Column          Non-Null Count  Dtype \n",
      "---  ------          --------------  ----- \n",
      " 0   objectID        3017 non-null   int64 \n",
      " 1   isPublicDomain  3017 non-null   bool  \n",
      " 2   primaryImage    3017 non-null   object\n",
      " 3   department      3017 non-null   object\n",
      " 4   objectName      3017 non-null   object\n",
      " 5   title           3016 non-null   object\n",
      " 6   culture         2903 non-null   object\n",
      " 7   period          389 non-null    object\n",
      "dtypes: bool(1), int64(1), object(6)\n",
      "memory usage: 191.5+ KB\n"
     ]
    }
   ],
   "source": [
    "df.info()"
   ]
  },
  {
   "cell_type": "markdown",
   "metadata": {},
   "source": [
    "## cleanup culture"
   ]
  },
  {
   "cell_type": "code",
   "execution_count": 352,
   "metadata": {},
   "outputs": [
    {
     "data": {
      "text/plain": [
       "77"
      ]
     },
     "execution_count": 352,
     "metadata": {},
     "output_type": "execute_result"
    }
   ],
   "source": [
    "df.culture.nunique()"
   ]
  },
  {
   "cell_type": "code",
   "execution_count": 353,
   "metadata": {},
   "outputs": [
    {
     "data": {
      "text/plain": [
       "array(['British', 'American', 'French', 'Italian', 'Spanish',\n",
       "       'probably British', 'probably French', 'European',\n",
       "       'probably American', 'American or European', 'probably Mexican',\n",
       "       'China', nan, 'Greek', 'Russian', 'French (Breton)', 'Romanian',\n",
       "       'Hungarian', 'Danish', 'Slovak', 'Bulgarian',\n",
       "       'Crow, Native American', 'Japan', 'Japanese', 'probably Italian',\n",
       "       'Greek (Attic)', 'probably Scottish', 'Chinese',\n",
       "       'Arapaho, Native American', 'German', 'Irish', 'Belgian',\n",
       "       'probably Russian', 'Czech (Moravian)', 'probably Japanese',\n",
       "       'probably European', 'Philippine', 'Macedonian', 'Croatian',\n",
       "       'Albanian', 'Albanian (Malissori)', 'Greek (Corinthian)',\n",
       "       'Scottish', 'European, Eastern', 'Innu/Naskapi, Native American',\n",
       "       'Peruvian', 'Montenegrin', 'Norwegian', 'Czech (Hanáci)',\n",
       "       'Portuguese', 'British or French', 'probably Spanish', 'Austrian',\n",
       "       'Dutch', 'probably Swiss', 'probably German', 'Serbian',\n",
       "       'Wasco, Native American', 'Lakota/ Teton Sioux, Native American',\n",
       "       'Latvian', 'probably Greek', 'Innu/ Naskapi, Native American',\n",
       "       'Indian', 'Myanmar', 'Cambodia, possibly',\n",
       "       'India (for Thai market)', 'Japan (Okinawa, Ryūkyū Islands)',\n",
       "       'Japan (Ainu)', 'Japan (Ryūkyū Islands)', 'Tibet',\n",
       "       'Tibet (made in Russia)', 'Japan or Netherlands',\n",
       "       'China, Turkestan', 'China (?)', 'China (Danzai people)',\n",
       "       'India (Gujarat, Patan)', 'Burma (Loimi Akha)', 'India'],\n",
       "      dtype=object)"
      ]
     },
     "execution_count": 353,
     "metadata": {},
     "output_type": "execute_result"
    }
   ],
   "source": [
    "df.culture.unique()"
   ]
  },
  {
   "cell_type": "markdown",
   "metadata": {},
   "source": [
    "### create culture label\n",
    "\n",
    "fill culture with department name"
   ]
  },
  {
   "cell_type": "code",
   "execution_count": 354,
   "metadata": {},
   "outputs": [],
   "source": [
    "df['culture_Label'] = df['culture']"
   ]
  },
  {
   "cell_type": "code",
   "execution_count": 355,
   "metadata": {},
   "outputs": [],
   "source": [
    "df_temp = df[df['culture_Label'].isna()==True]"
   ]
  },
  {
   "cell_type": "code",
   "execution_count": 356,
   "metadata": {},
   "outputs": [
    {
     "data": {
      "text/plain": [
       "Islamic Art    114\n",
       "Name: department, dtype: int64"
      ]
     },
     "execution_count": 356,
     "metadata": {},
     "output_type": "execute_result"
    }
   ],
   "source": [
    "df_temp['department'].value_counts()"
   ]
  },
  {
   "cell_type": "code",
   "execution_count": 357,
   "metadata": {},
   "outputs": [],
   "source": [
    "cond1 = (df['culture_Label'].isna() == True)\n",
    "\n",
    "df.loc[cond1,'culture_Label'] = 'Islamic'"
   ]
  },
  {
   "cell_type": "code",
   "execution_count": 358,
   "metadata": {},
   "outputs": [
    {
     "data": {
      "text/plain": [
       "0"
      ]
     },
     "execution_count": 358,
     "metadata": {},
     "output_type": "execute_result"
    }
   ],
   "source": [
    "df['culture_Label'].isna().sum()"
   ]
  },
  {
   "cell_type": "markdown",
   "metadata": {},
   "source": [
    "### combine cultures"
   ]
  },
  {
   "cell_type": "code",
   "execution_count": 359,
   "metadata": {},
   "outputs": [],
   "source": [
    "# remove 'probably' and possibly\n",
    "df['culture_Label'] = df['culture_Label'].str.replace('probably ','')\n",
    "df['culture_Label'] = df['culture_Label'].str.replace(', possibly','')\n"
   ]
  },
  {
   "cell_type": "code",
   "execution_count": 360,
   "metadata": {},
   "outputs": [
    {
     "data": {
      "text/plain": [
       "array(['British', 'American', 'French', 'Italian', 'Spanish', 'European',\n",
       "       'American or European', 'Mexican', 'China', 'Islamic', 'Greek',\n",
       "       'Russian', 'French (Breton)', 'Romanian', 'Hungarian', 'Danish',\n",
       "       'Slovak', 'Bulgarian', 'Crow, Native American', 'Japan',\n",
       "       'Japanese', 'Greek (Attic)', 'Scottish', 'Chinese',\n",
       "       'Arapaho, Native American', 'German', 'Irish', 'Belgian',\n",
       "       'Czech (Moravian)', 'Philippine', 'Macedonian', 'Croatian',\n",
       "       'Albanian', 'Albanian (Malissori)', 'Greek (Corinthian)',\n",
       "       'European, Eastern', 'Innu/Naskapi, Native American', 'Peruvian',\n",
       "       'Montenegrin', 'Norwegian', 'Czech (Hanáci)', 'Portuguese',\n",
       "       'British or French', 'Austrian', 'Dutch', 'Swiss', 'Serbian',\n",
       "       'Wasco, Native American', 'Lakota/ Teton Sioux, Native American',\n",
       "       'Latvian', 'Innu/ Naskapi, Native American', 'Indian', 'Myanmar',\n",
       "       'Cambodia', 'India (for Thai market)',\n",
       "       'Japan (Okinawa, Ryūkyū Islands)', 'Japan (Ainu)',\n",
       "       'Japan (Ryūkyū Islands)', 'Tibet', 'Tibet (made in Russia)',\n",
       "       'Japan or Netherlands', 'China, Turkestan', 'China (?)',\n",
       "       'China (Danzai people)', 'India (Gujarat, Patan)',\n",
       "       'Burma (Loimi Akha)', 'India'], dtype=object)"
      ]
     },
     "execution_count": 360,
     "metadata": {},
     "output_type": "execute_result"
    }
   ],
   "source": [
    "df['culture_Label'].unique()"
   ]
  },
  {
   "cell_type": "code",
   "execution_count": 361,
   "metadata": {},
   "outputs": [
    {
     "name": "stderr",
     "output_type": "stream",
     "text": [
      "C:\\Users\\yanha\\AppData\\Local\\Temp\\ipykernel_23288\\2863666407.py:2: FutureWarning: The default value of regex will change from True to False in a future version.\n",
      "  df['culture_Label'] = df['culture_Label'].str.replace(r\"\\(.*\\)\",\"\")\n"
     ]
    }
   ],
   "source": [
    "# delete content in ()\n",
    "df['culture_Label'] = df['culture_Label'].str.replace(r\"\\(.*\\)\",\"\")"
   ]
  },
  {
   "cell_type": "code",
   "execution_count": 362,
   "metadata": {},
   "outputs": [
    {
     "data": {
      "text/plain": [
       "array(['British', 'American', 'French', 'Italian', 'Spanish', 'European',\n",
       "       'American or European', 'Mexican', 'China', 'Islamic', 'Greek',\n",
       "       'Russian', 'French ', 'Romanian', 'Hungarian', 'Danish', 'Slovak',\n",
       "       'Bulgarian', 'Crow, Native American', 'Japan', 'Japanese',\n",
       "       'Greek ', 'Scottish', 'Chinese', 'Arapaho, Native American',\n",
       "       'German', 'Irish', 'Belgian', 'Czech ', 'Philippine', 'Macedonian',\n",
       "       'Croatian', 'Albanian', 'Albanian ', 'European, Eastern',\n",
       "       'Innu/Naskapi, Native American', 'Peruvian', 'Montenegrin',\n",
       "       'Norwegian', 'Portuguese', 'British or French', 'Austrian',\n",
       "       'Dutch', 'Swiss', 'Serbian', 'Wasco, Native American',\n",
       "       'Lakota/ Teton Sioux, Native American', 'Latvian',\n",
       "       'Innu/ Naskapi, Native American', 'Indian', 'Myanmar', 'Cambodia',\n",
       "       'India ', 'Japan ', 'Tibet', 'Tibet ', 'Japan or Netherlands',\n",
       "       'China, Turkestan', 'China ', 'Burma ', 'India'], dtype=object)"
      ]
     },
     "execution_count": 362,
     "metadata": {},
     "output_type": "execute_result"
    }
   ],
   "source": [
    "df['culture_Label'].unique()"
   ]
  },
  {
   "cell_type": "code",
   "execution_count": 363,
   "metadata": {},
   "outputs": [],
   "source": [
    "# delete white space\n",
    "df['culture_Label'] = df['culture_Label'].str.strip()"
   ]
  },
  {
   "cell_type": "code",
   "execution_count": 364,
   "metadata": {},
   "outputs": [
    {
     "data": {
      "text/plain": [
       "array(['British', 'American', 'French', 'Italian', 'Spanish', 'European',\n",
       "       'American or European', 'Mexican', 'China', 'Islamic', 'Greek',\n",
       "       'Russian', 'Romanian', 'Hungarian', 'Danish', 'Slovak',\n",
       "       'Bulgarian', 'Crow, Native American', 'Japan', 'Japanese',\n",
       "       'Scottish', 'Chinese', 'Arapaho, Native American', 'German',\n",
       "       'Irish', 'Belgian', 'Czech', 'Philippine', 'Macedonian',\n",
       "       'Croatian', 'Albanian', 'European, Eastern',\n",
       "       'Innu/Naskapi, Native American', 'Peruvian', 'Montenegrin',\n",
       "       'Norwegian', 'Portuguese', 'British or French', 'Austrian',\n",
       "       'Dutch', 'Swiss', 'Serbian', 'Wasco, Native American',\n",
       "       'Lakota/ Teton Sioux, Native American', 'Latvian',\n",
       "       'Innu/ Naskapi, Native American', 'Indian', 'Myanmar', 'Cambodia',\n",
       "       'India', 'Tibet', 'Japan or Netherlands', 'China, Turkestan',\n",
       "       'Burma'], dtype=object)"
      ]
     },
     "execution_count": 364,
     "metadata": {},
     "output_type": "execute_result"
    }
   ],
   "source": [
    "df['culture_Label'].unique()"
   ]
  },
  {
   "cell_type": "code",
   "execution_count": 365,
   "metadata": {},
   "outputs": [],
   "source": [
    "# combine Native American culture\n",
    "cond = (df['culture_Label'].str.contains('Native American'))\n",
    "df.loc[cond,'culture_Label'] = 'Native American'"
   ]
  },
  {
   "cell_type": "code",
   "execution_count": 366,
   "metadata": {},
   "outputs": [
    {
     "data": {
      "text/plain": [
       "array(['British', 'American', 'French', 'Italian', 'Spanish', 'European',\n",
       "       'American or European', 'Mexican', 'China', 'Islamic', 'Greek',\n",
       "       'Russian', 'Romanian', 'Hungarian', 'Danish', 'Slovak',\n",
       "       'Bulgarian', 'Native American', 'Japan', 'Japanese', 'Scottish',\n",
       "       'Chinese', 'German', 'Irish', 'Belgian', 'Czech', 'Philippine',\n",
       "       'Macedonian', 'Croatian', 'Albanian', 'European, Eastern',\n",
       "       'Peruvian', 'Montenegrin', 'Norwegian', 'Portuguese',\n",
       "       'British or French', 'Austrian', 'Dutch', 'Swiss', 'Serbian',\n",
       "       'Latvian', 'Indian', 'Myanmar', 'Cambodia', 'India', 'Tibet',\n",
       "       'Japan or Netherlands', 'China, Turkestan', 'Burma'], dtype=object)"
      ]
     },
     "execution_count": 366,
     "metadata": {},
     "output_type": "execute_result"
    }
   ],
   "source": [
    "df['culture_Label'].unique()"
   ]
  },
  {
   "cell_type": "code",
   "execution_count": 367,
   "metadata": {},
   "outputs": [],
   "source": [
    "# mixed culture --> fusion\n",
    "sel = ['American or European','European, Eastern','British or French', 'Japan or Netherlands', 'China, Turkestan']\n",
    "\n",
    "for s in sel:\n",
    "    cond = df['culture_Label']==s\n",
    "    df.loc[cond,'culture_Label']='fusion'"
   ]
  },
  {
   "cell_type": "code",
   "execution_count": 368,
   "metadata": {},
   "outputs": [
    {
     "name": "stdout",
     "output_type": "stream",
     "text": [
      "['Albanian' 'American' 'Austrian' 'Belgian' 'British' 'Bulgarian' 'Burma'\n",
      " 'Cambodia' 'China' 'Chinese' 'Croatian' 'Czech' 'Danish' 'Dutch'\n",
      " 'European' 'French' 'German' 'Greek' 'Hungarian' 'India' 'Indian' 'Irish'\n",
      " 'Islamic' 'Italian' 'Japan' 'Japanese' 'Latvian' 'Macedonian' 'Mexican'\n",
      " 'Montenegrin' 'Myanmar' 'Native American' 'Norwegian' 'Peruvian'\n",
      " 'Philippine' 'Portuguese' 'Romanian' 'Russian' 'Scottish' 'Serbian'\n",
      " 'Slovak' 'Spanish' 'Swiss' 'Tibet' 'fusion']\n"
     ]
    }
   ],
   "source": [
    "# checkout labels sorted\n",
    "ls = df['culture_Label'].unique()\n",
    "ls.sort()\n",
    "print(ls)"
   ]
  },
  {
   "cell_type": "code",
   "execution_count": 369,
   "metadata": {},
   "outputs": [],
   "source": [
    "# replace *ese\n",
    "ese_dict = {'Chinese':'China','Japanese':'Japan','Indian':'India'}\n",
    "\n",
    "df = df.replace({'culture_Label': ese_dict})"
   ]
  },
  {
   "cell_type": "code",
   "execution_count": 370,
   "metadata": {},
   "outputs": [
    {
     "name": "stdout",
     "output_type": "stream",
     "text": [
      "['Albanian' 'American' 'Austrian' 'Belgian' 'British' 'Bulgarian' 'Burma'\n",
      " 'Cambodia' 'China' 'Croatian' 'Czech' 'Danish' 'Dutch' 'European'\n",
      " 'French' 'German' 'Greek' 'Hungarian' 'India' 'Irish' 'Islamic' 'Italian'\n",
      " 'Japan' 'Latvian' 'Macedonian' 'Mexican' 'Montenegrin' 'Myanmar'\n",
      " 'Native American' 'Norwegian' 'Peruvian' 'Philippine' 'Portuguese'\n",
      " 'Romanian' 'Russian' 'Scottish' 'Serbian' 'Slovak' 'Spanish' 'Swiss'\n",
      " 'Tibet' 'fusion']\n"
     ]
    }
   ],
   "source": [
    "ls = df['culture_Label'].unique()\n",
    "ls.sort()\n",
    "print(ls)"
   ]
  },
  {
   "cell_type": "code",
   "execution_count": 371,
   "metadata": {},
   "outputs": [
    {
     "data": {
      "text/plain": [
       "42"
      ]
     },
     "execution_count": 371,
     "metadata": {},
     "output_type": "execute_result"
    }
   ],
   "source": [
    "df['culture_Label'].nunique()\n",
    "# still too many"
   ]
  },
  {
   "cell_type": "code",
   "execution_count": 372,
   "metadata": {},
   "outputs": [],
   "source": [
    "# group the bottoms ones to 'minor'\n",
    "label_ls = df['culture_Label'].value_counts(normalize=True)"
   ]
  },
  {
   "cell_type": "code",
   "execution_count": 373,
   "metadata": {},
   "outputs": [
    {
     "data": {
      "text/plain": [
       "pandas.core.series.Series"
      ]
     },
     "execution_count": 373,
     "metadata": {},
     "output_type": "execute_result"
    }
   ],
   "source": [
    "type(label_ls)"
   ]
  },
  {
   "cell_type": "code",
   "execution_count": 374,
   "metadata": {},
   "outputs": [
    {
     "data": {
      "text/plain": [
       "Index(['Scottish', 'Irish', 'Slovak', 'Danish', 'Belgian', 'Dutch', 'Mexican',\n",
       "       'Philippine', 'Czech', 'Swiss', 'Cambodia', 'Myanmar', 'Latvian',\n",
       "       'Serbian', 'Macedonian', 'Croatian', 'Portuguese', 'Norwegian',\n",
       "       'Montenegrin', 'Peruvian', 'Bulgarian', 'Burma'],\n",
       "      dtype='object')"
      ]
     },
     "execution_count": 374,
     "metadata": {},
     "output_type": "execute_result"
    }
   ],
   "source": [
    "# only keep the top 21\n",
    "# why 21? because the no. 21 is native american\n",
    "# I'd love to keep it\n",
    "minor = label_ls.index[20:]\n",
    "minor"
   ]
  },
  {
   "cell_type": "code",
   "execution_count": 375,
   "metadata": {},
   "outputs": [],
   "source": [
    "df['culture_Label'] = df['culture_Label'].map(lambda x: 'minor' if x in set(minor) else x)"
   ]
  },
  {
   "cell_type": "code",
   "execution_count": 376,
   "metadata": {},
   "outputs": [
    {
     "data": {
      "text/plain": [
       "array(['British', 'American', 'French', 'Italian', 'Spanish', 'European',\n",
       "       'fusion', 'minor', 'China', 'Islamic', 'Greek', 'Russian',\n",
       "       'Romanian', 'Hungarian', 'Native American', 'Japan', 'German',\n",
       "       'Albanian', 'Austrian', 'India', 'Tibet'], dtype=object)"
      ]
     },
     "execution_count": 376,
     "metadata": {},
     "output_type": "execute_result"
    }
   ],
   "source": [
    "df['culture_Label'].unique()"
   ]
  },
  {
   "cell_type": "code",
   "execution_count": 377,
   "metadata": {},
   "outputs": [
    {
     "data": {
      "text/plain": [
       "21"
      ]
     },
     "execution_count": 377,
     "metadata": {},
     "output_type": "execute_result"
    }
   ],
   "source": [
    "df['culture_Label'].nunique()"
   ]
  },
  {
   "cell_type": "code",
   "execution_count": 378,
   "metadata": {},
   "outputs": [
    {
     "data": {
      "text/plain": [
       "American           1214\n",
       "French              499\n",
       "British             267\n",
       "China               248\n",
       "Japan               214\n",
       "fusion              176\n",
       "Islamic             114\n",
       "European             64\n",
       "minor                43\n",
       "Italian              35\n",
       "Spanish              29\n",
       "Russian              20\n",
       "Greek                19\n",
       "Romanian             13\n",
       "Hungarian            11\n",
       "Tibet                11\n",
       "Albanian             10\n",
       "German                9\n",
       "Austrian              8\n",
       "India                 7\n",
       "Native American       6\n",
       "Name: culture_Label, dtype: int64"
      ]
     },
     "execution_count": 378,
     "metadata": {},
     "output_type": "execute_result"
    }
   ],
   "source": [
    "df['culture_Label'].value_counts()"
   ]
  },
  {
   "cell_type": "markdown",
   "metadata": {},
   "source": [
    "## move images to their folders"
   ]
  },
  {
   "cell_type": "markdown",
   "metadata": {},
   "source": [
    "### create folders"
   ]
  },
  {
   "cell_type": "code",
   "execution_count": 379,
   "metadata": {},
   "outputs": [
    {
     "data": {
      "text/plain": [
       "array(['British', 'American', 'French', 'Italian', 'Spanish', 'European',\n",
       "       'fusion', 'minor', 'China', 'Islamic', 'Greek', 'Russian',\n",
       "       'Romanian', 'Hungarian', 'Native American', 'Japan', 'German',\n",
       "       'Albanian', 'Austrian', 'India', 'Tibet'], dtype=object)"
      ]
     },
     "execution_count": 379,
     "metadata": {},
     "output_type": "execute_result"
    }
   ],
   "source": [
    "df['culture_Label'].unique()"
   ]
  },
  {
   "cell_type": "code",
   "execution_count": 380,
   "metadata": {},
   "outputs": [
    {
     "data": {
      "text/plain": [
       "21"
      ]
     },
     "execution_count": 380,
     "metadata": {},
     "output_type": "execute_result"
    }
   ],
   "source": [
    "df['culture_Label'].nunique()"
   ]
  },
  {
   "cell_type": "code",
   "execution_count": 381,
   "metadata": {},
   "outputs": [],
   "source": [
    "for n in df['culture_Label'].unique():\n",
    "    newpath = r'images_tf/' + n\n",
    "\n",
    "    if not os.path.exists(newpath):\n",
    "        os.makedirs(newpath)"
   ]
  },
  {
   "cell_type": "markdown",
   "metadata": {},
   "source": [
    "### move file to its folder"
   ]
  },
  {
   "cell_type": "markdown",
   "metadata": {},
   "source": [
    "### prototype"
   ]
  },
  {
   "cell_type": "code",
   "execution_count": 213,
   "metadata": {},
   "outputs": [
    {
     "data": {
      "text/plain": [
       "'images_tf/Albanian/14099.jpg'"
      ]
     },
     "execution_count": 213,
     "metadata": {},
     "output_type": "execute_result"
    }
   ],
   "source": [
    "# Source path\n",
    "source = \"images_proc/full_selection_sel/42112.jpg\"\n",
    "\n",
    "# Destination path\n",
    "destination = \"images_tf/Albanian/14099.jpg\"\n",
    "\n",
    "shutil.copy(source, destination)"
   ]
  },
  {
   "cell_type": "code",
   "execution_count": 247,
   "metadata": {},
   "outputs": [],
   "source": [
    "file_name = '42112.jpg'"
   ]
  },
  {
   "cell_type": "code",
   "execution_count": 248,
   "metadata": {},
   "outputs": [
    {
     "data": {
      "text/plain": [
       "'42112'"
      ]
     },
     "execution_count": 248,
     "metadata": {},
     "output_type": "execute_result"
    }
   ],
   "source": [
    "file_name[:-4]"
   ]
  },
  {
   "cell_type": "code",
   "execution_count": 258,
   "metadata": {},
   "outputs": [
    {
     "data": {
      "text/plain": [
       "'images_tf/French/42112.jpg'"
      ]
     },
     "execution_count": 258,
     "metadata": {},
     "output_type": "execute_result"
    }
   ],
   "source": [
    "src_file_name = '81263.jpg'\n",
    "source = 'images_proc/full_selection_sel/' + src_file_name # Source path\n",
    "\n",
    "name = src_file_name[:-4]\n",
    "des_folder = df.loc[df['Object ID']==int(name),'culture_Label'].values[0]\n",
    "destination = 'images_tf/' + des_folder +'/' + file_name # Destination path\n",
    "\n",
    "shutil.copy(source, destination)"
   ]
  },
  {
   "cell_type": "code",
   "execution_count": 277,
   "metadata": {},
   "outputs": [],
   "source": [
    "src_path = 'test'\n",
    "des_path = 'images_tf/'\n",
    "\n",
    "for filename in os.scandir(src_path):\n",
    "    src_file_name = filename.name\n",
    "    source = filename.path # Source path\n",
    "\n",
    "    name = src_file_name[:-4]\n",
    "    des_folder = df.loc[df['Object ID']==int(name),'culture_Label'].values[0]\n",
    "\n",
    "    destination = des_path + des_folder +'/' + src_file_name # Destination path\n",
    "\n",
    "    shutil.copy(source, destination)\n"
   ]
  },
  {
   "cell_type": "markdown",
   "metadata": {},
   "source": [
    "### define function"
   ]
  },
  {
   "cell_type": "code",
   "execution_count": 383,
   "metadata": {},
   "outputs": [],
   "source": [
    "def move_file(src_path = 'test',des_path = 'images_tf/'):\n",
    "\n",
    "    for filename in os.scandir(src_path):\n",
    "        src_file_name = filename.name\n",
    "        source = filename.path # Source path\n",
    "\n",
    "        name = src_file_name[:-4]\n",
    "        # print(name)\n",
    "        des_folder = df.loc[df['objectID']==int(name),'culture_Label'].values[0]\n",
    "\n",
    "        destination = des_path + des_folder +'/' + src_file_name # Destination path\n",
    "\n",
    "        shutil.copy(source, destination)\n"
   ]
  },
  {
   "cell_type": "markdown",
   "metadata": {},
   "source": [
    "### test run"
   ]
  },
  {
   "cell_type": "code",
   "execution_count": 282,
   "metadata": {},
   "outputs": [],
   "source": [
    "move_file()"
   ]
  },
  {
   "cell_type": "markdown",
   "metadata": {},
   "source": [
    "### run on full"
   ]
  },
  {
   "cell_type": "code",
   "execution_count": 384,
   "metadata": {},
   "outputs": [],
   "source": [
    "move_file('images_proc/full_selection_sel','images_tf/')"
   ]
  },
  {
   "cell_type": "code",
   "execution_count": null,
   "metadata": {},
   "outputs": [],
   "source": []
  }
 ],
 "metadata": {
  "kernelspec": {
   "display_name": "Python 3.9.12 ('base')",
   "language": "python",
   "name": "python3"
  },
  "language_info": {
   "codemirror_mode": {
    "name": "ipython",
    "version": 3
   },
   "file_extension": ".py",
   "mimetype": "text/x-python",
   "name": "python",
   "nbconvert_exporter": "python",
   "pygments_lexer": "ipython3",
   "version": "3.9.12"
  },
  "orig_nbformat": 4,
  "vscode": {
   "interpreter": {
    "hash": "c738c5dbbe27c39534afaf60a228761ec99c842d673ea0c5f841b81d59c4efd4"
   }
  }
 },
 "nbformat": 4,
 "nbformat_minor": 2
}
