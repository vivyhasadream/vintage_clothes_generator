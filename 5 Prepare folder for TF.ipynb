{
 "cells": [
  {
   "cell_type": "markdown",
   "metadata": {},
   "source": [
    "## SETUP"
   ]
  },
  {
   "cell_type": "code",
   "execution_count": 1,
   "metadata": {},
   "outputs": [],
   "source": [
    "import pandas as pd\n",
    "import numpy as np\n",
    "import cv2\n",
    "import os\n",
    "import time\n",
    "import matplotlib.pyplot as plt\n",
    "from matplotlib import image as mpimg\n",
    "from PIL import Image\n",
    "import shutil\n",
    "\n",
    "\n",
    "# show all dataframe\n",
    "pd.set_option('display.max_colwidth', None) \n",
    "pd.set_option('display.max_columns', None)  "
   ]
  },
  {
   "cell_type": "markdown",
   "metadata": {},
   "source": [
    "## IMPORT"
   ]
  },
  {
   "cell_type": "markdown",
   "metadata": {},
   "source": [
    "### met"
   ]
  },
  {
   "cell_type": "code",
   "execution_count": 44,
   "metadata": {},
   "outputs": [],
   "source": [
    "df_met_raw = pd.read_csv('scrapped_data\\MET_full_selection_Keywords.csv')"
   ]
  },
  {
   "cell_type": "code",
   "execution_count": 3,
   "metadata": {},
   "outputs": [
    {
     "data": {
      "text/plain": [
       "Index(['objectID', 'isHighlight', 'accessionNumber', 'accessionYear',\n",
       "       'isPublicDomain', 'primaryImage', 'primaryImageSmall',\n",
       "       'additionalImages', 'constituents', 'department', 'objectName', 'title',\n",
       "       'culture', 'period', 'dynasty', 'reign', 'portfolio', 'artistRole',\n",
       "       'artistPrefix', 'artistDisplayName', 'artistDisplayBio', 'artistSuffix',\n",
       "       'artistAlphaSort', 'artistNationality', 'artistBeginDate',\n",
       "       'artistEndDate', 'artistGender', 'artistWikidata_URL', 'artistULAN_URL',\n",
       "       'objectDate', 'objectBeginDate', 'objectEndDate', 'medium',\n",
       "       'dimensions', 'measurements', 'creditLine', 'geographyType', 'city',\n",
       "       'state', 'county', 'country', 'region', 'subregion', 'locale', 'locus',\n",
       "       'excavation', 'river', 'classification', 'rightsAndReproduction',\n",
       "       'linkResource', 'metadataDate', 'repository', 'objectURL', 'tags',\n",
       "       'objectWikidata_URL', 'isTimelineWork', 'GalleryNumber'],\n",
       "      dtype='object')"
      ]
     },
     "execution_count": 3,
     "metadata": {},
     "output_type": "execute_result"
    }
   ],
   "source": [
    "df_met_raw.columns"
   ]
  },
  {
   "cell_type": "code",
   "execution_count": 45,
   "metadata": {},
   "outputs": [],
   "source": [
    "# select some columns for easier management\n",
    "col_sel = ['objectID','isPublicDomain', 'primaryImage' ,'department','objectName', \n",
    "            'title', 'culture']\n",
    "\n",
    "df_met = df_met_raw[col_sel]"
   ]
  },
  {
   "cell_type": "code",
   "execution_count": 46,
   "metadata": {},
   "outputs": [],
   "source": [
    "# only take the ones in public domain\n",
    "# because the first batch is public domain images only\n",
    "df_met = df_met[df_met['isPublicDomain']==True]"
   ]
  },
  {
   "cell_type": "code",
   "execution_count": 47,
   "metadata": {},
   "outputs": [],
   "source": [
    "# get rid of the one without primary image link\n",
    "df_met = df_met[df_met['primaryImage'].notna()==True]"
   ]
  },
  {
   "cell_type": "code",
   "execution_count": 48,
   "metadata": {},
   "outputs": [
    {
     "name": "stdout",
     "output_type": "stream",
     "text": [
      "<class 'pandas.core.frame.DataFrame'>\n",
      "Int64Index: 3017 entries, 13 to 14289\n",
      "Data columns (total 7 columns):\n",
      " #   Column          Non-Null Count  Dtype \n",
      "---  ------          --------------  ----- \n",
      " 0   objectID        3017 non-null   int64 \n",
      " 1   isPublicDomain  3017 non-null   bool  \n",
      " 2   primaryImage    3017 non-null   object\n",
      " 3   department      3017 non-null   object\n",
      " 4   objectName      3017 non-null   object\n",
      " 5   title           3016 non-null   object\n",
      " 6   culture         2903 non-null   object\n",
      "dtypes: bool(1), int64(1), object(5)\n",
      "memory usage: 167.9+ KB\n"
     ]
    }
   ],
   "source": [
    "df_met.info()"
   ]
  },
  {
   "cell_type": "markdown",
   "metadata": {},
   "source": [
    "### va"
   ]
  },
  {
   "cell_type": "code",
   "execution_count": 49,
   "metadata": {},
   "outputs": [
    {
     "data": {
      "text/html": [
       "<div>\n",
       "<style scoped>\n",
       "    .dataframe tbody tr th:only-of-type {\n",
       "        vertical-align: middle;\n",
       "    }\n",
       "\n",
       "    .dataframe tbody tr th {\n",
       "        vertical-align: top;\n",
       "    }\n",
       "\n",
       "    .dataframe thead th {\n",
       "        text-align: right;\n",
       "    }\n",
       "</style>\n",
       "<table border=\"1\" class=\"dataframe\">\n",
       "  <thead>\n",
       "    <tr style=\"text-align: right;\">\n",
       "      <th></th>\n",
       "      <th>systemNumber</th>\n",
       "      <th>accessionNumber</th>\n",
       "      <th>objectType</th>\n",
       "      <th>_currentLocation</th>\n",
       "      <th>_primaryTitle</th>\n",
       "      <th>_primaryMaker</th>\n",
       "      <th>_primaryImageId</th>\n",
       "      <th>_primaryDate</th>\n",
       "      <th>_primaryPlace</th>\n",
       "      <th>_warningTypes</th>\n",
       "      <th>_images</th>\n",
       "      <th>image_value</th>\n",
       "      <th>image_base</th>\n",
       "    </tr>\n",
       "  </thead>\n",
       "  <tbody>\n",
       "    <tr>\n",
       "      <th>0</th>\n",
       "      <td>O1314778</td>\n",
       "      <td>S.1658-2015</td>\n",
       "      <td>costume</td>\n",
       "      <td>{'id': 'THES49318', 'displayName': 'In store', 'type': 'storage', 'site': 'BH', 'onDisplay': False, 'detail': {'free': '', 'case': '', 'shelf': '', 'box': ''}}</td>\n",
       "      <td>Costume</td>\n",
       "      <td>{'name': 'Strassner, Joe', 'association': 'designers'}</td>\n",
       "      <td>2015HV9075</td>\n",
       "      <td>1936</td>\n",
       "      <td>Great Britain</td>\n",
       "      <td>[]</td>\n",
       "      <td>{'_primary_thumbnail': 'https://framemark.vam.ac.uk/collections/2015HV9075/full/!100,100/0/default.jpg', '_iiif_image_base_url': 'https://framemark.vam.ac.uk/collections/2015HV9075/', '_iiif_presentation_url': None, 'imageResolution': 'low'}</td>\n",
       "      <td>dict_values(['https://framemark.vam.ac.uk/collections/2015HV9075/full/!100,100/0/default.jpg', 'https://framemark.vam.ac.uk/collections/2015HV9075/', None, 'low'])</td>\n",
       "      <td>https://framemark.vam.ac.uk/collections/2015HV9075/</td>\n",
       "    </tr>\n",
       "  </tbody>\n",
       "</table>\n",
       "</div>"
      ],
      "text/plain": [
       "  systemNumber accessionNumber objectType  \\\n",
       "0     O1314778     S.1658-2015    costume   \n",
       "\n",
       "                                                                                                                                                  _currentLocation  \\\n",
       "0  {'id': 'THES49318', 'displayName': 'In store', 'type': 'storage', 'site': 'BH', 'onDisplay': False, 'detail': {'free': '', 'case': '', 'shelf': '', 'box': ''}}   \n",
       "\n",
       "  _primaryTitle                                           _primaryMaker  \\\n",
       "0       Costume  {'name': 'Strassner, Joe', 'association': 'designers'}   \n",
       "\n",
       "  _primaryImageId _primaryDate  _primaryPlace _warningTypes  \\\n",
       "0      2015HV9075         1936  Great Britain            []   \n",
       "\n",
       "                                                                                                                                                                                                                                             _images  \\\n",
       "0  {'_primary_thumbnail': 'https://framemark.vam.ac.uk/collections/2015HV9075/full/!100,100/0/default.jpg', '_iiif_image_base_url': 'https://framemark.vam.ac.uk/collections/2015HV9075/', '_iiif_presentation_url': None, 'imageResolution': 'low'}   \n",
       "\n",
       "                                                                                                                                                           image_value  \\\n",
       "0  dict_values(['https://framemark.vam.ac.uk/collections/2015HV9075/full/!100,100/0/default.jpg', 'https://framemark.vam.ac.uk/collections/2015HV9075/', None, 'low'])   \n",
       "\n",
       "                                            image_base  \n",
       "0  https://framemark.vam.ac.uk/collections/2015HV9075/  "
      ]
     },
     "execution_count": 49,
     "metadata": {},
     "output_type": "execute_result"
    }
   ],
   "source": [
    "df_va_raw = pd.read_csv('scrapped_data/VA_all_sel.csv')\n",
    "df_va_raw.head(1)"
   ]
  },
  {
   "cell_type": "code",
   "execution_count": 50,
   "metadata": {},
   "outputs": [
    {
     "data": {
      "text/plain": [
       "Index(['systemNumber', 'accessionNumber', 'objectType', '_currentLocation',\n",
       "       '_primaryTitle', '_primaryMaker', '_primaryImageId', '_primaryDate',\n",
       "       '_primaryPlace', '_warningTypes', '_images', 'image_value',\n",
       "       'image_base'],\n",
       "      dtype='object')"
      ]
     },
     "execution_count": 50,
     "metadata": {},
     "output_type": "execute_result"
    }
   ],
   "source": [
    "df_va_raw.columns"
   ]
  },
  {
   "cell_type": "code",
   "execution_count": 51,
   "metadata": {},
   "outputs": [],
   "source": [
    "col_sel = ['systemNumber', 'objectType', '_primaryTitle', '_primaryDate', '_primaryPlace', 'image_base']\n",
    "df_va = df_va_raw[col_sel]"
   ]
  },
  {
   "cell_type": "code",
   "execution_count": 52,
   "metadata": {},
   "outputs": [
    {
     "data": {
      "text/html": [
       "<div>\n",
       "<style scoped>\n",
       "    .dataframe tbody tr th:only-of-type {\n",
       "        vertical-align: middle;\n",
       "    }\n",
       "\n",
       "    .dataframe tbody tr th {\n",
       "        vertical-align: top;\n",
       "    }\n",
       "\n",
       "    .dataframe thead th {\n",
       "        text-align: right;\n",
       "    }\n",
       "</style>\n",
       "<table border=\"1\" class=\"dataframe\">\n",
       "  <thead>\n",
       "    <tr style=\"text-align: right;\">\n",
       "      <th></th>\n",
       "      <th>systemNumber</th>\n",
       "      <th>objectType</th>\n",
       "      <th>_primaryTitle</th>\n",
       "      <th>_primaryDate</th>\n",
       "      <th>_primaryPlace</th>\n",
       "      <th>image_base</th>\n",
       "    </tr>\n",
       "  </thead>\n",
       "  <tbody>\n",
       "    <tr>\n",
       "      <th>0</th>\n",
       "      <td>O1314778</td>\n",
       "      <td>costume</td>\n",
       "      <td>Costume</td>\n",
       "      <td>1936</td>\n",
       "      <td>Great Britain</td>\n",
       "      <td>https://framemark.vam.ac.uk/collections/2015HV9075/</td>\n",
       "    </tr>\n",
       "  </tbody>\n",
       "</table>\n",
       "</div>"
      ],
      "text/plain": [
       "  systemNumber objectType _primaryTitle _primaryDate  _primaryPlace  \\\n",
       "0     O1314778    costume       Costume         1936  Great Britain   \n",
       "\n",
       "                                            image_base  \n",
       "0  https://framemark.vam.ac.uk/collections/2015HV9075/  "
      ]
     },
     "execution_count": 52,
     "metadata": {},
     "output_type": "execute_result"
    }
   ],
   "source": [
    "df_va.head(1)"
   ]
  },
  {
   "cell_type": "code",
   "execution_count": 25,
   "metadata": {},
   "outputs": [
    {
     "name": "stdout",
     "output_type": "stream",
     "text": [
      "<class 'pandas.core.frame.DataFrame'>\n",
      "RangeIndex: 7096 entries, 0 to 7095\n",
      "Data columns (total 6 columns):\n",
      " #   Column         Non-Null Count  Dtype \n",
      "---  ------         --------------  ----- \n",
      " 0   systemNumber   7096 non-null   object\n",
      " 1   objectType     7095 non-null   object\n",
      " 2   _primaryTitle  1167 non-null   object\n",
      " 3   _primaryDate   6779 non-null   object\n",
      " 4   _primaryPlace  6104 non-null   object\n",
      " 5   image_base     7096 non-null   object\n",
      "dtypes: object(6)\n",
      "memory usage: 332.8+ KB\n"
     ]
    }
   ],
   "source": [
    "df_va.info()"
   ]
  },
  {
   "cell_type": "code",
   "execution_count": 53,
   "metadata": {},
   "outputs": [
    {
     "data": {
      "text/plain": [
       "systemNumber     7096\n",
       "objectType        564\n",
       "_primaryTitle     790\n",
       "_primaryDate     1603\n",
       "_primaryPlace     349\n",
       "image_base       7096\n",
       "dtype: int64"
      ]
     },
     "execution_count": 53,
     "metadata": {},
     "output_type": "execute_result"
    }
   ],
   "source": [
    "df_va.nunique()"
   ]
  },
  {
   "cell_type": "markdown",
   "metadata": {},
   "source": [
    "## cleanup culture"
   ]
  },
  {
   "cell_type": "markdown",
   "metadata": {},
   "source": [
    "### combine two dataset"
   ]
  },
  {
   "cell_type": "code",
   "execution_count": 123,
   "metadata": {},
   "outputs": [
    {
     "data": {
      "text/plain": [
       "Index(['systemNumber', 'objectType', '_primaryTitle', '_primaryDate',\n",
       "       'culture', 'image_base'],\n",
       "      dtype='object')"
      ]
     },
     "execution_count": 123,
     "metadata": {},
     "output_type": "execute_result"
    }
   ],
   "source": [
    "df_va.columns"
   ]
  },
  {
   "cell_type": "code",
   "execution_count": 124,
   "metadata": {},
   "outputs": [
    {
     "name": "stderr",
     "output_type": "stream",
     "text": [
      "C:\\Users\\yanha\\AppData\\Local\\Temp\\ipykernel_34556\\1885056477.py:1: SettingWithCopyWarning: \n",
      "A value is trying to be set on a copy of a slice from a DataFrame\n",
      "\n",
      "See the caveats in the documentation: https://pandas.pydata.org/pandas-docs/stable/user_guide/indexing.html#returning-a-view-versus-a-copy\n",
      "  df_va.rename(columns={'_primaryPlace': 'culture','objectType': 'objectName'}, inplace=True)\n"
     ]
    }
   ],
   "source": [
    "df_va.rename(columns={'_primaryPlace': 'culture','objectType': 'objectName'}, inplace=True)"
   ]
  },
  {
   "cell_type": "code",
   "execution_count": 125,
   "metadata": {},
   "outputs": [],
   "source": [
    "df = pd.concat([df_met,df_va])"
   ]
  },
  {
   "cell_type": "code",
   "execution_count": 57,
   "metadata": {},
   "outputs": [
    {
     "data": {
      "text/plain": [
       "422"
      ]
     },
     "execution_count": 57,
     "metadata": {},
     "output_type": "execute_result"
    }
   ],
   "source": [
    "df.culture.nunique()"
   ]
  },
  {
   "cell_type": "code",
   "execution_count": 58,
   "metadata": {},
   "outputs": [
    {
     "data": {
      "text/plain": [
       "array(['British', 'American', 'French', 'Italian', 'Spanish',\n",
       "       'probably British', 'probably French', 'European',\n",
       "       'probably American', 'American or European', 'probably Mexican',\n",
       "       'China', nan, 'Greek', 'Russian', 'French (Breton)', 'Romanian',\n",
       "       'Hungarian', 'Danish', 'Slovak', 'Bulgarian',\n",
       "       'Crow, Native American', 'Japan', 'Japanese', 'probably Italian',\n",
       "       'Greek (Attic)', 'probably Scottish', 'Chinese',\n",
       "       'Arapaho, Native American', 'German', 'Irish', 'Belgian',\n",
       "       'probably Russian', 'Czech (Moravian)', 'probably Japanese',\n",
       "       'probably European', 'Philippine', 'Macedonian', 'Croatian',\n",
       "       'Albanian', 'Albanian (Malissori)', 'Greek (Corinthian)',\n",
       "       'Scottish', 'European, Eastern', 'Innu/Naskapi, Native American',\n",
       "       'Peruvian', 'Montenegrin', 'Norwegian', 'Czech (Hanáci)',\n",
       "       'Portuguese', 'British or French', 'probably Spanish', 'Austrian',\n",
       "       'Dutch', 'probably Swiss', 'probably German', 'Serbian',\n",
       "       'Wasco, Native American', 'Lakota/ Teton Sioux, Native American',\n",
       "       'Latvian', 'probably Greek', 'Innu/ Naskapi, Native American',\n",
       "       'Indian', 'Myanmar', 'Cambodia, possibly',\n",
       "       'India (for Thai market)', 'Japan (Okinawa, Ryūkyū Islands)',\n",
       "       'Japan (Ainu)', 'Japan (Ryūkyū Islands)', 'Tibet',\n",
       "       'Tibet (made in Russia)', 'Japan or Netherlands',\n",
       "       'China, Turkestan', 'China (?)', 'China (Danzai people)',\n",
       "       'India (Gujarat, Patan)', 'Burma (Loimi Akha)', 'India',\n",
       "       'Great Britain', 'United States of America', 'London', 'New York',\n",
       "       'United Kingdom', 'Los Angeles', 'Sussex', 'France', 'Paris',\n",
       "       'Lincolnshire', 'Surrey', 'South Africa', 'California',\n",
       "       'United States', 'Sind', 'America', 'USA', 'UK', 'England',\n",
       "       'Lucknow', 'Hollywood', 'St Petersburg', 'Bahrain', 'Dubai',\n",
       "       'Spain', 'Britain', 'Iceland', 'Romania', 'Staffordshire',\n",
       "       'Berlin', 'Derby', 'Singapore', 'Australia', 'Manchester',\n",
       "       'Morocco', 'Varanasi', 'Shache', 'Republic of Liberia', 'Egypt',\n",
       "       'Africa', 'Nigeria', 'Mali', 'Amritsar', 'Iran', 'Scotland',\n",
       "       'Turkestan', 'Samarkand', 'Turkmenistan', 'Bhutan', 'Delhi',\n",
       "       'Sindh', 'Hangzhou', 'Turkey', 'Hong Kong', 'Lahore', 'Shuri',\n",
       "       'Kyoto', 'Hokkaido', 'Kashmir', 'Baluchistan', 'Burhanpur',\n",
       "       'Italy', 'Tunisia', 'Ryukyu Islands', 'North India', 'Ayrshire',\n",
       "       'Ireland', 'Flanders', 'Portugal', 'Oudh', 'Mandalay', 'Sibsagar',\n",
       "       'Burma', 'Bharatpur', 'Mandalay (City)', 'Beijing', 'Russia',\n",
       "       'Trikeri', 'Greece', 'Croatia', 'Crete', 'london', 'Hungary',\n",
       "       'Dodecanese', 'Montenegro', 'Bulgaria', 'Serbia', 'Macedonia',\n",
       "       'Paraguay', 'Bosnia', 'Kalotaszeg', 'Skopska Crna Gora', 'england',\n",
       "       'West Bengal', 'Seoul', 'Korea', 'Algeria', 'New York (City)',\n",
       "       'uk', 'Bromley', 'Poland', 'Netherlands', 'Germany', 'Edinburgh',\n",
       "       'Kent', 'North America', 'Coromandel Coast',\n",
       "       'North-West Frontier Province', 'Kutch', 'Vienna (city)', 'Lewes',\n",
       "       'Milan', 'Milan (city)', 'Bengal', 'Stoke', 'Belgium',\n",
       "       'Madrid (region)', 'Kenya', 'Lagos', 'Dakar', 'Tokyo',\n",
       "       'Sierra Leone', 'Brussels', 'Wales', 'Bamako', 'nigeria',\n",
       "       'Johannesburg', 'Rome', 'Chanderi', 'Gujarat', 'Dhaka', 'new york',\n",
       "       'Finland', 'Jamaica', 'Pakistan', 'Panjab', 'Pontypridd',\n",
       "       'Buenos Aires', 'Trinidad', 'Antwerp', 'Shikarpur', 'Afghanistan',\n",
       "       'Kohat', 'Kathiawar', 'Ghazni', 'Dharwar', 'Manila', 'Glasgow',\n",
       "       'Vienna', 'Switzerland', 'Ngari', 'Accra', 'Palestine',\n",
       "       'Oxfordshire', 'Hambleden', 'Faizabad', 'Bedfordshire', 'Verona',\n",
       "       'Suffolk', 'Madras', 'Spitalfields', 'Europe', 'Genoa',\n",
       "       'Malta (nation)', 'Massachusetts', 'Himalayas', 'Brighton',\n",
       "       'Borneo', 'Stratford', 'North Carolina', 'Venice',\n",
       "       'Saffron Walden', 'Czech Republic', 'Pellestrina', 'Tianjin',\n",
       "       'Sweden', 'Kristianstad', 'Berne', 'Vierlande', 'Birmingham',\n",
       "       'Exeter', 'New Zealand', 'Luton', 'Florence', 'Florence (city)',\n",
       "       'Carrickmacross', 'Nottingham', 'Catterall', 'Canada',\n",
       "       'Great britain', 'Madrid', 'Nice', 'Southampton', 'Cornwall',\n",
       "       'Malta', 'Guernsey', 'Malton', 'Swansea', 'Chelsea', 'Iraq',\n",
       "       'Norway', 'Mezokovesd', 'Slovakia', 'Denmark', 'Binche', 'Hawaii',\n",
       "       'Surat', 'Thailand', 'Calcutta', 'Malaysia', 'Bombay', 'Ahmedabad',\n",
       "       'Swat Valley', 'Punjab', 'Thatta', 'Kangra', 'Bikaner',\n",
       "       'Ireland (country)', 'Leicester', 'Ukraine', 'Bristol (city)',\n",
       "       'South America', 'Bangladesh', 'Trivandrum', 'Nepal', 'Ystad',\n",
       "       'Indonesia', 'Shanghai', 'Karen State', 'Leeds', 'Rangoon',\n",
       "       'Dalmatia', 'Valenciennes', 'Telangana', 'Amsterdam', 'Albania',\n",
       "       'Austria', 'Herzegovina', 'Zagreb', 'Kütahya (Province)', 'Sisak',\n",
       "       'South Korea', 'Shan States', 'Shan', 'Kolkata', 'Indergarh',\n",
       "       'Udaipur', 'Noida', 'Zanzibar', 'Bethlehem', 'Abuja', 'Kota',\n",
       "       'Vietnam', 'Naples', 'Râmallah', 'Syria', 'Sydney', 'Elche',\n",
       "       'Jodhpur', 'Attica', 'Brittany', 'Athens', 'Obrovac',\n",
       "       'al-Khobar (Saudi Arabia)', 'Tennessee', 'Nottingham (city)',\n",
       "       'Kachin State', 'iran', 'Guizhou', 'Shonai', 'Jinan',\n",
       "       'Ivory Coast', 'blackpool', 'Satara', 'Rotherham (town)',\n",
       "       'Shan State', 'Rajasthan', 'Johor', 'Hyderabad', 'North Shields',\n",
       "       'Kathmandu', 'Northampton', 'Sumatra', 'Zurich', 'Chennai',\n",
       "       'Guangdong', 'Lund', 'korea', 'Assam', 'Siberia', 'Sulawesi',\n",
       "       'Lombardy', 'Lyons', 'Hetian', 'Kabul', 'Kumbakonam', 'Bath',\n",
       "       'Samarqand', 'Sikkim', 'Ladakh', 'paris', 'Uzbekistan',\n",
       "       'Nuremberg', 'Cambridgeshire', 'Winkworth', 'Gwalior', 'italy',\n",
       "       'Shropshire', 'Tashkent', 'Norwich', 'Bitolj', 'Cesena', 'Deccan',\n",
       "       'Stourbridge', 'usa', 'Cambridge', 'Mansfield', 'Salzburg', 'Eton',\n",
       "       'Cheshire', 'Bergen', 'Épinal', 'Guyana', 'Philadelphia',\n",
       "       'Liverpool', 'Niger', 'Rwanda', 'Walsall',\n",
       "       'South Kensington Museum', 'Hoshiarpur', 'Tatta', 'Shimla',\n",
       "       'Rawalpindi', 'Bhopal', 'Punjab (Pakistan)', 'Ludhiana', 'Hazara',\n",
       "       'Dera Ghazi Khan', 'Bannu', 'Kayah State', 'Java', 'Peshawar',\n",
       "       'Aceh', 'Lebanon', 'Taiwan'], dtype=object)"
      ]
     },
     "execution_count": 58,
     "metadata": {},
     "output_type": "execute_result"
    }
   ],
   "source": [
    "df.culture.unique()"
   ]
  },
  {
   "cell_type": "markdown",
   "metadata": {},
   "source": [
    "### create culture label\n",
    "\n",
    "fill culture with department name"
   ]
  },
  {
   "cell_type": "code",
   "execution_count": 79,
   "metadata": {},
   "outputs": [],
   "source": [
    "df['culture_Label'] = df['culture']"
   ]
  },
  {
   "cell_type": "code",
   "execution_count": 80,
   "metadata": {},
   "outputs": [],
   "source": [
    "df_temp = df[df['culture_Label'].isna()==True]"
   ]
  },
  {
   "cell_type": "code",
   "execution_count": 81,
   "metadata": {},
   "outputs": [
    {
     "data": {
      "text/plain": [
       "Islamic Art    114\n",
       "Name: department, dtype: int64"
      ]
     },
     "execution_count": 81,
     "metadata": {},
     "output_type": "execute_result"
    }
   ],
   "source": [
    "df_temp['department'].value_counts()"
   ]
  },
  {
   "cell_type": "code",
   "execution_count": 82,
   "metadata": {},
   "outputs": [],
   "source": [
    "cond1 = (df['culture_Label'].isna() == True)\n",
    "\n",
    "df.loc[cond1,'culture_Label'] = 'Islamic'"
   ]
  },
  {
   "cell_type": "code",
   "execution_count": 83,
   "metadata": {},
   "outputs": [
    {
     "data": {
      "text/plain": [
       "0"
      ]
     },
     "execution_count": 83,
     "metadata": {},
     "output_type": "execute_result"
    }
   ],
   "source": [
    "df['culture_Label'].isna().sum()"
   ]
  },
  {
   "cell_type": "markdown",
   "metadata": {},
   "source": [
    "### combine cultures"
   ]
  },
  {
   "cell_type": "code",
   "execution_count": 87,
   "metadata": {},
   "outputs": [
    {
     "data": {
      "text/plain": [
       "423"
      ]
     },
     "execution_count": 87,
     "metadata": {},
     "output_type": "execute_result"
    }
   ],
   "source": [
    "# title all labels\n",
    "df['culture_Label'].nunique()"
   ]
  },
  {
   "cell_type": "code",
   "execution_count": 88,
   "metadata": {},
   "outputs": [],
   "source": [
    "df['culture_Label'] = df['culture_Label'].map(lambda x: x.title())"
   ]
  },
  {
   "cell_type": "code",
   "execution_count": 90,
   "metadata": {},
   "outputs": [
    {
     "data": {
      "text/plain": [
       "412"
      ]
     },
     "execution_count": 90,
     "metadata": {},
     "output_type": "execute_result"
    }
   ],
   "source": [
    "df['culture_Label'].nunique()"
   ]
  },
  {
   "cell_type": "code",
   "execution_count": 118,
   "metadata": {},
   "outputs": [],
   "source": [
    "# remove 'probably' and possibly\n",
    "df['culture_Label'] = df['culture_Label'].str.replace('Probably ','')\n",
    "df['culture_Label'] = df['culture_Label'].str.replace(', Possibly','')\n"
   ]
  },
  {
   "cell_type": "code",
   "execution_count": 92,
   "metadata": {},
   "outputs": [
    {
     "data": {
      "text/plain": [
       "array(['British', 'American', 'French', 'Italian', 'Spanish',\n",
       "       'Probably British', 'Probably French', 'European',\n",
       "       'Probably American', 'American Or European', 'Probably Mexican',\n",
       "       'China', 'Islamic', 'Greek', 'Russian', 'French (Breton)',\n",
       "       'Romanian', 'Hungarian', 'Danish', 'Slovak', 'Bulgarian',\n",
       "       'Crow, Native American', 'Japan', 'Japanese', 'Probably Italian',\n",
       "       'Greek (Attic)', 'Probably Scottish', 'Chinese',\n",
       "       'Arapaho, Native American', 'German', 'Irish', 'Belgian',\n",
       "       'Probably Russian', 'Czech (Moravian)', 'Probably Japanese',\n",
       "       'Probably European', 'Philippine', 'Macedonian', 'Croatian',\n",
       "       'Albanian', 'Albanian (Malissori)', 'Greek (Corinthian)',\n",
       "       'Scottish', 'European, Eastern', 'Innu/Naskapi, Native American',\n",
       "       'Peruvian', 'Montenegrin', 'Norwegian', 'Czech (Hanáci)',\n",
       "       'Portuguese', 'British Or French', 'Probably Spanish', 'Austrian',\n",
       "       'Dutch', 'Probably Swiss', 'Probably German', 'Serbian',\n",
       "       'Wasco, Native American', 'Lakota/ Teton Sioux, Native American',\n",
       "       'Latvian', 'Probably Greek', 'Innu/ Naskapi, Native American',\n",
       "       'Indian', 'Myanmar', 'Cambodia, Possibly',\n",
       "       'India (For Thai Market)', 'Japan (Okinawa, Ryūkyū Islands)',\n",
       "       'Japan (Ainu)', 'Japan (Ryūkyū Islands)', 'Tibet',\n",
       "       'Tibet (Made In Russia)', 'Japan Or Netherlands',\n",
       "       'China, Turkestan', 'China (?)', 'China (Danzai People)',\n",
       "       'India (Gujarat, Patan)', 'Burma (Loimi Akha)', 'India',\n",
       "       'Great Britain', 'United States Of America', 'London', 'New York',\n",
       "       'United Kingdom', 'Los Angeles', 'Sussex', 'France', 'Paris',\n",
       "       'Lincolnshire', 'Surrey', 'South Africa', 'California',\n",
       "       'United States', 'Sind', 'America', 'Usa', 'Uk', 'England',\n",
       "       'Lucknow', 'Hollywood', 'St Petersburg', 'Bahrain', 'Dubai',\n",
       "       'Spain', 'Britain', 'Iceland', 'Romania', 'Staffordshire',\n",
       "       'Berlin', 'Derby', 'Singapore', 'Australia', 'Manchester',\n",
       "       'Morocco', 'Varanasi', 'Shache', 'Republic Of Liberia', 'Egypt',\n",
       "       'Africa', 'Nigeria', 'Mali', 'Amritsar', 'Iran', 'Scotland',\n",
       "       'Turkestan', 'Samarkand', 'Turkmenistan', 'Bhutan', 'Delhi',\n",
       "       'Sindh', 'Hangzhou', 'Turkey', 'Hong Kong', 'Lahore', 'Shuri',\n",
       "       'Kyoto', 'Hokkaido', 'Kashmir', 'Baluchistan', 'Burhanpur',\n",
       "       'Italy', 'Tunisia', 'Ryukyu Islands', 'North India', 'Ayrshire',\n",
       "       'Ireland', 'Flanders', 'Portugal', 'Oudh', 'Mandalay', 'Sibsagar',\n",
       "       'Burma', 'Bharatpur', 'Mandalay (City)', 'Beijing', 'Russia',\n",
       "       'Trikeri', 'Greece', 'Croatia', 'Crete', 'Hungary', 'Dodecanese',\n",
       "       'Montenegro', 'Bulgaria', 'Serbia', 'Macedonia', 'Paraguay',\n",
       "       'Bosnia', 'Kalotaszeg', 'Skopska Crna Gora', 'West Bengal',\n",
       "       'Seoul', 'Korea', 'Algeria', 'New York (City)', 'Bromley',\n",
       "       'Poland', 'Netherlands', 'Germany', 'Edinburgh', 'Kent',\n",
       "       'North America', 'Coromandel Coast',\n",
       "       'North-West Frontier Province', 'Kutch', 'Vienna (City)', 'Lewes',\n",
       "       'Milan', 'Milan (City)', 'Bengal', 'Stoke', 'Belgium',\n",
       "       'Madrid (Region)', 'Kenya', 'Lagos', 'Dakar', 'Tokyo',\n",
       "       'Sierra Leone', 'Brussels', 'Wales', 'Bamako', 'Johannesburg',\n",
       "       'Rome', 'Chanderi', 'Gujarat', 'Dhaka', 'Finland', 'Jamaica',\n",
       "       'Pakistan', 'Panjab', 'Pontypridd', 'Buenos Aires', 'Trinidad',\n",
       "       'Antwerp', 'Shikarpur', 'Afghanistan', 'Kohat', 'Kathiawar',\n",
       "       'Ghazni', 'Dharwar', 'Manila', 'Glasgow', 'Vienna', 'Switzerland',\n",
       "       'Ngari', 'Accra', 'Palestine', 'Oxfordshire', 'Hambleden',\n",
       "       'Faizabad', 'Bedfordshire', 'Verona', 'Suffolk', 'Madras',\n",
       "       'Spitalfields', 'Europe', 'Genoa', 'Malta (Nation)',\n",
       "       'Massachusetts', 'Himalayas', 'Brighton', 'Borneo', 'Stratford',\n",
       "       'North Carolina', 'Venice', 'Saffron Walden', 'Czech Republic',\n",
       "       'Pellestrina', 'Tianjin', 'Sweden', 'Kristianstad', 'Berne',\n",
       "       'Vierlande', 'Birmingham', 'Exeter', 'New Zealand', 'Luton',\n",
       "       'Florence', 'Florence (City)', 'Carrickmacross', 'Nottingham',\n",
       "       'Catterall', 'Canada', 'Madrid', 'Nice', 'Southampton', 'Cornwall',\n",
       "       'Malta', 'Guernsey', 'Malton', 'Swansea', 'Chelsea', 'Iraq',\n",
       "       'Norway', 'Mezokovesd', 'Slovakia', 'Denmark', 'Binche', 'Hawaii',\n",
       "       'Surat', 'Thailand', 'Calcutta', 'Malaysia', 'Bombay', 'Ahmedabad',\n",
       "       'Swat Valley', 'Punjab', 'Thatta', 'Kangra', 'Bikaner',\n",
       "       'Ireland (Country)', 'Leicester', 'Ukraine', 'Bristol (City)',\n",
       "       'South America', 'Bangladesh', 'Trivandrum', 'Nepal', 'Ystad',\n",
       "       'Indonesia', 'Shanghai', 'Karen State', 'Leeds', 'Rangoon',\n",
       "       'Dalmatia', 'Valenciennes', 'Telangana', 'Amsterdam', 'Albania',\n",
       "       'Austria', 'Herzegovina', 'Zagreb', 'Kütahya (Province)', 'Sisak',\n",
       "       'South Korea', 'Shan States', 'Shan', 'Kolkata', 'Indergarh',\n",
       "       'Udaipur', 'Noida', 'Zanzibar', 'Bethlehem', 'Abuja', 'Kota',\n",
       "       'Vietnam', 'Naples', 'Râmallah', 'Syria', 'Sydney', 'Elche',\n",
       "       'Jodhpur', 'Attica', 'Brittany', 'Athens', 'Obrovac',\n",
       "       'Al-Khobar (Saudi Arabia)', 'Tennessee', 'Nottingham (City)',\n",
       "       'Kachin State', 'Guizhou', 'Shonai', 'Jinan', 'Ivory Coast',\n",
       "       'Blackpool', 'Satara', 'Rotherham (Town)', 'Shan State',\n",
       "       'Rajasthan', 'Johor', 'Hyderabad', 'North Shields', 'Kathmandu',\n",
       "       'Northampton', 'Sumatra', 'Zurich', 'Chennai', 'Guangdong', 'Lund',\n",
       "       'Assam', 'Siberia', 'Sulawesi', 'Lombardy', 'Lyons', 'Hetian',\n",
       "       'Kabul', 'Kumbakonam', 'Bath', 'Samarqand', 'Sikkim', 'Ladakh',\n",
       "       'Uzbekistan', 'Nuremberg', 'Cambridgeshire', 'Winkworth',\n",
       "       'Gwalior', 'Shropshire', 'Tashkent', 'Norwich', 'Bitolj', 'Cesena',\n",
       "       'Deccan', 'Stourbridge', 'Cambridge', 'Mansfield', 'Salzburg',\n",
       "       'Eton', 'Cheshire', 'Bergen', 'Épinal', 'Guyana', 'Philadelphia',\n",
       "       'Liverpool', 'Niger', 'Rwanda', 'Walsall',\n",
       "       'South Kensington Museum', 'Hoshiarpur', 'Tatta', 'Shimla',\n",
       "       'Rawalpindi', 'Bhopal', 'Punjab (Pakistan)', 'Ludhiana', 'Hazara',\n",
       "       'Dera Ghazi Khan', 'Bannu', 'Kayah State', 'Java', 'Peshawar',\n",
       "       'Aceh', 'Lebanon', 'Taiwan'], dtype=object)"
      ]
     },
     "execution_count": 92,
     "metadata": {},
     "output_type": "execute_result"
    }
   ],
   "source": [
    "df['culture_Label'].unique()"
   ]
  },
  {
   "cell_type": "code",
   "execution_count": 93,
   "metadata": {},
   "outputs": [
    {
     "name": "stderr",
     "output_type": "stream",
     "text": [
      "C:\\Users\\yanha\\AppData\\Local\\Temp\\ipykernel_34556\\2863666407.py:2: FutureWarning: The default value of regex will change from True to False in a future version.\n",
      "  df['culture_Label'] = df['culture_Label'].str.replace(r\"\\(.*\\)\",\"\")\n"
     ]
    }
   ],
   "source": [
    "# delete content in ()\n",
    "df['culture_Label'] = df['culture_Label'].str.replace(r\"\\(.*\\)\",\"\")"
   ]
  },
  {
   "cell_type": "code",
   "execution_count": 94,
   "metadata": {},
   "outputs": [
    {
     "data": {
      "text/plain": [
       "array(['British', 'American', 'French', 'Italian', 'Spanish',\n",
       "       'Probably British', 'Probably French', 'European',\n",
       "       'Probably American', 'American Or European', 'Probably Mexican',\n",
       "       'China', 'Islamic', 'Greek', 'Russian', 'French ', 'Romanian',\n",
       "       'Hungarian', 'Danish', 'Slovak', 'Bulgarian',\n",
       "       'Crow, Native American', 'Japan', 'Japanese', 'Probably Italian',\n",
       "       'Greek ', 'Probably Scottish', 'Chinese',\n",
       "       'Arapaho, Native American', 'German', 'Irish', 'Belgian',\n",
       "       'Probably Russian', 'Czech ', 'Probably Japanese',\n",
       "       'Probably European', 'Philippine', 'Macedonian', 'Croatian',\n",
       "       'Albanian', 'Albanian ', 'Scottish', 'European, Eastern',\n",
       "       'Innu/Naskapi, Native American', 'Peruvian', 'Montenegrin',\n",
       "       'Norwegian', 'Portuguese', 'British Or French', 'Probably Spanish',\n",
       "       'Austrian', 'Dutch', 'Probably Swiss', 'Probably German',\n",
       "       'Serbian', 'Wasco, Native American',\n",
       "       'Lakota/ Teton Sioux, Native American', 'Latvian',\n",
       "       'Probably Greek', 'Innu/ Naskapi, Native American', 'Indian',\n",
       "       'Myanmar', 'Cambodia, Possibly', 'India ', 'Japan ', 'Tibet',\n",
       "       'Tibet ', 'Japan Or Netherlands', 'China, Turkestan', 'China ',\n",
       "       'Burma ', 'India', 'Great Britain', 'United States Of America',\n",
       "       'London', 'New York', 'United Kingdom', 'Los Angeles', 'Sussex',\n",
       "       'France', 'Paris', 'Lincolnshire', 'Surrey', 'South Africa',\n",
       "       'California', 'United States', 'Sind', 'America', 'Usa', 'Uk',\n",
       "       'England', 'Lucknow', 'Hollywood', 'St Petersburg', 'Bahrain',\n",
       "       'Dubai', 'Spain', 'Britain', 'Iceland', 'Romania', 'Staffordshire',\n",
       "       'Berlin', 'Derby', 'Singapore', 'Australia', 'Manchester',\n",
       "       'Morocco', 'Varanasi', 'Shache', 'Republic Of Liberia', 'Egypt',\n",
       "       'Africa', 'Nigeria', 'Mali', 'Amritsar', 'Iran', 'Scotland',\n",
       "       'Turkestan', 'Samarkand', 'Turkmenistan', 'Bhutan', 'Delhi',\n",
       "       'Sindh', 'Hangzhou', 'Turkey', 'Hong Kong', 'Lahore', 'Shuri',\n",
       "       'Kyoto', 'Hokkaido', 'Kashmir', 'Baluchistan', 'Burhanpur',\n",
       "       'Italy', 'Tunisia', 'Ryukyu Islands', 'North India', 'Ayrshire',\n",
       "       'Ireland', 'Flanders', 'Portugal', 'Oudh', 'Mandalay', 'Sibsagar',\n",
       "       'Burma', 'Bharatpur', 'Mandalay ', 'Beijing', 'Russia', 'Trikeri',\n",
       "       'Greece', 'Croatia', 'Crete', 'Hungary', 'Dodecanese',\n",
       "       'Montenegro', 'Bulgaria', 'Serbia', 'Macedonia', 'Paraguay',\n",
       "       'Bosnia', 'Kalotaszeg', 'Skopska Crna Gora', 'West Bengal',\n",
       "       'Seoul', 'Korea', 'Algeria', 'New York ', 'Bromley', 'Poland',\n",
       "       'Netherlands', 'Germany', 'Edinburgh', 'Kent', 'North America',\n",
       "       'Coromandel Coast', 'North-West Frontier Province', 'Kutch',\n",
       "       'Vienna ', 'Lewes', 'Milan', 'Milan ', 'Bengal', 'Stoke',\n",
       "       'Belgium', 'Madrid ', 'Kenya', 'Lagos', 'Dakar', 'Tokyo',\n",
       "       'Sierra Leone', 'Brussels', 'Wales', 'Bamako', 'Johannesburg',\n",
       "       'Rome', 'Chanderi', 'Gujarat', 'Dhaka', 'Finland', 'Jamaica',\n",
       "       'Pakistan', 'Panjab', 'Pontypridd', 'Buenos Aires', 'Trinidad',\n",
       "       'Antwerp', 'Shikarpur', 'Afghanistan', 'Kohat', 'Kathiawar',\n",
       "       'Ghazni', 'Dharwar', 'Manila', 'Glasgow', 'Vienna', 'Switzerland',\n",
       "       'Ngari', 'Accra', 'Palestine', 'Oxfordshire', 'Hambleden',\n",
       "       'Faizabad', 'Bedfordshire', 'Verona', 'Suffolk', 'Madras',\n",
       "       'Spitalfields', 'Europe', 'Genoa', 'Malta ', 'Massachusetts',\n",
       "       'Himalayas', 'Brighton', 'Borneo', 'Stratford', 'North Carolina',\n",
       "       'Venice', 'Saffron Walden', 'Czech Republic', 'Pellestrina',\n",
       "       'Tianjin', 'Sweden', 'Kristianstad', 'Berne', 'Vierlande',\n",
       "       'Birmingham', 'Exeter', 'New Zealand', 'Luton', 'Florence',\n",
       "       'Florence ', 'Carrickmacross', 'Nottingham', 'Catterall', 'Canada',\n",
       "       'Madrid', 'Nice', 'Southampton', 'Cornwall', 'Malta', 'Guernsey',\n",
       "       'Malton', 'Swansea', 'Chelsea', 'Iraq', 'Norway', 'Mezokovesd',\n",
       "       'Slovakia', 'Denmark', 'Binche', 'Hawaii', 'Surat', 'Thailand',\n",
       "       'Calcutta', 'Malaysia', 'Bombay', 'Ahmedabad', 'Swat Valley',\n",
       "       'Punjab', 'Thatta', 'Kangra', 'Bikaner', 'Ireland ', 'Leicester',\n",
       "       'Ukraine', 'Bristol ', 'South America', 'Bangladesh', 'Trivandrum',\n",
       "       'Nepal', 'Ystad', 'Indonesia', 'Shanghai', 'Karen State', 'Leeds',\n",
       "       'Rangoon', 'Dalmatia', 'Valenciennes', 'Telangana', 'Amsterdam',\n",
       "       'Albania', 'Austria', 'Herzegovina', 'Zagreb', 'Kütahya ', 'Sisak',\n",
       "       'South Korea', 'Shan States', 'Shan', 'Kolkata', 'Indergarh',\n",
       "       'Udaipur', 'Noida', 'Zanzibar', 'Bethlehem', 'Abuja', 'Kota',\n",
       "       'Vietnam', 'Naples', 'Râmallah', 'Syria', 'Sydney', 'Elche',\n",
       "       'Jodhpur', 'Attica', 'Brittany', 'Athens', 'Obrovac', 'Al-Khobar ',\n",
       "       'Tennessee', 'Nottingham ', 'Kachin State', 'Guizhou', 'Shonai',\n",
       "       'Jinan', 'Ivory Coast', 'Blackpool', 'Satara', 'Rotherham ',\n",
       "       'Shan State', 'Rajasthan', 'Johor', 'Hyderabad', 'North Shields',\n",
       "       'Kathmandu', 'Northampton', 'Sumatra', 'Zurich', 'Chennai',\n",
       "       'Guangdong', 'Lund', 'Assam', 'Siberia', 'Sulawesi', 'Lombardy',\n",
       "       'Lyons', 'Hetian', 'Kabul', 'Kumbakonam', 'Bath', 'Samarqand',\n",
       "       'Sikkim', 'Ladakh', 'Uzbekistan', 'Nuremberg', 'Cambridgeshire',\n",
       "       'Winkworth', 'Gwalior', 'Shropshire', 'Tashkent', 'Norwich',\n",
       "       'Bitolj', 'Cesena', 'Deccan', 'Stourbridge', 'Cambridge',\n",
       "       'Mansfield', 'Salzburg', 'Eton', 'Cheshire', 'Bergen', 'Épinal',\n",
       "       'Guyana', 'Philadelphia', 'Liverpool', 'Niger', 'Rwanda',\n",
       "       'Walsall', 'South Kensington Museum', 'Hoshiarpur', 'Tatta',\n",
       "       'Shimla', 'Rawalpindi', 'Bhopal', 'Punjab ', 'Ludhiana', 'Hazara',\n",
       "       'Dera Ghazi Khan', 'Bannu', 'Kayah State', 'Java', 'Peshawar',\n",
       "       'Aceh', 'Lebanon', 'Taiwan'], dtype=object)"
      ]
     },
     "execution_count": 94,
     "metadata": {},
     "output_type": "execute_result"
    }
   ],
   "source": [
    "df['culture_Label'].unique()"
   ]
  },
  {
   "cell_type": "code",
   "execution_count": 95,
   "metadata": {},
   "outputs": [],
   "source": [
    "# delete white space\n",
    "df['culture_Label'] = df['culture_Label'].str.strip()"
   ]
  },
  {
   "cell_type": "code",
   "execution_count": 96,
   "metadata": {},
   "outputs": [
    {
     "data": {
      "text/plain": [
       "array(['British', 'American', 'French', 'Italian', 'Spanish',\n",
       "       'Probably British', 'Probably French', 'European',\n",
       "       'Probably American', 'American Or European', 'Probably Mexican',\n",
       "       'China', 'Islamic', 'Greek', 'Russian', 'Romanian', 'Hungarian',\n",
       "       'Danish', 'Slovak', 'Bulgarian', 'Crow, Native American', 'Japan',\n",
       "       'Japanese', 'Probably Italian', 'Probably Scottish', 'Chinese',\n",
       "       'Arapaho, Native American', 'German', 'Irish', 'Belgian',\n",
       "       'Probably Russian', 'Czech', 'Probably Japanese',\n",
       "       'Probably European', 'Philippine', 'Macedonian', 'Croatian',\n",
       "       'Albanian', 'Scottish', 'European, Eastern',\n",
       "       'Innu/Naskapi, Native American', 'Peruvian', 'Montenegrin',\n",
       "       'Norwegian', 'Portuguese', 'British Or French', 'Probably Spanish',\n",
       "       'Austrian', 'Dutch', 'Probably Swiss', 'Probably German',\n",
       "       'Serbian', 'Wasco, Native American',\n",
       "       'Lakota/ Teton Sioux, Native American', 'Latvian',\n",
       "       'Probably Greek', 'Innu/ Naskapi, Native American', 'Indian',\n",
       "       'Myanmar', 'Cambodia, Possibly', 'India', 'Tibet',\n",
       "       'Japan Or Netherlands', 'China, Turkestan', 'Burma',\n",
       "       'Great Britain', 'United States Of America', 'London', 'New York',\n",
       "       'United Kingdom', 'Los Angeles', 'Sussex', 'France', 'Paris',\n",
       "       'Lincolnshire', 'Surrey', 'South Africa', 'California',\n",
       "       'United States', 'Sind', 'America', 'Usa', 'Uk', 'England',\n",
       "       'Lucknow', 'Hollywood', 'St Petersburg', 'Bahrain', 'Dubai',\n",
       "       'Spain', 'Britain', 'Iceland', 'Romania', 'Staffordshire',\n",
       "       'Berlin', 'Derby', 'Singapore', 'Australia', 'Manchester',\n",
       "       'Morocco', 'Varanasi', 'Shache', 'Republic Of Liberia', 'Egypt',\n",
       "       'Africa', 'Nigeria', 'Mali', 'Amritsar', 'Iran', 'Scotland',\n",
       "       'Turkestan', 'Samarkand', 'Turkmenistan', 'Bhutan', 'Delhi',\n",
       "       'Sindh', 'Hangzhou', 'Turkey', 'Hong Kong', 'Lahore', 'Shuri',\n",
       "       'Kyoto', 'Hokkaido', 'Kashmir', 'Baluchistan', 'Burhanpur',\n",
       "       'Italy', 'Tunisia', 'Ryukyu Islands', 'North India', 'Ayrshire',\n",
       "       'Ireland', 'Flanders', 'Portugal', 'Oudh', 'Mandalay', 'Sibsagar',\n",
       "       'Bharatpur', 'Beijing', 'Russia', 'Trikeri', 'Greece', 'Croatia',\n",
       "       'Crete', 'Hungary', 'Dodecanese', 'Montenegro', 'Bulgaria',\n",
       "       'Serbia', 'Macedonia', 'Paraguay', 'Bosnia', 'Kalotaszeg',\n",
       "       'Skopska Crna Gora', 'West Bengal', 'Seoul', 'Korea', 'Algeria',\n",
       "       'Bromley', 'Poland', 'Netherlands', 'Germany', 'Edinburgh', 'Kent',\n",
       "       'North America', 'Coromandel Coast',\n",
       "       'North-West Frontier Province', 'Kutch', 'Vienna', 'Lewes',\n",
       "       'Milan', 'Bengal', 'Stoke', 'Belgium', 'Madrid', 'Kenya', 'Lagos',\n",
       "       'Dakar', 'Tokyo', 'Sierra Leone', 'Brussels', 'Wales', 'Bamako',\n",
       "       'Johannesburg', 'Rome', 'Chanderi', 'Gujarat', 'Dhaka', 'Finland',\n",
       "       'Jamaica', 'Pakistan', 'Panjab', 'Pontypridd', 'Buenos Aires',\n",
       "       'Trinidad', 'Antwerp', 'Shikarpur', 'Afghanistan', 'Kohat',\n",
       "       'Kathiawar', 'Ghazni', 'Dharwar', 'Manila', 'Glasgow',\n",
       "       'Switzerland', 'Ngari', 'Accra', 'Palestine', 'Oxfordshire',\n",
       "       'Hambleden', 'Faizabad', 'Bedfordshire', 'Verona', 'Suffolk',\n",
       "       'Madras', 'Spitalfields', 'Europe', 'Genoa', 'Malta',\n",
       "       'Massachusetts', 'Himalayas', 'Brighton', 'Borneo', 'Stratford',\n",
       "       'North Carolina', 'Venice', 'Saffron Walden', 'Czech Republic',\n",
       "       'Pellestrina', 'Tianjin', 'Sweden', 'Kristianstad', 'Berne',\n",
       "       'Vierlande', 'Birmingham', 'Exeter', 'New Zealand', 'Luton',\n",
       "       'Florence', 'Carrickmacross', 'Nottingham', 'Catterall', 'Canada',\n",
       "       'Nice', 'Southampton', 'Cornwall', 'Guernsey', 'Malton', 'Swansea',\n",
       "       'Chelsea', 'Iraq', 'Norway', 'Mezokovesd', 'Slovakia', 'Denmark',\n",
       "       'Binche', 'Hawaii', 'Surat', 'Thailand', 'Calcutta', 'Malaysia',\n",
       "       'Bombay', 'Ahmedabad', 'Swat Valley', 'Punjab', 'Thatta', 'Kangra',\n",
       "       'Bikaner', 'Leicester', 'Ukraine', 'Bristol', 'South America',\n",
       "       'Bangladesh', 'Trivandrum', 'Nepal', 'Ystad', 'Indonesia',\n",
       "       'Shanghai', 'Karen State', 'Leeds', 'Rangoon', 'Dalmatia',\n",
       "       'Valenciennes', 'Telangana', 'Amsterdam', 'Albania', 'Austria',\n",
       "       'Herzegovina', 'Zagreb', 'Kütahya', 'Sisak', 'South Korea',\n",
       "       'Shan States', 'Shan', 'Kolkata', 'Indergarh', 'Udaipur', 'Noida',\n",
       "       'Zanzibar', 'Bethlehem', 'Abuja', 'Kota', 'Vietnam', 'Naples',\n",
       "       'Râmallah', 'Syria', 'Sydney', 'Elche', 'Jodhpur', 'Attica',\n",
       "       'Brittany', 'Athens', 'Obrovac', 'Al-Khobar', 'Tennessee',\n",
       "       'Kachin State', 'Guizhou', 'Shonai', 'Jinan', 'Ivory Coast',\n",
       "       'Blackpool', 'Satara', 'Rotherham', 'Shan State', 'Rajasthan',\n",
       "       'Johor', 'Hyderabad', 'North Shields', 'Kathmandu', 'Northampton',\n",
       "       'Sumatra', 'Zurich', 'Chennai', 'Guangdong', 'Lund', 'Assam',\n",
       "       'Siberia', 'Sulawesi', 'Lombardy', 'Lyons', 'Hetian', 'Kabul',\n",
       "       'Kumbakonam', 'Bath', 'Samarqand', 'Sikkim', 'Ladakh',\n",
       "       'Uzbekistan', 'Nuremberg', 'Cambridgeshire', 'Winkworth',\n",
       "       'Gwalior', 'Shropshire', 'Tashkent', 'Norwich', 'Bitolj', 'Cesena',\n",
       "       'Deccan', 'Stourbridge', 'Cambridge', 'Mansfield', 'Salzburg',\n",
       "       'Eton', 'Cheshire', 'Bergen', 'Épinal', 'Guyana', 'Philadelphia',\n",
       "       'Liverpool', 'Niger', 'Rwanda', 'Walsall',\n",
       "       'South Kensington Museum', 'Hoshiarpur', 'Tatta', 'Shimla',\n",
       "       'Rawalpindi', 'Bhopal', 'Ludhiana', 'Hazara', 'Dera Ghazi Khan',\n",
       "       'Bannu', 'Kayah State', 'Java', 'Peshawar', 'Aceh', 'Lebanon',\n",
       "       'Taiwan'], dtype=object)"
      ]
     },
     "execution_count": 96,
     "metadata": {},
     "output_type": "execute_result"
    }
   ],
   "source": [
    "df['culture_Label'].unique()"
   ]
  },
  {
   "cell_type": "code",
   "execution_count": 97,
   "metadata": {},
   "outputs": [],
   "source": [
    "# combine Native American culture\n",
    "cond = (df['culture_Label'].str.contains('Native American'))\n",
    "df.loc[cond,'culture_Label'] = 'Native American'"
   ]
  },
  {
   "cell_type": "code",
   "execution_count": 98,
   "metadata": {},
   "outputs": [
    {
     "data": {
      "text/plain": [
       "array(['British', 'American', 'French', 'Italian', 'Spanish',\n",
       "       'Probably British', 'Probably French', 'European',\n",
       "       'Probably American', 'American Or European', 'Probably Mexican',\n",
       "       'China', 'Islamic', 'Greek', 'Russian', 'Romanian', 'Hungarian',\n",
       "       'Danish', 'Slovak', 'Bulgarian', 'Native American', 'Japan',\n",
       "       'Japanese', 'Probably Italian', 'Probably Scottish', 'Chinese',\n",
       "       'German', 'Irish', 'Belgian', 'Probably Russian', 'Czech',\n",
       "       'Probably Japanese', 'Probably European', 'Philippine',\n",
       "       'Macedonian', 'Croatian', 'Albanian', 'Scottish',\n",
       "       'European, Eastern', 'Peruvian', 'Montenegrin', 'Norwegian',\n",
       "       'Portuguese', 'British Or French', 'Probably Spanish', 'Austrian',\n",
       "       'Dutch', 'Probably Swiss', 'Probably German', 'Serbian', 'Latvian',\n",
       "       'Probably Greek', 'Indian', 'Myanmar', 'Cambodia, Possibly',\n",
       "       'India', 'Tibet', 'Japan Or Netherlands', 'China, Turkestan',\n",
       "       'Burma', 'Great Britain', 'United States Of America', 'London',\n",
       "       'New York', 'United Kingdom', 'Los Angeles', 'Sussex', 'France',\n",
       "       'Paris', 'Lincolnshire', 'Surrey', 'South Africa', 'California',\n",
       "       'United States', 'Sind', 'America', 'Usa', 'Uk', 'England',\n",
       "       'Lucknow', 'Hollywood', 'St Petersburg', 'Bahrain', 'Dubai',\n",
       "       'Spain', 'Britain', 'Iceland', 'Romania', 'Staffordshire',\n",
       "       'Berlin', 'Derby', 'Singapore', 'Australia', 'Manchester',\n",
       "       'Morocco', 'Varanasi', 'Shache', 'Republic Of Liberia', 'Egypt',\n",
       "       'Africa', 'Nigeria', 'Mali', 'Amritsar', 'Iran', 'Scotland',\n",
       "       'Turkestan', 'Samarkand', 'Turkmenistan', 'Bhutan', 'Delhi',\n",
       "       'Sindh', 'Hangzhou', 'Turkey', 'Hong Kong', 'Lahore', 'Shuri',\n",
       "       'Kyoto', 'Hokkaido', 'Kashmir', 'Baluchistan', 'Burhanpur',\n",
       "       'Italy', 'Tunisia', 'Ryukyu Islands', 'North India', 'Ayrshire',\n",
       "       'Ireland', 'Flanders', 'Portugal', 'Oudh', 'Mandalay', 'Sibsagar',\n",
       "       'Bharatpur', 'Beijing', 'Russia', 'Trikeri', 'Greece', 'Croatia',\n",
       "       'Crete', 'Hungary', 'Dodecanese', 'Montenegro', 'Bulgaria',\n",
       "       'Serbia', 'Macedonia', 'Paraguay', 'Bosnia', 'Kalotaszeg',\n",
       "       'Skopska Crna Gora', 'West Bengal', 'Seoul', 'Korea', 'Algeria',\n",
       "       'Bromley', 'Poland', 'Netherlands', 'Germany', 'Edinburgh', 'Kent',\n",
       "       'North America', 'Coromandel Coast',\n",
       "       'North-West Frontier Province', 'Kutch', 'Vienna', 'Lewes',\n",
       "       'Milan', 'Bengal', 'Stoke', 'Belgium', 'Madrid', 'Kenya', 'Lagos',\n",
       "       'Dakar', 'Tokyo', 'Sierra Leone', 'Brussels', 'Wales', 'Bamako',\n",
       "       'Johannesburg', 'Rome', 'Chanderi', 'Gujarat', 'Dhaka', 'Finland',\n",
       "       'Jamaica', 'Pakistan', 'Panjab', 'Pontypridd', 'Buenos Aires',\n",
       "       'Trinidad', 'Antwerp', 'Shikarpur', 'Afghanistan', 'Kohat',\n",
       "       'Kathiawar', 'Ghazni', 'Dharwar', 'Manila', 'Glasgow',\n",
       "       'Switzerland', 'Ngari', 'Accra', 'Palestine', 'Oxfordshire',\n",
       "       'Hambleden', 'Faizabad', 'Bedfordshire', 'Verona', 'Suffolk',\n",
       "       'Madras', 'Spitalfields', 'Europe', 'Genoa', 'Malta',\n",
       "       'Massachusetts', 'Himalayas', 'Brighton', 'Borneo', 'Stratford',\n",
       "       'North Carolina', 'Venice', 'Saffron Walden', 'Czech Republic',\n",
       "       'Pellestrina', 'Tianjin', 'Sweden', 'Kristianstad', 'Berne',\n",
       "       'Vierlande', 'Birmingham', 'Exeter', 'New Zealand', 'Luton',\n",
       "       'Florence', 'Carrickmacross', 'Nottingham', 'Catterall', 'Canada',\n",
       "       'Nice', 'Southampton', 'Cornwall', 'Guernsey', 'Malton', 'Swansea',\n",
       "       'Chelsea', 'Iraq', 'Norway', 'Mezokovesd', 'Slovakia', 'Denmark',\n",
       "       'Binche', 'Hawaii', 'Surat', 'Thailand', 'Calcutta', 'Malaysia',\n",
       "       'Bombay', 'Ahmedabad', 'Swat Valley', 'Punjab', 'Thatta', 'Kangra',\n",
       "       'Bikaner', 'Leicester', 'Ukraine', 'Bristol', 'South America',\n",
       "       'Bangladesh', 'Trivandrum', 'Nepal', 'Ystad', 'Indonesia',\n",
       "       'Shanghai', 'Karen State', 'Leeds', 'Rangoon', 'Dalmatia',\n",
       "       'Valenciennes', 'Telangana', 'Amsterdam', 'Albania', 'Austria',\n",
       "       'Herzegovina', 'Zagreb', 'Kütahya', 'Sisak', 'South Korea',\n",
       "       'Shan States', 'Shan', 'Kolkata', 'Indergarh', 'Udaipur', 'Noida',\n",
       "       'Zanzibar', 'Bethlehem', 'Abuja', 'Kota', 'Vietnam', 'Naples',\n",
       "       'Râmallah', 'Syria', 'Sydney', 'Elche', 'Jodhpur', 'Attica',\n",
       "       'Brittany', 'Athens', 'Obrovac', 'Al-Khobar', 'Tennessee',\n",
       "       'Kachin State', 'Guizhou', 'Shonai', 'Jinan', 'Ivory Coast',\n",
       "       'Blackpool', 'Satara', 'Rotherham', 'Shan State', 'Rajasthan',\n",
       "       'Johor', 'Hyderabad', 'North Shields', 'Kathmandu', 'Northampton',\n",
       "       'Sumatra', 'Zurich', 'Chennai', 'Guangdong', 'Lund', 'Assam',\n",
       "       'Siberia', 'Sulawesi', 'Lombardy', 'Lyons', 'Hetian', 'Kabul',\n",
       "       'Kumbakonam', 'Bath', 'Samarqand', 'Sikkim', 'Ladakh',\n",
       "       'Uzbekistan', 'Nuremberg', 'Cambridgeshire', 'Winkworth',\n",
       "       'Gwalior', 'Shropshire', 'Tashkent', 'Norwich', 'Bitolj', 'Cesena',\n",
       "       'Deccan', 'Stourbridge', 'Cambridge', 'Mansfield', 'Salzburg',\n",
       "       'Eton', 'Cheshire', 'Bergen', 'Épinal', 'Guyana', 'Philadelphia',\n",
       "       'Liverpool', 'Niger', 'Rwanda', 'Walsall',\n",
       "       'South Kensington Museum', 'Hoshiarpur', 'Tatta', 'Shimla',\n",
       "       'Rawalpindi', 'Bhopal', 'Ludhiana', 'Hazara', 'Dera Ghazi Khan',\n",
       "       'Bannu', 'Kayah State', 'Java', 'Peshawar', 'Aceh', 'Lebanon',\n",
       "       'Taiwan'], dtype=object)"
      ]
     },
     "execution_count": 98,
     "metadata": {},
     "output_type": "execute_result"
    }
   ],
   "source": [
    "df['culture_Label'].unique()"
   ]
  },
  {
   "cell_type": "code",
   "execution_count": 107,
   "metadata": {},
   "outputs": [],
   "source": [
    "# mixed culture --> fusion\n",
    "sel = ['American Or European','European, Eastern','British Or French', 'Japan Or Netherlands', 'China, Turkestan']\n",
    "\n",
    "for s in sel:\n",
    "    cond = df['culture_Label']==s\n",
    "    df.loc[cond,'culture_Label']='fusion'"
   ]
  },
  {
   "cell_type": "code",
   "execution_count": 108,
   "metadata": {},
   "outputs": [
    {
     "name": "stdout",
     "output_type": "stream",
     "text": [
      "['Abuja' 'Accra' 'Aceh' 'Afghanistan' 'Africa' 'Ahmedabad' 'Al-Khobar'\n",
      " 'Albania' 'Albanian' 'Algeria' 'America' 'American' 'Amritsar'\n",
      " 'Amsterdam' 'Antwerp' 'Assam' 'Athens' 'Attica' 'Australia' 'Austria'\n",
      " 'Austrian' 'Ayrshire' 'Bahrain' 'Baluchistan' 'Bamako' 'Bangladesh'\n",
      " 'Bannu' 'Bath' 'Bedfordshire' 'Beijing' 'Belgian' 'Belgium' 'Bengal'\n",
      " 'Bergen' 'Berlin' 'Berne' 'Bethlehem' 'Bharatpur' 'Bhopal' 'Bhutan'\n",
      " 'Bikaner' 'Binche' 'Birmingham' 'Bitolj' 'Blackpool' 'Bombay' 'Borneo'\n",
      " 'Bosnia' 'Brighton' 'Bristol' 'Britain' 'British' 'Brittany' 'Bromley'\n",
      " 'Brussels' 'Buenos Aires' 'Bulgaria' 'Bulgarian' 'Burhanpur' 'Burma'\n",
      " 'Calcutta' 'California' 'Cambodia, Possibly' 'Cambridge' 'Cambridgeshire'\n",
      " 'Canada' 'Carrickmacross' 'Catterall' 'Cesena' 'Chanderi' 'Chelsea'\n",
      " 'Chennai' 'Cheshire' 'China' 'Cornwall' 'Coromandel Coast' 'Crete'\n",
      " 'Croatia' 'Croatian' 'Czech' 'Czech Republic' 'Dakar' 'Dalmatia' 'Danish'\n",
      " 'Deccan' 'Delhi' 'Denmark' 'Dera Ghazi Khan' 'Derby' 'Dhaka' 'Dharwar'\n",
      " 'Dodecanese' 'Dubai' 'Dutch' 'Edinburgh' 'Egypt' 'Elche' 'England' 'Eton'\n",
      " 'Europe' 'European' 'Exeter' 'Faizabad' 'Finland' 'Flanders' 'Florence'\n",
      " 'France' 'French' 'Genoa' 'German' 'Germany' 'Ghazni' 'Glasgow'\n",
      " 'Great Britain' 'Greece' 'Greek' 'Guangdong' 'Guernsey' 'Guizhou'\n",
      " 'Gujarat' 'Guyana' 'Gwalior' 'Hambleden' 'Hangzhou' 'Hawaii' 'Hazara'\n",
      " 'Herzegovina' 'Hetian' 'Himalayas' 'Hokkaido' 'Hollywood' 'Hong Kong'\n",
      " 'Hoshiarpur' 'Hungarian' 'Hungary' 'Hyderabad' 'Iceland' 'Indergarh'\n",
      " 'India' 'Indonesia' 'Iran' 'Iraq' 'Ireland' 'Irish' 'Islamic' 'Italian'\n",
      " 'Italy' 'Ivory Coast' 'Jamaica' 'Japan' 'Java' 'Jinan' 'Jodhpur'\n",
      " 'Johannesburg' 'Johor' 'Kabul' 'Kachin State' 'Kalotaszeg' 'Kangra'\n",
      " 'Karen State' 'Kashmir' 'Kathiawar' 'Kathmandu' 'Kayah State' 'Kent'\n",
      " 'Kenya' 'Kohat' 'Kolkata' 'Korea' 'Kota' 'Kristianstad' 'Kumbakonam'\n",
      " 'Kutch' 'Kyoto' 'Kütahya' 'Ladakh' 'Lagos' 'Lahore' 'Latvian' 'Lebanon'\n",
      " 'Leeds' 'Leicester' 'Lewes' 'Lincolnshire' 'Liverpool' 'Lombardy'\n",
      " 'London' 'Los Angeles' 'Lucknow' 'Ludhiana' 'Lund' 'Luton' 'Lyons'\n",
      " 'Macedonia' 'Macedonian' 'Madras' 'Madrid' 'Malaysia' 'Mali' 'Malta'\n",
      " 'Malton' 'Manchester' 'Mandalay' 'Manila' 'Mansfield' 'Massachusetts'\n",
      " 'Mezokovesd' 'Milan' 'Montenegrin' 'Montenegro' 'Morocco' 'Myanmar'\n",
      " 'Naples' 'Native American' 'Nepal' 'Netherlands' 'New York' 'New Zealand'\n",
      " 'Ngari' 'Nice' 'Niger' 'Nigeria' 'Noida' 'North America' 'North Carolina'\n",
      " 'North India' 'North Shields' 'North-West Frontier Province'\n",
      " 'Northampton' 'Norway' 'Norwegian' 'Norwich' 'Nottingham' 'Nuremberg'\n",
      " 'Obrovac' 'Oudh' 'Oxfordshire' 'Pakistan' 'Palestine' 'Panjab' 'Paraguay'\n",
      " 'Paris' 'Pellestrina' 'Peruvian' 'Peshawar' 'Philadelphia' 'Philippine'\n",
      " 'Poland' 'Pontypridd' 'Portugal' 'Portuguese' 'Probably American'\n",
      " 'Probably British' 'Probably European' 'Probably French'\n",
      " 'Probably German' 'Probably Greek' 'Probably Italian' 'Probably Japanese'\n",
      " 'Probably Mexican' 'Probably Russian' 'Probably Scottish'\n",
      " 'Probably Spanish' 'Probably Swiss' 'Punjab' 'Rajasthan' 'Rangoon'\n",
      " 'Rawalpindi' 'Republic Of Liberia' 'Romania' 'Romanian' 'Rome'\n",
      " 'Rotherham' 'Russia' 'Russian' 'Rwanda' 'Ryukyu Islands' 'Râmallah'\n",
      " 'Saffron Walden' 'Salzburg' 'Samarkand' 'Samarqand' 'Satara' 'Scotland'\n",
      " 'Scottish' 'Seoul' 'Serbia' 'Serbian' 'Shache' 'Shan' 'Shan State'\n",
      " 'Shan States' 'Shanghai' 'Shikarpur' 'Shimla' 'Shonai' 'Shropshire'\n",
      " 'Shuri' 'Siberia' 'Sibsagar' 'Sierra Leone' 'Sikkim' 'Sind' 'Sindh'\n",
      " 'Singapore' 'Sisak' 'Skopska Crna Gora' 'Slovak' 'Slovakia'\n",
      " 'South Africa' 'South America' 'South Kensington Museum' 'South Korea'\n",
      " 'Southampton' 'Spain' 'Spanish' 'Spitalfields' 'St Petersburg'\n",
      " 'Staffordshire' 'Stoke' 'Stourbridge' 'Stratford' 'Suffolk' 'Sulawesi'\n",
      " 'Sumatra' 'Surat' 'Surrey' 'Sussex' 'Swansea' 'Swat Valley' 'Sweden'\n",
      " 'Switzerland' 'Sydney' 'Syria' 'Taiwan' 'Tashkent' 'Tatta' 'Telangana'\n",
      " 'Tennessee' 'Thailand' 'Thatta' 'Tianjin' 'Tibet' 'Tokyo' 'Trikeri'\n",
      " 'Trinidad' 'Trivandrum' 'Tunisia' 'Turkestan' 'Turkey' 'Turkmenistan'\n",
      " 'Udaipur' 'Uk' 'Ukraine' 'United Kingdom' 'United States'\n",
      " 'United States Of America' 'Usa' 'Uzbekistan' 'Valenciennes' 'Varanasi'\n",
      " 'Venice' 'Verona' 'Vienna' 'Vierlande' 'Vietnam' 'Wales' 'Walsall'\n",
      " 'West Bengal' 'Winkworth' 'Ystad' 'Zagreb' 'Zanzibar' 'Zurich' 'fusion'\n",
      " 'Épinal']\n"
     ]
    }
   ],
   "source": [
    "# checkout labels sorted\n",
    "ls = df['culture_Label'].unique()\n",
    "ls.sort()\n",
    "print(ls)"
   ]
  },
  {
   "cell_type": "code",
   "execution_count": 120,
   "metadata": {},
   "outputs": [],
   "source": [
    "# replace *ese\n",
    "ese_dict = {'Chinese':'China','Japanese':'Japan','Indian':'India','French':'France'}\n",
    "\n",
    "df = df.replace({'culture_Label': ese_dict})"
   ]
  },
  {
   "cell_type": "code",
   "execution_count": 110,
   "metadata": {},
   "outputs": [
    {
     "name": "stdout",
     "output_type": "stream",
     "text": [
      "['Abuja' 'Accra' 'Aceh' 'Afghanistan' 'Africa' 'Ahmedabad' 'Al-Khobar'\n",
      " 'Albania' 'Albanian' 'Algeria' 'America' 'American' 'Amritsar'\n",
      " 'Amsterdam' 'Antwerp' 'Assam' 'Athens' 'Attica' 'Australia' 'Austria'\n",
      " 'Austrian' 'Ayrshire' 'Bahrain' 'Baluchistan' 'Bamako' 'Bangladesh'\n",
      " 'Bannu' 'Bath' 'Bedfordshire' 'Beijing' 'Belgian' 'Belgium' 'Bengal'\n",
      " 'Bergen' 'Berlin' 'Berne' 'Bethlehem' 'Bharatpur' 'Bhopal' 'Bhutan'\n",
      " 'Bikaner' 'Binche' 'Birmingham' 'Bitolj' 'Blackpool' 'Bombay' 'Borneo'\n",
      " 'Bosnia' 'Brighton' 'Bristol' 'Britain' 'British' 'Brittany' 'Bromley'\n",
      " 'Brussels' 'Buenos Aires' 'Bulgaria' 'Bulgarian' 'Burhanpur' 'Burma'\n",
      " 'Calcutta' 'California' 'Cambodia, Possibly' 'Cambridge' 'Cambridgeshire'\n",
      " 'Canada' 'Carrickmacross' 'Catterall' 'Cesena' 'Chanderi' 'Chelsea'\n",
      " 'Chennai' 'Cheshire' 'China' 'Cornwall' 'Coromandel Coast' 'Crete'\n",
      " 'Croatia' 'Croatian' 'Czech' 'Czech Republic' 'Dakar' 'Dalmatia' 'Danish'\n",
      " 'Deccan' 'Delhi' 'Denmark' 'Dera Ghazi Khan' 'Derby' 'Dhaka' 'Dharwar'\n",
      " 'Dodecanese' 'Dubai' 'Dutch' 'Edinburgh' 'Egypt' 'Elche' 'England' 'Eton'\n",
      " 'Europe' 'European' 'Exeter' 'Faizabad' 'Finland' 'Flanders' 'Florence'\n",
      " 'France' 'French' 'Genoa' 'German' 'Germany' 'Ghazni' 'Glasgow'\n",
      " 'Great Britain' 'Greece' 'Greek' 'Guangdong' 'Guernsey' 'Guizhou'\n",
      " 'Gujarat' 'Guyana' 'Gwalior' 'Hambleden' 'Hangzhou' 'Hawaii' 'Hazara'\n",
      " 'Herzegovina' 'Hetian' 'Himalayas' 'Hokkaido' 'Hollywood' 'Hong Kong'\n",
      " 'Hoshiarpur' 'Hungarian' 'Hungary' 'Hyderabad' 'Iceland' 'Indergarh'\n",
      " 'India' 'Indonesia' 'Iran' 'Iraq' 'Ireland' 'Irish' 'Islamic' 'Italian'\n",
      " 'Italy' 'Ivory Coast' 'Jamaica' 'Japan' 'Java' 'Jinan' 'Jodhpur'\n",
      " 'Johannesburg' 'Johor' 'Kabul' 'Kachin State' 'Kalotaszeg' 'Kangra'\n",
      " 'Karen State' 'Kashmir' 'Kathiawar' 'Kathmandu' 'Kayah State' 'Kent'\n",
      " 'Kenya' 'Kohat' 'Kolkata' 'Korea' 'Kota' 'Kristianstad' 'Kumbakonam'\n",
      " 'Kutch' 'Kyoto' 'Kütahya' 'Ladakh' 'Lagos' 'Lahore' 'Latvian' 'Lebanon'\n",
      " 'Leeds' 'Leicester' 'Lewes' 'Lincolnshire' 'Liverpool' 'Lombardy'\n",
      " 'London' 'Los Angeles' 'Lucknow' 'Ludhiana' 'Lund' 'Luton' 'Lyons'\n",
      " 'Macedonia' 'Macedonian' 'Madras' 'Madrid' 'Malaysia' 'Mali' 'Malta'\n",
      " 'Malton' 'Manchester' 'Mandalay' 'Manila' 'Mansfield' 'Massachusetts'\n",
      " 'Mezokovesd' 'Milan' 'Montenegrin' 'Montenegro' 'Morocco' 'Myanmar'\n",
      " 'Naples' 'Native American' 'Nepal' 'Netherlands' 'New York' 'New Zealand'\n",
      " 'Ngari' 'Nice' 'Niger' 'Nigeria' 'Noida' 'North America' 'North Carolina'\n",
      " 'North India' 'North Shields' 'North-West Frontier Province'\n",
      " 'Northampton' 'Norway' 'Norwegian' 'Norwich' 'Nottingham' 'Nuremberg'\n",
      " 'Obrovac' 'Oudh' 'Oxfordshire' 'Pakistan' 'Palestine' 'Panjab' 'Paraguay'\n",
      " 'Paris' 'Pellestrina' 'Peruvian' 'Peshawar' 'Philadelphia' 'Philippine'\n",
      " 'Poland' 'Pontypridd' 'Portugal' 'Portuguese' 'Probably American'\n",
      " 'Probably British' 'Probably European' 'Probably French'\n",
      " 'Probably German' 'Probably Greek' 'Probably Italian' 'Probably Japanese'\n",
      " 'Probably Mexican' 'Probably Russian' 'Probably Scottish'\n",
      " 'Probably Spanish' 'Probably Swiss' 'Punjab' 'Rajasthan' 'Rangoon'\n",
      " 'Rawalpindi' 'Republic Of Liberia' 'Romania' 'Romanian' 'Rome'\n",
      " 'Rotherham' 'Russia' 'Russian' 'Rwanda' 'Ryukyu Islands' 'Râmallah'\n",
      " 'Saffron Walden' 'Salzburg' 'Samarkand' 'Samarqand' 'Satara' 'Scotland'\n",
      " 'Scottish' 'Seoul' 'Serbia' 'Serbian' 'Shache' 'Shan' 'Shan State'\n",
      " 'Shan States' 'Shanghai' 'Shikarpur' 'Shimla' 'Shonai' 'Shropshire'\n",
      " 'Shuri' 'Siberia' 'Sibsagar' 'Sierra Leone' 'Sikkim' 'Sind' 'Sindh'\n",
      " 'Singapore' 'Sisak' 'Skopska Crna Gora' 'Slovak' 'Slovakia'\n",
      " 'South Africa' 'South America' 'South Kensington Museum' 'South Korea'\n",
      " 'Southampton' 'Spain' 'Spanish' 'Spitalfields' 'St Petersburg'\n",
      " 'Staffordshire' 'Stoke' 'Stourbridge' 'Stratford' 'Suffolk' 'Sulawesi'\n",
      " 'Sumatra' 'Surat' 'Surrey' 'Sussex' 'Swansea' 'Swat Valley' 'Sweden'\n",
      " 'Switzerland' 'Sydney' 'Syria' 'Taiwan' 'Tashkent' 'Tatta' 'Telangana'\n",
      " 'Tennessee' 'Thailand' 'Thatta' 'Tianjin' 'Tibet' 'Tokyo' 'Trikeri'\n",
      " 'Trinidad' 'Trivandrum' 'Tunisia' 'Turkestan' 'Turkey' 'Turkmenistan'\n",
      " 'Udaipur' 'Uk' 'Ukraine' 'United Kingdom' 'United States'\n",
      " 'United States Of America' 'Usa' 'Uzbekistan' 'Valenciennes' 'Varanasi'\n",
      " 'Venice' 'Verona' 'Vienna' 'Vierlande' 'Vietnam' 'Wales' 'Walsall'\n",
      " 'West Bengal' 'Winkworth' 'Ystad' 'Zagreb' 'Zanzibar' 'Zurich' 'fusion'\n",
      " 'Épinal']\n"
     ]
    }
   ],
   "source": [
    "ls = df['culture_Label'].unique()\n",
    "ls.sort()\n",
    "print(ls)"
   ]
  },
  {
   "cell_type": "code",
   "execution_count": 111,
   "metadata": {},
   "outputs": [
    {
     "data": {
      "text/plain": [
       "376"
      ]
     },
     "execution_count": 111,
     "metadata": {},
     "output_type": "execute_result"
    }
   ],
   "source": [
    "df['culture_Label'].nunique()\n",
    "# still too many"
   ]
  },
  {
   "cell_type": "code",
   "execution_count": 116,
   "metadata": {},
   "outputs": [],
   "source": [
    "# unitify usa\n",
    "map_dict = {'United States Of America':'America','Usa':'America','American':'America','United States':'America'}\n",
    "\n",
    "df = df.replace({'culture_Label': map_dict})"
   ]
  },
  {
   "cell_type": "code",
   "execution_count": 121,
   "metadata": {},
   "outputs": [
    {
     "data": {
      "text/plain": [
       "America           1377\n",
       "Great Britain     1225\n",
       "Islamic           1106\n",
       "London             920\n",
       "France             913\n",
       "England            665\n",
       "Paris              636\n",
       "China              414\n",
       "Japan              316\n",
       "British            267\n",
       "Italy              233\n",
       "fusion             176\n",
       "United Kingdom     104\n",
       "Britain             91\n",
       "American            79\n",
       "European            64\n",
       "Manchester          61\n",
       "New York            60\n",
       "India               57\n",
       "Hong Kong           45\n",
       "Name: culture_Label, dtype: int64"
      ]
     },
     "execution_count": 121,
     "metadata": {},
     "output_type": "execute_result"
    }
   ],
   "source": [
    "df['culture_Label'].value_counts().head(20)"
   ]
  },
  {
   "cell_type": "code",
   "execution_count": null,
   "metadata": {},
   "outputs": [],
   "source": []
  },
  {
   "cell_type": "code",
   "execution_count": null,
   "metadata": {},
   "outputs": [],
   "source": []
  },
  {
   "cell_type": "code",
   "execution_count": null,
   "metadata": {},
   "outputs": [],
   "source": []
  },
  {
   "cell_type": "code",
   "execution_count": 372,
   "metadata": {},
   "outputs": [],
   "source": [
    "# group the bottoms ones to 'minor'\n",
    "label_ls = df['culture_Label'].value_counts(normalize=True)"
   ]
  },
  {
   "cell_type": "code",
   "execution_count": 373,
   "metadata": {},
   "outputs": [
    {
     "data": {
      "text/plain": [
       "pandas.core.series.Series"
      ]
     },
     "execution_count": 373,
     "metadata": {},
     "output_type": "execute_result"
    }
   ],
   "source": [
    "type(label_ls)"
   ]
  },
  {
   "cell_type": "code",
   "execution_count": 374,
   "metadata": {},
   "outputs": [
    {
     "data": {
      "text/plain": [
       "Index(['Scottish', 'Irish', 'Slovak', 'Danish', 'Belgian', 'Dutch', 'Mexican',\n",
       "       'Philippine', 'Czech', 'Swiss', 'Cambodia', 'Myanmar', 'Latvian',\n",
       "       'Serbian', 'Macedonian', 'Croatian', 'Portuguese', 'Norwegian',\n",
       "       'Montenegrin', 'Peruvian', 'Bulgarian', 'Burma'],\n",
       "      dtype='object')"
      ]
     },
     "execution_count": 374,
     "metadata": {},
     "output_type": "execute_result"
    }
   ],
   "source": [
    "# only keep the top 21\n",
    "# why 21? because the no. 21 is native american\n",
    "# I'd love to keep it\n",
    "minor = label_ls.index[20:]\n",
    "minor"
   ]
  },
  {
   "cell_type": "code",
   "execution_count": 375,
   "metadata": {},
   "outputs": [],
   "source": [
    "df_met['culture_Label'] = df_met['culture_Label'].map(lambda x: 'minor' if x in set(minor) else x)"
   ]
  },
  {
   "cell_type": "code",
   "execution_count": 376,
   "metadata": {},
   "outputs": [
    {
     "data": {
      "text/plain": [
       "array(['British', 'American', 'French', 'Italian', 'Spanish', 'European',\n",
       "       'fusion', 'minor', 'China', 'Islamic', 'Greek', 'Russian',\n",
       "       'Romanian', 'Hungarian', 'Native American', 'Japan', 'German',\n",
       "       'Albanian', 'Austrian', 'India', 'Tibet'], dtype=object)"
      ]
     },
     "execution_count": 376,
     "metadata": {},
     "output_type": "execute_result"
    }
   ],
   "source": [
    "df_met['culture_Label'].unique()"
   ]
  },
  {
   "cell_type": "code",
   "execution_count": 377,
   "metadata": {},
   "outputs": [
    {
     "data": {
      "text/plain": [
       "21"
      ]
     },
     "execution_count": 377,
     "metadata": {},
     "output_type": "execute_result"
    }
   ],
   "source": [
    "df_met['culture_Label'].nunique()"
   ]
  },
  {
   "cell_type": "code",
   "execution_count": 378,
   "metadata": {},
   "outputs": [
    {
     "data": {
      "text/plain": [
       "American           1214\n",
       "French              499\n",
       "British             267\n",
       "China               248\n",
       "Japan               214\n",
       "fusion              176\n",
       "Islamic             114\n",
       "European             64\n",
       "minor                43\n",
       "Italian              35\n",
       "Spanish              29\n",
       "Russian              20\n",
       "Greek                19\n",
       "Romanian             13\n",
       "Hungarian            11\n",
       "Tibet                11\n",
       "Albanian             10\n",
       "German                9\n",
       "Austrian              8\n",
       "India                 7\n",
       "Native American       6\n",
       "Name: culture_Label, dtype: int64"
      ]
     },
     "execution_count": 378,
     "metadata": {},
     "output_type": "execute_result"
    }
   ],
   "source": [
    "df_met['culture_Label'].value_counts()"
   ]
  },
  {
   "cell_type": "markdown",
   "metadata": {},
   "source": [
    "### va"
   ]
  },
  {
   "cell_type": "code",
   "execution_count": 29,
   "metadata": {},
   "outputs": [
    {
     "data": {
      "text/plain": [
       "Great Britain    1224\n",
       "London            918\n",
       "England           658\n",
       "Paris             633\n",
       "France            414\n",
       "                 ... \n",
       "Cornwall            1\n",
       "Guernsey            1\n",
       "Malton              1\n",
       "Swansea             1\n",
       "Taiwan              1\n",
       "Name: _primaryPlace, Length: 349, dtype: int64"
      ]
     },
     "execution_count": 29,
     "metadata": {},
     "output_type": "execute_result"
    }
   ],
   "source": [
    "df_va._primaryPlace.value_counts()"
   ]
  },
  {
   "cell_type": "code",
   "execution_count": null,
   "metadata": {},
   "outputs": [],
   "source": []
  },
  {
   "cell_type": "code",
   "execution_count": null,
   "metadata": {},
   "outputs": [],
   "source": []
  },
  {
   "cell_type": "code",
   "execution_count": null,
   "metadata": {},
   "outputs": [],
   "source": []
  },
  {
   "cell_type": "code",
   "execution_count": null,
   "metadata": {},
   "outputs": [],
   "source": []
  },
  {
   "cell_type": "code",
   "execution_count": null,
   "metadata": {},
   "outputs": [],
   "source": []
  },
  {
   "cell_type": "code",
   "execution_count": null,
   "metadata": {},
   "outputs": [],
   "source": []
  },
  {
   "cell_type": "markdown",
   "metadata": {},
   "source": [
    "## move images to their folders"
   ]
  },
  {
   "cell_type": "markdown",
   "metadata": {},
   "source": [
    "### create folders"
   ]
  },
  {
   "cell_type": "code",
   "execution_count": 379,
   "metadata": {},
   "outputs": [
    {
     "data": {
      "text/plain": [
       "array(['British', 'American', 'French', 'Italian', 'Spanish', 'European',\n",
       "       'fusion', 'minor', 'China', 'Islamic', 'Greek', 'Russian',\n",
       "       'Romanian', 'Hungarian', 'Native American', 'Japan', 'German',\n",
       "       'Albanian', 'Austrian', 'India', 'Tibet'], dtype=object)"
      ]
     },
     "execution_count": 379,
     "metadata": {},
     "output_type": "execute_result"
    }
   ],
   "source": [
    "df_met['culture_Label'].unique()"
   ]
  },
  {
   "cell_type": "code",
   "execution_count": 380,
   "metadata": {},
   "outputs": [
    {
     "data": {
      "text/plain": [
       "21"
      ]
     },
     "execution_count": 380,
     "metadata": {},
     "output_type": "execute_result"
    }
   ],
   "source": [
    "df_met['culture_Label'].nunique()"
   ]
  },
  {
   "cell_type": "code",
   "execution_count": 381,
   "metadata": {},
   "outputs": [],
   "source": [
    "for n in df_met['culture_Label'].unique():\n",
    "    newpath = r'images_tf/' + n\n",
    "\n",
    "    if not os.path.exists(newpath):\n",
    "        os.makedirs(newpath)"
   ]
  },
  {
   "cell_type": "markdown",
   "metadata": {},
   "source": [
    "### move file to its folder"
   ]
  },
  {
   "cell_type": "markdown",
   "metadata": {},
   "source": [
    "### prototype"
   ]
  },
  {
   "cell_type": "code",
   "execution_count": 213,
   "metadata": {},
   "outputs": [
    {
     "data": {
      "text/plain": [
       "'images_tf/Albanian/14099.jpg'"
      ]
     },
     "execution_count": 213,
     "metadata": {},
     "output_type": "execute_result"
    }
   ],
   "source": [
    "# Source path\n",
    "source = \"images_proc/full_selection_sel/42112.jpg\"\n",
    "\n",
    "# Destination path\n",
    "destination = \"images_tf/Albanian/14099.jpg\"\n",
    "\n",
    "shutil.copy(source, destination)"
   ]
  },
  {
   "cell_type": "code",
   "execution_count": 247,
   "metadata": {},
   "outputs": [],
   "source": [
    "file_name = '42112.jpg'"
   ]
  },
  {
   "cell_type": "code",
   "execution_count": 248,
   "metadata": {},
   "outputs": [
    {
     "data": {
      "text/plain": [
       "'42112'"
      ]
     },
     "execution_count": 248,
     "metadata": {},
     "output_type": "execute_result"
    }
   ],
   "source": [
    "file_name[:-4]"
   ]
  },
  {
   "cell_type": "code",
   "execution_count": 258,
   "metadata": {},
   "outputs": [
    {
     "data": {
      "text/plain": [
       "'images_tf/French/42112.jpg'"
      ]
     },
     "execution_count": 258,
     "metadata": {},
     "output_type": "execute_result"
    }
   ],
   "source": [
    "src_file_name = '81263.jpg'\n",
    "source = 'images_proc/full_selection_sel/' + src_file_name # Source path\n",
    "\n",
    "name = src_file_name[:-4]\n",
    "des_folder = df_met.loc[df['Object ID']==int(name),'culture_Label'].values[0]\n",
    "destination = 'images_tf/' + des_folder +'/' + file_name # Destination path\n",
    "\n",
    "shutil.copy(source, destination)"
   ]
  },
  {
   "cell_type": "code",
   "execution_count": 277,
   "metadata": {},
   "outputs": [],
   "source": [
    "src_path = 'test'\n",
    "des_path = 'images_tf/'\n",
    "\n",
    "for filename in os.scandir(src_path):\n",
    "    src_file_name = filename.name\n",
    "    source = filename.path # Source path\n",
    "\n",
    "    name = src_file_name[:-4]\n",
    "    des_folder = df_met.loc[df_met['Object ID']==int(name),'culture_Label'].values[0]\n",
    "\n",
    "    destination = des_path + des_folder +'/' + src_file_name # Destination path\n",
    "\n",
    "    shutil.copy(source, destination)\n"
   ]
  },
  {
   "cell_type": "markdown",
   "metadata": {},
   "source": [
    "### define function"
   ]
  },
  {
   "cell_type": "code",
   "execution_count": 383,
   "metadata": {},
   "outputs": [],
   "source": [
    "def move_file(src_path = 'test',des_path = 'images_tf/'):\n",
    "\n",
    "    for filename in os.scandir(src_path):\n",
    "        src_file_name = filename.name\n",
    "        source = filename.path # Source path\n",
    "\n",
    "        name = src_file_name[:-4]\n",
    "        # print(name)\n",
    "        des_folder = df_met.loc[df_met['objectID']==int(name),'culture_Label'].values[0]\n",
    "\n",
    "        destination = des_path + des_folder +'/' + src_file_name # Destination path\n",
    "\n",
    "        shutil.copy(source, destination)\n"
   ]
  },
  {
   "cell_type": "markdown",
   "metadata": {},
   "source": [
    "### test run"
   ]
  },
  {
   "cell_type": "code",
   "execution_count": 282,
   "metadata": {},
   "outputs": [],
   "source": [
    "move_file()"
   ]
  },
  {
   "cell_type": "markdown",
   "metadata": {},
   "source": [
    "### run on full"
   ]
  },
  {
   "cell_type": "code",
   "execution_count": 384,
   "metadata": {},
   "outputs": [],
   "source": [
    "move_file('images_proc/full_selection_sel','images_tf/')"
   ]
  },
  {
   "cell_type": "markdown",
   "metadata": {},
   "source": [
    "## (ongoing) Object type"
   ]
  },
  {
   "cell_type": "code",
   "execution_count": 132,
   "metadata": {},
   "outputs": [
    {
     "ename": "AttributeError",
     "evalue": "'float' object has no attribute 'lower'",
     "output_type": "error",
     "traceback": [
      "\u001b[1;31m---------------------------------------------------------------------------\u001b[0m",
      "\u001b[1;31mAttributeError\u001b[0m                            Traceback (most recent call last)",
      "\u001b[1;32md:\\VIVY_LEARNING\\Flatiron\\vintage_clothes_generator\\5 Prepare folder for TF.ipynb Cell 87\u001b[0m in \u001b[0;36m<cell line: 1>\u001b[1;34m()\u001b[0m\n\u001b[1;32m----> <a href='vscode-notebook-cell:/d%3A/VIVY_LEARNING/Flatiron/vintage_clothes_generator/5%20Prepare%20folder%20for%20TF.ipynb#Y210sZmlsZQ%3D%3D?line=0'>1</a>\u001b[0m df[\u001b[39m'\u001b[39m\u001b[39mobjectName\u001b[39m\u001b[39m'\u001b[39m] \u001b[39m=\u001b[39m df[\u001b[39m'\u001b[39;49m\u001b[39mobjectName\u001b[39;49m\u001b[39m'\u001b[39;49m]\u001b[39m.\u001b[39;49mmap(\u001b[39mlambda\u001b[39;49;00m x: x\u001b[39m.\u001b[39;49mlower())\n",
      "File \u001b[1;32mc:\\Users\\yanha\\anaconda3\\lib\\site-packages\\pandas\\core\\series.py:4237\u001b[0m, in \u001b[0;36mSeries.map\u001b[1;34m(self, arg, na_action)\u001b[0m\n\u001b[0;32m   4162\u001b[0m \u001b[39mdef\u001b[39;00m \u001b[39mmap\u001b[39m(\u001b[39mself\u001b[39m, arg, na_action\u001b[39m=\u001b[39m\u001b[39mNone\u001b[39;00m) \u001b[39m-\u001b[39m\u001b[39m>\u001b[39m Series:\n\u001b[0;32m   4163\u001b[0m     \u001b[39m\"\"\"\u001b[39;00m\n\u001b[0;32m   4164\u001b[0m \u001b[39m    Map values of Series according to an input mapping or function.\u001b[39;00m\n\u001b[0;32m   4165\u001b[0m \n\u001b[1;32m   (...)\u001b[0m\n\u001b[0;32m   4235\u001b[0m \u001b[39m    dtype: object\u001b[39;00m\n\u001b[0;32m   4236\u001b[0m \u001b[39m    \"\"\"\u001b[39;00m\n\u001b[1;32m-> 4237\u001b[0m     new_values \u001b[39m=\u001b[39m \u001b[39mself\u001b[39;49m\u001b[39m.\u001b[39;49m_map_values(arg, na_action\u001b[39m=\u001b[39;49mna_action)\n\u001b[0;32m   4238\u001b[0m     \u001b[39mreturn\u001b[39;00m \u001b[39mself\u001b[39m\u001b[39m.\u001b[39m_constructor(new_values, index\u001b[39m=\u001b[39m\u001b[39mself\u001b[39m\u001b[39m.\u001b[39mindex)\u001b[39m.\u001b[39m__finalize__(\n\u001b[0;32m   4239\u001b[0m         \u001b[39mself\u001b[39m, method\u001b[39m=\u001b[39m\u001b[39m\"\u001b[39m\u001b[39mmap\u001b[39m\u001b[39m\"\u001b[39m\n\u001b[0;32m   4240\u001b[0m     )\n",
      "File \u001b[1;32mc:\\Users\\yanha\\anaconda3\\lib\\site-packages\\pandas\\core\\base.py:880\u001b[0m, in \u001b[0;36mIndexOpsMixin._map_values\u001b[1;34m(self, mapper, na_action)\u001b[0m\n\u001b[0;32m    877\u001b[0m         \u001b[39mraise\u001b[39;00m \u001b[39mValueError\u001b[39;00m(msg)\n\u001b[0;32m    879\u001b[0m \u001b[39m# mapper is a function\u001b[39;00m\n\u001b[1;32m--> 880\u001b[0m new_values \u001b[39m=\u001b[39m map_f(values, mapper)\n\u001b[0;32m    882\u001b[0m \u001b[39mreturn\u001b[39;00m new_values\n",
      "File \u001b[1;32mc:\\Users\\yanha\\anaconda3\\lib\\site-packages\\pandas\\_libs\\lib.pyx:2870\u001b[0m, in \u001b[0;36mpandas._libs.lib.map_infer\u001b[1;34m()\u001b[0m\n",
      "\u001b[1;32md:\\VIVY_LEARNING\\Flatiron\\vintage_clothes_generator\\5 Prepare folder for TF.ipynb Cell 87\u001b[0m in \u001b[0;36m<lambda>\u001b[1;34m(x)\u001b[0m\n\u001b[1;32m----> <a href='vscode-notebook-cell:/d%3A/VIVY_LEARNING/Flatiron/vintage_clothes_generator/5%20Prepare%20folder%20for%20TF.ipynb#Y210sZmlsZQ%3D%3D?line=0'>1</a>\u001b[0m df[\u001b[39m'\u001b[39m\u001b[39mobjectName\u001b[39m\u001b[39m'\u001b[39m] \u001b[39m=\u001b[39m df[\u001b[39m'\u001b[39m\u001b[39mobjectName\u001b[39m\u001b[39m'\u001b[39m]\u001b[39m.\u001b[39mmap(\u001b[39mlambda\u001b[39;00m x: x\u001b[39m.\u001b[39;49mlower())\n",
      "\u001b[1;31mAttributeError\u001b[0m: 'float' object has no attribute 'lower'"
     ]
    }
   ],
   "source": [
    "keywords = ['costume', 'robe', 'dress', 'shirt','ensemble','jacket','coat','suit','trousers']"
   ]
  },
  {
   "cell_type": "code",
   "execution_count": 128,
   "metadata": {},
   "outputs": [
    {
     "data": {
      "text/plain": [
       "889"
      ]
     },
     "execution_count": 128,
     "metadata": {},
     "output_type": "execute_result"
    }
   ],
   "source": [
    "df['objectName'].nunique()"
   ]
  },
  {
   "cell_type": "code",
   "execution_count": 129,
   "metadata": {},
   "outputs": [
    {
     "data": {
      "text/plain": [
       "dress                    1141\n",
       "Dress                     759\n",
       "evening dress             638\n",
       "jacket                    552\n",
       "shirt                     437\n",
       "                         ... \n",
       "Robe, Presentation          1\n",
       "wedding dress skirt         1\n",
       "paper dress fabric          1\n",
       "Robe, Boy's                 1\n",
       "architectural drawing       1\n",
       "Name: objectName, Length: 889, dtype: int64"
      ]
     },
     "execution_count": 129,
     "metadata": {},
     "output_type": "execute_result"
    }
   ],
   "source": [
    "df['objectName'].value_counts()"
   ]
  },
  {
   "cell_type": "code",
   "execution_count": null,
   "metadata": {},
   "outputs": [],
   "source": []
  }
 ],
 "metadata": {
  "kernelspec": {
   "display_name": "Python 3.9.12 ('base')",
   "language": "python",
   "name": "python3"
  },
  "language_info": {
   "codemirror_mode": {
    "name": "ipython",
    "version": 3
   },
   "file_extension": ".py",
   "mimetype": "text/x-python",
   "name": "python",
   "nbconvert_exporter": "python",
   "pygments_lexer": "ipython3",
   "version": "3.9.12"
  },
  "orig_nbformat": 4,
  "vscode": {
   "interpreter": {
    "hash": "c738c5dbbe27c39534afaf60a228761ec99c842d673ea0c5f841b81d59c4efd4"
   }
  }
 },
 "nbformat": 4,
 "nbformat_minor": 2
}
