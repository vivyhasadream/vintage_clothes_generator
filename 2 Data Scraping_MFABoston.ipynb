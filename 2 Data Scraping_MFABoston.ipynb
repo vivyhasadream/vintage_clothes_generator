{
 "cells": [
  {
   "cell_type": "markdown",
   "metadata": {},
   "source": [
    "## setup"
   ]
  },
  {
   "cell_type": "code",
   "execution_count": 2,
   "metadata": {},
   "outputs": [],
   "source": [
    "import pandas as pd\n",
    "import cv2\n",
    "import os\n",
    "import os.path\n",
    "\n",
    "import time\n",
    "\n",
    "import requests\n",
    "import json\n",
    "import urllib\n",
    "from bs4 import BeautifulSoup\n",
    "import re\n",
    "\n",
    "# show all dataframe\n",
    "pd.set_option('display.max_colwidth', None) \n",
    "pd.set_option('display.max_columns', None)  "
   ]
  },
  {
   "cell_type": "markdown",
   "metadata": {},
   "source": [
    "### prototype"
   ]
  },
  {
   "cell_type": "markdown",
   "metadata": {},
   "source": [
    "### use search page to iterate costumes"
   ]
  },
  {
   "cell_type": "code",
   "execution_count": 27,
   "metadata": {},
   "outputs": [
    {
     "data": {
      "text/plain": [
       "<Response [200]>"
      ]
     },
     "execution_count": 27,
     "metadata": {},
     "output_type": "execute_result"
    }
   ],
   "source": [
    "# checkout a topic\n",
    "# by searching on mfa website\n",
    "# handpick some costume related keywords\n",
    "keyword = 'dress'\n",
    "url = f\"https://collections.mfa.org/search/Objects/*/{keyword}/images?filter=allClassifications%3ACostumes%3BimageExistence%3Atrue&page=60\"\n",
    "r = requests.get(url)\n",
    "r"
   ]
  },
  {
   "cell_type": "code",
   "execution_count": 28,
   "metadata": {},
   "outputs": [],
   "source": [
    "soup_key = BeautifulSoup(r.content,'html.parser')"
   ]
  },
  {
   "cell_type": "code",
   "execution_count": 29,
   "metadata": {},
   "outputs": [],
   "source": [
    "# this is the 12 images div info\n",
    "k = soup_key.find_all('div',class_=\"primaryMedia\")"
   ]
  },
  {
   "cell_type": "code",
   "execution_count": 32,
   "metadata": {},
   "outputs": [
    {
     "data": {
      "text/plain": [
       "<div class=\"primaryMedia img-wrap\"><a href=\"/objects/535024/dress;jsessionid=ABF7A5FE2B884393F33AB8436009D954?ctx=da4117bb-110e-4447-8f03-83a3cd7eb81f&amp;idx=719\" title=\"Dress\"><div class=\"emuseum-img-wrap width-img-wrap\" style=\"max-height:279px;max-width:279px;\"><img class=\"\" src=\"/internal/media/dispatcher/586267/resize%3Aformat%3Dthumbnail;jsessionid=ABF7A5FE2B884393F33AB8436009D954\" title=\"Dress\"/></div><!-- Default (format unspecific) block when media not available --><!-- Access is restricted --><!-- UNKNOWN mimetype --><!-- IMAGE blocks --><!-- AUDIO blocks --><!-- VIDEO blocks --><!-- ZOOMIFY block --><!-- PDF files --><!-- Media info --></a></div>"
      ]
     },
     "execution_count": 32,
     "metadata": {},
     "output_type": "execute_result"
    }
   ],
   "source": [
    "# href has the object number for info scraping\n",
    "# img src has the number of download link\n",
    "k[11]"
   ]
  },
  {
   "cell_type": "code",
   "execution_count": 33,
   "metadata": {},
   "outputs": [
    {
     "data": {
      "text/plain": [
       "'/objects/535024/dress;jsessionid=ABF7A5FE2B884393F33AB8436009D954?ctx=da4117bb-110e-4447-8f03-83a3cd7eb81f&idx=719'"
      ]
     },
     "execution_count": 33,
     "metadata": {},
     "output_type": "execute_result"
    }
   ],
   "source": [
    "# find the object number\n",
    "object_str = k[11].find('a').get('href')\n",
    "object_str"
   ]
  },
  {
   "cell_type": "code",
   "execution_count": 34,
   "metadata": {},
   "outputs": [
    {
     "data": {
      "text/plain": [
       "'/internal/media/dispatcher/1155015/resize%3Aformat%3Dthumbnail;jsessionid=ABF7A5FE2B884393F33AB8436009D954'"
      ]
     },
     "execution_count": 34,
     "metadata": {},
     "output_type": "execute_result"
    }
   ],
   "source": [
    "# find the download number of this object\n",
    "download_str = k[0].find('img').get('src')\n",
    "download_str"
   ]
  },
  {
   "cell_type": "code",
   "execution_count": 35,
   "metadata": {},
   "outputs": [
    {
     "name": "stdout",
     "output_type": "stream",
     "text": [
      "https://collections.mfa.org/objects/535024/dress;jsessionid=ABF7A5FE2B884393F33AB8436009D954?ctx=da4117bb-110e-4447-8f03-83a3cd7eb81f&idx=719\n"
     ]
    }
   ],
   "source": [
    "# url of the certain object\n",
    "url_base = 'https://collections.mfa.org'\n",
    "object_url = url_base + object_str\n",
    "print(object_url)\n"
   ]
  },
  {
   "cell_type": "code",
   "execution_count": 36,
   "metadata": {},
   "outputs": [],
   "source": [
    "# get the bs for object page\n",
    "req2 = requests.get(object_url)\n",
    "soup2 = BeautifulSoup(req2.content,'html.parser')"
   ]
  },
  {
   "cell_type": "markdown",
   "metadata": {},
   "source": [
    "### if downloadable"
   ]
  },
  {
   "cell_type": "code",
   "execution_count": 49,
   "metadata": {},
   "outputs": [
    {
     "name": "stdout",
     "output_type": "stream",
     "text": [
      "This image is downloadable.\n"
     ]
    }
   ],
   "source": [
    "# check if the image is downloadable\n",
    "# which believed to be in public domain\n",
    "bl = soup2.body.findAll(text='DOWNLOAD')\n",
    "if bool(bl) is True:\n",
    "    print('This image is downloadable.')\n",
    "else:\n",
    "    print('This image cannot be downloaded.')"
   ]
  },
  {
   "cell_type": "markdown",
   "metadata": {},
   "source": [
    "### get info from page"
   ]
  },
  {
   "cell_type": "code",
   "execution_count": 59,
   "metadata": {},
   "outputs": [
    {
     "data": {
      "text/plain": [
       "'Dress'"
      ]
     },
     "execution_count": 59,
     "metadata": {},
     "output_type": "execute_result"
    }
   ],
   "source": [
    "# title\n",
    "soup2.find('div',class_=\"detailField titleField\").text"
   ]
  },
  {
   "cell_type": "code",
   "execution_count": 63,
   "metadata": {},
   "outputs": [
    {
     "data": {
      "text/plain": [
       "'about 1735, restyled 1763'"
      ]
     },
     "execution_count": 63,
     "metadata": {},
     "output_type": "execute_result"
    }
   ],
   "source": [
    "# year?\n",
    "soup2.find('div',class_=\"detailField displayDateField\").text.strip()"
   ]
  },
  {
   "cell_type": "code",
   "execution_count": 82,
   "metadata": {},
   "outputs": [
    {
     "data": {
      "text/plain": [
       "<title>Dress – Results – Advanced Search Objects – Museum of Fine Arts, Boston</title>"
      ]
     },
     "execution_count": 82,
     "metadata": {},
     "output_type": "execute_result"
    }
   ],
   "source": [
    "soup2.title"
   ]
  },
  {
   "cell_type": "code",
   "execution_count": 86,
   "metadata": {},
   "outputs": [
    {
     "data": {
      "text/plain": [
       "\"Dress\\nDress, American (Boston, MA); fabric English\\n\\nabout 1735, restyled 1763\\nObject Place: MA, United StatesMedium/Technique\\nSilk; brocaded plain weaveDimensions\\n136.52 cm (53 3/4 in.)Credit Line\\nGift of Miss Helen L. CampbellAccession Number1990.513a-bNOT ON VIEWCollectionsEurope, Textiles and Fashion ArtsClassificationsCostumesDescriptionRemodeled 1763. Silk: England (Spitalfields), design about 1740. Dark green silk with polychrome brocaded design of flowers, leaves, branches and fruit. Mid-18th century linen bobbin lace stitched inside sleeve flounces and around neck. Open robe à l'anglaise and matching petticoat with deep flounce. Believed to have been worn by Mary Waters of Salem at her marriage to Anthony Sigourney of Boston in 1740. Also worn by their daughter, also named Mary Waters, for her marriage to James Butler in 1763. (Worn with 1990.514a, b). Condition: Petticoat good but fragile. Over dress (robe): good condition; left shoulder seam unstitched, back neck edge extremely worn.Provenance1740, worn by Mary Waters, Salem, MA at her marriage to Anthony Sigourney of Boston, MA; 1763, worn by their daughter, also named Mary Waters, for her marriage to James Butler; by 1892, by inheritance to Miss Helen. L. Campbell; June 6, 1892, lent by Miss Campbell to the MFA; 1990, accessioned by MFA (October 24, 1990).\""
      ]
     },
     "execution_count": 86,
     "metadata": {},
     "output_type": "execute_result"
    }
   ],
   "source": [
    "soup2.find('div',class_=\"item-details-inner\").get_text()"
   ]
  },
  {
   "cell_type": "code",
   "execution_count": 214,
   "metadata": {},
   "outputs": [
    {
     "data": {
      "text/plain": [
       "<div class=\"item-details-inner\"><!-- LEFT COLUMN --><div class=\"col-lg-6\"><div class=\"detailField titleField\"><h2>Dress</h2><!--Dress--></div><div class=\"detailField cultureField\">\n",
       "Dress, American (Boston, MA); fabric English\n",
       "</div><div class=\"detailField displayDateField\">\n",
       "about 1735, restyled 1763\n",
       "</div><div class=\"detailField objectGeographyField\">Object Place: MA, United States<br/><hr class=\"detailLine\"/></div><div class=\"detailField mediumField\"><span class=\"detailFieldLabel topLabel\">Medium/Technique</span><span class=\"detailFieldValue\">\n",
       "Silk; brocaded plain weave<br/></span></div><div class=\"detailField dimensionsField != null\"><span class=\"detailFieldLabel topLabel\">Dimensions</span><span class=\"detailFieldValue\">\n",
       "136.52 cm (53 3/4 in.)<br/></span></div><div class=\"detailField creditlineField != null\"><span class=\"detailFieldLabel topLabel\">Credit Line</span><span class=\"detailFieldValue\">\n",
       "Gift of Miss Helen L. Campbell<br/></span></div><div class=\"detailField invnolineField\"><span class=\"detailFieldLabel topLabel\">Accession Number</span><span class=\"detailFieldValue\">1990.513a-b</span></div><div class=\"detailField onviewField\"><span class=\"detailFieldLabel\">NOT ON VIEW</span></div><div class=\"detailField collectionTermsField\"><span class=\"detailFieldLabel topLabel\">Collections</span><span class=\"detailFieldValue\"><a href=\"/advancedsearch/Objects/collectionTerms%3AEurope;jsessionid=ABF7A5FE2B884393F33AB8436009D954\">Europe</a>, <a href=\"/advancedsearch/Objects/collectionTerms%3ATextiles%20and%20Fashion%20Arts;jsessionid=ABF7A5FE2B884393F33AB8436009D954\">Textiles and Fashion Arts</a></span></div><div class=\"detailField classificationsField\"><span class=\"detailFieldLabel topLabel\">Classifications</span><span class=\"detailFieldValue\"><a href=\"/advancedsearch/Objects/classifications%3ACostumes;jsessionid=ABF7A5FE2B884393F33AB8436009D954\">Costumes</a><br/></span></div></div><!-- RIGHT COLUMN --><div class=\"col-lg-6\"><div class=\"detailField webDescriptionField\"><hr class=\"detailLine\"/></div><div class=\"detailField descriptionField\"><span class=\"detailFieldLabel topLabel\">Description</span><span class=\"detailFieldValue\">Remodeled 1763. Silk: England (Spitalfields), design about 1740. Dark green silk with polychrome brocaded design of flowers, leaves, branches and fruit. Mid-18th century linen bobbin lace stitched inside sleeve flounces and around neck. Open robe à l'anglaise and matching petticoat with deep flounce. Believed to have been worn by Mary Waters of Salem at her marriage to Anthony Sigourney of Boston in 1740. Also worn by their daughter, also named Mary Waters, for her marriage to James Butler in 1763. (Worn with 1990.514a, b). Condition: Petticoat good but fragile. Over dress (robe): good condition; left shoulder seam unstitched, back neck edge extremely worn.<br/></span></div><div class=\"detailField provenanceField\"><span class=\"detailFieldLabel topLabel\">Provenance</span><span class=\"detailFieldValue\">1740, worn by Mary Waters, Salem, MA at her marriage to Anthony Sigourney of Boston, MA; 1763, worn by their daughter, also named Mary Waters, for her marriage to James Butler; by 1892, by inheritance to Miss Helen. L. Campbell; June 6, 1892, lent by Miss Campbell to the MFA; 1990, accessioned by MFA (October 24, 1990).<br/></span></div><div class=\"detailField objectGeographyField\"><hr class=\"detailLine\"/></div></div></div>"
      ]
     },
     "execution_count": 214,
     "metadata": {},
     "output_type": "execute_result"
    }
   ],
   "source": [
    "# get the block of item details\n",
    "tag = soup2.find('div',class_=\"item-details-inner\")\n",
    "tag"
   ]
  },
  {
   "cell_type": "code",
   "execution_count": 219,
   "metadata": {},
   "outputs": [
    {
     "data": {
      "text/plain": [
       "<div class=\"col-lg-6\"><div class=\"detailField titleField\"><h2>Dress</h2><!--Dress--></div><div class=\"detailField cultureField\">\n",
       "Dress, American (Boston, MA); fabric English\n",
       "</div><div class=\"detailField displayDateField\">\n",
       "about 1735, restyled 1763\n",
       "</div><div class=\"detailField objectGeographyField\">Object Place: MA, United States<br/><hr class=\"detailLine\"/></div><div class=\"detailField mediumField\"><span class=\"detailFieldLabel topLabel\">Medium/Technique</span><span class=\"detailFieldValue\">\n",
       "Silk; brocaded plain weave<br/></span></div><div class=\"detailField dimensionsField != null\"><span class=\"detailFieldLabel topLabel\">Dimensions</span><span class=\"detailFieldValue\">\n",
       "136.52 cm (53 3/4 in.)<br/></span></div><div class=\"detailField creditlineField != null\"><span class=\"detailFieldLabel topLabel\">Credit Line</span><span class=\"detailFieldValue\">\n",
       "Gift of Miss Helen L. Campbell<br/></span></div><div class=\"detailField invnolineField\"><span class=\"detailFieldLabel topLabel\">Accession Number</span><span class=\"detailFieldValue\">1990.513a-b</span></div><div class=\"detailField onviewField\"><span class=\"detailFieldLabel\">NOT ON VIEW</span></div><div class=\"detailField collectionTermsField\"><span class=\"detailFieldLabel topLabel\">Collections</span><span class=\"detailFieldValue\"><a href=\"/advancedsearch/Objects/collectionTerms%3AEurope;jsessionid=ABF7A5FE2B884393F33AB8436009D954\">Europe</a>, <a href=\"/advancedsearch/Objects/collectionTerms%3ATextiles%20and%20Fashion%20Arts;jsessionid=ABF7A5FE2B884393F33AB8436009D954\">Textiles and Fashion Arts</a></span></div><div class=\"detailField classificationsField\"><span class=\"detailFieldLabel topLabel\">Classifications</span><span class=\"detailFieldValue\"><a href=\"/advancedsearch/Objects/classifications%3ACostumes;jsessionid=ABF7A5FE2B884393F33AB8436009D954\">Costumes</a><br/></span></div></div>"
      ]
     },
     "execution_count": 219,
     "metadata": {},
     "output_type": "execute_result"
    }
   ],
   "source": [
    "# locate the block that we need\n",
    "tag1 = tag.contents[1]\n",
    "tag1"
   ]
  },
  {
   "cell_type": "code",
   "execution_count": 220,
   "metadata": {},
   "outputs": [
    {
     "data": {
      "text/plain": [
       "11"
      ]
     },
     "execution_count": 220,
     "metadata": {},
     "output_type": "execute_result"
    }
   ],
   "source": [
    "# n of features\n",
    "len(tag1)"
   ]
  },
  {
   "cell_type": "code",
   "execution_count": 203,
   "metadata": {},
   "outputs": [
    {
     "data": {
      "text/plain": [
       "'535024'"
      ]
     },
     "execution_count": 203,
     "metadata": {},
     "output_type": "execute_result"
    }
   ],
   "source": [
    "object_number = re.search('objects/(.*?)/', object_str).group(1)\n",
    "object_number"
   ]
  },
  {
   "cell_type": "code",
   "execution_count": 255,
   "metadata": {},
   "outputs": [
    {
     "data": {
      "text/html": [
       "<div>\n",
       "<style scoped>\n",
       "    .dataframe tbody tr th:only-of-type {\n",
       "        vertical-align: middle;\n",
       "    }\n",
       "\n",
       "    .dataframe tbody tr th {\n",
       "        vertical-align: top;\n",
       "    }\n",
       "\n",
       "    .dataframe thead th {\n",
       "        text-align: right;\n",
       "    }\n",
       "</style>\n",
       "<table border=\"1\" class=\"dataframe\">\n",
       "  <thead>\n",
       "    <tr style=\"text-align: right;\">\n",
       "      <th></th>\n",
       "      <th>object number</th>\n",
       "      <th>title</th>\n",
       "      <th>culture</th>\n",
       "      <th>displayDate</th>\n",
       "      <th>objectGeography</th>\n",
       "      <th>medium</th>\n",
       "      <th>dimensions</th>\n",
       "      <th>creditline</th>\n",
       "      <th>invnoline</th>\n",
       "      <th>onview</th>\n",
       "      <th>collectionTerms</th>\n",
       "      <th>classifications</th>\n",
       "    </tr>\n",
       "  </thead>\n",
       "  <tbody>\n",
       "  </tbody>\n",
       "</table>\n",
       "</div>"
      ],
      "text/plain": [
       "Empty DataFrame\n",
       "Columns: [object number, title, culture, displayDate, objectGeography, medium, dimensions, creditline, invnoline, onview, collectionTerms, classifications]\n",
       "Index: []"
      ]
     },
     "execution_count": 255,
     "metadata": {},
     "output_type": "execute_result"
    }
   ],
   "source": [
    "# initiate df index\n",
    "detailField = []\n",
    "detailField.append('object number')\n",
    "detailField.append('title')\n",
    "for i in range(1,11):\n",
    "    detailField.append(tag1.contents[i]['class'][1][:-5])\n",
    "\n",
    "df = pd.DataFrame(columns=detailField)\n",
    "df"
   ]
  },
  {
   "cell_type": "code",
   "execution_count": 256,
   "metadata": {},
   "outputs": [
    {
     "name": "stdout",
     "output_type": "stream",
     "text": [
      "['535024', 'Dress', 'Dress, American (Boston, MA); fabric English', 'about 1735, restyled 1763', '', 'Silk; brocaded plain weave', '136.52 cm (53 3/4 in.)', 'Gift of Miss Helen L. Campbell', '1990.513a-b', 'NOT ON VIEW', 'Europe, Textiles and Fashion Arts', 'Costumes']\n"
     ]
    }
   ],
   "source": [
    "# get object info\n",
    "detailContent = []\n",
    "\n",
    "# add object number for record\n",
    "detailContent.append(object_number)\n",
    "\n",
    "# the title is special, add it first\n",
    "detailContent.append(tag1.contents[0].text)\n",
    "\n",
    "for i in range(1,11):\n",
    "    detailContent.append(tag1.contents[i].contents[-1].text.strip().replace('\\n',''))\n",
    "\n",
    "print(detailContent)"
   ]
  },
  {
   "cell_type": "code",
   "execution_count": 257,
   "metadata": {},
   "outputs": [
    {
     "data": {
      "text/html": [
       "<div>\n",
       "<style scoped>\n",
       "    .dataframe tbody tr th:only-of-type {\n",
       "        vertical-align: middle;\n",
       "    }\n",
       "\n",
       "    .dataframe tbody tr th {\n",
       "        vertical-align: top;\n",
       "    }\n",
       "\n",
       "    .dataframe thead th {\n",
       "        text-align: right;\n",
       "    }\n",
       "</style>\n",
       "<table border=\"1\" class=\"dataframe\">\n",
       "  <thead>\n",
       "    <tr style=\"text-align: right;\">\n",
       "      <th></th>\n",
       "      <th>object number</th>\n",
       "      <th>title</th>\n",
       "      <th>culture</th>\n",
       "      <th>displayDate</th>\n",
       "      <th>objectGeography</th>\n",
       "      <th>medium</th>\n",
       "      <th>dimensions</th>\n",
       "      <th>creditline</th>\n",
       "      <th>invnoline</th>\n",
       "      <th>onview</th>\n",
       "      <th>collectionTerms</th>\n",
       "      <th>classifications</th>\n",
       "    </tr>\n",
       "  </thead>\n",
       "  <tbody>\n",
       "    <tr>\n",
       "      <th>0</th>\n",
       "      <td>535024</td>\n",
       "      <td>Dress</td>\n",
       "      <td>Dress, American (Boston, MA); fabric English</td>\n",
       "      <td>about 1735, restyled 1763</td>\n",
       "      <td></td>\n",
       "      <td>Silk; brocaded plain weave</td>\n",
       "      <td>136.52 cm (53 3/4 in.)</td>\n",
       "      <td>Gift of Miss Helen L. Campbell</td>\n",
       "      <td>1990.513a-b</td>\n",
       "      <td>NOT ON VIEW</td>\n",
       "      <td>Europe, Textiles and Fashion Arts</td>\n",
       "      <td>Costumes</td>\n",
       "    </tr>\n",
       "  </tbody>\n",
       "</table>\n",
       "</div>"
      ],
      "text/plain": [
       "  object number  title                                       culture  \\\n",
       "0        535024  Dress  Dress, American (Boston, MA); fabric English   \n",
       "\n",
       "                 displayDate objectGeography                      medium  \\\n",
       "0  about 1735, restyled 1763                  Silk; brocaded plain weave   \n",
       "\n",
       "               dimensions                      creditline    invnoline  \\\n",
       "0  136.52 cm (53 3/4 in.)  Gift of Miss Helen L. Campbell  1990.513a-b   \n",
       "\n",
       "        onview                    collectionTerms classifications  \n",
       "0  NOT ON VIEW  Europe, Textiles and Fashion Arts        Costumes  "
      ]
     },
     "execution_count": 257,
     "metadata": {},
     "output_type": "execute_result"
    }
   ],
   "source": [
    "df_addon = pd.DataFrame(detailContent).T\n",
    "df_addon.columns = detailField\n",
    "df_addon"
   ]
  },
  {
   "cell_type": "code",
   "execution_count": 258,
   "metadata": {},
   "outputs": [],
   "source": [
    "df = pd.concat([df,df_addon])"
   ]
  },
  {
   "cell_type": "code",
   "execution_count": 259,
   "metadata": {},
   "outputs": [
    {
     "data": {
      "text/html": [
       "<div>\n",
       "<style scoped>\n",
       "    .dataframe tbody tr th:only-of-type {\n",
       "        vertical-align: middle;\n",
       "    }\n",
       "\n",
       "    .dataframe tbody tr th {\n",
       "        vertical-align: top;\n",
       "    }\n",
       "\n",
       "    .dataframe thead th {\n",
       "        text-align: right;\n",
       "    }\n",
       "</style>\n",
       "<table border=\"1\" class=\"dataframe\">\n",
       "  <thead>\n",
       "    <tr style=\"text-align: right;\">\n",
       "      <th></th>\n",
       "      <th>object number</th>\n",
       "      <th>title</th>\n",
       "      <th>culture</th>\n",
       "      <th>displayDate</th>\n",
       "      <th>objectGeography</th>\n",
       "      <th>medium</th>\n",
       "      <th>dimensions</th>\n",
       "      <th>creditline</th>\n",
       "      <th>invnoline</th>\n",
       "      <th>onview</th>\n",
       "      <th>collectionTerms</th>\n",
       "      <th>classifications</th>\n",
       "    </tr>\n",
       "  </thead>\n",
       "  <tbody>\n",
       "    <tr>\n",
       "      <th>0</th>\n",
       "      <td>535024</td>\n",
       "      <td>Dress</td>\n",
       "      <td>Dress, American (Boston, MA); fabric English</td>\n",
       "      <td>about 1735, restyled 1763</td>\n",
       "      <td></td>\n",
       "      <td>Silk; brocaded plain weave</td>\n",
       "      <td>136.52 cm (53 3/4 in.)</td>\n",
       "      <td>Gift of Miss Helen L. Campbell</td>\n",
       "      <td>1990.513a-b</td>\n",
       "      <td>NOT ON VIEW</td>\n",
       "      <td>Europe, Textiles and Fashion Arts</td>\n",
       "      <td>Costumes</td>\n",
       "    </tr>\n",
       "  </tbody>\n",
       "</table>\n",
       "</div>"
      ],
      "text/plain": [
       "  object number  title                                       culture  \\\n",
       "0        535024  Dress  Dress, American (Boston, MA); fabric English   \n",
       "\n",
       "                 displayDate objectGeography                      medium  \\\n",
       "0  about 1735, restyled 1763                  Silk; brocaded plain weave   \n",
       "\n",
       "               dimensions                      creditline    invnoline  \\\n",
       "0  136.52 cm (53 3/4 in.)  Gift of Miss Helen L. Campbell  1990.513a-b   \n",
       "\n",
       "        onview                    collectionTerms classifications  \n",
       "0  NOT ON VIEW  Europe, Textiles and Fashion Arts        Costumes  "
      ]
     },
     "execution_count": 259,
     "metadata": {},
     "output_type": "execute_result"
    }
   ],
   "source": [
    "df"
   ]
  },
  {
   "cell_type": "code",
   "execution_count": null,
   "metadata": {},
   "outputs": [],
   "source": []
  },
  {
   "cell_type": "code",
   "execution_count": null,
   "metadata": {},
   "outputs": [],
   "source": []
  },
  {
   "cell_type": "code",
   "execution_count": null,
   "metadata": {},
   "outputs": [],
   "source": []
  },
  {
   "cell_type": "code",
   "execution_count": null,
   "metadata": {},
   "outputs": [],
   "source": []
  },
  {
   "cell_type": "code",
   "execution_count": null,
   "metadata": {},
   "outputs": [],
   "source": []
  },
  {
   "cell_type": "markdown",
   "metadata": {},
   "source": [
    "## def func save_image()"
   ]
  },
  {
   "cell_type": "code",
   "execution_count": null,
   "metadata": {},
   "outputs": [],
   "source": [
    "def save_image():\n",
    "    start = time.time()\n"
   ]
  },
  {
   "cell_type": "code",
   "execution_count": null,
   "metadata": {},
   "outputs": [],
   "source": [
    "def download_img(df,dir='testing/'):\n",
    "    start = time.time()\n",
    "    print(f'{df.shape[0]} images will be downloaded.')\n",
    "\n",
    "    name = df['objectID']\n",
    "    url = df['primaryImage']\n",
    "\n",
    "    name = list(name)\n",
    "    url = list(url)\n",
    "\n",
    "    error_id = []\n",
    "    error_n = 0\n",
    "\n",
    "    for n,u in zip(name,url):\n",
    "        filename = dir + str(n) + '.jpg'\n",
    "        try:\n",
    "            z = urllib.request.urlopen(u)\n",
    "            output = open(filename, 'wb')\n",
    "            output.write(z.read())\n",
    "            output.close()\n",
    "        except:\n",
    "            error_id.append(n)\n",
    "            print(f'error id {n}')\n",
    "            error_n += 1\n",
    "            print(f'{error_n} errors in total')\n",
    "            continue\n",
    "\n",
    "\n",
    "    end = time.time()\n",
    "    print(f'{end - start} secs slipped...')"
   ]
  },
  {
   "cell_type": "code",
   "execution_count": null,
   "metadata": {},
   "outputs": [],
   "source": []
  },
  {
   "cell_type": "code",
   "execution_count": null,
   "metadata": {},
   "outputs": [],
   "source": []
  },
  {
   "cell_type": "code",
   "execution_count": 6,
   "metadata": {},
   "outputs": [],
   "source": [
    "x = soup.find_all('img')"
   ]
  },
  {
   "cell_type": "code",
   "execution_count": 7,
   "metadata": {},
   "outputs": [],
   "source": [
    "t = list(x)"
   ]
  },
  {
   "cell_type": "code",
   "execution_count": 9,
   "metadata": {},
   "outputs": [
    {
     "data": {
      "text/plain": [
       "13"
      ]
     },
     "execution_count": 9,
     "metadata": {},
     "output_type": "execute_result"
    }
   ],
   "source": [
    "len(t)"
   ]
  },
  {
   "cell_type": "code",
   "execution_count": 8,
   "metadata": {},
   "outputs": [
    {
     "data": {
      "text/plain": [
       "[<img class=\"\" src=\"/internal/media/dispatcher/1544048/resize%3Aformat%3Dthumbnail;jsessionid=1A1A5B7352C444E0A2FB8651FF5CD4B7\" title=\"Pinned dress and silver pin\"/>,\n",
       " <img class=\"\" src=\"/internal/media/dispatcher/1577155/resize%3Aformat%3Dthumbnail;jsessionid=1A1A5B7352C444E0A2FB8651FF5CD4B7\" title=\"Look 7: Dress, pants, and ankle boots\"/>,\n",
       " <img class=\"\" src=\"/internal/media/dispatcher/1544173/resize%3Aformat%3Dthumbnail;jsessionid=1A1A5B7352C444E0A2FB8651FF5CD4B7\" title=\"Woman's ensemble comprising dress, tights, shoes, and spats\"/>,\n",
       " <img class=\"\" src=\"/internal/media/dispatcher/1577158/resize%3Aformat%3Dthumbnail;jsessionid=1A1A5B7352C444E0A2FB8651FF5CD4B7\" title=\"Woman's ensemble comprising dress, hood, and boots\"/>,\n",
       " <img class=\"\" src=\"/internal/media/dispatcher/1544063/resize%3Aformat%3Dthumbnail;jsessionid=1A1A5B7352C444E0A2FB8651FF5CD4B7\" title=\"Sculpted dress and shoulder harness\"/>,\n",
       " <img class=\"\" src=\"/internal/media/dispatcher/1596815/resize%3Aformat%3Dthumbnail;jsessionid=1A1A5B7352C444E0A2FB8651FF5CD4B7\" title=\"Look 1: Sculptural white dress, socks and shoes.\"/>,\n",
       " <img class=\"\" src=\"/internal/media/dispatcher/1634455/resize%3Aformat%3Dthumbnail;jsessionid=1A1A5B7352C444E0A2FB8651FF5CD4B7\" title=\"Pieced dress\"/>,\n",
       " <img class=\"\" src=\"/internal/media/dispatcher/1634458/resize%3Aformat%3Dthumbnail;jsessionid=1A1A5B7352C444E0A2FB8651FF5CD4B7\" title=\"Woman's dress\"/>,\n",
       " <img class=\"\" src=\"/internal/media/dispatcher/1588174/resize%3Aformat%3Dthumbnail;jsessionid=1A1A5B7352C444E0A2FB8651FF5CD4B7\" title=\"Dress\"/>,\n",
       " <img class=\"\" src=\"/internal/media/dispatcher/1590035/resize%3Aformat%3Dthumbnail;jsessionid=1A1A5B7352C444E0A2FB8651FF5CD4B7\" title='\"Parachute\" dress (Overdress, part 1 of 2)'/>,\n",
       " <img class=\"\" src=\"/internal/media/dispatcher/1590036/resize%3Aformat%3Dthumbnail;jsessionid=1A1A5B7352C444E0A2FB8651FF5CD4B7\" title=\"Dress\"/>,\n",
       " <img class=\"\" src=\"/internal/media/dispatcher/1590038/resize%3Aformat%3Dthumbnail;jsessionid=1A1A5B7352C444E0A2FB8651FF5CD4B7\" title=\"Day dress\"/>]"
      ]
     },
     "execution_count": 8,
     "metadata": {},
     "output_type": "execute_result"
    }
   ],
   "source": [
    "# on one page there are 12 thumbnail images\n",
    "# of the costumes we want\n",
    "# the first one is unrelated, we should get rid of it\n",
    "t[1:]"
   ]
  },
  {
   "cell_type": "code",
   "execution_count": 10,
   "metadata": {},
   "outputs": [
    {
     "name": "stdout",
     "output_type": "stream",
     "text": [
      "1544048\n",
      "1577155\n",
      "1544173\n",
      "1577158\n",
      "1544063\n",
      "1596815\n",
      "1634455\n",
      "1634458\n",
      "1588174\n",
      "1590035\n",
      "1590036\n",
      "1590038\n"
     ]
    }
   ],
   "source": [
    "# we need to locate the numbers after despather\n",
    "# it's the object name we need for downloading\n",
    "for link in t[1:]:\n",
    "    found = re.search('dispatcher/(.*?)/',link.get('src')).group(1)\n",
    "    print(found)\n",
    "    # print(link.get('src'))"
   ]
  },
  {
   "cell_type": "code",
   "execution_count": 66,
   "metadata": {},
   "outputs": [
    {
     "data": {
      "text/plain": [
       "'https://collections.mfa.org/download/815857'"
      ]
     },
     "execution_count": 66,
     "metadata": {},
     "output_type": "execute_result"
    }
   ],
   "source": [
    "# the download ref number is different than object number\n",
    "object_num = '815857'\n",
    "download_page = f'https://collections.mfa.org/download/{object_num}'\n",
    "download_page"
   ]
  },
  {
   "cell_type": "code",
   "execution_count": 68,
   "metadata": {},
   "outputs": [
    {
     "ename": "SyntaxError",
     "evalue": "expression cannot contain assignment, perhaps you meant \"==\"? (2056816795.py, line 5)",
     "output_type": "error",
     "traceback": [
      "\u001b[1;36m  Input \u001b[1;32mIn [68]\u001b[1;36m\u001b[0m\n\u001b[1;33m    soup.find_all('a','target'=\"_blank\")\u001b[0m\n\u001b[1;37m                      ^\u001b[0m\n\u001b[1;31mSyntaxError\u001b[0m\u001b[1;31m:\u001b[0m expression cannot contain assignment, perhaps you meant \"==\"?\n"
     ]
    }
   ],
   "source": [
    "# get the full size download link from the download page\n",
    "url = download_page\n",
    "req = requests.get(url)\n",
    "soup = BeautifulSoup(req.content,'html.parser')\n",
    "soup.find_all('a','target'=\"_blank\")\n",
    "\n",
    "\n",
    "# <a target=\"_blank\" href=\"https://collections.mfa.org/internal/media/dispatcher/757433/resize%3Aformat%3Dfull?download\"><button class=\"emuseum-button \" type=\"button\">\n",
    "# Download\n",
    "# </button></a>"
   ]
  },
  {
   "cell_type": "code",
   "execution_count": 64,
   "metadata": {},
   "outputs": [
    {
     "name": "stdout",
     "output_type": "stream",
     "text": [
      "https://collections.mfa.org/internal/media/dispatcher/815857/resize%3Aformat%3Dfull?download\n"
     ]
    }
   ],
   "source": [
    "\n",
    "download_link = f'https://collections.mfa.org/internal/media/dispatcher/{object_num}/resize%3Aformat%3Dfull?download'\n",
    "\n",
    "print(download_link)"
   ]
  },
  {
   "cell_type": "code",
   "execution_count": 65,
   "metadata": {},
   "outputs": [],
   "source": [
    "z = urllib.request.urlopen(download_link)\n",
    "output = open('test.jpg', 'wb')\n",
    "output.write(z.read())\n",
    "output.close()"
   ]
  },
  {
   "cell_type": "markdown",
   "metadata": {},
   "source": [
    "## get the dataframe for selected topics"
   ]
  },
  {
   "cell_type": "markdown",
   "metadata": {},
   "source": [
    "### prototoype to scrape a certain topic"
   ]
  },
  {
   "cell_type": "code",
   "execution_count": 5,
   "metadata": {},
   "outputs": [],
   "source": [
    "# continue above\n",
    "\n",
    "# get records column names\n",
    "# for initial the full dataframe\n",
    "records_list = r.json()['records']\n",
    "records_df = pd.DataFrame.from_dict(records_list)\n",
    "records_df_columns = records_df.columns\n",
    "\n",
    "# initiate a dataframe for filling in scrapped info\n",
    "df = pd.DataFrame(columns=records_df_columns)"
   ]
  },
  {
   "cell_type": "code",
   "execution_count": 6,
   "metadata": {},
   "outputs": [
    {
     "data": {
      "text/html": [
       "<div>\n",
       "<style scoped>\n",
       "    .dataframe tbody tr th:only-of-type {\n",
       "        vertical-align: middle;\n",
       "    }\n",
       "\n",
       "    .dataframe tbody tr th {\n",
       "        vertical-align: top;\n",
       "    }\n",
       "\n",
       "    .dataframe thead th {\n",
       "        text-align: right;\n",
       "    }\n",
       "</style>\n",
       "<table border=\"1\" class=\"dataframe\">\n",
       "  <thead>\n",
       "    <tr style=\"text-align: right;\">\n",
       "      <th></th>\n",
       "      <th>systemNumber</th>\n",
       "      <th>accessionNumber</th>\n",
       "      <th>objectType</th>\n",
       "      <th>_currentLocation</th>\n",
       "      <th>_primaryTitle</th>\n",
       "      <th>_primaryMaker</th>\n",
       "      <th>_primaryImageId</th>\n",
       "      <th>_primaryDate</th>\n",
       "      <th>_primaryPlace</th>\n",
       "      <th>_warningTypes</th>\n",
       "      <th>_images</th>\n",
       "    </tr>\n",
       "  </thead>\n",
       "  <tbody>\n",
       "  </tbody>\n",
       "</table>\n",
       "</div>"
      ],
      "text/plain": [
       "Empty DataFrame\n",
       "Columns: [systemNumber, accessionNumber, objectType, _currentLocation, _primaryTitle, _primaryMaker, _primaryImageId, _primaryDate, _primaryPlace, _warningTypes, _images]\n",
       "Index: []"
      ]
     },
     "execution_count": 6,
     "metadata": {},
     "output_type": "execute_result"
    }
   ],
   "source": [
    "df # check if initiated"
   ]
  },
  {
   "cell_type": "code",
   "execution_count": 7,
   "metadata": {},
   "outputs": [],
   "source": [
    "keyword = 'dress'"
   ]
  },
  {
   "cell_type": "code",
   "execution_count": 8,
   "metadata": {},
   "outputs": [
    {
     "name": "stdout",
     "output_type": "stream",
     "text": [
      "74 pages for keyword dress\n",
      "7321 records for keyword dress\n"
     ]
    }
   ],
   "source": [
    "urlpath = f'https://api.vam.ac.uk/v2/objects/search?q_object_name={keyword}&page_size=100&images=true&images_exist=true'\n",
    "rr = requests.get(urlpath)\n",
    "\n",
    "info_dict = rr.json()['info'] \n",
    "pages_n = info_dict['pages']\n",
    "record_n = info_dict['record_count']\n",
    "print(f'{pages_n} pages for keyword {keyword}')\n",
    "print(f'{record_n} records for keyword {keyword}')"
   ]
  },
  {
   "cell_type": "code",
   "execution_count": 9,
   "metadata": {},
   "outputs": [
    {
     "name": "stdout",
     "output_type": "stream",
     "text": [
      "47.67231202125549 seconds passed..\n"
     ]
    }
   ],
   "source": [
    "# start timer\n",
    "start = time.time()\n",
    "\n",
    "for p in range(1,pages_n+1):\n",
    "    urlpath = f'https://api.vam.ac.uk/v2/objects/search?q_object_name={keyword}&page_size=100&images=true&images_exist=true&page={p}'\n",
    "    rr = requests.get(urlpath)\n",
    "    thisdf = pd.DataFrame.from_dict(rr.json()['records'])\n",
    "    df = pd.concat([df,thisdf])\n",
    "\n",
    "# timer stops\n",
    "end = time.time()\n",
    "print(f'{end-start} seconds passed..')"
   ]
  },
  {
   "cell_type": "code",
   "execution_count": 10,
   "metadata": {},
   "outputs": [
    {
     "data": {
      "text/html": [
       "<div>\n",
       "<style scoped>\n",
       "    .dataframe tbody tr th:only-of-type {\n",
       "        vertical-align: middle;\n",
       "    }\n",
       "\n",
       "    .dataframe tbody tr th {\n",
       "        vertical-align: top;\n",
       "    }\n",
       "\n",
       "    .dataframe thead th {\n",
       "        text-align: right;\n",
       "    }\n",
       "</style>\n",
       "<table border=\"1\" class=\"dataframe\">\n",
       "  <thead>\n",
       "    <tr style=\"text-align: right;\">\n",
       "      <th></th>\n",
       "      <th>systemNumber</th>\n",
       "      <th>accessionNumber</th>\n",
       "      <th>objectType</th>\n",
       "      <th>_currentLocation</th>\n",
       "      <th>_primaryTitle</th>\n",
       "      <th>_primaryMaker</th>\n",
       "      <th>_primaryImageId</th>\n",
       "      <th>_primaryDate</th>\n",
       "      <th>_primaryPlace</th>\n",
       "      <th>_warningTypes</th>\n",
       "      <th>_images</th>\n",
       "    </tr>\n",
       "  </thead>\n",
       "  <tbody>\n",
       "    <tr>\n",
       "      <th>0</th>\n",
       "      <td>O63107</td>\n",
       "      <td>T.237-2001</td>\n",
       "      <td>Dress</td>\n",
       "      <td>{'id': 'THES50141', 'displayName': 'In store', 'type': 'storage', 'site': 'BH', 'onDisplay': False, 'detail': {'free': '', 'case': '', 'shelf': '', 'box': ''}}</td>\n",
       "      <td>Dress</td>\n",
       "      <td>{'name': 'Tam, Vivienne', 'association': 'Maker, Designer'}</td>\n",
       "      <td>2020MU3350</td>\n",
       "      <td>1999</td>\n",
       "      <td>USA</td>\n",
       "      <td>[]</td>\n",
       "      <td>{'_primary_thumbnail': 'https://framemark.vam.ac.uk/collections/2020MU3350/full/!100,100/0/default.jpg', '_iiif_image_base_url': 'https://framemark.vam.ac.uk/collections/2020MU3350/', '_iiif_presentation_url': None, 'imageResolution': 'low'}</td>\n",
       "    </tr>\n",
       "  </tbody>\n",
       "</table>\n",
       "</div>"
      ],
      "text/plain": [
       "  systemNumber accessionNumber objectType  \\\n",
       "0       O63107      T.237-2001      Dress   \n",
       "\n",
       "                                                                                                                                                  _currentLocation  \\\n",
       "0  {'id': 'THES50141', 'displayName': 'In store', 'type': 'storage', 'site': 'BH', 'onDisplay': False, 'detail': {'free': '', 'case': '', 'shelf': '', 'box': ''}}   \n",
       "\n",
       "  _primaryTitle                                                _primaryMaker  \\\n",
       "0         Dress  {'name': 'Tam, Vivienne', 'association': 'Maker, Designer'}   \n",
       "\n",
       "  _primaryImageId _primaryDate _primaryPlace _warningTypes  \\\n",
       "0      2020MU3350         1999           USA            []   \n",
       "\n",
       "                                                                                                                                                                                                                                             _images  \n",
       "0  {'_primary_thumbnail': 'https://framemark.vam.ac.uk/collections/2020MU3350/full/!100,100/0/default.jpg', '_iiif_image_base_url': 'https://framemark.vam.ac.uk/collections/2020MU3350/', '_iiif_presentation_url': None, 'imageResolution': 'low'}  "
      ]
     },
     "execution_count": 10,
     "metadata": {},
     "output_type": "execute_result"
    }
   ],
   "source": [
    "df.head(1)"
   ]
  },
  {
   "cell_type": "markdown",
   "metadata": {},
   "source": [
    "### define the function"
   ]
  },
  {
   "cell_type": "code",
   "execution_count": 39,
   "metadata": {},
   "outputs": [],
   "source": [
    "def scrape_dataframe(keyword='robe'):\n",
    "    # start timer\n",
    "    start = time.time()    \n",
    "\n",
    "    urlpath = f'https://api.vam.ac.uk/v2/objects/search?q_object_name={keyword}&page_size=100&images=true&images_exist=true'\n",
    "    rr = requests.get(urlpath)\n",
    "\n",
    "    # initiate an empty dataframe to carry the scrapped info\n",
    "    # get records column names\n",
    "    # for initial the full dataframe\n",
    "    records_list = rr.json()['records']\n",
    "    records_df = pd.DataFrame.from_dict(records_list)\n",
    "    records_df_columns = records_df.columns\n",
    "    df = pd.DataFrame(columns=records_df_columns)\n",
    "\n",
    "    # get how many pages\n",
    "    # and total number of records of this keyword\n",
    "    info_dict = rr.json()['info'] \n",
    "    pages_n = info_dict['pages'] # for iterate\n",
    "    record_n = info_dict['record_count']\n",
    "    # print(f'{pages_n} pages for keyword {keyword}')\n",
    "    print(f'we found {record_n} records for keyword {keyword}')\n",
    "\n",
    "    # iterate the pages\n",
    "    # since VA API could only search page by page\n",
    "    for p in range(1,pages_n+1):\n",
    "        urlpath = f'https://api.vam.ac.uk/v2/objects/search?q_object_name={keyword}&page_size=100&images=true&images_exist=true&page={p}'\n",
    "        rr = requests.get(urlpath)\n",
    "        thisdf = pd.DataFrame.from_dict(rr.json()['records'])\n",
    "        df = pd.concat([df,thisdf])\n",
    "\n",
    "    # print(f'we got {df.shape[0]} scarf.')\n",
    "    \n",
    "    # timer stops\n",
    "    end = time.time()\n",
    "    print(f'{end-start} seconds for scraping {keyword}..')\n",
    "\n",
    "    return df"
   ]
  },
  {
   "cell_type": "code",
   "execution_count": 40,
   "metadata": {},
   "outputs": [
    {
     "name": "stdout",
     "output_type": "stream",
     "text": [
      "we found 782 records for keyword scarf\n",
      "5.681551933288574 seconds for scraping scarf..\n"
     ]
    },
    {
     "data": {
      "text/html": [
       "<div>\n",
       "<style scoped>\n",
       "    .dataframe tbody tr th:only-of-type {\n",
       "        vertical-align: middle;\n",
       "    }\n",
       "\n",
       "    .dataframe tbody tr th {\n",
       "        vertical-align: top;\n",
       "    }\n",
       "\n",
       "    .dataframe thead th {\n",
       "        text-align: right;\n",
       "    }\n",
       "</style>\n",
       "<table border=\"1\" class=\"dataframe\">\n",
       "  <thead>\n",
       "    <tr style=\"text-align: right;\">\n",
       "      <th></th>\n",
       "      <th>systemNumber</th>\n",
       "      <th>accessionNumber</th>\n",
       "      <th>objectType</th>\n",
       "      <th>_currentLocation</th>\n",
       "      <th>_primaryTitle</th>\n",
       "      <th>_primaryMaker</th>\n",
       "      <th>_primaryImageId</th>\n",
       "      <th>_primaryDate</th>\n",
       "      <th>_primaryPlace</th>\n",
       "      <th>_warningTypes</th>\n",
       "      <th>_images</th>\n",
       "    </tr>\n",
       "  </thead>\n",
       "  <tbody>\n",
       "    <tr>\n",
       "      <th>0</th>\n",
       "      <td>O102827</td>\n",
       "      <td>T.127-1997</td>\n",
       "      <td>Scarf</td>\n",
       "      <td>{'id': 'THES50141', 'displayName': 'In store', 'type': 'storage', 'site': 'BH', 'onDisplay': False, 'detail': {'free': '', 'case': '', 'shelf': '', 'box': ''}}</td>\n",
       "      <td>Scarf on Scarf</td>\n",
       "      <td>{'name': 'Earley, Rebecca', 'association': 'designer'}</td>\n",
       "      <td>2006AP6466</td>\n",
       "      <td>1996</td>\n",
       "      <td>England</td>\n",
       "      <td>[]</td>\n",
       "      <td>{'_primary_thumbnail': 'https://framemark.vam.ac.uk/collections/2006AP6466/full/!100,100/0/default.jpg', '_iiif_image_base_url': 'https://framemark.vam.ac.uk/collections/2006AP6466/', '_iiif_presentation_url': None, 'imageResolution': 'low'}</td>\n",
       "    </tr>\n",
       "  </tbody>\n",
       "</table>\n",
       "</div>"
      ],
      "text/plain": [
       "  systemNumber accessionNumber objectType  \\\n",
       "0      O102827      T.127-1997      Scarf   \n",
       "\n",
       "                                                                                                                                                  _currentLocation  \\\n",
       "0  {'id': 'THES50141', 'displayName': 'In store', 'type': 'storage', 'site': 'BH', 'onDisplay': False, 'detail': {'free': '', 'case': '', 'shelf': '', 'box': ''}}   \n",
       "\n",
       "    _primaryTitle                                           _primaryMaker  \\\n",
       "0  Scarf on Scarf  {'name': 'Earley, Rebecca', 'association': 'designer'}   \n",
       "\n",
       "  _primaryImageId _primaryDate _primaryPlace _warningTypes  \\\n",
       "0      2006AP6466         1996       England            []   \n",
       "\n",
       "                                                                                                                                                                                                                                             _images  \n",
       "0  {'_primary_thumbnail': 'https://framemark.vam.ac.uk/collections/2006AP6466/full/!100,100/0/default.jpg', '_iiif_image_base_url': 'https://framemark.vam.ac.uk/collections/2006AP6466/', '_iiif_presentation_url': None, 'imageResolution': 'low'}  "
      ]
     },
     "execution_count": 40,
     "metadata": {},
     "output_type": "execute_result"
    }
   ],
   "source": [
    "# test the function\n",
    "df_test = scrape_dataframe('scarf')\n",
    "df_test.head(1)"
   ]
  },
  {
   "cell_type": "code",
   "execution_count": 41,
   "metadata": {},
   "outputs": [],
   "source": [
    "df_test = df_test.head(3)"
   ]
  },
  {
   "cell_type": "markdown",
   "metadata": {},
   "source": [
    "### scrape"
   ]
  },
  {
   "cell_type": "code",
   "execution_count": 15,
   "metadata": {},
   "outputs": [],
   "source": [
    "# initiate an empty datafram\n",
    "url = \"https://api.vam.ac.uk/v2/objects/search?q_object_name=robe&page_size=100&images=true&images_exist=true\"\n",
    "r = requests.get(url)\n",
    "\n",
    "# get records column names\n",
    "# for initial the full dataframe\n",
    "records_list = r.json()['records']\n",
    "records_df = pd.DataFrame.from_dict(records_list)\n",
    "records_df_columns = records_df.columns\n",
    "\n",
    "# initiate a dataframe for filling in scrapped info\n",
    "df = pd.DataFrame(columns=records_df_columns)"
   ]
  },
  {
   "cell_type": "code",
   "execution_count": 16,
   "metadata": {},
   "outputs": [
    {
     "data": {
      "text/html": [
       "<div>\n",
       "<style scoped>\n",
       "    .dataframe tbody tr th:only-of-type {\n",
       "        vertical-align: middle;\n",
       "    }\n",
       "\n",
       "    .dataframe tbody tr th {\n",
       "        vertical-align: top;\n",
       "    }\n",
       "\n",
       "    .dataframe thead th {\n",
       "        text-align: right;\n",
       "    }\n",
       "</style>\n",
       "<table border=\"1\" class=\"dataframe\">\n",
       "  <thead>\n",
       "    <tr style=\"text-align: right;\">\n",
       "      <th></th>\n",
       "      <th>systemNumber</th>\n",
       "      <th>accessionNumber</th>\n",
       "      <th>objectType</th>\n",
       "      <th>_currentLocation</th>\n",
       "      <th>_primaryTitle</th>\n",
       "      <th>_primaryMaker</th>\n",
       "      <th>_primaryImageId</th>\n",
       "      <th>_primaryDate</th>\n",
       "      <th>_primaryPlace</th>\n",
       "      <th>_warningTypes</th>\n",
       "      <th>_images</th>\n",
       "    </tr>\n",
       "  </thead>\n",
       "  <tbody>\n",
       "  </tbody>\n",
       "</table>\n",
       "</div>"
      ],
      "text/plain": [
       "Empty DataFrame\n",
       "Columns: [systemNumber, accessionNumber, objectType, _currentLocation, _primaryTitle, _primaryMaker, _primaryImageId, _primaryDate, _primaryPlace, _warningTypes, _images]\n",
       "Index: []"
      ]
     },
     "execution_count": 16,
     "metadata": {},
     "output_type": "execute_result"
    }
   ],
   "source": [
    "#check\n",
    "df"
   ]
  },
  {
   "cell_type": "code",
   "execution_count": 17,
   "metadata": {},
   "outputs": [],
   "source": [
    "# hand picked some keywords\n",
    "# checked the keywords on VA website\n",
    "\n",
    "keywords = ['costume', 'robe', 'dress', 'shirt','ensemble','jacket','coat','suit','trousers']"
   ]
  },
  {
   "cell_type": "code",
   "execution_count": 18,
   "metadata": {},
   "outputs": [
    {
     "name": "stdout",
     "output_type": "stream",
     "text": [
      "we found 16896 records for keyword costume\n",
      "65.27326703071594 seconds for scraping costume..\n",
      "we found 5582 records for keyword robe\n",
      "35.6450834274292 seconds for scraping robe..\n",
      "we found 7321 records for keyword dress\n",
      "48.430097341537476 seconds for scraping dress..\n",
      "we found 917 records for keyword shirt\n",
      "6.8267552852630615 seconds for scraping shirt..\n",
      "we found 399 records for keyword ensemble\n",
      "3.2287628650665283 seconds for scraping ensemble..\n",
      "we found 835 records for keyword jacket\n",
      "6.3819639682769775 seconds for scraping jacket..\n",
      "we found 763 records for keyword coat\n",
      "5.62924599647522 seconds for scraping coat..\n",
      "we found 979 records for keyword suit\n",
      "7.155668497085571 seconds for scraping suit..\n",
      "we found 360 records for keyword trousers\n",
      "3.063270330429077 seconds for scraping trousers..\n"
     ]
    }
   ],
   "source": [
    "for k in keywords:\n",
    "    df_toadd = scrape_dataframe(k)\n",
    "    df = pd.concat([df,df_toadd])"
   ]
  },
  {
   "cell_type": "code",
   "execution_count": 19,
   "metadata": {},
   "outputs": [
    {
     "data": {
      "text/plain": [
       "(27156, 11)"
      ]
     },
     "execution_count": 19,
     "metadata": {},
     "output_type": "execute_result"
    }
   ],
   "source": [
    "df.shape"
   ]
  },
  {
   "cell_type": "code",
   "execution_count": 20,
   "metadata": {},
   "outputs": [],
   "source": [
    "df.drop_duplicates('_primaryImageId', inplace=True)"
   ]
  },
  {
   "cell_type": "code",
   "execution_count": 21,
   "metadata": {},
   "outputs": [],
   "source": [
    "df.to_csv(r'scrapped_data/VA_uncleaned.csv', index = False)"
   ]
  },
  {
   "cell_type": "code",
   "execution_count": 2,
   "metadata": {},
   "outputs": [],
   "source": [
    "df = pd.read_csv('scrapped_data/VA_uncleaned.csv') "
   ]
  },
  {
   "cell_type": "code",
   "execution_count": 3,
   "metadata": {},
   "outputs": [
    {
     "data": {
      "text/plain": [
       "(26595, 11)"
      ]
     },
     "execution_count": 3,
     "metadata": {},
     "output_type": "execute_result"
    }
   ],
   "source": [
    "df.shape"
   ]
  },
  {
   "cell_type": "markdown",
   "metadata": {},
   "source": [
    "## filter more before download"
   ]
  },
  {
   "cell_type": "markdown",
   "metadata": {},
   "source": [
    "### hand pick certian object types\n",
    "\n",
    "after download test, we found many unrealted images.\n",
    "\n",
    "we could use 'object type' to filter.<br>\n",
    "use the VA website search to determine if the object type needs to be removed."
   ]
  },
  {
   "cell_type": "code",
   "execution_count": 4,
   "metadata": {},
   "outputs": [],
   "source": [
    "df['objectType'] = df['objectType'].map(lambda x: str(x).lower())"
   ]
  },
  {
   "cell_type": "code",
   "execution_count": 5,
   "metadata": {},
   "outputs": [
    {
     "data": {
      "text/plain": [
       "584"
      ]
     },
     "execution_count": 5,
     "metadata": {},
     "output_type": "execute_result"
    }
   ],
   "source": [
    "df['objectType'].nunique()"
   ]
  },
  {
   "cell_type": "code",
   "execution_count": 6,
   "metadata": {},
   "outputs": [
    {
     "data": {
      "text/plain": [
       "array(['costume', 'theatre costume', 'film costume', 'costume design',\n",
       "       'ballet costume', 'opera costume', 'dance costume',\n",
       "       'puppet costume', 'stage costume', 'fancy dress costume',\n",
       "       'circus costume', 'costume plate', 'clown costume',\n",
       "       'rock and pop costume', 'jacket', 'print', 'drawing',\n",
       "       'fashion plate', 'nan', \"doll's outfit\", 'ensemble', 'bodice',\n",
       "       'theatre design', 'figurine', 'oil painting', 'design',\n",
       "       'aquatint etching', 'statuette', 'photograph', 'poster', 'figure',\n",
       "       'relief', 'screenprint', 'fashion design', 'costume sketch',\n",
       "       'costume doll', 'masks (costume)', 'cabaret costume',\n",
       "       'costume accessory', 'marionette costume', 'walking costume',\n",
       "       'bathing costume', 'national costume', 'golf costume',\n",
       "       'costume designs', 'costume dolls', 'usher costume',\n",
       "       'performance costume', 'costume print', 'tv costume',\n",
       "       \"man's costume\", \"acrobat's costume\", 'theatrical costume',\n",
       "       'costume doll ', 'robe', 'robe and trousers', \"boy's robe\",\n",
       "       'image robe', 'christening robe', 'ceremonial robe',\n",
       "       'barbers robe', 'daoist robe', 'chinese robe', 'bath robe',\n",
       "       'shaving robe', \"man's robe\", 'uncut robe', 'open-robe',\n",
       "       'model robe', 'ceremonial robe ', 'court robe', \"baby's long robe\",\n",
       "       'model robe stand', 'christening robe panel', 'image robe bodice?',\n",
       "       'robe and belt', \"man's robe (jama)\", 'daoist ritual robe',\n",
       "       \"emperor's court robe\", \"man's robe, choga\", 'dragon robe panel',\n",
       "       'woven silk', 'nightrobe', 'doll in robe & petticoat',\n",
       "       'robe à la piédmontaise', \"doll's robe and petticoat\",\n",
       "       'robe a la francaise', 'kesa (buddhist priest’s robe)',\n",
       "       \"queen's robe of state\", 'evening dress', 'dress', 'painting',\n",
       "       'illustrated manuscript', 'watercolour', 'engraving', 'dress ',\n",
       "       'dress panel', 'dress ornament', 'wedding dress', 'dress fabric',\n",
       "       'paper dress', 'cocktail dress', 'invitation', 'panel',\n",
       "       'trade literature', 'picture', 'highland outfit', 'dressing gown',\n",
       "       'trade catalogue', 'installation', 'wood engraving',\n",
       "       'portrait miniature', 'enamel miniature', 'sheet music',\n",
       "       'fashion illustration', 'etching', 'paper doll', 'stick handle',\n",
       "       'satirical print', 'stipple engraving', 'sample', 'doll', 'puppet',\n",
       "       'pastel', 'dummy board', 'tapestry', 'plaque', 'brass rubbing',\n",
       "       'sari', 'greetings card', 'miniature', 'aquatint', 'shawl',\n",
       "       'woodblock print', 'doll in mantua', 'architectural drawing',\n",
       "       'lithograph', 'paper doll set', 'gouache', 'etching and stipple',\n",
       "       'book', 'etching and engraving', 'manuscript cutting',\n",
       "       'dress fabric ', 'dress front', 'dress coat', 'day dress',\n",
       "       'afternoon dress', 'dress bag', 'court dress', 'dress bodice',\n",
       "       'dress trimming', 'dress fringe', 'transformation dress',\n",
       "       'walking dress', 'dress fastener', 'dress buckle', 'tennis dress',\n",
       "       'head dress', 'doll dress', 'head-dress', 'fancy dress',\n",
       "       'mourning dress', 'dress clasp', 'mini-dress', 'dress pattern',\n",
       "       'miniature dress', 'dress piece', 'pinafore dress', 'dress shirt',\n",
       "       'pyjama dress', 'night dress', 'delphos dress', 'baby dress',\n",
       "       'bridesmaid dress', 'dress clip', 'dress brooch', 'dress shape',\n",
       "       'beach dress', 'mini dress', 'dinner dress', 'ballet dress',\n",
       "       'party dress', 'dress sword', 'dress appliqué', 'dress hooks',\n",
       "       'dress holder', \"boy's dress\", 'dress hook', 'dress label',\n",
       "       \"doll's dress\", 'dress cuff', 'maternity dress', 'coat dress',\n",
       "       'dress robings', 'dress material', 'morning dress', 'tunic dress',\n",
       "       'slip dress', 'dress trim', 'culotte dress', 'smock-dress',\n",
       "       'dress kit', 'dress accessory', 'miniature day dress',\n",
       "       'court dress train', 'miniature evening dress',\n",
       "       'miniature court dress', 'dress-making sample',\n",
       "       'dress ornament pair', 'court presentation dress',\n",
       "       'dress clip set', 'paper dress set', 'paper doll dress',\n",
       "       'wedding dress design', 'korean traditional dress',\n",
       "       'paper dress fabric', 'wedding dress skirt', 'dress label roll',\n",
       "       'state evening dress', 'court dress coat', 'evening coat dress',\n",
       "       'prints', 'cocktail dress and jacket', 'jacket from fancy dress',\n",
       "       'fancy dress costume design', 'pair of dress clips',\n",
       "       'pair of dress clasps', 'cocktail dress and coat',\n",
       "       'afternoon dress and mantle', 'letter', 'shirt', 't-shirt',\n",
       "       'sweat shirt', 'clothing', 'blouse', 'wallpaper', 'waistcoat',\n",
       "       'shirt studs', \"boy's shirt\", 'habit shirt', 'shirt sampler',\n",
       "       'evening shirt', \"doll's shirt\", 'shirt frill', \"man's shirt\",\n",
       "       'shirt part', 't shirt', 'football shirt', \"baby's shirt\",\n",
       "       'talismanic shirt', 'polo shirt', 'unmade shirt', 'shirt panel',\n",
       "       'shirt links', 'mail shirt', 'shirt stud', 'first shirt',\n",
       "       'shirt set', 'racing shirt', 'bowling shirt', 'hawaiian shirt',\n",
       "       'western shirt', 'wedding shirt', 't- shirt', 't. shirt',\n",
       "       \"girl's shirt\", 'shirt (hse)', 'shirt (c)', \"child's t-shirt\",\n",
       "       'riding habit shirt', 'shirt and collars', 'shirt and collar',\n",
       "       'wedding shirt front', 'shirt and tie', 'shirt and sash',\n",
       "       'sample of shirt fabric', 'pair of shirt studs',\n",
       "       \"shirt from 'jockey' costume\", 'pair of shirt cuffs',\n",
       "       'pair of shirt panels', 'shirt and top set',\n",
       "       'shirt frill and ruffles', 'shirt and collar tips',\n",
       "       't-shirt and badge', \"trutex 'topper' shirt and packaging\",\n",
       "       \"'trax' trutex shirt and box\",\n",
       "       'sari and matching long-sleeved shirt',\n",
       "       'jacket, jeans, shirt and ankle boots', 'shoe', 'earring',\n",
       "       'skirt suit', 'trousers', 'day ensemble', 'evening ensemble',\n",
       "       'wedding ensemble', 'miniature ensemble', 'beach ensemble',\n",
       "       'swimsuit ensemble', 'kaba ensemble', \"doll's ensemble\",\n",
       "       'skiing ensemble', 'sport ensemble', \"man's ensemble\",\n",
       "       'lingerie ensemble', 'court ensemble', 'wearable art ensemble',\n",
       "       'roller skating ensemble', 'driving jacket', 'jacket and apron',\n",
       "       'jacket and scarf', 'bomber jacket', 'top (clothing)',\n",
       "       'action man outfit; cat. no. 34285', 'jacket ', 'music',\n",
       "       'matinée jacket', 'book jacket', \"man's jacket\", \"baby's jacket\",\n",
       "       'bed jacket', 'dressing jacket', 'evening jacket', 'sweat jacket',\n",
       "       'matinee jacket', 'jacket panels', \"boy's jacket\",\n",
       "       'sleeveless jacket', \"doll's jacket\", \"toddler's jacket\",\n",
       "       \"baby's  jacket\", 'ski jacket', 'fur jacket', 'baseball jacket',\n",
       "       'shooting jacket', 'norfolk jacket', 'suit jacket', 'jacket clasp',\n",
       "       'jeogori jacket', 'spencer jacket', 'flying jacket',\n",
       "       'riding jacket', 'donkey jacket', 'dinner jacket', 'biker jacket',\n",
       "       'under jacket', 'smoking jacket', 'flight jacket', 'safari jacket',\n",
       "       \"girl's jacket\", 'puffer jacket', \"baby's matineé jacket\",\n",
       "       'haori (kimono jacket)', 'haori (kimono jacket) ',\n",
       "       'jacket and trousers', \"boy's pyjama jacket\", 'jacket and skirt',\n",
       "       'après ski jacket', 'riding habit jacket', 'jacket and cap',\n",
       "       'jumper and jacket', 'half-mourning jacket',\n",
       "       'jacket and waistcoat', 'jacket and belt', \"child's bed-jacket\",\n",
       "       'quilted cropped jacket', 'fall hanbok - yellow jacket',\n",
       "       'summer hanbok - jade jacket', 'winter hanbok - yellow jacket',\n",
       "       'printed summer hanbok-jacket', 'fur jacket and muff',\n",
       "       'jacket, skirt and storage box', 'coat', 'evening coat',\n",
       "       'sleeveless coat', 'coat of arms', 'woolen coat and hat',\n",
       "       'half of a coat', 'hat and coat hooks', 'intaglio', 'body armour',\n",
       "       'shield of arms', 'tempera painting', 'chair', 'mortar', 'medal',\n",
       "       'hatstand', 'coat stand', 'driving coat', 'riding coat',\n",
       "       'coat parts', 'tea coat', 'dust coat', 'formal coat',\n",
       "       \"doll's coat\", 'mail coat', 'frock coat', 'coat rail',\n",
       "       \"boy's coat\", \"girl's coat\", 'paper coat', 'matinee coat',\n",
       "       \"toddler's coat\", 'matinée coat', \"baby's coat\", 'coat panel',\n",
       "       'buff coat', 'lounge coat', 'opera coat', 'morning coat',\n",
       "       'coat hook', 'tail coat', 'military coat', 'hunting coat',\n",
       "       'motoring coat', \"man's coat\", 'travelling coat', 'fur coat',\n",
       "       'cape coat', 'wedding coat', 'archery coat', 'livery coat',\n",
       "       'duffel coat', 'coat & breeches', 'coat & waistcoat',\n",
       "       'wardrobe hook', 'coat and breeches', 'coat and bonnet',\n",
       "       'coat and scarf', \"baby's carrying coat\", 'riding habit coat',\n",
       "       'coat and cape', 'coat and waistcoat', 'coat and belt',\n",
       "       'coat and trousers', 'coat and stole', 'skirt and coat',\n",
       "       \"man's coat & waistcoat\", \"child's coat hanger\",\n",
       "       'kimono coat (michiyuki)', 'silk coat section',\n",
       "       'coat, body and leggings', 'set of coat panels',\n",
       "       'morning coat and waistcoat', 'court coat and waistcoat',\n",
       "       'coat and pyjama trousers', 'coat and hat set',\n",
       "       \"boy's coat and cap\", 'coat, waistcoat and breeches',\n",
       "       'evening coat and handbag', 'evening coat and hat',\n",
       "       'double-breasted frock coat', 'crown and coat of arms', 'suit',\n",
       "       'trouser suit', \"man's suit\", 'plaisir skirt suit',\n",
       "       'suit of armour', 'sherry glass', 'decanter and stopper', 'button',\n",
       "       'jackets', 'bathroom suite', \"'living' marionette\", 'broadsheet',\n",
       "       'pamphlet', 'buster suit', 'shorts suit', \"boy's suit\",\n",
       "       'walking suit', 'romper suit', 'cycling suit', \"girl's suit\",\n",
       "       'sleeping suit', 'evening suit', 'morning suit', 'day suit',\n",
       "       'bathing suit', 'ski suit', 'knickerbocker suit', 'stretch suit',\n",
       "       'sailor suit', 'smoking suit', \"baby's suit\", 'suit top',\n",
       "       'beach suit', 'cocktail suit', 'miniature suit', 'track suit',\n",
       "       'wedding suit', 'dinner suit', 'court suit', 'boating suit',\n",
       "       'skeleton suit', 'bubble-suit', 'sun suit', 'western suit',\n",
       "       'hunting suit', 'camouflage suit', 'shooting suit', 'karate suit',\n",
       "       'bondage suit', 'culottes suit', 'culotte suit', 'mess suit',\n",
       "       'boiler suit', 'knickerbockers suit', 'lounge suit', 'snow suit',\n",
       "       'riding suit', 'cowgirl suit', 'ski-suit', 'pyjama suit',\n",
       "       'collage', 'paper pattern', 'caricature portrait sketch',\n",
       "       \"baby's ski suit\", 'one piece suit', \"page boy's suit\",\n",
       "       'double-breasted suit', 'evening trouser suit',\n",
       "       \"girl's siren suit\", \"boy's sailor suit\", \"boy's attendant suit\",\n",
       "       'knitted skirt suit', 'single-breasted suit', 'formal day suit',\n",
       "       'body-bag suit', 'evening pyjama suit', 'beach trouser suit',\n",
       "       'track suit top', \"child's jump-suit\", \"girl's sailor suit\",\n",
       "       \"baby's buster suit\", \"boy's eton suit\", 'evening skirt suit',\n",
       "       \"man's riding suit\", \"man's evening suit\", \"man's skirt suit\",\n",
       "       \"man's wedding suit\", 'civil partnership suit', 'romper suit top',\n",
       "       \"child's romper suit\", \"man's summer suit\", 'two-piece suit',\n",
       "       'court suit shape parts', 'skirt suit and scarf',\n",
       "       \"boy's sailor suit blouse\", 'skirt suit and stole',\n",
       "       'skirt suit and hat', 'miniature suit of armour',\n",
       "       'siren suit and belt', 'track suit pullover and pants',\n",
       "       'evening trouser suit and blouse', 'evening skirt suit and cloak',\n",
       "       'doll clothes', 'stained glass design', 'trousers ',\n",
       "       'cossack trousers', 'evening trousers', 'hakama (trousers)',\n",
       "       'trousers (shalwar)', 'pyjama trousers', \"child's trousers\",\n",
       "       'mail trousers', 'jodphur trousers', 'trousers (clothing)',\n",
       "       'trousers (paijama)', 'ski trousers', 'trousers (hakama)',\n",
       "       'pair of trousers', 'trousers and waistcoat', 'tunic and trousers',\n",
       "       'waistcoat and trousers', 'jumper and trousers.',\n",
       "       'top and trousers', 'trousers and pinafore', 'jumper and trousers',\n",
       "       'quilted tie trousers', 'veil, trousers and drawstring',\n",
       "       \"pair of man's trousers\", 'trousers from \"sailor\" costume',\n",
       "       'trousers and bum flap', 'recycled lace bedding trousers'],\n",
       "      dtype=object)"
      ]
     },
     "execution_count": 6,
     "metadata": {},
     "output_type": "execute_result"
    }
   ],
   "source": [
    "df['objectType'].unique()"
   ]
  },
  {
   "cell_type": "code",
   "execution_count": 15,
   "metadata": {},
   "outputs": [
    {
     "data": {
      "text/plain": [
       "costume design                7379\n",
       "fashion design                5388\n",
       "dress fabric                  3774\n",
       "theatre costume               1723\n",
       "dress                         1141\n",
       "evening dress                  638\n",
       "jacket                         552\n",
       "shirt                          437\n",
       "coat                           379\n",
       "t-shirt                        338\n",
       "print                          334\n",
       "ensemble                       332\n",
       "trousers                       276\n",
       "suit                           233\n",
       "costume                        207\n",
       "robe                           188\n",
       "skirt suit                     175\n",
       "drawing                        159\n",
       "photograph                     140\n",
       "wedding dress                  134\n",
       "dress panel                    130\n",
       "dance costume                  115\n",
       "fashion plate                   94\n",
       "trouser suit                    68\n",
       "dress ornament                  65\n",
       "day dress                       62\n",
       "dress trimming                  61\n",
       "book jacket                     61\n",
       "costume doll                    61\n",
       "dress-making sample             58\n",
       "evening coat                    51\n",
       "costume plate                   49\n",
       "painting                        48\n",
       "dress piece                     47\n",
       "fancy dress costume design      41\n",
       "christening robe                38\n",
       "image robe                      37\n",
       "cocktail dress                  36\n",
       "mini-dress                      30\n",
       "man's suit                      29\n",
       "watercolour                     27\n",
       "etching                         26\n",
       "costume sketch                  20\n",
       "oil painting                    20\n",
       "fancy dress costume             19\n",
       "opera costume                   18\n",
       "paper dress                     17\n",
       "dress label                     17\n",
       "day ensemble                    16\n",
       "dress bodice                    16\n",
       "engraving                       15\n",
       "boy's suit                      14\n",
       "portrait miniature              14\n",
       "bathing costume                 14\n",
       "dress front                     14\n",
       "evening suit                    13\n",
       "dress trim                      13\n",
       "walking costume                 13\n",
       "matinee jacket                  12\n",
       "poster                          12\n",
       "Name: objectType, dtype: int64"
      ]
     },
     "execution_count": 15,
     "metadata": {},
     "output_type": "execute_result"
    }
   ],
   "source": [
    "df['objectType'].value_counts().head(60)"
   ]
  },
  {
   "cell_type": "code",
   "execution_count": 16,
   "metadata": {},
   "outputs": [],
   "source": [
    "sel = ['costume design', 'fashion design','dress fabric','photograph',\n",
    "        'print','drawing','dress panel','costume doll',\n",
    "        'dress trimming','dress-making sample','book jacket','painting',\n",
    "        'fancy dress costume design','watercolour','etching','costume sketch',\n",
    "        'oil painting','costume plate','theatre costume']"
   ]
  },
  {
   "cell_type": "code",
   "execution_count": 17,
   "metadata": {},
   "outputs": [],
   "source": [
    "for s in sel:\n",
    "    sel_index = df[df['objectType'] == s].index\n",
    "    df.drop(sel_index, inplace=True)"
   ]
  },
  {
   "cell_type": "code",
   "execution_count": 18,
   "metadata": {},
   "outputs": [
    {
     "data": {
      "text/plain": [
       "(7096, 11)"
      ]
     },
     "execution_count": 18,
     "metadata": {},
     "output_type": "execute_result"
    }
   ],
   "source": [
    "df.shape"
   ]
  },
  {
   "cell_type": "code",
   "execution_count": 24,
   "metadata": {},
   "outputs": [
    {
     "data": {
      "text/html": [
       "<div>\n",
       "<style scoped>\n",
       "    .dataframe tbody tr th:only-of-type {\n",
       "        vertical-align: middle;\n",
       "    }\n",
       "\n",
       "    .dataframe tbody tr th {\n",
       "        vertical-align: top;\n",
       "    }\n",
       "\n",
       "    .dataframe thead th {\n",
       "        text-align: right;\n",
       "    }\n",
       "</style>\n",
       "<table border=\"1\" class=\"dataframe\">\n",
       "  <thead>\n",
       "    <tr style=\"text-align: right;\">\n",
       "      <th></th>\n",
       "      <th>systemNumber</th>\n",
       "      <th>accessionNumber</th>\n",
       "      <th>objectType</th>\n",
       "      <th>_currentLocation</th>\n",
       "      <th>_primaryTitle</th>\n",
       "      <th>_primaryMaker</th>\n",
       "      <th>_primaryImageId</th>\n",
       "      <th>_primaryDate</th>\n",
       "      <th>_primaryPlace</th>\n",
       "      <th>_warningTypes</th>\n",
       "      <th>_images</th>\n",
       "    </tr>\n",
       "  </thead>\n",
       "  <tbody>\n",
       "    <tr>\n",
       "      <th>3</th>\n",
       "      <td>O1682165</td>\n",
       "      <td>S.8:1 to 5-2022</td>\n",
       "      <td>costume</td>\n",
       "      <td>{'id': 'THES49929', 'displayName': 'Theatre &amp; Performance, Room 104', 'type': 'Display', 'site': 'VA', 'onDisplay': True, 'detail': {'free': '', 'case': 'PL1', 'shelf': 'EXP', 'box': 'FIG1'}}</td>\n",
       "      <td>costume</td>\n",
       "      <td>{'name': 'Slade, Gabriella', 'association': 'designer'}</td>\n",
       "      <td>2022NG6373</td>\n",
       "      <td>2020</td>\n",
       "      <td>New York</td>\n",
       "      <td>[]</td>\n",
       "      <td>{'_primary_thumbnail': 'https://framemark.vam.ac.uk/collections/2022NG6373/full/!100,100/0/default.jpg', '_iiif_image_base_url': 'https://framemark.vam.ac.uk/collections/2022NG6373/', '_iiif_presentation_url': 'https://iiif.vam.ac.uk/collections/O1682165/manifest.json', 'imageResolution': 'high'}</td>\n",
       "    </tr>\n",
       "  </tbody>\n",
       "</table>\n",
       "</div>"
      ],
      "text/plain": [
       "  systemNumber  accessionNumber objectType  \\\n",
       "3     O1682165  S.8:1 to 5-2022    costume   \n",
       "\n",
       "                                                                                                                                                                                  _currentLocation  \\\n",
       "3  {'id': 'THES49929', 'displayName': 'Theatre & Performance, Room 104', 'type': 'Display', 'site': 'VA', 'onDisplay': True, 'detail': {'free': '', 'case': 'PL1', 'shelf': 'EXP', 'box': 'FIG1'}}   \n",
       "\n",
       "  _primaryTitle                                            _primaryMaker  \\\n",
       "3       costume  {'name': 'Slade, Gabriella', 'association': 'designer'}   \n",
       "\n",
       "  _primaryImageId _primaryDate _primaryPlace _warningTypes  \\\n",
       "3      2022NG6373         2020      New York            []   \n",
       "\n",
       "                                                                                                                                                                                                                                                                                                     _images  \n",
       "3  {'_primary_thumbnail': 'https://framemark.vam.ac.uk/collections/2022NG6373/full/!100,100/0/default.jpg', '_iiif_image_base_url': 'https://framemark.vam.ac.uk/collections/2022NG6373/', '_iiif_presentation_url': 'https://iiif.vam.ac.uk/collections/O1682165/manifest.json', 'imageResolution': 'high'}  "
      ]
     },
     "execution_count": 24,
     "metadata": {},
     "output_type": "execute_result"
    }
   ],
   "source": [
    "# easy check an object\n",
    "sysnumber = 'O1682165'\n",
    "df[df['systemNumber']==sysnumber]"
   ]
  },
  {
   "cell_type": "code",
   "execution_count": null,
   "metadata": {},
   "outputs": [],
   "source": []
  },
  {
   "cell_type": "markdown",
   "metadata": {},
   "source": [
    "## image download"
   ]
  },
  {
   "cell_type": "markdown",
   "metadata": {},
   "source": [
    "### extract base url"
   ]
  },
  {
   "cell_type": "code",
   "execution_count": 25,
   "metadata": {},
   "outputs": [],
   "source": [
    "df['image_value'] = df['_images'].map(lambda x: eval(x))"
   ]
  },
  {
   "cell_type": "code",
   "execution_count": 26,
   "metadata": {},
   "outputs": [],
   "source": [
    "df['image_value'] = df['image_value'].map(lambda x: x.values())"
   ]
  },
  {
   "cell_type": "code",
   "execution_count": 27,
   "metadata": {},
   "outputs": [],
   "source": [
    "df['image_base'] = df['image_value'].map(lambda x: (list(x)[1]))"
   ]
  },
  {
   "cell_type": "code",
   "execution_count": 28,
   "metadata": {},
   "outputs": [
    {
     "data": {
      "text/html": [
       "<div>\n",
       "<style scoped>\n",
       "    .dataframe tbody tr th:only-of-type {\n",
       "        vertical-align: middle;\n",
       "    }\n",
       "\n",
       "    .dataframe tbody tr th {\n",
       "        vertical-align: top;\n",
       "    }\n",
       "\n",
       "    .dataframe thead th {\n",
       "        text-align: right;\n",
       "    }\n",
       "</style>\n",
       "<table border=\"1\" class=\"dataframe\">\n",
       "  <thead>\n",
       "    <tr style=\"text-align: right;\">\n",
       "      <th></th>\n",
       "      <th>systemNumber</th>\n",
       "      <th>accessionNumber</th>\n",
       "      <th>objectType</th>\n",
       "      <th>_currentLocation</th>\n",
       "      <th>_primaryTitle</th>\n",
       "      <th>_primaryMaker</th>\n",
       "      <th>_primaryImageId</th>\n",
       "      <th>_primaryDate</th>\n",
       "      <th>_primaryPlace</th>\n",
       "      <th>_warningTypes</th>\n",
       "      <th>_images</th>\n",
       "      <th>image_value</th>\n",
       "      <th>image_base</th>\n",
       "    </tr>\n",
       "  </thead>\n",
       "  <tbody>\n",
       "    <tr>\n",
       "      <th>0</th>\n",
       "      <td>O1314778</td>\n",
       "      <td>S.1658-2015</td>\n",
       "      <td>costume</td>\n",
       "      <td>{'id': 'THES49318', 'displayName': 'In store', 'type': 'storage', 'site': 'BH', 'onDisplay': False, 'detail': {'free': '', 'case': '', 'shelf': '', 'box': ''}}</td>\n",
       "      <td>Costume</td>\n",
       "      <td>{'name': 'Strassner, Joe', 'association': 'designers'}</td>\n",
       "      <td>2015HV9075</td>\n",
       "      <td>1936</td>\n",
       "      <td>Great Britain</td>\n",
       "      <td>[]</td>\n",
       "      <td>{'_primary_thumbnail': 'https://framemark.vam.ac.uk/collections/2015HV9075/full/!100,100/0/default.jpg', '_iiif_image_base_url': 'https://framemark.vam.ac.uk/collections/2015HV9075/', '_iiif_presentation_url': None, 'imageResolution': 'low'}</td>\n",
       "      <td>(https://framemark.vam.ac.uk/collections/2015HV9075/full/!100,100/0/default.jpg, https://framemark.vam.ac.uk/collections/2015HV9075/, None, low)</td>\n",
       "      <td>https://framemark.vam.ac.uk/collections/2015HV9075/</td>\n",
       "    </tr>\n",
       "  </tbody>\n",
       "</table>\n",
       "</div>"
      ],
      "text/plain": [
       "  systemNumber accessionNumber objectType  \\\n",
       "0     O1314778     S.1658-2015    costume   \n",
       "\n",
       "                                                                                                                                                  _currentLocation  \\\n",
       "0  {'id': 'THES49318', 'displayName': 'In store', 'type': 'storage', 'site': 'BH', 'onDisplay': False, 'detail': {'free': '', 'case': '', 'shelf': '', 'box': ''}}   \n",
       "\n",
       "  _primaryTitle                                           _primaryMaker  \\\n",
       "0       Costume  {'name': 'Strassner, Joe', 'association': 'designers'}   \n",
       "\n",
       "  _primaryImageId _primaryDate  _primaryPlace _warningTypes  \\\n",
       "0      2015HV9075         1936  Great Britain            []   \n",
       "\n",
       "                                                                                                                                                                                                                                             _images  \\\n",
       "0  {'_primary_thumbnail': 'https://framemark.vam.ac.uk/collections/2015HV9075/full/!100,100/0/default.jpg', '_iiif_image_base_url': 'https://framemark.vam.ac.uk/collections/2015HV9075/', '_iiif_presentation_url': None, 'imageResolution': 'low'}   \n",
       "\n",
       "                                                                                                                                        image_value  \\\n",
       "0  (https://framemark.vam.ac.uk/collections/2015HV9075/full/!100,100/0/default.jpg, https://framemark.vam.ac.uk/collections/2015HV9075/, None, low)   \n",
       "\n",
       "                                            image_base  \n",
       "0  https://framemark.vam.ac.uk/collections/2015HV9075/  "
      ]
     },
     "execution_count": 28,
     "metadata": {},
     "output_type": "execute_result"
    }
   ],
   "source": [
    "df.head(1)"
   ]
  },
  {
   "cell_type": "code",
   "execution_count": 44,
   "metadata": {},
   "outputs": [],
   "source": [
    "df_test['image_value'] = df_test['_images'].map(lambda x: x.values())\n",
    "df_test['image_base'] = df_test['image_value'].map(lambda x: (list(x)[1]))"
   ]
  },
  {
   "cell_type": "markdown",
   "metadata": {},
   "source": [
    "### prototype"
   ]
  },
  {
   "cell_type": "code",
   "execution_count": null,
   "metadata": {},
   "outputs": [
    {
     "data": {
      "text/plain": [
       "Index(['systemNumber', 'accessionNumber', 'objectType', '_currentLocation',\n",
       "       '_primaryTitle', '_primaryMaker', '_primaryImageId', '_primaryDate',\n",
       "       '_primaryPlace', '_warningTypes', '_images'],\n",
       "      dtype='object')"
      ]
     },
     "execution_count": 229,
     "metadata": {},
     "output_type": "execute_result"
    }
   ],
   "source": [
    "test_sample = df.sample(1,random_state = 2333)\n",
    "test_sample.columns"
   ]
  },
  {
   "cell_type": "code",
   "execution_count": null,
   "metadata": {},
   "outputs": [],
   "source": [
    "image_url_dict = test_sample['_images'].to_dict()"
   ]
  },
  {
   "cell_type": "code",
   "execution_count": null,
   "metadata": {},
   "outputs": [],
   "source": [
    "k = list(image_url_dict.keys())\n",
    "k=k[0]"
   ]
  },
  {
   "cell_type": "code",
   "execution_count": null,
   "metadata": {},
   "outputs": [],
   "source": [
    "image_base_url = image_url_dict[k]['_iiif_image_base_url']"
   ]
  },
  {
   "cell_type": "code",
   "execution_count": null,
   "metadata": {},
   "outputs": [
    {
     "data": {
      "text/plain": [
       "'https://framemark.vam.ac.uk/collections/2011EP4395/'"
      ]
     },
     "execution_count": 235,
     "metadata": {},
     "output_type": "execute_result"
    }
   ],
   "source": [
    "image_base_url"
   ]
  },
  {
   "cell_type": "code",
   "execution_count": null,
   "metadata": {},
   "outputs": [
    {
     "data": {
      "text/plain": [
       "'https://framemark.vam.ac.uk/collections/2011EP4395/full/full/0/default.jpg'"
      ]
     },
     "execution_count": 236,
     "metadata": {},
     "output_type": "execute_result"
    }
   ],
   "source": [
    "image_download_url = image_base_url + 'full/full/0/default.jpg'\n",
    "image_download_url"
   ]
  },
  {
   "cell_type": "code",
   "execution_count": null,
   "metadata": {},
   "outputs": [
    {
     "name": "stdout",
     "output_type": "stream",
     "text": [
      "clean image/VA/O1174504.jpg\n"
     ]
    }
   ],
   "source": [
    "# get the name of the file\n",
    "# create the filepath to save the image\n",
    "dir = 'clean image/VA/'\n",
    "systemNumber = test_sample['systemNumber'].to_string(index=False)\n",
    "filepath = dir + systemNumber + '.jpg'\n",
    "\n",
    "print(filepath)"
   ]
  },
  {
   "cell_type": "code",
   "execution_count": null,
   "metadata": {},
   "outputs": [],
   "source": [
    "# save the image\n",
    "z = urllib.request.urlopen(image_download_url)\n",
    "output = open(filepath, 'wb')\n",
    "output.write(z.read())\n",
    "output.close()"
   ]
  },
  {
   "cell_type": "code",
   "execution_count": null,
   "metadata": {},
   "outputs": [
    {
     "data": {
      "text/plain": [
       "0    https://framemark.vam.ac.uk/collections/2006AP6466/\n",
       "1    https://framemark.vam.ac.uk/collections/2019LM0853/\n",
       "2    https://framemark.vam.ac.uk/collections/2019LM1011/\n",
       "Name: image_base, dtype: object"
      ]
     },
     "execution_count": 77,
     "metadata": {},
     "output_type": "execute_result"
    }
   ],
   "source": [
    "df_test['image_base']"
   ]
  },
  {
   "cell_type": "markdown",
   "metadata": {},
   "source": [
    "### define the function"
   ]
  },
  {
   "cell_type": "code",
   "execution_count": 31,
   "metadata": {},
   "outputs": [],
   "source": [
    "def download_image(dir = 'clean image/VA/', df=df):\n",
    "    start = time.time()\n",
    "    print(f'{df.shape[0]} images will be downloaded.')    \n",
    "\n",
    "    name = df['systemNumber']\n",
    "    url = df['image_base']\n",
    "    name = list(name)\n",
    "    url = list(url)\n",
    "\n",
    "    error_id = []\n",
    "    error_n = 0\n",
    "\n",
    "    # check if the folder existed\n",
    "    # if not, create the folder\n",
    "    b = os.path.exists(dir)\n",
    "    if b == False:\n",
    "        os.mkdir(dir) \n",
    "\n",
    "    for n,u in zip(name,url):\n",
    "        filename = dir + n + '.jpg'\n",
    "        uu = u + 'full/full/0/default.jpg'\n",
    "        try:\n",
    "            z = urllib.request.urlopen(uu)\n",
    "            output = open(filename, 'wb')\n",
    "            output.write(z.read())\n",
    "            output.close()\n",
    "        except:\n",
    "            error_id.append(n)\n",
    "            print(f'error id {n}')\n",
    "            error_n += 1\n",
    "            print(f'{error_n} errors in total')\n",
    "            continue\n",
    "\n",
    "    end = time.time()\n",
    "    print(f'{end - start} secs slipped...')"
   ]
  },
  {
   "cell_type": "code",
   "execution_count": 45,
   "metadata": {},
   "outputs": [
    {
     "name": "stdout",
     "output_type": "stream",
     "text": [
      "3 images will be downloaded.\n",
      "3.106887102127075 secs slipped...\n"
     ]
    }
   ],
   "source": [
    "# test\n",
    "download_image('vatest/', df_test)"
   ]
  },
  {
   "cell_type": "markdown",
   "metadata": {},
   "source": [
    "### scrape"
   ]
  },
  {
   "cell_type": "code",
   "execution_count": 33,
   "metadata": {},
   "outputs": [
    {
     "data": {
      "text/plain": [
       "(7096, 13)"
      ]
     },
     "execution_count": 33,
     "metadata": {},
     "output_type": "execute_result"
    }
   ],
   "source": [
    "df.shape"
   ]
  },
  {
   "cell_type": "code",
   "execution_count": 32,
   "metadata": {},
   "outputs": [
    {
     "name": "stdout",
     "output_type": "stream",
     "text": [
      "7096 images will be downloaded.\n",
      "9284.307857513428 secs slipped...\n"
     ]
    }
   ],
   "source": [
    "download_image('clean image/VA_sel/', df)"
   ]
  },
  {
   "cell_type": "code",
   "execution_count": 34,
   "metadata": {},
   "outputs": [],
   "source": [
    "df.to_csv(r'scrapped_data/VA_all_sel.csv', index = False)"
   ]
  },
  {
   "cell_type": "code",
   "execution_count": 35,
   "metadata": {},
   "outputs": [],
   "source": [
    "df = pd.read_csv('scrapped_data/VA_all_sel.csv') "
   ]
  },
  {
   "cell_type": "code",
   "execution_count": null,
   "metadata": {},
   "outputs": [],
   "source": []
  }
 ],
 "metadata": {
  "kernelspec": {
   "display_name": "Python 3.9.12 ('base')",
   "language": "python",
   "name": "python3"
  },
  "language_info": {
   "codemirror_mode": {
    "name": "ipython",
    "version": 3
   },
   "file_extension": ".py",
   "mimetype": "text/x-python",
   "name": "python",
   "nbconvert_exporter": "python",
   "pygments_lexer": "ipython3",
   "version": "3.9.12"
  },
  "orig_nbformat": 4,
  "vscode": {
   "interpreter": {
    "hash": "c738c5dbbe27c39534afaf60a228761ec99c842d673ea0c5f841b81d59c4efd4"
   }
  }
 },
 "nbformat": 4,
 "nbformat_minor": 2
}
