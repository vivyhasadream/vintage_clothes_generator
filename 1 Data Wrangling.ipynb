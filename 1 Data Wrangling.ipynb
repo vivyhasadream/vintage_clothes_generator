{
 "cells": [
  {
   "cell_type": "markdown",
   "metadata": {},
   "source": [
    "### setup"
   ]
  },
  {
   "cell_type": "code",
   "execution_count": 285,
   "metadata": {},
   "outputs": [],
   "source": [
    "import pandas as pd\n",
    "import time\n",
    "import datetime\n",
    "import re\n",
    "import matplotlib.pyplot as plt\n",
    "import urllib.request\n",
    "from PIL import Image\n",
    "\n",
    "# show all dataframe\n",
    "pd.set_option('display.max_colwidth', None) \n",
    "pd.set_option('display.max_columns', None)  \n",
    "\n",
    "from functions import *"
   ]
  },
  {
   "cell_type": "markdown",
   "metadata": {},
   "source": [
    "## import MET Open Access CSV\n",
    "\n",
    "The Metropolitan Museum of Art Open Access CSV <br>\n",
    "https://github.com/metmuseum/openaccess\n",
    "\n",
    "The csv is slightly different than pull directly from MET open access [API page](https://metmuseum.github.io/)<br>\n",
    "Size is slightly smaller, more features, so still worth to pull.\n",
    "\n",
    "The pulling using the API is slow, so we could use the csv to filter to get the object ID, and pull from API."
   ]
  },
  {
   "cell_type": "code",
   "execution_count": 64,
   "metadata": {},
   "outputs": [
    {
     "name": "stdout",
     "output_type": "stream",
     "text": [
      "0:00:05 slipped...\n"
     ]
    }
   ],
   "source": [
    "start_time = time.time() # start the time counter\n",
    "\n",
    "df = pd.read_csv('openaccess\\MetObjects.csv', dtype='str')\n",
    "\n",
    "time_spent = round(time.time()-start_time)\n",
    "print(f'{str(datetime.timedelta(seconds=time_spent))} slipped...') # print out the time spent"
   ]
  },
  {
   "cell_type": "markdown",
   "metadata": {},
   "source": [
    "#### basic check"
   ]
  },
  {
   "cell_type": "code",
   "execution_count": 65,
   "metadata": {},
   "outputs": [
    {
     "data": {
      "text/plain": [
       "(477804, 54)"
      ]
     },
     "execution_count": 65,
     "metadata": {},
     "output_type": "execute_result"
    }
   ],
   "source": [
    "df.shape"
   ]
  },
  {
   "cell_type": "code",
   "execution_count": 66,
   "metadata": {},
   "outputs": [
    {
     "data": {
      "text/html": [
       "<div>\n",
       "<style scoped>\n",
       "    .dataframe tbody tr th:only-of-type {\n",
       "        vertical-align: middle;\n",
       "    }\n",
       "\n",
       "    .dataframe tbody tr th {\n",
       "        vertical-align: top;\n",
       "    }\n",
       "\n",
       "    .dataframe thead th {\n",
       "        text-align: right;\n",
       "    }\n",
       "</style>\n",
       "<table border=\"1\" class=\"dataframe\">\n",
       "  <thead>\n",
       "    <tr style=\"text-align: right;\">\n",
       "      <th></th>\n",
       "      <th>Object Number</th>\n",
       "      <th>Is Highlight</th>\n",
       "      <th>Is Timeline Work</th>\n",
       "      <th>Is Public Domain</th>\n",
       "      <th>Object ID</th>\n",
       "      <th>Gallery Number</th>\n",
       "      <th>Department</th>\n",
       "      <th>AccessionYear</th>\n",
       "      <th>Object Name</th>\n",
       "      <th>Title</th>\n",
       "      <th>Culture</th>\n",
       "      <th>Period</th>\n",
       "      <th>Dynasty</th>\n",
       "      <th>Reign</th>\n",
       "      <th>Portfolio</th>\n",
       "      <th>Constituent ID</th>\n",
       "      <th>Artist Role</th>\n",
       "      <th>Artist Prefix</th>\n",
       "      <th>Artist Display Name</th>\n",
       "      <th>Artist Display Bio</th>\n",
       "      <th>Artist Suffix</th>\n",
       "      <th>Artist Alpha Sort</th>\n",
       "      <th>Artist Nationality</th>\n",
       "      <th>Artist Begin Date</th>\n",
       "      <th>Artist End Date</th>\n",
       "      <th>Artist Gender</th>\n",
       "      <th>Artist ULAN URL</th>\n",
       "      <th>Artist Wikidata URL</th>\n",
       "      <th>Object Date</th>\n",
       "      <th>Object Begin Date</th>\n",
       "      <th>Object End Date</th>\n",
       "      <th>Medium</th>\n",
       "      <th>Dimensions</th>\n",
       "      <th>Credit Line</th>\n",
       "      <th>Geography Type</th>\n",
       "      <th>City</th>\n",
       "      <th>State</th>\n",
       "      <th>County</th>\n",
       "      <th>Country</th>\n",
       "      <th>Region</th>\n",
       "      <th>Subregion</th>\n",
       "      <th>Locale</th>\n",
       "      <th>Locus</th>\n",
       "      <th>Excavation</th>\n",
       "      <th>River</th>\n",
       "      <th>Classification</th>\n",
       "      <th>Rights and Reproduction</th>\n",
       "      <th>Link Resource</th>\n",
       "      <th>Object Wikidata URL</th>\n",
       "      <th>Metadata Date</th>\n",
       "      <th>Repository</th>\n",
       "      <th>Tags</th>\n",
       "      <th>Tags AAT URL</th>\n",
       "      <th>Tags Wikidata URL</th>\n",
       "    </tr>\n",
       "  </thead>\n",
       "  <tbody>\n",
       "    <tr>\n",
       "      <th>0</th>\n",
       "      <td>1979.486.1</td>\n",
       "      <td>False</td>\n",
       "      <td>False</td>\n",
       "      <td>False</td>\n",
       "      <td>1</td>\n",
       "      <td>NaN</td>\n",
       "      <td>The American Wing</td>\n",
       "      <td>1979</td>\n",
       "      <td>Coin</td>\n",
       "      <td>One-dollar Liberty Head Coin</td>\n",
       "      <td>NaN</td>\n",
       "      <td>NaN</td>\n",
       "      <td>NaN</td>\n",
       "      <td>NaN</td>\n",
       "      <td>NaN</td>\n",
       "      <td>16429</td>\n",
       "      <td>Maker</td>\n",
       "      <td></td>\n",
       "      <td>James Barton Longacre</td>\n",
       "      <td>American, Delaware County, Pennsylvania 1794–1869 Philadelphia, Pennsylvania</td>\n",
       "      <td></td>\n",
       "      <td>Longacre, James Barton</td>\n",
       "      <td>American</td>\n",
       "      <td>1794</td>\n",
       "      <td>1869</td>\n",
       "      <td>NaN</td>\n",
       "      <td>http://vocab.getty.edu/page/ulan/500011409</td>\n",
       "      <td>https://www.wikidata.org/wiki/Q3806459</td>\n",
       "      <td>1853</td>\n",
       "      <td>1853</td>\n",
       "      <td>1853</td>\n",
       "      <td>Gold</td>\n",
       "      <td>Dimensions unavailable</td>\n",
       "      <td>Gift of Heinz L. Stoppelmann, 1979</td>\n",
       "      <td>NaN</td>\n",
       "      <td>NaN</td>\n",
       "      <td>NaN</td>\n",
       "      <td>NaN</td>\n",
       "      <td>NaN</td>\n",
       "      <td>NaN</td>\n",
       "      <td>NaN</td>\n",
       "      <td>NaN</td>\n",
       "      <td>NaN</td>\n",
       "      <td>NaN</td>\n",
       "      <td>NaN</td>\n",
       "      <td>NaN</td>\n",
       "      <td>NaN</td>\n",
       "      <td>http://www.metmuseum.org/art/collection/search/1</td>\n",
       "      <td>NaN</td>\n",
       "      <td>NaN</td>\n",
       "      <td>Metropolitan Museum of Art, New York, NY</td>\n",
       "      <td>NaN</td>\n",
       "      <td>NaN</td>\n",
       "      <td>NaN</td>\n",
       "    </tr>\n",
       "    <tr>\n",
       "      <th>1</th>\n",
       "      <td>1980.264.5</td>\n",
       "      <td>False</td>\n",
       "      <td>False</td>\n",
       "      <td>False</td>\n",
       "      <td>2</td>\n",
       "      <td>NaN</td>\n",
       "      <td>The American Wing</td>\n",
       "      <td>1980</td>\n",
       "      <td>Coin</td>\n",
       "      <td>Ten-dollar Liberty Head Coin</td>\n",
       "      <td>NaN</td>\n",
       "      <td>NaN</td>\n",
       "      <td>NaN</td>\n",
       "      <td>NaN</td>\n",
       "      <td>NaN</td>\n",
       "      <td>107</td>\n",
       "      <td>Maker</td>\n",
       "      <td></td>\n",
       "      <td>Christian Gobrecht</td>\n",
       "      <td>1785–1844</td>\n",
       "      <td></td>\n",
       "      <td>Gobrecht, Christian</td>\n",
       "      <td></td>\n",
       "      <td>1785</td>\n",
       "      <td>1844</td>\n",
       "      <td>NaN</td>\n",
       "      <td>http://vocab.getty.edu/page/ulan/500077295</td>\n",
       "      <td>https://www.wikidata.org/wiki/Q5109648</td>\n",
       "      <td>1901</td>\n",
       "      <td>1901</td>\n",
       "      <td>1901</td>\n",
       "      <td>Gold</td>\n",
       "      <td>Dimensions unavailable</td>\n",
       "      <td>Gift of Heinz L. Stoppelmann, 1980</td>\n",
       "      <td>NaN</td>\n",
       "      <td>NaN</td>\n",
       "      <td>NaN</td>\n",
       "      <td>NaN</td>\n",
       "      <td>NaN</td>\n",
       "      <td>NaN</td>\n",
       "      <td>NaN</td>\n",
       "      <td>NaN</td>\n",
       "      <td>NaN</td>\n",
       "      <td>NaN</td>\n",
       "      <td>NaN</td>\n",
       "      <td>NaN</td>\n",
       "      <td>NaN</td>\n",
       "      <td>http://www.metmuseum.org/art/collection/search/2</td>\n",
       "      <td>NaN</td>\n",
       "      <td>NaN</td>\n",
       "      <td>Metropolitan Museum of Art, New York, NY</td>\n",
       "      <td>NaN</td>\n",
       "      <td>NaN</td>\n",
       "      <td>NaN</td>\n",
       "    </tr>\n",
       "    <tr>\n",
       "      <th>2</th>\n",
       "      <td>67.265.9</td>\n",
       "      <td>False</td>\n",
       "      <td>False</td>\n",
       "      <td>False</td>\n",
       "      <td>3</td>\n",
       "      <td>NaN</td>\n",
       "      <td>The American Wing</td>\n",
       "      <td>1967</td>\n",
       "      <td>Coin</td>\n",
       "      <td>Two-and-a-Half Dollar Coin</td>\n",
       "      <td>NaN</td>\n",
       "      <td>NaN</td>\n",
       "      <td>NaN</td>\n",
       "      <td>NaN</td>\n",
       "      <td>NaN</td>\n",
       "      <td>NaN</td>\n",
       "      <td>NaN</td>\n",
       "      <td>NaN</td>\n",
       "      <td>NaN</td>\n",
       "      <td>NaN</td>\n",
       "      <td>NaN</td>\n",
       "      <td>NaN</td>\n",
       "      <td>NaN</td>\n",
       "      <td>NaN</td>\n",
       "      <td>NaN</td>\n",
       "      <td>NaN</td>\n",
       "      <td>NaN</td>\n",
       "      <td>NaN</td>\n",
       "      <td>1909–27</td>\n",
       "      <td>1909</td>\n",
       "      <td>1927</td>\n",
       "      <td>Gold</td>\n",
       "      <td>Diam. 11/16 in. (1.7 cm)</td>\n",
       "      <td>Gift of C. Ruxton Love Jr., 1967</td>\n",
       "      <td>NaN</td>\n",
       "      <td>NaN</td>\n",
       "      <td>NaN</td>\n",
       "      <td>NaN</td>\n",
       "      <td>NaN</td>\n",
       "      <td>NaN</td>\n",
       "      <td>NaN</td>\n",
       "      <td>NaN</td>\n",
       "      <td>NaN</td>\n",
       "      <td>NaN</td>\n",
       "      <td>NaN</td>\n",
       "      <td>NaN</td>\n",
       "      <td>NaN</td>\n",
       "      <td>http://www.metmuseum.org/art/collection/search/3</td>\n",
       "      <td>NaN</td>\n",
       "      <td>NaN</td>\n",
       "      <td>Metropolitan Museum of Art, New York, NY</td>\n",
       "      <td>NaN</td>\n",
       "      <td>NaN</td>\n",
       "      <td>NaN</td>\n",
       "    </tr>\n",
       "  </tbody>\n",
       "</table>\n",
       "</div>"
      ],
      "text/plain": [
       "  Object Number Is Highlight Is Timeline Work Is Public Domain Object ID  \\\n",
       "0    1979.486.1        False            False            False         1   \n",
       "1    1980.264.5        False            False            False         2   \n",
       "2      67.265.9        False            False            False         3   \n",
       "\n",
       "  Gallery Number         Department AccessionYear Object Name  \\\n",
       "0            NaN  The American Wing          1979        Coin   \n",
       "1            NaN  The American Wing          1980        Coin   \n",
       "2            NaN  The American Wing          1967        Coin   \n",
       "\n",
       "                          Title Culture Period Dynasty Reign Portfolio  \\\n",
       "0  One-dollar Liberty Head Coin     NaN    NaN     NaN   NaN       NaN   \n",
       "1  Ten-dollar Liberty Head Coin     NaN    NaN     NaN   NaN       NaN   \n",
       "2    Two-and-a-Half Dollar Coin     NaN    NaN     NaN   NaN       NaN   \n",
       "\n",
       "  Constituent ID Artist Role Artist Prefix    Artist Display Name  \\\n",
       "0          16429       Maker                James Barton Longacre   \n",
       "1            107       Maker                   Christian Gobrecht   \n",
       "2            NaN         NaN           NaN                    NaN   \n",
       "\n",
       "                                                             Artist Display Bio  \\\n",
       "0  American, Delaware County, Pennsylvania 1794–1869 Philadelphia, Pennsylvania   \n",
       "1                                                                     1785–1844   \n",
       "2                                                                           NaN   \n",
       "\n",
       "  Artist Suffix       Artist Alpha Sort Artist Nationality Artist Begin Date  \\\n",
       "0                Longacre, James Barton           American        1794         \n",
       "1                   Gobrecht, Christian                           1785         \n",
       "2           NaN                     NaN                NaN               NaN   \n",
       "\n",
       "  Artist End Date Artist Gender                             Artist ULAN URL  \\\n",
       "0      1869                 NaN  http://vocab.getty.edu/page/ulan/500011409   \n",
       "1      1844                 NaN  http://vocab.getty.edu/page/ulan/500077295   \n",
       "2             NaN           NaN                                         NaN   \n",
       "\n",
       "                      Artist Wikidata URL Object Date Object Begin Date  \\\n",
       "0  https://www.wikidata.org/wiki/Q3806459        1853              1853   \n",
       "1  https://www.wikidata.org/wiki/Q5109648        1901              1901   \n",
       "2                                     NaN     1909–27              1909   \n",
       "\n",
       "  Object End Date Medium                Dimensions  \\\n",
       "0            1853   Gold    Dimensions unavailable   \n",
       "1            1901   Gold    Dimensions unavailable   \n",
       "2            1927   Gold  Diam. 11/16 in. (1.7 cm)   \n",
       "\n",
       "                          Credit Line Geography Type City State County  \\\n",
       "0  Gift of Heinz L. Stoppelmann, 1979            NaN  NaN   NaN    NaN   \n",
       "1  Gift of Heinz L. Stoppelmann, 1980            NaN  NaN   NaN    NaN   \n",
       "2    Gift of C. Ruxton Love Jr., 1967            NaN  NaN   NaN    NaN   \n",
       "\n",
       "  Country Region Subregion Locale Locus Excavation River Classification  \\\n",
       "0     NaN    NaN       NaN    NaN   NaN        NaN   NaN            NaN   \n",
       "1     NaN    NaN       NaN    NaN   NaN        NaN   NaN            NaN   \n",
       "2     NaN    NaN       NaN    NaN   NaN        NaN   NaN            NaN   \n",
       "\n",
       "  Rights and Reproduction                                     Link Resource  \\\n",
       "0                     NaN  http://www.metmuseum.org/art/collection/search/1   \n",
       "1                     NaN  http://www.metmuseum.org/art/collection/search/2   \n",
       "2                     NaN  http://www.metmuseum.org/art/collection/search/3   \n",
       "\n",
       "  Object Wikidata URL Metadata Date                                Repository  \\\n",
       "0                 NaN           NaN  Metropolitan Museum of Art, New York, NY   \n",
       "1                 NaN           NaN  Metropolitan Museum of Art, New York, NY   \n",
       "2                 NaN           NaN  Metropolitan Museum of Art, New York, NY   \n",
       "\n",
       "  Tags Tags AAT URL Tags Wikidata URL  \n",
       "0  NaN          NaN               NaN  \n",
       "1  NaN          NaN               NaN  \n",
       "2  NaN          NaN               NaN  "
      ]
     },
     "execution_count": 66,
     "metadata": {},
     "output_type": "execute_result"
    }
   ],
   "source": [
    "df.head(3)"
   ]
  },
  {
   "cell_type": "code",
   "execution_count": 176,
   "metadata": {},
   "outputs": [
    {
     "data": {
      "text/html": [
       "<div>\n",
       "<style scoped>\n",
       "    .dataframe tbody tr th:only-of-type {\n",
       "        vertical-align: middle;\n",
       "    }\n",
       "\n",
       "    .dataframe tbody tr th {\n",
       "        vertical-align: top;\n",
       "    }\n",
       "\n",
       "    .dataframe thead th {\n",
       "        text-align: right;\n",
       "    }\n",
       "</style>\n",
       "<table border=\"1\" class=\"dataframe\">\n",
       "  <thead>\n",
       "    <tr style=\"text-align: right;\">\n",
       "      <th></th>\n",
       "      <th>Object Number</th>\n",
       "      <th>Is Highlight</th>\n",
       "      <th>Is Timeline Work</th>\n",
       "      <th>Is Public Domain</th>\n",
       "      <th>Object ID</th>\n",
       "      <th>Gallery Number</th>\n",
       "      <th>Department</th>\n",
       "      <th>AccessionYear</th>\n",
       "      <th>Object Name</th>\n",
       "      <th>Title</th>\n",
       "      <th>Culture</th>\n",
       "      <th>Period</th>\n",
       "      <th>Dynasty</th>\n",
       "      <th>Reign</th>\n",
       "      <th>Portfolio</th>\n",
       "      <th>Constituent ID</th>\n",
       "      <th>Artist Role</th>\n",
       "      <th>Artist Prefix</th>\n",
       "      <th>Artist Display Name</th>\n",
       "      <th>Artist Display Bio</th>\n",
       "      <th>Artist Suffix</th>\n",
       "      <th>Artist Alpha Sort</th>\n",
       "      <th>Artist Nationality</th>\n",
       "      <th>Artist Begin Date</th>\n",
       "      <th>Artist End Date</th>\n",
       "      <th>Artist Gender</th>\n",
       "      <th>Artist ULAN URL</th>\n",
       "      <th>Artist Wikidata URL</th>\n",
       "      <th>Object Date</th>\n",
       "      <th>Object Begin Date</th>\n",
       "      <th>Object End Date</th>\n",
       "      <th>Medium</th>\n",
       "      <th>Dimensions</th>\n",
       "      <th>Credit Line</th>\n",
       "      <th>Geography Type</th>\n",
       "      <th>City</th>\n",
       "      <th>State</th>\n",
       "      <th>County</th>\n",
       "      <th>Country</th>\n",
       "      <th>Region</th>\n",
       "      <th>Subregion</th>\n",
       "      <th>Locale</th>\n",
       "      <th>Locus</th>\n",
       "      <th>Excavation</th>\n",
       "      <th>River</th>\n",
       "      <th>Classification</th>\n",
       "      <th>Rights and Reproduction</th>\n",
       "      <th>Link Resource</th>\n",
       "      <th>Object Wikidata URL</th>\n",
       "      <th>Metadata Date</th>\n",
       "      <th>Repository</th>\n",
       "      <th>Tags</th>\n",
       "      <th>Tags AAT URL</th>\n",
       "      <th>Tags Wikidata URL</th>\n",
       "    </tr>\n",
       "  </thead>\n",
       "  <tbody>\n",
       "    <tr>\n",
       "      <th>38935</th>\n",
       "      <td>1975.283.1</td>\n",
       "      <td>False</td>\n",
       "      <td>False</td>\n",
       "      <td>True</td>\n",
       "      <td>45189</td>\n",
       "      <td>NaN</td>\n",
       "      <td>Asian Art</td>\n",
       "      <td>1975</td>\n",
       "      <td>Robe</td>\n",
       "      <td>NaN</td>\n",
       "      <td>Japan</td>\n",
       "      <td>NaN</td>\n",
       "      <td>NaN</td>\n",
       "      <td>NaN</td>\n",
       "      <td>NaN</td>\n",
       "      <td>NaN</td>\n",
       "      <td>NaN</td>\n",
       "      <td>NaN</td>\n",
       "      <td>NaN</td>\n",
       "      <td>NaN</td>\n",
       "      <td>NaN</td>\n",
       "      <td>NaN</td>\n",
       "      <td>NaN</td>\n",
       "      <td>NaN</td>\n",
       "      <td>NaN</td>\n",
       "      <td>NaN</td>\n",
       "      <td>NaN</td>\n",
       "      <td>NaN</td>\n",
       "      <td>19th century</td>\n",
       "      <td>1800</td>\n",
       "      <td>1899</td>\n",
       "      <td>Silk satin with supplementary weft patterning in silk and metallic thread</td>\n",
       "      <td>Overall: 43 1/2 x 80 1/2 in. (110.5 x 204.5 cm)</td>\n",
       "      <td>Gift of Arthur M. Crocker and William R. Crocker, 1975</td>\n",
       "      <td>NaN</td>\n",
       "      <td>NaN</td>\n",
       "      <td>NaN</td>\n",
       "      <td>NaN</td>\n",
       "      <td>NaN</td>\n",
       "      <td>NaN</td>\n",
       "      <td>NaN</td>\n",
       "      <td>NaN</td>\n",
       "      <td>NaN</td>\n",
       "      <td>NaN</td>\n",
       "      <td>NaN</td>\n",
       "      <td>Costumes</td>\n",
       "      <td>NaN</td>\n",
       "      <td>http://www.metmuseum.org/art/collection/search/45189</td>\n",
       "      <td>NaN</td>\n",
       "      <td>NaN</td>\n",
       "      <td>Metropolitan Museum of Art, New York, NY</td>\n",
       "      <td>Robes|Flowers</td>\n",
       "      <td>http://vocab.getty.edu/page/aat/300209852|http://vocab.getty.edu/page/aat/300132399</td>\n",
       "      <td>https://www.wikidata.org/wiki/Q345127|https://www.wikidata.org/wiki/Q506</td>\n",
       "    </tr>\n",
       "  </tbody>\n",
       "</table>\n",
       "</div>"
      ],
      "text/plain": [
       "      Object Number Is Highlight Is Timeline Work Is Public Domain Object ID  \\\n",
       "38935    1975.283.1        False            False             True     45189   \n",
       "\n",
       "      Gallery Number Department AccessionYear Object Name Title Culture  \\\n",
       "38935            NaN  Asian Art          1975        Robe   NaN   Japan   \n",
       "\n",
       "      Period Dynasty Reign Portfolio Constituent ID Artist Role Artist Prefix  \\\n",
       "38935    NaN     NaN   NaN       NaN            NaN         NaN           NaN   \n",
       "\n",
       "      Artist Display Name Artist Display Bio Artist Suffix Artist Alpha Sort  \\\n",
       "38935                 NaN                NaN           NaN               NaN   \n",
       "\n",
       "      Artist Nationality Artist Begin Date Artist End Date Artist Gender  \\\n",
       "38935                NaN               NaN             NaN           NaN   \n",
       "\n",
       "      Artist ULAN URL Artist Wikidata URL   Object Date Object Begin Date  \\\n",
       "38935             NaN                 NaN  19th century              1800   \n",
       "\n",
       "      Object End Date  \\\n",
       "38935            1899   \n",
       "\n",
       "                                                                          Medium  \\\n",
       "38935  Silk satin with supplementary weft patterning in silk and metallic thread   \n",
       "\n",
       "                                            Dimensions  \\\n",
       "38935  Overall: 43 1/2 x 80 1/2 in. (110.5 x 204.5 cm)   \n",
       "\n",
       "                                                  Credit Line Geography Type  \\\n",
       "38935  Gift of Arthur M. Crocker and William R. Crocker, 1975            NaN   \n",
       "\n",
       "      City State County Country Region Subregion Locale Locus Excavation  \\\n",
       "38935  NaN   NaN    NaN     NaN    NaN       NaN    NaN   NaN        NaN   \n",
       "\n",
       "      River Classification Rights and Reproduction  \\\n",
       "38935   NaN       Costumes                     NaN   \n",
       "\n",
       "                                              Link Resource  \\\n",
       "38935  http://www.metmuseum.org/art/collection/search/45189   \n",
       "\n",
       "      Object Wikidata URL Metadata Date  \\\n",
       "38935                 NaN           NaN   \n",
       "\n",
       "                                     Repository           Tags  \\\n",
       "38935  Metropolitan Museum of Art, New York, NY  Robes|Flowers   \n",
       "\n",
       "                                                                              Tags AAT URL  \\\n",
       "38935  http://vocab.getty.edu/page/aat/300209852|http://vocab.getty.edu/page/aat/300132399   \n",
       "\n",
       "                                                              Tags Wikidata URL  \n",
       "38935  https://www.wikidata.org/wiki/Q345127|https://www.wikidata.org/wiki/Q506  "
      ]
     },
     "execution_count": 176,
     "metadata": {},
     "output_type": "execute_result"
    }
   ],
   "source": [
    "df[df['Object ID']=='45189']"
   ]
  },
  {
   "cell_type": "code",
   "execution_count": 67,
   "metadata": {},
   "outputs": [
    {
     "name": "stdout",
     "output_type": "stream",
     "text": [
      "<class 'pandas.core.frame.DataFrame'>\n",
      "RangeIndex: 477804 entries, 0 to 477803\n",
      "Data columns (total 54 columns):\n",
      " #   Column                   Non-Null Count   Dtype \n",
      "---  ------                   --------------   ----- \n",
      " 0   Object Number            477804 non-null  object\n",
      " 1   Is Highlight             477804 non-null  object\n",
      " 2   Is Timeline Work         477804 non-null  object\n",
      " 3   Is Public Domain         477804 non-null  object\n",
      " 4   Object ID                477804 non-null  object\n",
      " 5   Gallery Number           51776 non-null   object\n",
      " 6   Department               477804 non-null  object\n",
      " 7   AccessionYear            474248 non-null  object\n",
      " 8   Object Name              476113 non-null  object\n",
      " 9   Title                    448619 non-null  object\n",
      " 10  Culture                  207379 non-null  object\n",
      " 11  Period                   90956 non-null   object\n",
      " 12  Dynasty                  23233 non-null   object\n",
      " 13  Reign                    11226 non-null   object\n",
      " 14  Portfolio                23530 non-null   object\n",
      " 15  Constituent ID           275535 non-null  object\n",
      " 16  Artist Role              273436 non-null  object\n",
      " 17  Artist Prefix            275535 non-null  object\n",
      " 18  Artist Display Name      275535 non-null  object\n",
      " 19  Artist Display Bio       273436 non-null  object\n",
      " 20  Artist Suffix            275487 non-null  object\n",
      " 21  Artist Alpha Sort        275535 non-null  object\n",
      " 22  Artist Nationality       275535 non-null  object\n",
      " 23  Artist Begin Date        275535 non-null  object\n",
      " 24  Artist End Date          275535 non-null  object\n",
      " 25  Artist Gender            103061 non-null  object\n",
      " 26  Artist ULAN URL          222021 non-null  object\n",
      " 27  Artist Wikidata URL      217732 non-null  object\n",
      " 28  Object Date              463937 non-null  object\n",
      " 29  Object Begin Date        477804 non-null  object\n",
      " 30  Object End Date          477804 non-null  object\n",
      " 31  Medium                   470684 non-null  object\n",
      " 32  Dimensions               402510 non-null  object\n",
      " 33  Credit Line              477353 non-null  object\n",
      " 34  Geography Type           59769 non-null   object\n",
      " 35  City                     32407 non-null   object\n",
      " 36  State                    2550 non-null    object\n",
      " 37  County                   8450 non-null    object\n",
      " 38  Country                  75751 non-null   object\n",
      " 39  Region                   31360 non-null   object\n",
      " 40  Subregion                22124 non-null   object\n",
      " 41  Locale                   15709 non-null   object\n",
      " 42  Locus                    7493 non-null    object\n",
      " 43  Excavation               16558 non-null   object\n",
      " 44  River                    2095 non-null    object\n",
      " 45  Classification           399598 non-null  object\n",
      " 46  Rights and Reproduction  24198 non-null   object\n",
      " 47  Link Resource            477804 non-null  object\n",
      " 48  Object Wikidata URL      22265 non-null   object\n",
      " 49  Metadata Date            0 non-null       object\n",
      " 50  Repository               477804 non-null  object\n",
      " 51  Tags                     200400 non-null  object\n",
      " 52  Tags AAT URL             200400 non-null  object\n",
      " 53  Tags Wikidata URL        200400 non-null  object\n",
      "dtypes: object(54)\n",
      "memory usage: 196.8+ MB\n"
     ]
    }
   ],
   "source": [
    "df.info()"
   ]
  },
  {
   "cell_type": "markdown",
   "metadata": {},
   "source": [
    "#### check to pick a way to filter the clothing"
   ]
  },
  {
   "cell_type": "code",
   "execution_count": 68,
   "metadata": {},
   "outputs": [
    {
     "data": {
      "text/plain": [
       "Drawings and Prints                          0.349834\n",
       "European Sculpture and Decorative Arts       0.089857\n",
       "Photographs                                  0.077839\n",
       "Asian Art                                    0.077055\n",
       "Greek and Roman Art                          0.070636\n",
       "Costume Institute                            0.065742\n",
       "Egyptian Art                                 0.058522\n",
       "The American Wing                            0.038535\n",
       "Islamic Art                                  0.032384\n",
       "Modern and Contemporary Art                  0.029805\n",
       "Arms and Armor                               0.028487\n",
       "Arts of Africa, Oceania, and the Americas    0.025816\n",
       "Medieval Art                                 0.014964\n",
       "Ancient Near Eastern Art                     0.013022\n",
       "Musical Instruments                          0.010904\n",
       "European Paintings                           0.005477\n",
       "Robert Lehman Collection                     0.005412\n",
       "The Cloisters                                0.004893\n",
       "The Libraries                                0.000816\n",
       "Name: Department, dtype: float64"
      ]
     },
     "execution_count": 68,
     "metadata": {},
     "output_type": "execute_result"
    }
   ],
   "source": [
    "df['Department'].value_counts(normalize=True)"
   ]
  },
  {
   "cell_type": "code",
   "execution_count": 82,
   "metadata": {},
   "outputs": [
    {
     "data": {
      "text/plain": [
       "19"
      ]
     },
     "execution_count": 82,
     "metadata": {},
     "output_type": "execute_result"
    }
   ],
   "source": [
    "df['Department'].nunique() # 19 department"
   ]
  },
  {
   "cell_type": "code",
   "execution_count": 71,
   "metadata": {},
   "outputs": [
    {
     "data": {
      "text/plain": [
       "Prints                           0.202656\n",
       "Prints|Ephemera                  0.071041\n",
       "Photographs                      0.067796\n",
       "Drawings                         0.056850\n",
       "Vases                            0.053341\n",
       "                                   ...   \n",
       "Ornament & Architecture|Books    0.000003\n",
       "Albums|Books                     0.000003\n",
       "Albums|Drawings|Sketchbooks      0.000003\n",
       "Paper-Graphics-Inscribed         0.000003\n",
       "Ephemera|Postcards               0.000003\n",
       "Name: Classification, Length: 1212, dtype: float64"
      ]
     },
     "execution_count": 71,
     "metadata": {},
     "output_type": "execute_result"
    }
   ],
   "source": [
    "df['Classification'].value_counts(normalize=True) # too many, not a good choice"
   ]
  },
  {
   "cell_type": "code",
   "execution_count": 72,
   "metadata": {},
   "outputs": [
    {
     "data": {
      "text/plain": [
       "Print                                           0.208856\n",
       "Photograph                                      0.059772\n",
       "Drawing                                         0.054164\n",
       "Book                                            0.028130\n",
       "Fragment                                        0.020092\n",
       "                                                  ...   \n",
       "Mastos                                          0.000002\n",
       "Rhyton in the form of a cow's head, fragment    0.000002\n",
       "Strainer for wine                               0.000002\n",
       "Helmet attachment                               0.000002\n",
       "Ephemera; postcard                              0.000002\n",
       "Name: Object Name, Length: 28449, dtype: float64"
      ]
     },
     "execution_count": 72,
     "metadata": {},
     "output_type": "execute_result"
    }
   ],
   "source": [
    "df['Object Name'].value_counts(normalize=True) # too many, not a good choice"
   ]
  },
  {
   "cell_type": "markdown",
   "metadata": {},
   "source": [
    "#### use manully picked title keywords "
   ]
  },
  {
   "cell_type": "code",
   "execution_count": 107,
   "metadata": {},
   "outputs": [
    {
     "data": {
      "text/plain": [
       "29185"
      ]
     },
     "execution_count": 107,
     "metadata": {},
     "output_type": "execute_result"
    }
   ],
   "source": [
    "df['Title'].isna().sum()"
   ]
  },
  {
   "cell_type": "code",
   "execution_count": 113,
   "metadata": {},
   "outputs": [
    {
     "data": {
      "text/plain": [
       "1691"
      ]
     },
     "execution_count": 113,
     "metadata": {},
     "output_type": "execute_result"
    }
   ],
   "source": [
    "df['Object Name'].isna().sum()"
   ]
  },
  {
   "cell_type": "markdown",
   "metadata": {},
   "source": [
    "#### test function"
   ]
  },
  {
   "cell_type": "code",
   "execution_count": 195,
   "metadata": {},
   "outputs": [],
   "source": [
    "df_title_pick = df[df['Title'].isna() == False]"
   ]
  },
  {
   "cell_type": "code",
   "execution_count": 212,
   "metadata": {},
   "outputs": [],
   "source": [
    "df_temp = df_object_pick[df_object_pick['Object Name'].str.contains('robe',case=False)]"
   ]
  },
  {
   "cell_type": "code",
   "execution_count": 204,
   "metadata": {},
   "outputs": [
    {
     "data": {
      "text/html": [
       "<div>\n",
       "<style scoped>\n",
       "    .dataframe tbody tr th:only-of-type {\n",
       "        vertical-align: middle;\n",
       "    }\n",
       "\n",
       "    .dataframe tbody tr th {\n",
       "        vertical-align: top;\n",
       "    }\n",
       "\n",
       "    .dataframe thead th {\n",
       "        text-align: right;\n",
       "    }\n",
       "</style>\n",
       "<table border=\"1\" class=\"dataframe\">\n",
       "  <thead>\n",
       "    <tr style=\"text-align: right;\">\n",
       "      <th></th>\n",
       "      <th>Object Number</th>\n",
       "      <th>Is Highlight</th>\n",
       "      <th>Is Timeline Work</th>\n",
       "      <th>Is Public Domain</th>\n",
       "      <th>Object ID</th>\n",
       "      <th>Gallery Number</th>\n",
       "      <th>Department</th>\n",
       "      <th>AccessionYear</th>\n",
       "      <th>Object Name</th>\n",
       "      <th>Title</th>\n",
       "      <th>Culture</th>\n",
       "      <th>Period</th>\n",
       "      <th>Dynasty</th>\n",
       "      <th>Reign</th>\n",
       "      <th>Portfolio</th>\n",
       "      <th>Constituent ID</th>\n",
       "      <th>Artist Role</th>\n",
       "      <th>Artist Prefix</th>\n",
       "      <th>Artist Display Name</th>\n",
       "      <th>Artist Display Bio</th>\n",
       "      <th>Artist Suffix</th>\n",
       "      <th>Artist Alpha Sort</th>\n",
       "      <th>Artist Nationality</th>\n",
       "      <th>Artist Begin Date</th>\n",
       "      <th>Artist End Date</th>\n",
       "      <th>Artist Gender</th>\n",
       "      <th>Artist ULAN URL</th>\n",
       "      <th>Artist Wikidata URL</th>\n",
       "      <th>Object Date</th>\n",
       "      <th>Object Begin Date</th>\n",
       "      <th>Object End Date</th>\n",
       "      <th>Medium</th>\n",
       "      <th>Dimensions</th>\n",
       "      <th>Credit Line</th>\n",
       "      <th>Geography Type</th>\n",
       "      <th>City</th>\n",
       "      <th>State</th>\n",
       "      <th>County</th>\n",
       "      <th>Country</th>\n",
       "      <th>Region</th>\n",
       "      <th>Subregion</th>\n",
       "      <th>Locale</th>\n",
       "      <th>Locus</th>\n",
       "      <th>Excavation</th>\n",
       "      <th>River</th>\n",
       "      <th>Classification</th>\n",
       "      <th>Rights and Reproduction</th>\n",
       "      <th>Link Resource</th>\n",
       "      <th>Object Wikidata URL</th>\n",
       "      <th>Metadata Date</th>\n",
       "      <th>Repository</th>\n",
       "      <th>Tags</th>\n",
       "      <th>Tags AAT URL</th>\n",
       "      <th>Tags Wikidata URL</th>\n",
       "    </tr>\n",
       "  </thead>\n",
       "  <tbody>\n",
       "    <tr>\n",
       "      <th>38935</th>\n",
       "      <td>1975.283.1</td>\n",
       "      <td>False</td>\n",
       "      <td>False</td>\n",
       "      <td>True</td>\n",
       "      <td>45189</td>\n",
       "      <td>NaN</td>\n",
       "      <td>Asian Art</td>\n",
       "      <td>1975</td>\n",
       "      <td>Robe</td>\n",
       "      <td>NaN</td>\n",
       "      <td>Japan</td>\n",
       "      <td>NaN</td>\n",
       "      <td>NaN</td>\n",
       "      <td>NaN</td>\n",
       "      <td>NaN</td>\n",
       "      <td>NaN</td>\n",
       "      <td>NaN</td>\n",
       "      <td>NaN</td>\n",
       "      <td>NaN</td>\n",
       "      <td>NaN</td>\n",
       "      <td>NaN</td>\n",
       "      <td>NaN</td>\n",
       "      <td>NaN</td>\n",
       "      <td>NaN</td>\n",
       "      <td>NaN</td>\n",
       "      <td>NaN</td>\n",
       "      <td>NaN</td>\n",
       "      <td>NaN</td>\n",
       "      <td>19th century</td>\n",
       "      <td>1800</td>\n",
       "      <td>1899</td>\n",
       "      <td>Silk satin with supplementary weft patterning in silk and metallic thread</td>\n",
       "      <td>Overall: 43 1/2 x 80 1/2 in. (110.5 x 204.5 cm)</td>\n",
       "      <td>Gift of Arthur M. Crocker and William R. Crocker, 1975</td>\n",
       "      <td>NaN</td>\n",
       "      <td>NaN</td>\n",
       "      <td>NaN</td>\n",
       "      <td>NaN</td>\n",
       "      <td>NaN</td>\n",
       "      <td>NaN</td>\n",
       "      <td>NaN</td>\n",
       "      <td>NaN</td>\n",
       "      <td>NaN</td>\n",
       "      <td>NaN</td>\n",
       "      <td>NaN</td>\n",
       "      <td>Costumes</td>\n",
       "      <td>NaN</td>\n",
       "      <td>http://www.metmuseum.org/art/collection/search/45189</td>\n",
       "      <td>NaN</td>\n",
       "      <td>NaN</td>\n",
       "      <td>Metropolitan Museum of Art, New York, NY</td>\n",
       "      <td>Robes|Flowers</td>\n",
       "      <td>http://vocab.getty.edu/page/aat/300209852|http://vocab.getty.edu/page/aat/300132399</td>\n",
       "      <td>https://www.wikidata.org/wiki/Q345127|https://www.wikidata.org/wiki/Q506</td>\n",
       "    </tr>\n",
       "  </tbody>\n",
       "</table>\n",
       "</div>"
      ],
      "text/plain": [
       "      Object Number Is Highlight Is Timeline Work Is Public Domain Object ID  \\\n",
       "38935    1975.283.1        False            False             True     45189   \n",
       "\n",
       "      Gallery Number Department AccessionYear Object Name Title Culture  \\\n",
       "38935            NaN  Asian Art          1975        Robe   NaN   Japan   \n",
       "\n",
       "      Period Dynasty Reign Portfolio Constituent ID Artist Role Artist Prefix  \\\n",
       "38935    NaN     NaN   NaN       NaN            NaN         NaN           NaN   \n",
       "\n",
       "      Artist Display Name Artist Display Bio Artist Suffix Artist Alpha Sort  \\\n",
       "38935                 NaN                NaN           NaN               NaN   \n",
       "\n",
       "      Artist Nationality Artist Begin Date Artist End Date Artist Gender  \\\n",
       "38935                NaN               NaN             NaN           NaN   \n",
       "\n",
       "      Artist ULAN URL Artist Wikidata URL   Object Date Object Begin Date  \\\n",
       "38935             NaN                 NaN  19th century              1800   \n",
       "\n",
       "      Object End Date  \\\n",
       "38935            1899   \n",
       "\n",
       "                                                                          Medium  \\\n",
       "38935  Silk satin with supplementary weft patterning in silk and metallic thread   \n",
       "\n",
       "                                            Dimensions  \\\n",
       "38935  Overall: 43 1/2 x 80 1/2 in. (110.5 x 204.5 cm)   \n",
       "\n",
       "                                                  Credit Line Geography Type  \\\n",
       "38935  Gift of Arthur M. Crocker and William R. Crocker, 1975            NaN   \n",
       "\n",
       "      City State County Country Region Subregion Locale Locus Excavation  \\\n",
       "38935  NaN   NaN    NaN     NaN    NaN       NaN    NaN   NaN        NaN   \n",
       "\n",
       "      River Classification Rights and Reproduction  \\\n",
       "38935   NaN       Costumes                     NaN   \n",
       "\n",
       "                                              Link Resource  \\\n",
       "38935  http://www.metmuseum.org/art/collection/search/45189   \n",
       "\n",
       "      Object Wikidata URL Metadata Date  \\\n",
       "38935                 NaN           NaN   \n",
       "\n",
       "                                     Repository           Tags  \\\n",
       "38935  Metropolitan Museum of Art, New York, NY  Robes|Flowers   \n",
       "\n",
       "                                                                              Tags AAT URL  \\\n",
       "38935  http://vocab.getty.edu/page/aat/300209852|http://vocab.getty.edu/page/aat/300132399   \n",
       "\n",
       "                                                              Tags Wikidata URL  \n",
       "38935  https://www.wikidata.org/wiki/Q345127|https://www.wikidata.org/wiki/Q506  "
      ]
     },
     "execution_count": 204,
     "metadata": {},
     "output_type": "execute_result"
    }
   ],
   "source": [
    "df[df['Object ID']=='45189']"
   ]
  },
  {
   "cell_type": "code",
   "execution_count": 213,
   "metadata": {},
   "outputs": [
    {
     "data": {
      "text/html": [
       "<div>\n",
       "<style scoped>\n",
       "    .dataframe tbody tr th:only-of-type {\n",
       "        vertical-align: middle;\n",
       "    }\n",
       "\n",
       "    .dataframe tbody tr th {\n",
       "        vertical-align: top;\n",
       "    }\n",
       "\n",
       "    .dataframe thead th {\n",
       "        text-align: right;\n",
       "    }\n",
       "</style>\n",
       "<table border=\"1\" class=\"dataframe\">\n",
       "  <thead>\n",
       "    <tr style=\"text-align: right;\">\n",
       "      <th></th>\n",
       "      <th>Object Number</th>\n",
       "      <th>Is Highlight</th>\n",
       "      <th>Is Timeline Work</th>\n",
       "      <th>Is Public Domain</th>\n",
       "      <th>Object ID</th>\n",
       "      <th>Gallery Number</th>\n",
       "      <th>Department</th>\n",
       "      <th>AccessionYear</th>\n",
       "      <th>Object Name</th>\n",
       "      <th>Title</th>\n",
       "      <th>Culture</th>\n",
       "      <th>Period</th>\n",
       "      <th>Dynasty</th>\n",
       "      <th>Reign</th>\n",
       "      <th>Portfolio</th>\n",
       "      <th>Constituent ID</th>\n",
       "      <th>Artist Role</th>\n",
       "      <th>Artist Prefix</th>\n",
       "      <th>Artist Display Name</th>\n",
       "      <th>Artist Display Bio</th>\n",
       "      <th>Artist Suffix</th>\n",
       "      <th>Artist Alpha Sort</th>\n",
       "      <th>Artist Nationality</th>\n",
       "      <th>Artist Begin Date</th>\n",
       "      <th>Artist End Date</th>\n",
       "      <th>Artist Gender</th>\n",
       "      <th>Artist ULAN URL</th>\n",
       "      <th>Artist Wikidata URL</th>\n",
       "      <th>Object Date</th>\n",
       "      <th>Object Begin Date</th>\n",
       "      <th>Object End Date</th>\n",
       "      <th>Medium</th>\n",
       "      <th>Dimensions</th>\n",
       "      <th>Credit Line</th>\n",
       "      <th>Geography Type</th>\n",
       "      <th>City</th>\n",
       "      <th>State</th>\n",
       "      <th>County</th>\n",
       "      <th>Country</th>\n",
       "      <th>Region</th>\n",
       "      <th>Subregion</th>\n",
       "      <th>Locale</th>\n",
       "      <th>Locus</th>\n",
       "      <th>Excavation</th>\n",
       "      <th>River</th>\n",
       "      <th>Classification</th>\n",
       "      <th>Rights and Reproduction</th>\n",
       "      <th>Link Resource</th>\n",
       "      <th>Object Wikidata URL</th>\n",
       "      <th>Metadata Date</th>\n",
       "      <th>Repository</th>\n",
       "      <th>Tags</th>\n",
       "      <th>Tags AAT URL</th>\n",
       "      <th>Tags Wikidata URL</th>\n",
       "    </tr>\n",
       "  </thead>\n",
       "  <tbody>\n",
       "    <tr>\n",
       "      <th>38935</th>\n",
       "      <td>1975.283.1</td>\n",
       "      <td>False</td>\n",
       "      <td>False</td>\n",
       "      <td>True</td>\n",
       "      <td>45189</td>\n",
       "      <td>NaN</td>\n",
       "      <td>Asian Art</td>\n",
       "      <td>1975</td>\n",
       "      <td>Robe</td>\n",
       "      <td>NaN</td>\n",
       "      <td>Japan</td>\n",
       "      <td>NaN</td>\n",
       "      <td>NaN</td>\n",
       "      <td>NaN</td>\n",
       "      <td>NaN</td>\n",
       "      <td>NaN</td>\n",
       "      <td>NaN</td>\n",
       "      <td>NaN</td>\n",
       "      <td>NaN</td>\n",
       "      <td>NaN</td>\n",
       "      <td>NaN</td>\n",
       "      <td>NaN</td>\n",
       "      <td>NaN</td>\n",
       "      <td>NaN</td>\n",
       "      <td>NaN</td>\n",
       "      <td>NaN</td>\n",
       "      <td>NaN</td>\n",
       "      <td>NaN</td>\n",
       "      <td>19th century</td>\n",
       "      <td>1800</td>\n",
       "      <td>1899</td>\n",
       "      <td>Silk satin with supplementary weft patterning in silk and metallic thread</td>\n",
       "      <td>Overall: 43 1/2 x 80 1/2 in. (110.5 x 204.5 cm)</td>\n",
       "      <td>Gift of Arthur M. Crocker and William R. Crocker, 1975</td>\n",
       "      <td>NaN</td>\n",
       "      <td>NaN</td>\n",
       "      <td>NaN</td>\n",
       "      <td>NaN</td>\n",
       "      <td>NaN</td>\n",
       "      <td>NaN</td>\n",
       "      <td>NaN</td>\n",
       "      <td>NaN</td>\n",
       "      <td>NaN</td>\n",
       "      <td>NaN</td>\n",
       "      <td>NaN</td>\n",
       "      <td>Costumes</td>\n",
       "      <td>NaN</td>\n",
       "      <td>http://www.metmuseum.org/art/collection/search/45189</td>\n",
       "      <td>NaN</td>\n",
       "      <td>NaN</td>\n",
       "      <td>Metropolitan Museum of Art, New York, NY</td>\n",
       "      <td>Robes|Flowers</td>\n",
       "      <td>http://vocab.getty.edu/page/aat/300209852|http://vocab.getty.edu/page/aat/300132399</td>\n",
       "      <td>https://www.wikidata.org/wiki/Q345127|https://www.wikidata.org/wiki/Q506</td>\n",
       "    </tr>\n",
       "  </tbody>\n",
       "</table>\n",
       "</div>"
      ],
      "text/plain": [
       "      Object Number Is Highlight Is Timeline Work Is Public Domain Object ID  \\\n",
       "38935    1975.283.1        False            False             True     45189   \n",
       "\n",
       "      Gallery Number Department AccessionYear Object Name Title Culture  \\\n",
       "38935            NaN  Asian Art          1975        Robe   NaN   Japan   \n",
       "\n",
       "      Period Dynasty Reign Portfolio Constituent ID Artist Role Artist Prefix  \\\n",
       "38935    NaN     NaN   NaN       NaN            NaN         NaN           NaN   \n",
       "\n",
       "      Artist Display Name Artist Display Bio Artist Suffix Artist Alpha Sort  \\\n",
       "38935                 NaN                NaN           NaN               NaN   \n",
       "\n",
       "      Artist Nationality Artist Begin Date Artist End Date Artist Gender  \\\n",
       "38935                NaN               NaN             NaN           NaN   \n",
       "\n",
       "      Artist ULAN URL Artist Wikidata URL   Object Date Object Begin Date  \\\n",
       "38935             NaN                 NaN  19th century              1800   \n",
       "\n",
       "      Object End Date  \\\n",
       "38935            1899   \n",
       "\n",
       "                                                                          Medium  \\\n",
       "38935  Silk satin with supplementary weft patterning in silk and metallic thread   \n",
       "\n",
       "                                            Dimensions  \\\n",
       "38935  Overall: 43 1/2 x 80 1/2 in. (110.5 x 204.5 cm)   \n",
       "\n",
       "                                                  Credit Line Geography Type  \\\n",
       "38935  Gift of Arthur M. Crocker and William R. Crocker, 1975            NaN   \n",
       "\n",
       "      City State County Country Region Subregion Locale Locus Excavation  \\\n",
       "38935  NaN   NaN    NaN     NaN    NaN       NaN    NaN   NaN        NaN   \n",
       "\n",
       "      River Classification Rights and Reproduction  \\\n",
       "38935   NaN       Costumes                     NaN   \n",
       "\n",
       "                                              Link Resource  \\\n",
       "38935  http://www.metmuseum.org/art/collection/search/45189   \n",
       "\n",
       "      Object Wikidata URL Metadata Date  \\\n",
       "38935                 NaN           NaN   \n",
       "\n",
       "                                     Repository           Tags  \\\n",
       "38935  Metropolitan Museum of Art, New York, NY  Robes|Flowers   \n",
       "\n",
       "                                                                              Tags AAT URL  \\\n",
       "38935  http://vocab.getty.edu/page/aat/300209852|http://vocab.getty.edu/page/aat/300132399   \n",
       "\n",
       "                                                              Tags Wikidata URL  \n",
       "38935  https://www.wikidata.org/wiki/Q345127|https://www.wikidata.org/wiki/Q506  "
      ]
     },
     "execution_count": 213,
     "metadata": {},
     "output_type": "execute_result"
    }
   ],
   "source": [
    "df_temp[df_temp['Object ID']=='45189']"
   ]
  },
  {
   "cell_type": "markdown",
   "metadata": {},
   "source": [
    "##### def function"
   ]
  },
  {
   "cell_type": "code",
   "execution_count": 267,
   "metadata": {},
   "outputs": [
    {
     "name": "stdout",
     "output_type": "stream",
     "text": [
      "\\bBob\\b\n"
     ]
    }
   ],
   "source": [
    "name = 'Bob'\n",
    "\n",
    "my_str = fr'\\b{name}\\b'\n",
    "print(my_str)"
   ]
  },
  {
   "cell_type": "code",
   "execution_count": 253,
   "metadata": {},
   "outputs": [
    {
     "data": {
      "text/plain": [
       "'\\\\'"
      ]
     },
     "execution_count": 253,
     "metadata": {},
     "output_type": "execute_result"
    }
   ],
   "source": [
    "chr(92)"
   ]
  },
  {
   "cell_type": "code",
   "execution_count": 273,
   "metadata": {},
   "outputs": [],
   "source": [
    "# to print out how many objects \n",
    "# in this dataframe \n",
    "# of a certain column\n",
    "\n",
    "def print_num_object(keywords,dataframe,column):\n",
    "    size = 0\n",
    "    \n",
    "    for k in keywords:\n",
    "        kk = fr'\\b{k}\\b'\n",
    "        number = len(dataframe[dataframe[column].str.contains(kk,case=False,regex=True)]) # not case sensitive\n",
    "        print(f'There are {number} {k}') \n",
    "        size += number\n",
    "\n",
    "    print('--------------------------')\n",
    "    print(f'My data size will be {size}')\n"
   ]
  },
  {
   "cell_type": "code",
   "execution_count": 129,
   "metadata": {},
   "outputs": [],
   "source": [
    "# man picked keywords\n",
    "# rough pick \n",
    "\n",
    "keywords = ['blouse', 'bodice', 'bolero', 'caftan', 'cape', 'chasuble', 'chemise', 'coat', \n",
    " 'dress', 'ensemble', 'gown', 'jacket', 'robe', 'shirt', 'shorts', 'skirt', 'suit']"
   ]
  },
  {
   "cell_type": "code",
   "execution_count": 134,
   "metadata": {},
   "outputs": [
    {
     "data": {
      "text/plain": [
       "(448619, 54)"
      ]
     },
     "execution_count": 134,
     "metadata": {},
     "output_type": "execute_result"
    }
   ],
   "source": [
    "df_title_pick = df[df['Title'].isna() == False]\n",
    "df_title_pick.shape"
   ]
  },
  {
   "cell_type": "code",
   "execution_count": 271,
   "metadata": {},
   "outputs": [
    {
     "name": "stdout",
     "output_type": "stream",
     "text": [
      "There are 333 blouse\n",
      "There are 150 bodice\n",
      "There are 25 bolero\n",
      "There are 46 caftan\n",
      "There are 475 cape\n",
      "There are 157 chasuble\n",
      "There are 61 chemise\n",
      "There are 1509 coat\n",
      "There are 6058 dress\n",
      "There are 2967 ensemble\n",
      "There are 316 gown\n",
      "There are 752 jacket\n",
      "There are 461 robe\n",
      "There are 660 shirt\n",
      "There are 50 shorts\n",
      "There are 422 skirt\n",
      "There are 1526 suit\n",
      "--------------------------\n",
      "My data size will be 15968\n"
     ]
    }
   ],
   "source": [
    "print_num_object(keywords, df_title_pick,'Title')"
   ]
  },
  {
   "cell_type": "code",
   "execution_count": 136,
   "metadata": {},
   "outputs": [
    {
     "data": {
      "text/plain": [
       "(476113, 54)"
      ]
     },
     "execution_count": 136,
     "metadata": {},
     "output_type": "execute_result"
    }
   ],
   "source": [
    "df_object_pick = df[df['Object Name'].isna() == False]\n",
    "df_object_pick.shape"
   ]
  },
  {
   "cell_type": "code",
   "execution_count": 274,
   "metadata": {},
   "outputs": [
    {
     "name": "stdout",
     "output_type": "stream",
     "text": [
      "There are 316 blouse\n",
      "There are 77 bodice\n",
      "There are 19 bolero\n",
      "There are 45 caftan\n",
      "There are 326 cape\n",
      "There are 144 chasuble\n",
      "There are 48 chemise\n",
      "There are 1247 coat\n",
      "There are 5507 dress\n",
      "There are 3061 ensemble\n",
      "There are 261 gown\n",
      "There are 744 jacket\n",
      "There are 724 robe\n",
      "There are 597 shirt\n",
      "There are 32 shorts\n",
      "There are 377 skirt\n",
      "There are 1379 suit\n",
      "--------------------------\n",
      "My data size will be 14904\n"
     ]
    }
   ],
   "source": [
    "print_num_object(keywords,df_object_pick,'Object Name')"
   ]
  },
  {
   "cell_type": "markdown",
   "metadata": {},
   "source": [
    "#### create dataframe"
   ]
  },
  {
   "cell_type": "markdown",
   "metadata": {},
   "source": [
    "##### def function"
   ]
  },
  {
   "cell_type": "code",
   "execution_count": 278,
   "metadata": {},
   "outputs": [],
   "source": [
    "def dataframe_keywords(keywords, dataframe, column):\n",
    "    # initiate an empty df\n",
    "    keys = dataframe.columns\n",
    "    new_df = pd.DataFrame(columns=keys)\n",
    "\n",
    "    for k in keywords:\n",
    "        kk = fr'\\b{k}\\b'\n",
    "        thisdf = dataframe[dataframe[column].str.contains(kk,case=False,regex= True)]\n",
    "        frames = [thisdf, new_df]\n",
    "        new_df = pd.concat(frames)\n",
    "\n",
    "    return new_df"
   ]
  },
  {
   "cell_type": "code",
   "execution_count": 279,
   "metadata": {},
   "outputs": [],
   "source": [
    "df_con1 = dataframe_keywords(keywords,df_title_pick,'Title')"
   ]
  },
  {
   "cell_type": "code",
   "execution_count": 280,
   "metadata": {},
   "outputs": [
    {
     "data": {
      "text/plain": [
       "(15968, 54)"
      ]
     },
     "execution_count": 280,
     "metadata": {},
     "output_type": "execute_result"
    }
   ],
   "source": [
    "df_con1.shape"
   ]
  },
  {
   "cell_type": "code",
   "execution_count": 281,
   "metadata": {},
   "outputs": [],
   "source": [
    "df_con2 = dataframe_keywords(keywords,df_object_pick,'Object Name')"
   ]
  },
  {
   "cell_type": "code",
   "execution_count": 282,
   "metadata": {},
   "outputs": [
    {
     "data": {
      "text/plain": [
       "(14904, 54)"
      ]
     },
     "execution_count": 282,
     "metadata": {},
     "output_type": "execute_result"
    }
   ],
   "source": [
    "df_con2.shape"
   ]
  },
  {
   "cell_type": "code",
   "execution_count": 327,
   "metadata": {},
   "outputs": [
    {
     "data": {
      "text/plain": [
       "(30872, 54)"
      ]
     },
     "execution_count": 327,
     "metadata": {},
     "output_type": "execute_result"
    }
   ],
   "source": [
    "df_con = pd.concat([df_con1,df_con2])\n",
    "df_con.shape"
   ]
  },
  {
   "cell_type": "code",
   "execution_count": 328,
   "metadata": {},
   "outputs": [
    {
     "data": {
      "text/plain": [
       "(16968, 54)"
      ]
     },
     "execution_count": 328,
     "metadata": {},
     "output_type": "execute_result"
    }
   ],
   "source": [
    "df_con.drop_duplicates(inplace=True)\n",
    "df_con.shape"
   ]
  },
  {
   "cell_type": "markdown",
   "metadata": {},
   "source": [
    "### simple clean up"
   ]
  },
  {
   "cell_type": "code",
   "execution_count": 332,
   "metadata": {},
   "outputs": [
    {
     "name": "stdout",
     "output_type": "stream",
     "text": [
      "shape before: (16968, 54)\n",
      "shape after: (14292, 54)\n"
     ]
    }
   ],
   "source": [
    "selector = ['Costume Institute', 'Asian Art', 'Islamic Art','The American Wing']\n",
    "\n",
    "print(f'shape before: {df_con.shape}')\n",
    "\n",
    "df_con = df_con[df_con['Department'].isin(selector)]\n",
    "\n",
    "print(f'shape after: {df_con.shape}')"
   ]
  },
  {
   "cell_type": "code",
   "execution_count": 333,
   "metadata": {},
   "outputs": [
    {
     "data": {
      "text/plain": [
       "Costume Institute    13194\n",
       "Asian Art              682\n",
       "Islamic Art            345\n",
       "The American Wing       71\n",
       "Name: Department, dtype: int64"
      ]
     },
     "execution_count": 333,
     "metadata": {},
     "output_type": "execute_result"
    }
   ],
   "source": [
    "df_con['Department'].value_counts()"
   ]
  },
  {
   "cell_type": "code",
   "execution_count": 340,
   "metadata": {},
   "outputs": [
    {
     "data": {
      "text/html": [
       "<div>\n",
       "<style scoped>\n",
       "    .dataframe tbody tr th:only-of-type {\n",
       "        vertical-align: middle;\n",
       "    }\n",
       "\n",
       "    .dataframe tbody tr th {\n",
       "        vertical-align: top;\n",
       "    }\n",
       "\n",
       "    .dataframe thead th {\n",
       "        text-align: right;\n",
       "    }\n",
       "</style>\n",
       "<table border=\"1\" class=\"dataframe\">\n",
       "  <thead>\n",
       "    <tr style=\"text-align: right;\">\n",
       "      <th></th>\n",
       "      <th>Object Number</th>\n",
       "      <th>Is Highlight</th>\n",
       "      <th>Is Timeline Work</th>\n",
       "      <th>Is Public Domain</th>\n",
       "      <th>Object ID</th>\n",
       "      <th>Gallery Number</th>\n",
       "      <th>Department</th>\n",
       "      <th>AccessionYear</th>\n",
       "      <th>Object Name</th>\n",
       "      <th>Title</th>\n",
       "      <th>Culture</th>\n",
       "      <th>Period</th>\n",
       "      <th>Dynasty</th>\n",
       "      <th>Reign</th>\n",
       "      <th>Portfolio</th>\n",
       "      <th>Constituent ID</th>\n",
       "      <th>Artist Role</th>\n",
       "      <th>Artist Prefix</th>\n",
       "      <th>Artist Display Name</th>\n",
       "      <th>Artist Display Bio</th>\n",
       "      <th>Artist Suffix</th>\n",
       "      <th>Artist Alpha Sort</th>\n",
       "      <th>Artist Nationality</th>\n",
       "      <th>Artist Begin Date</th>\n",
       "      <th>Artist End Date</th>\n",
       "      <th>Artist Gender</th>\n",
       "      <th>Artist ULAN URL</th>\n",
       "      <th>Artist Wikidata URL</th>\n",
       "      <th>Object Date</th>\n",
       "      <th>Object Begin Date</th>\n",
       "      <th>Object End Date</th>\n",
       "      <th>Medium</th>\n",
       "      <th>Dimensions</th>\n",
       "      <th>Credit Line</th>\n",
       "      <th>Geography Type</th>\n",
       "      <th>City</th>\n",
       "      <th>State</th>\n",
       "      <th>County</th>\n",
       "      <th>Country</th>\n",
       "      <th>Region</th>\n",
       "      <th>Subregion</th>\n",
       "      <th>Locale</th>\n",
       "      <th>Locus</th>\n",
       "      <th>Excavation</th>\n",
       "      <th>River</th>\n",
       "      <th>Classification</th>\n",
       "      <th>Rights and Reproduction</th>\n",
       "      <th>Link Resource</th>\n",
       "      <th>Object Wikidata URL</th>\n",
       "      <th>Metadata Date</th>\n",
       "      <th>Repository</th>\n",
       "      <th>Tags</th>\n",
       "      <th>Tags AAT URL</th>\n",
       "      <th>Tags Wikidata URL</th>\n",
       "    </tr>\n",
       "  </thead>\n",
       "  <tbody>\n",
       "    <tr>\n",
       "      <th>67979</th>\n",
       "      <td>C.I.60.7a, b</td>\n",
       "      <td>False</td>\n",
       "      <td>False</td>\n",
       "      <td>False</td>\n",
       "      <td>81685</td>\n",
       "      <td>980</td>\n",
       "      <td>Costume Institute</td>\n",
       "      <td>1959</td>\n",
       "      <td>Suit</td>\n",
       "      <td>Suit</td>\n",
       "      <td>American</td>\n",
       "      <td>NaN</td>\n",
       "      <td>NaN</td>\n",
       "      <td>NaN</td>\n",
       "      <td>NaN</td>\n",
       "      <td>16561</td>\n",
       "      <td>Designer</td>\n",
       "      <td></td>\n",
       "      <td>Gilbert Adrian</td>\n",
       "      <td>American, Naugatuck, Connecticut 1903–1959 Hollywood, California</td>\n",
       "      <td></td>\n",
       "      <td>Adrian, Gilbert</td>\n",
       "      <td>American</td>\n",
       "      <td>1903</td>\n",
       "      <td>1959</td>\n",
       "      <td>NaN</td>\n",
       "      <td>http://vocab.getty.edu/page/ulan/500401806</td>\n",
       "      <td>https://www.wikidata.org/wiki/Q1366554</td>\n",
       "      <td>1948</td>\n",
       "      <td>1948</td>\n",
       "      <td>1948</td>\n",
       "      <td>Wool, silk</td>\n",
       "      <td>NaN</td>\n",
       "      <td>Gift of Janet Gaynor Adrian, 1960</td>\n",
       "      <td>NaN</td>\n",
       "      <td>NaN</td>\n",
       "      <td>NaN</td>\n",
       "      <td>NaN</td>\n",
       "      <td>NaN</td>\n",
       "      <td>NaN</td>\n",
       "      <td>NaN</td>\n",
       "      <td>NaN</td>\n",
       "      <td>NaN</td>\n",
       "      <td>NaN</td>\n",
       "      <td>NaN</td>\n",
       "      <td>NaN</td>\n",
       "      <td>NaN</td>\n",
       "      <td>http://www.metmuseum.org/art/collection/search/81685</td>\n",
       "      <td>NaN</td>\n",
       "      <td>NaN</td>\n",
       "      <td>Metropolitan Museum of Art, New York, NY</td>\n",
       "      <td>NaN</td>\n",
       "      <td>NaN</td>\n",
       "      <td>NaN</td>\n",
       "    </tr>\n",
       "  </tbody>\n",
       "</table>\n",
       "</div>"
      ],
      "text/plain": [
       "      Object Number Is Highlight Is Timeline Work Is Public Domain Object ID  \\\n",
       "67979  C.I.60.7a, b        False            False            False     81685   \n",
       "\n",
       "      Gallery Number         Department AccessionYear Object Name Title  \\\n",
       "67979            980  Costume Institute          1959        Suit  Suit   \n",
       "\n",
       "        Culture Period Dynasty Reign Portfolio Constituent ID Artist Role  \\\n",
       "67979  American    NaN     NaN   NaN       NaN          16561    Designer   \n",
       "\n",
       "      Artist Prefix Artist Display Name  \\\n",
       "67979                    Gilbert Adrian   \n",
       "\n",
       "                                                     Artist Display Bio  \\\n",
       "67979  American, Naugatuck, Connecticut 1903–1959 Hollywood, California   \n",
       "\n",
       "      Artist Suffix Artist Alpha Sort Artist Nationality Artist Begin Date  \\\n",
       "67979                 Adrian, Gilbert           American        1903         \n",
       "\n",
       "      Artist End Date Artist Gender  \\\n",
       "67979      1959                 NaN   \n",
       "\n",
       "                                  Artist ULAN URL  \\\n",
       "67979  http://vocab.getty.edu/page/ulan/500401806   \n",
       "\n",
       "                          Artist Wikidata URL Object Date Object Begin Date  \\\n",
       "67979  https://www.wikidata.org/wiki/Q1366554        1948              1948   \n",
       "\n",
       "      Object End Date      Medium Dimensions  \\\n",
       "67979            1948  Wool, silk        NaN   \n",
       "\n",
       "                             Credit Line Geography Type City State County  \\\n",
       "67979  Gift of Janet Gaynor Adrian, 1960            NaN  NaN   NaN    NaN   \n",
       "\n",
       "      Country Region Subregion Locale Locus Excavation River Classification  \\\n",
       "67979     NaN    NaN       NaN    NaN   NaN        NaN   NaN            NaN   \n",
       "\n",
       "      Rights and Reproduction  \\\n",
       "67979                     NaN   \n",
       "\n",
       "                                              Link Resource  \\\n",
       "67979  http://www.metmuseum.org/art/collection/search/81685   \n",
       "\n",
       "      Object Wikidata URL Metadata Date  \\\n",
       "67979                 NaN           NaN   \n",
       "\n",
       "                                     Repository Tags Tags AAT URL  \\\n",
       "67979  Metropolitan Museum of Art, New York, NY  NaN          NaN   \n",
       "\n",
       "      Tags Wikidata URL  \n",
       "67979               NaN  "
      ]
     },
     "execution_count": 340,
     "metadata": {},
     "output_type": "execute_result"
    }
   ],
   "source": [
    "df_con.sample(1)"
   ]
  },
  {
   "cell_type": "code",
   "execution_count": 352,
   "metadata": {},
   "outputs": [],
   "source": [
    "df_con.to_csv('tran_file/df_full_selection.csv', index=False)"
   ]
  },
  {
   "cell_type": "markdown",
   "metadata": {},
   "source": [
    "## prepare dataframe of Asian Art for scrapping"
   ]
  },
  {
   "cell_type": "code",
   "execution_count": 344,
   "metadata": {},
   "outputs": [],
   "source": [
    "df_asian = df_con[df_con['Department']=='Asian Art']"
   ]
  },
  {
   "cell_type": "code",
   "execution_count": 347,
   "metadata": {},
   "outputs": [
    {
     "data": {
      "text/plain": [
       "(682, 54)"
      ]
     },
     "execution_count": 347,
     "metadata": {},
     "output_type": "execute_result"
    }
   ],
   "source": [
    "df_asian.shape"
   ]
  },
  {
   "cell_type": "code",
   "execution_count": 348,
   "metadata": {},
   "outputs": [],
   "source": [
    "df_asian.to_csv('tran_file/df_asian.csv',index=False)"
   ]
  }
 ],
 "metadata": {
  "kernelspec": {
   "display_name": "Python 3.9.12 ('base')",
   "language": "python",
   "name": "python3"
  },
  "language_info": {
   "codemirror_mode": {
    "name": "ipython",
    "version": 3
   },
   "file_extension": ".py",
   "mimetype": "text/x-python",
   "name": "python",
   "nbconvert_exporter": "python",
   "pygments_lexer": "ipython3",
   "version": "3.9.12"
  },
  "orig_nbformat": 4,
  "vscode": {
   "interpreter": {
    "hash": "c738c5dbbe27c39534afaf60a228761ec99c842d673ea0c5f841b81d59c4efd4"
   }
  }
 },
 "nbformat": 4,
 "nbformat_minor": 2
}
