{
 "cells": [
  {
   "cell_type": "markdown",
   "metadata": {},
   "source": [
    "## setup"
   ]
  },
  {
   "cell_type": "code",
   "execution_count": 1,
   "metadata": {},
   "outputs": [],
   "source": [
    "import pandas as pd\n",
    "import numpy as np\n",
    "import cv2\n",
    "import os\n",
    "import os.path\n",
    "\n",
    "import time\n",
    "\n",
    "import requests\n",
    "import json\n",
    "import urllib\n",
    "from bs4 import BeautifulSoup\n",
    "import re\n",
    "import pickle\n",
    "\n",
    "# show all dataframe\n",
    "pd.set_option('display.max_colwidth', None) \n",
    "pd.set_option('display.max_columns', None)  "
   ]
  },
  {
   "cell_type": "markdown",
   "metadata": {},
   "source": [
    "## params"
   ]
  },
  {
   "cell_type": "code",
   "execution_count": 2,
   "metadata": {},
   "outputs": [],
   "source": [
    "dir = 'clean image/mfaboston/'\n",
    "err_page = []\n",
    "err_object = []\n",
    "\n",
    "# initiate a dataframe to store data\n",
    "cols = ['object number', 'title','culture', 'medium', 'classifications']\n",
    "df = pd.DataFrame(columns=cols)\n",
    "\n",
    "headers={\n",
    "'user-agent': 'Mozilla/5.0 (Windows NT 10.0; Win64; x64) AppleWebKit/537.36 (KHTML, like Gecko) Chrome/85.0.4183.102 Safari/537.36'\n",
    "}"
   ]
  },
  {
   "cell_type": "markdown",
   "metadata": {},
   "source": [
    "## REQUEST 1: Get keyword : page number"
   ]
  },
  {
   "cell_type": "code",
   "execution_count": 65,
   "metadata": {},
   "outputs": [],
   "source": [
    "keywords = ['robe', 'dress', 'shirt', 'coat', 'ensemble', 'suit', 'jacket','gown']"
   ]
  },
  {
   "cell_type": "code",
   "execution_count": 67,
   "metadata": {},
   "outputs": [
    {
     "name": "stdout",
     "output_type": "stream",
     "text": [
      "there are 35 pages for keyword robe.\n",
      "there are 116 pages for keyword dress.\n",
      "there are 19 pages for keyword shirt.\n",
      "there are 27 pages for keyword coat.\n",
      "there are 32 pages for keyword ensemble.\n",
      "there are 19 pages for keyword suit.\n",
      "there are 40 pages for keyword jacket.\n",
      "there are 9 pages for keyword gown.\n"
     ]
    }
   ],
   "source": [
    "keyword_page_n_dict = {}\n",
    "\n",
    "for keyword in keywords:\n",
    "    url = f\"https://collections.mfa.org/search/Objects/*/{keyword}/images?filter=allClassifications%3ACostumes%3BimageExistence%3Atrue\"\n",
    "    r = requests.get(url)\n",
    "    soup_key = BeautifulSoup(r.content,'html.parser')\n",
    "    page_n = soup_key.find('span', class_=\"maxPages\").text[2:].strip()\n",
    "\n",
    "    keyword_page_n_dict[keyword] = page_n\n",
    "    print(f'there are {page_n} pages for keyword {keyword}.')"
   ]
  },
  {
   "cell_type": "markdown",
   "metadata": {},
   "source": [
    "## REQUEST 2: read each 12 obj grid page"
   ]
  },
  {
   "cell_type": "markdown",
   "metadata": {},
   "source": [
    "### def get_12_obj_df(soup)"
   ]
  },
  {
   "cell_type": "code",
   "execution_count": 113,
   "metadata": {},
   "outputs": [],
   "source": [
    "def get_12_obj_df(soup):\n",
    "    # each page has 12 images\n",
    "    # read each image\n",
    "    # capture the number and url\n",
    "    k = soup.find_all('div',class_=\"primaryMedia\")\n",
    "\n",
    "    # init a df to store 12 obj data\n",
    "    cols = ['object number', 'object url', 'download number', 'download url']\n",
    "    df = pd.DataFrame(columns=cols)\n",
    "\n",
    "    # there are chances to get timeout when read image page    \n",
    "    for j in range(len(k)):\n",
    "        # locate object number \n",
    "        object_str = k[j].find('a').get('href')\n",
    "        object_number = re.search('objects/(.*?)/', object_str).group(1)\n",
    "        url_base = 'https://collections.mfa.org'\n",
    "        object_url = url_base + object_str \n",
    "\n",
    "        # locate download_number\n",
    "        download_str = k[j].find('img').get('src')\n",
    "        download_number = re.search('dispatcher/(.*?)/', download_str).group(1)\n",
    "        download_url = f'https://collections.mfa.org/internal/media/dispatcher/{download_number}/resize%3Aformat%3Dfull?download'\n",
    "\n",
    "        dc = [object_number,object_url,download_number,download_url]\n",
    "        df_addon = pd.DataFrame(dc).T\n",
    "        df_addon.columns = cols\n",
    "        df = pd.concat([df,df_addon])\n",
    "        \n",
    "    return df"
   ]
  },
  {
   "cell_type": "markdown",
   "metadata": {},
   "source": [
    "###  execute"
   ]
  },
  {
   "cell_type": "code",
   "execution_count": 118,
   "metadata": {},
   "outputs": [
    {
     "data": {
      "text/plain": [
       "{'robe': '35',\n",
       " 'dress': '116',\n",
       " 'shirt': '19',\n",
       " 'coat': '27',\n",
       " 'ensemble': '32',\n",
       " 'suit': '19',\n",
       " 'jacket': '40',\n",
       " 'gown': '9'}"
      ]
     },
     "execution_count": 118,
     "metadata": {},
     "output_type": "execute_result"
    }
   ],
   "source": [
    "keyword_page_n_dict"
   ]
  },
  {
   "cell_type": "code",
   "execution_count": 119,
   "metadata": {},
   "outputs": [
    {
     "name": "stdout",
     "output_type": "stream",
     "text": [
      "robe - page 6 - timeout\n",
      "robe - page 7 - timeout\n",
      "robe - page 29 - timeout\n",
      "robe - page 30 - timeout\n",
      "keyword: robe, round 1, timeout page count: 4\n",
      "keyword: robe, round 2, timeout page count: 0\n",
      "keyword robe is done.\n",
      "dress - page 3 - timeout\n",
      "dress - page 12 - timeout\n",
      "dress - page 13 - timeout\n",
      "dress - page 35 - timeout\n",
      "dress - page 36 - timeout\n",
      "dress - page 37 - timeout\n",
      "dress - page 42 - timeout\n",
      "dress - page 58 - timeout\n",
      "dress - page 59 - timeout\n",
      "dress - page 81 - timeout\n",
      "dress - page 82 - timeout\n",
      "dress - page 83 - timeout\n",
      "dress - page 84 - timeout\n",
      "dress - page 106 - timeout\n",
      "dress - page 107 - timeout\n",
      "dress - page 108 - timeout\n",
      "dress - page 109 - timeout\n",
      "dress - page 110 - timeout\n",
      "keyword: dress, round 1, timeout page count: 18\n",
      "dress - page 3 - timeout\n",
      "dress - page 37 - timeout\n",
      "dress - page 42 - timeout\n",
      "keyword: dress, round 2, timeout page count: 3\n",
      "dress - page 3 - timeout\n",
      "dress - page 37 - timeout\n",
      "dress - page 42 - timeout\n",
      "keyword: dress, round 3, timeout page count: 3\n",
      "dress - page 3 - timeout\n",
      "dress - page 37 - timeout\n",
      "dress - page 42 - timeout\n",
      "keyword: dress, round 4, timeout page count: 3\n",
      "dress - page 3 - timeout\n",
      "dress - page 37 - timeout\n",
      "dress - page 42 - timeout\n",
      "keyword: dress, round 5, timeout page count: 3\n",
      "dress - page 3 - timeout\n",
      "dress - page 37 - timeout\n",
      "dress - page 42 - timeout\n",
      "keyword: dress, round 6, timeout page count: 3\n",
      "dress - page 3 - timeout\n",
      "dress - page 37 - timeout\n",
      "dress - page 42 - timeout\n",
      "keyword: dress, round 7, timeout page count: 3\n",
      "dress - page 3 - timeout\n",
      "dress - page 37 - timeout\n",
      "dress - page 42 - timeout\n",
      "keyword: dress, round 8, timeout page count: 3\n",
      "dress - page 3 - timeout\n",
      "dress - page 37 - timeout\n",
      "dress - page 42 - timeout\n",
      "keyword: dress, round 9, timeout page count: 3\n",
      "dress - page 3 - timeout\n",
      "dress - page 37 - timeout\n",
      "dress - page 42 - timeout\n",
      "keyword: dress, round 10, timeout page count: 3\n",
      "keyword dress is done.\n",
      "shirt - page 10 - timeout\n",
      "shirt - page 11 - timeout\n",
      "keyword: shirt, round 1, timeout page count: 2\n",
      "keyword: shirt, round 2, timeout page count: 0\n",
      "keyword shirt is done.\n",
      "coat - page 10 - timeout\n",
      "coat - page 13 - timeout\n",
      "coat - page 14 - timeout\n",
      "coat - page 15 - timeout\n",
      "keyword: coat, round 1, timeout page count: 4\n",
      "coat - page 10 - timeout\n",
      "keyword: coat, round 2, timeout page count: 1\n",
      "coat - page 10 - timeout\n",
      "keyword: coat, round 3, timeout page count: 1\n",
      "coat - page 10 - timeout\n",
      "keyword: coat, round 4, timeout page count: 1\n",
      "coat - page 10 - timeout\n",
      "keyword: coat, round 5, timeout page count: 1\n",
      "coat - page 10 - timeout\n",
      "keyword: coat, round 6, timeout page count: 1\n",
      "coat - page 10 - timeout\n",
      "keyword: coat, round 7, timeout page count: 1\n",
      "coat - page 10 - timeout\n",
      "keyword: coat, round 8, timeout page count: 1\n",
      "coat - page 10 - timeout\n",
      "keyword: coat, round 9, timeout page count: 1\n",
      "coat - page 10 - timeout\n",
      "keyword: coat, round 10, timeout page count: 1\n",
      "keyword coat is done.\n",
      "ensemble - page 4 - timeout\n",
      "ensemble - page 20 - timeout\n",
      "ensemble - page 21 - timeout\n",
      "ensemble - page 22 - timeout\n",
      "keyword: ensemble, round 1, timeout page count: 4\n",
      "ensemble - page 4 - timeout\n",
      "keyword: ensemble, round 2, timeout page count: 1\n",
      "ensemble - page 4 - timeout\n",
      "keyword: ensemble, round 3, timeout page count: 1\n",
      "ensemble - page 4 - timeout\n",
      "keyword: ensemble, round 4, timeout page count: 1\n",
      "ensemble - page 4 - timeout\n",
      "keyword: ensemble, round 5, timeout page count: 1\n",
      "ensemble - page 4 - timeout\n",
      "keyword: ensemble, round 6, timeout page count: 1\n",
      "ensemble - page 4 - timeout\n",
      "keyword: ensemble, round 7, timeout page count: 1\n",
      "ensemble - page 4 - timeout\n",
      "keyword: ensemble, round 8, timeout page count: 1\n",
      "ensemble - page 4 - timeout\n",
      "keyword: ensemble, round 9, timeout page count: 1\n",
      "ensemble - page 4 - timeout\n",
      "keyword: ensemble, round 10, timeout page count: 1\n",
      "keyword ensemble is done.\n",
      "suit - page 1 - timeout\n",
      "suit - page 2 - timeout\n",
      "keyword: suit, round 1, timeout page count: 2\n",
      "keyword: suit, round 2, timeout page count: 0\n",
      "keyword suit is done.\n",
      "jacket - page 1 - timeout\n",
      "jacket - page 21 - timeout\n",
      "jacket - page 22 - timeout\n",
      "jacket - page 23 - timeout\n",
      "keyword: jacket, round 1, timeout page count: 4\n",
      "jacket - page 23 - timeout\n",
      "keyword: jacket, round 2, timeout page count: 1\n",
      "jacket - page 23 - timeout\n",
      "keyword: jacket, round 3, timeout page count: 1\n",
      "jacket - page 23 - timeout\n",
      "keyword: jacket, round 4, timeout page count: 1\n",
      "keyword: jacket, round 5, timeout page count: 0\n",
      "keyword jacket is done.\n",
      "gown - page 1 - timeout\n",
      "gown - page 7 - timeout\n",
      "gown - page 8 - timeout\n",
      "gown - page 9 - timeout\n",
      "keyword: gown, round 1, timeout page count: 4\n",
      "gown - page 1 - timeout\n",
      "gown - page 7 - timeout\n",
      "keyword: gown, round 2, timeout page count: 2\n",
      "gown - page 1 - timeout\n",
      "keyword: gown, round 3, timeout page count: 1\n",
      "gown - page 1 - timeout\n",
      "keyword: gown, round 4, timeout page count: 1\n",
      "gown - page 1 - timeout\n",
      "keyword: gown, round 5, timeout page count: 1\n",
      "gown - page 1 - timeout\n",
      "keyword: gown, round 6, timeout page count: 1\n",
      "gown - page 1 - timeout\n",
      "keyword: gown, round 7, timeout page count: 1\n",
      "gown - page 1 - timeout\n",
      "keyword: gown, round 8, timeout page count: 1\n",
      "gown - page 1 - timeout\n",
      "keyword: gown, round 9, timeout page count: 1\n",
      "gown - page 1 - timeout\n",
      "keyword: gown, round 10, timeout page count: 1\n",
      "keyword gown is done.\n"
     ]
    }
   ],
   "source": [
    "# init a df to store obj number and url\n",
    "cols = ['object number', 'object url', 'download number', 'download url']\n",
    "df = pd.DataFrame(columns=cols)\n",
    "timeout_dict = {}\n",
    "\n",
    "# read each page\n",
    "for keyword in keywords:\n",
    "    # get the page number for this keyword\n",
    "    page_n = keyword_page_n_dict[keyword]\n",
    "    pages = range(1, int(page_n)+1)\n",
    "\n",
    "    # loop times\n",
    "    count = 0\n",
    "    \n",
    "    while bool(pages) is True:\n",
    "        count += 1\n",
    "        timeout_pages = []\n",
    "\n",
    "        if count >= 11:\n",
    "            timeout_dict[keyword] = pages\n",
    "            break\n",
    "        else:\n",
    "            for i in pages:\n",
    "                try:\n",
    "                    url = f\"https://collections.mfa.org/search/Objects/*/{keyword}/images?filter=allClassifications%3ACostumes%3BimageExistence%3Atrue&page={i}\"\n",
    "                    r = requests.get(url, headers = headers)\n",
    "                    soup_page = BeautifulSoup(r.content,'html.parser')\n",
    "                    thisdf = get_12_obj_df(soup_page)\n",
    "                    df = pd.concat([df, thisdf])\n",
    "                    \n",
    "                except:\n",
    "                    # print out err page\n",
    "                    timeout_pages.append(i)\n",
    "                    print(f'{keyword} - page {i} - timeout')\n",
    "        # let the timeout pages be the pages for next round\n",
    "        print(f'keyword: {keyword}, round {count}, timeout page count: {len(timeout_pages)}')\n",
    "        pages = timeout_pages          \n",
    "\n",
    "    print(f'keyword {keyword} is done.')     "
   ]
  },
  {
   "cell_type": "code",
   "execution_count": 122,
   "metadata": {},
   "outputs": [
    {
     "data": {
      "text/plain": [
       "(3447, 4)"
      ]
     },
     "execution_count": 122,
     "metadata": {},
     "output_type": "execute_result"
    }
   ],
   "source": [
    "df.shape"
   ]
  },
  {
   "cell_type": "code",
   "execution_count": 123,
   "metadata": {},
   "outputs": [
    {
     "data": {
      "text/html": [
       "<div>\n",
       "<style scoped>\n",
       "    .dataframe tbody tr th:only-of-type {\n",
       "        vertical-align: middle;\n",
       "    }\n",
       "\n",
       "    .dataframe tbody tr th {\n",
       "        vertical-align: top;\n",
       "    }\n",
       "\n",
       "    .dataframe thead th {\n",
       "        text-align: right;\n",
       "    }\n",
       "</style>\n",
       "<table border=\"1\" class=\"dataframe\">\n",
       "  <thead>\n",
       "    <tr style=\"text-align: right;\">\n",
       "      <th></th>\n",
       "      <th>object number</th>\n",
       "      <th>object url</th>\n",
       "      <th>download number</th>\n",
       "      <th>download url</th>\n",
       "    </tr>\n",
       "  </thead>\n",
       "  <tbody>\n",
       "    <tr>\n",
       "      <th>0</th>\n",
       "      <td>530079</td>\n",
       "      <td>https://collections.mfa.org/objects/530079/womans-dress;jsessionid=9340C8CB42CF9396BAAADD526A54EAB6?ctx=1e90fa57-b6ad-43dc-8922-8e1e6bf27512&amp;idx=1011</td>\n",
       "      <td>1352408</td>\n",
       "      <td>https://collections.mfa.org/internal/media/dispatcher/1352408/resize%3Aformat%3Dfull?download</td>\n",
       "    </tr>\n",
       "    <tr>\n",
       "      <th>0</th>\n",
       "      <td>567928</td>\n",
       "      <td>https://collections.mfa.org/objects/567928/skirt-suit;jsessionid=501C109F01374275F84EE52A8B4CCAFF?ctx=d0d82c0e-8d3f-43d4-bc4d-f03dd0a735c4&amp;idx=138</td>\n",
       "      <td>1352441</td>\n",
       "      <td>https://collections.mfa.org/internal/media/dispatcher/1352441/resize%3Aformat%3Dfull?download</td>\n",
       "    </tr>\n",
       "    <tr>\n",
       "      <th>0</th>\n",
       "      <td>561054</td>\n",
       "      <td>https://collections.mfa.org/objects/561054/dress;jsessionid=6546A7AF001FEECCD640F1D79E88769B?ctx=24db38ec-85f7-4f3e-8a7b-2d4544b613e2&amp;idx=1065</td>\n",
       "      <td>1248210</td>\n",
       "      <td>https://collections.mfa.org/internal/media/dispatcher/1248210/resize%3Aformat%3Dfull?download</td>\n",
       "    </tr>\n",
       "  </tbody>\n",
       "</table>\n",
       "</div>"
      ],
      "text/plain": [
       "  object number  \\\n",
       "0        530079   \n",
       "0        567928   \n",
       "0        561054   \n",
       "\n",
       "                                                                                                                                              object url  \\\n",
       "0  https://collections.mfa.org/objects/530079/womans-dress;jsessionid=9340C8CB42CF9396BAAADD526A54EAB6?ctx=1e90fa57-b6ad-43dc-8922-8e1e6bf27512&idx=1011   \n",
       "0     https://collections.mfa.org/objects/567928/skirt-suit;jsessionid=501C109F01374275F84EE52A8B4CCAFF?ctx=d0d82c0e-8d3f-43d4-bc4d-f03dd0a735c4&idx=138   \n",
       "0         https://collections.mfa.org/objects/561054/dress;jsessionid=6546A7AF001FEECCD640F1D79E88769B?ctx=24db38ec-85f7-4f3e-8a7b-2d4544b613e2&idx=1065   \n",
       "\n",
       "  download number  \\\n",
       "0         1352408   \n",
       "0         1352441   \n",
       "0         1248210   \n",
       "\n",
       "                                                                                    download url  \n",
       "0  https://collections.mfa.org/internal/media/dispatcher/1352408/resize%3Aformat%3Dfull?download  \n",
       "0  https://collections.mfa.org/internal/media/dispatcher/1352441/resize%3Aformat%3Dfull?download  \n",
       "0  https://collections.mfa.org/internal/media/dispatcher/1248210/resize%3Aformat%3Dfull?download  "
      ]
     },
     "execution_count": 123,
     "metadata": {},
     "output_type": "execute_result"
    }
   ],
   "source": [
    "df.sample(3)"
   ]
  },
  {
   "cell_type": "code",
   "execution_count": 132,
   "metadata": {},
   "outputs": [],
   "source": [
    "# save the file in case\n",
    "df.to_csv('raw data/mfaboston.csv', index=False)"
   ]
  },
  {
   "cell_type": "markdown",
   "metadata": {},
   "source": [
    "# --> dataframe saved here, continue working from here"
   ]
  },
  {
   "cell_type": "markdown",
   "metadata": {},
   "source": [
    "# REQUEST 3: read single obj page, save info"
   ]
  },
  {
   "cell_type": "code",
   "execution_count": 30,
   "metadata": {},
   "outputs": [],
   "source": [
    "# read the file and prepare it for next step\n",
    "# which is adding cols\n",
    "df = pd.read_csv('raw data/mfaboston.csv')\n",
    "\n",
    "cols = ['title', 'culture', 'downloadable']\n",
    "df[cols] = np.nan"
   ]
  },
  {
   "cell_type": "code",
   "execution_count": 43,
   "metadata": {},
   "outputs": [
    {
     "data": {
      "text/plain": [
       "(3447, 7)"
      ]
     },
     "execution_count": 43,
     "metadata": {},
     "output_type": "execute_result"
    }
   ],
   "source": [
    "df.shape"
   ]
  },
  {
   "cell_type": "code",
   "execution_count": 44,
   "metadata": {},
   "outputs": [
    {
     "data": {
      "text/html": [
       "<div>\n",
       "<style scoped>\n",
       "    .dataframe tbody tr th:only-of-type {\n",
       "        vertical-align: middle;\n",
       "    }\n",
       "\n",
       "    .dataframe tbody tr th {\n",
       "        vertical-align: top;\n",
       "    }\n",
       "\n",
       "    .dataframe thead th {\n",
       "        text-align: right;\n",
       "    }\n",
       "</style>\n",
       "<table border=\"1\" class=\"dataframe\">\n",
       "  <thead>\n",
       "    <tr style=\"text-align: right;\">\n",
       "      <th></th>\n",
       "      <th>object number</th>\n",
       "      <th>object url</th>\n",
       "      <th>download number</th>\n",
       "      <th>download url</th>\n",
       "      <th>title</th>\n",
       "      <th>culture</th>\n",
       "      <th>downloadable</th>\n",
       "    </tr>\n",
       "  </thead>\n",
       "  <tbody>\n",
       "    <tr>\n",
       "      <th>0</th>\n",
       "      <td>24510</td>\n",
       "      <td>https://collections.mfa.org/objects/24510/noh-costume-atsuita;jsessionid=AF89E578CDE8EF15BA693C213C7E67AE?ctx=f523b82f-d3f8-49b2-b58b-ad4b83b11e67&amp;idx=0</td>\n",
       "      <td>757433</td>\n",
       "      <td>https://collections.mfa.org/internal/media/dispatcher/757433/resize%3Aformat%3Dfull?download</td>\n",
       "      <td>NaN</td>\n",
       "      <td>NaN</td>\n",
       "      <td>NaN</td>\n",
       "    </tr>\n",
       "    <tr>\n",
       "      <th>1</th>\n",
       "      <td>645007</td>\n",
       "      <td>https://collections.mfa.org/objects/645007/bugaku-costume-in-5-parts-undercoat-shitagansane-vest-h;jsessionid=AF89E578CDE8EF15BA693C213C7E67AE?ctx=f523b82f-d3f8-49b2-b58b-ad4b83b11e67&amp;idx=1</td>\n",
       "      <td>1493972</td>\n",
       "      <td>https://collections.mfa.org/internal/media/dispatcher/1493972/resize%3Aformat%3Dfull?download</td>\n",
       "      <td>NaN</td>\n",
       "      <td>NaN</td>\n",
       "      <td>NaN</td>\n",
       "    </tr>\n",
       "    <tr>\n",
       "      <th>2</th>\n",
       "      <td>155566</td>\n",
       "      <td>https://collections.mfa.org/objects/155566/kesa-buddhist-priests-robe;jsessionid=AF89E578CDE8EF15BA693C213C7E67AE?ctx=f523b82f-d3f8-49b2-b58b-ad4b83b11e67&amp;idx=2</td>\n",
       "      <td>1007847</td>\n",
       "      <td>https://collections.mfa.org/internal/media/dispatcher/1007847/resize%3Aformat%3Dfull?download</td>\n",
       "      <td>NaN</td>\n",
       "      <td>NaN</td>\n",
       "      <td>NaN</td>\n",
       "    </tr>\n",
       "  </tbody>\n",
       "</table>\n",
       "</div>"
      ],
      "text/plain": [
       "   object number  \\\n",
       "0          24510   \n",
       "1         645007   \n",
       "2         155566   \n",
       "\n",
       "                                                                                                                                                                                      object url  \\\n",
       "0                                       https://collections.mfa.org/objects/24510/noh-costume-atsuita;jsessionid=AF89E578CDE8EF15BA693C213C7E67AE?ctx=f523b82f-d3f8-49b2-b58b-ad4b83b11e67&idx=0   \n",
       "1  https://collections.mfa.org/objects/645007/bugaku-costume-in-5-parts-undercoat-shitagansane-vest-h;jsessionid=AF89E578CDE8EF15BA693C213C7E67AE?ctx=f523b82f-d3f8-49b2-b58b-ad4b83b11e67&idx=1   \n",
       "2                               https://collections.mfa.org/objects/155566/kesa-buddhist-priests-robe;jsessionid=AF89E578CDE8EF15BA693C213C7E67AE?ctx=f523b82f-d3f8-49b2-b58b-ad4b83b11e67&idx=2   \n",
       "\n",
       "   download number  \\\n",
       "0           757433   \n",
       "1          1493972   \n",
       "2          1007847   \n",
       "\n",
       "                                                                                    download url  \\\n",
       "0   https://collections.mfa.org/internal/media/dispatcher/757433/resize%3Aformat%3Dfull?download   \n",
       "1  https://collections.mfa.org/internal/media/dispatcher/1493972/resize%3Aformat%3Dfull?download   \n",
       "2  https://collections.mfa.org/internal/media/dispatcher/1007847/resize%3Aformat%3Dfull?download   \n",
       "\n",
       "   title  culture  downloadable  \n",
       "0    NaN      NaN           NaN  \n",
       "1    NaN      NaN           NaN  \n",
       "2    NaN      NaN           NaN  "
      ]
     },
     "execution_count": 44,
     "metadata": {},
     "output_type": "execute_result"
    }
   ],
   "source": [
    "df.head(3)"
   ]
  },
  {
   "cell_type": "markdown",
   "metadata": {},
   "source": [
    "## define function save dataframe"
   ]
  },
  {
   "cell_type": "code",
   "execution_count": 35,
   "metadata": {},
   "outputs": [],
   "source": [
    "# save single object data to dataframe\n",
    "def save_dataframe(row):\n",
    "    \"\"\"\n",
    "    given obj url and download url\n",
    "    requests and bs\n",
    "    while downloadable nan, try except\n",
    "    save data\n",
    "    check if there is a download button\n",
    "    if yes: save img + download label yes\n",
    "    if no: download label no\n",
    "    \"\"\"\n",
    "    obj_url = row['object url']\n",
    "    obj_n = row['object number']\n",
    "\n",
    "    newrow = row\n",
    "\n",
    "    try:\n",
    "        # get the bs for object page\n",
    "        req = requests.get(obj_url, headers=headers)\n",
    "        soup_obj = BeautifulSoup(req.content,'html.parser') \n",
    "\n",
    "        # get the block of item details\n",
    "        tagobj = soup_obj.find('div',class_=\"item-details-inner\")\n",
    "\n",
    "        # locate the block that we need \n",
    "        tagleft = tagobj.contents[1] # which is the table on the left side of page\n",
    "        \n",
    "        # fill title, culture\n",
    "        newrow['title'] = tagleft.contents[0].text # add title\n",
    "        newrow['culture'] = soup_obj.find('div',class_=\"detailField cultureField\")\n",
    "\n",
    "        # check if the image is downloadable\n",
    "        # by checking if there is a 'download' button\n",
    "        # the image with 'download' button is believed to be in public domain\n",
    "        bl = soup_obj.body.findAll(text='DOWNLOAD')\n",
    "\n",
    "        if bool(bl) is True:\n",
    "            newrow['downloadable'] = 'Y'\n",
    "        else:\n",
    "            newrow['downloadable'] = 'N'\n",
    "\n",
    "    except:\n",
    "        print(f'object {obj_n} got err')\n",
    "        pass\n",
    "\n",
    "    return newrow"
   ]
  },
  {
   "cell_type": "code",
   "execution_count": 45,
   "metadata": {},
   "outputs": [
    {
     "name": "stdout",
     "output_type": "stream",
     "text": [
      "object 120599 got err\n",
      "object 120600 got err\n",
      "object 121046 got err\n",
      "object 121048 got err\n",
      "object 8074 got err\n",
      "object 19187 got err\n",
      "object 19371 got err\n",
      "object 19488 got err\n",
      "object 20121 got err\n",
      "object 20867 got err\n",
      "object 67746 got err\n",
      "object 68343 got err\n",
      "object 68358 got err\n",
      "object 68375 got err\n",
      "object 24496 got err\n",
      "object 15876 got err\n",
      "object 15882 got err\n",
      "object 16112 got err\n",
      "object 106092 got err\n",
      "object 642762 got err\n",
      "object 642814 got err\n",
      "object 646085 got err\n",
      "object 675723 got err\n",
      "object 695125 got err\n",
      "object 536926 got err\n",
      "object 80281 got err\n",
      "object 80283 got err\n",
      "object 46072 got err\n",
      "object 46284 got err\n",
      "object 46285 got err\n",
      "object 46478 got err\n",
      "object 94367 got err\n",
      "object 94417 got err\n",
      "object 94423 got err\n",
      "object 95272 got err\n",
      "object 95289 got err\n",
      "object 401493 got err\n",
      "object 353211 got err\n",
      "object 353217 got err\n",
      "object 353218 got err\n",
      "object 551711 got err\n",
      "object 551717 got err\n",
      "object 551720 got err\n",
      "object 551723 got err\n",
      "object 551731 got err\n",
      "object 555990 got err\n",
      "object 555991 got err\n",
      "object 556096 got err\n",
      "object 556120 got err\n",
      "object 407810 got err\n",
      "object 407813 got err\n",
      "object 407816 got err\n",
      "object 407968 got err\n",
      "object 579224 got err\n",
      "object 579290 got err\n",
      "object 579291 got err\n",
      "object 579680 got err\n",
      "object 468347 got err\n",
      "object 473321 got err\n",
      "object 474135 got err\n",
      "object 479965 got err\n",
      "object 488754 got err\n",
      "object 488838 got err\n",
      "object 488864 got err\n",
      "object 488865 got err\n",
      "object 530079 got err\n",
      "object 530081 got err\n",
      "object 530087 got err\n",
      "object 530093 got err\n",
      "object 653323 got err\n",
      "object 653333 got err\n",
      "object 655775 got err\n",
      "object 661464 got err\n",
      "object 585540 got err\n",
      "object 585987 got err\n",
      "object 589485 got err\n",
      "object 465426 got err\n",
      "object 255886 got err\n",
      "object 546613 got err\n",
      "object 546617 got err\n",
      "object 546618 got err\n",
      "object 546619 got err\n",
      "object 528997 got err\n",
      "object 529014 got err\n",
      "object 52247 got err\n",
      "object 106416 got err\n",
      "object 106431 got err\n",
      "object 110205 got err\n",
      "object 664575 got err\n",
      "object 675201 got err\n",
      "object 677097 got err\n",
      "object 678534 got err\n",
      "object 48452 got err\n",
      "object 48473 got err\n",
      "object 48478 got err\n",
      "object 48479 got err\n",
      "object 576020 got err\n",
      "object 576044 got err\n",
      "object 576234 got err\n",
      "object 576409 got err\n",
      "object 556888 got err\n",
      "object 556889 got err\n",
      "object 556890 got err\n",
      "object 556893 got err\n",
      "object 514112 got err\n",
      "object 564576 got err\n",
      "object 564577 got err\n",
      "object 564578 got err\n",
      "object 564579 got err\n",
      "object 353156 got err\n",
      "object 547833 got err\n",
      "object 551695 got err\n",
      "object 551738 got err\n",
      "object 554675 got err\n",
      "object 696853 got err\n",
      "object 567929 got err\n",
      "object 556631 got err\n",
      "object 558080 got err\n",
      "object 454147 got err\n",
      "object 590833 got err\n",
      "object 473328 got err\n",
      "object 473334 got err\n",
      "object 663331 got err\n",
      "object 438811 got err\n",
      "object 438814 got err\n",
      "object 438820 got err\n",
      "object 441403 got err\n",
      "object 441592 got err\n",
      "object 120364 got err\n",
      "object 121981 got err\n",
      "object 123526 got err\n",
      "object 125625 got err\n",
      "object 126363 got err\n"
     ]
    }
   ],
   "source": [
    "df_7col = df.apply(lambda row: save_dataframe(row), axis=1)"
   ]
  },
  {
   "cell_type": "code",
   "execution_count": null,
   "metadata": {},
   "outputs": [],
   "source": [
    "# run this code several times, until no nan in downloadable\n",
    "df_7col.loc[df_7col['downloadable'].isna() == True] = df_7col.loc[df_7col['downloadable'].isna() == True].apply(lambda row: save_dataframe(row), axis=1)\n",
    "print(df_7col['downloadable'].isna().sum())"
   ]
  },
  {
   "cell_type": "code",
   "execution_count": 73,
   "metadata": {},
   "outputs": [
    {
     "data": {
      "text/plain": [
       "object number        0\n",
       "object url           0\n",
       "download number      0\n",
       "download url         0\n",
       "title                0\n",
       "culture            106\n",
       "downloadable         0\n",
       "dtype: int64"
      ]
     },
     "execution_count": 73,
     "metadata": {},
     "output_type": "execute_result"
    }
   ],
   "source": [
    "df_7col.isna().sum()"
   ]
  },
  {
   "cell_type": "code",
   "execution_count": 61,
   "metadata": {},
   "outputs": [],
   "source": [
    "# save the file in case\n",
    "# df_7col.to_csv('raw data/mfaboston_7col.csv', index=False)"
   ]
  },
  {
   "cell_type": "markdown",
   "metadata": {},
   "source": [
    "# --> dataframe saved here, continue working from here"
   ]
  },
  {
   "cell_type": "code",
   "execution_count": 62,
   "metadata": {},
   "outputs": [],
   "source": [
    "df_7col = pd.read_csv('raw data/mfaboston_7col.csv')"
   ]
  },
  {
   "cell_type": "code",
   "execution_count": 72,
   "metadata": {},
   "outputs": [
    {
     "data": {
      "text/html": [
       "<div>\n",
       "<style scoped>\n",
       "    .dataframe tbody tr th:only-of-type {\n",
       "        vertical-align: middle;\n",
       "    }\n",
       "\n",
       "    .dataframe tbody tr th {\n",
       "        vertical-align: top;\n",
       "    }\n",
       "\n",
       "    .dataframe thead th {\n",
       "        text-align: right;\n",
       "    }\n",
       "</style>\n",
       "<table border=\"1\" class=\"dataframe\">\n",
       "  <thead>\n",
       "    <tr style=\"text-align: right;\">\n",
       "      <th></th>\n",
       "      <th>object number</th>\n",
       "      <th>object url</th>\n",
       "      <th>download number</th>\n",
       "      <th>download url</th>\n",
       "      <th>title</th>\n",
       "      <th>culture</th>\n",
       "      <th>downloadable</th>\n",
       "    </tr>\n",
       "  </thead>\n",
       "  <tbody>\n",
       "    <tr>\n",
       "      <th>0</th>\n",
       "      <td>24510</td>\n",
       "      <td>https://collections.mfa.org/objects/24510/noh-costume-atsuita;jsessionid=AF89E578CDE8EF15BA693C213C7E67AE?ctx=f523b82f-d3f8-49b2-b58b-ad4b83b11e67&amp;idx=0</td>\n",
       "      <td>757433</td>\n",
       "      <td>https://collections.mfa.org/internal/media/dispatcher/757433/resize%3Aformat%3Dfull?download</td>\n",
       "      <td>Noh costume (atsuita)Kimono</td>\n",
       "      <td>[\\nJapanese\\n]</td>\n",
       "      <td>Y</td>\n",
       "    </tr>\n",
       "    <tr>\n",
       "      <th>1</th>\n",
       "      <td>645007</td>\n",
       "      <td>https://collections.mfa.org/objects/645007/bugaku-costume-in-5-parts-undercoat-shitagansane-vest-h;jsessionid=AF89E578CDE8EF15BA693C213C7E67AE?ctx=f523b82f-d3f8-49b2-b58b-ad4b83b11e67&amp;idx=1</td>\n",
       "      <td>1493972</td>\n",
       "      <td>https://collections.mfa.org/internal/media/dispatcher/1493972/resize%3Aformat%3Dfull?download</td>\n",
       "      <td>Bugaku costume in 5 parts: undercoat (shitagansane); vest (hanpi); split skirt (hakama); helmet (torikabuto) and under robe</td>\n",
       "      <td>[\\nJapanese\\n]</td>\n",
       "      <td>Y</td>\n",
       "    </tr>\n",
       "    <tr>\n",
       "      <th>2</th>\n",
       "      <td>155566</td>\n",
       "      <td>https://collections.mfa.org/objects/155566/kesa-buddhist-priests-robe;jsessionid=AF89E578CDE8EF15BA693C213C7E67AE?ctx=f523b82f-d3f8-49b2-b58b-ad4b83b11e67&amp;idx=2</td>\n",
       "      <td>1007847</td>\n",
       "      <td>https://collections.mfa.org/internal/media/dispatcher/1007847/resize%3Aformat%3Dfull?download</td>\n",
       "      <td>Kesa (Buddhist priest's robe)</td>\n",
       "      <td>[\\nJapanese\\n]</td>\n",
       "      <td>Y</td>\n",
       "    </tr>\n",
       "  </tbody>\n",
       "</table>\n",
       "</div>"
      ],
      "text/plain": [
       "   object number  \\\n",
       "0          24510   \n",
       "1         645007   \n",
       "2         155566   \n",
       "\n",
       "                                                                                                                                                                                      object url  \\\n",
       "0                                       https://collections.mfa.org/objects/24510/noh-costume-atsuita;jsessionid=AF89E578CDE8EF15BA693C213C7E67AE?ctx=f523b82f-d3f8-49b2-b58b-ad4b83b11e67&idx=0   \n",
       "1  https://collections.mfa.org/objects/645007/bugaku-costume-in-5-parts-undercoat-shitagansane-vest-h;jsessionid=AF89E578CDE8EF15BA693C213C7E67AE?ctx=f523b82f-d3f8-49b2-b58b-ad4b83b11e67&idx=1   \n",
       "2                               https://collections.mfa.org/objects/155566/kesa-buddhist-priests-robe;jsessionid=AF89E578CDE8EF15BA693C213C7E67AE?ctx=f523b82f-d3f8-49b2-b58b-ad4b83b11e67&idx=2   \n",
       "\n",
       "   download number  \\\n",
       "0           757433   \n",
       "1          1493972   \n",
       "2          1007847   \n",
       "\n",
       "                                                                                    download url  \\\n",
       "0   https://collections.mfa.org/internal/media/dispatcher/757433/resize%3Aformat%3Dfull?download   \n",
       "1  https://collections.mfa.org/internal/media/dispatcher/1493972/resize%3Aformat%3Dfull?download   \n",
       "2  https://collections.mfa.org/internal/media/dispatcher/1007847/resize%3Aformat%3Dfull?download   \n",
       "\n",
       "                                                                                                                         title  \\\n",
       "0                                                                                                  Noh costume (atsuita)Kimono   \n",
       "1  Bugaku costume in 5 parts: undercoat (shitagansane); vest (hanpi); split skirt (hakama); helmet (torikabuto) and under robe   \n",
       "2                                                                                                Kesa (Buddhist priest's robe)   \n",
       "\n",
       "          culture downloadable  \n",
       "0  [\\nJapanese\\n]            Y  \n",
       "1  [\\nJapanese\\n]            Y  \n",
       "2  [\\nJapanese\\n]            Y  "
      ]
     },
     "execution_count": 72,
     "metadata": {},
     "output_type": "execute_result"
    }
   ],
   "source": [
    "df_7col.head(3)"
   ]
  },
  {
   "cell_type": "markdown",
   "metadata": {},
   "source": [
    "## download images"
   ]
  },
  {
   "cell_type": "code",
   "execution_count": null,
   "metadata": {},
   "outputs": [],
   "source": []
  },
  {
   "cell_type": "code",
   "execution_count": null,
   "metadata": {},
   "outputs": [],
   "source": []
  },
  {
   "cell_type": "code",
   "execution_count": null,
   "metadata": {},
   "outputs": [],
   "source": [
    "def download_image(dir = 'clean image/VA/', df=df):\n",
    "    start = time.time()\n",
    "    print(f'{df.shape[0]} images will be downloaded.')    \n",
    "\n",
    "    name = df['systemNumber']\n",
    "    url = df['image_base']\n",
    "    name = list(name)\n",
    "    url = list(url)\n",
    "\n",
    "    error_id = []\n",
    "    error_n = 0\n",
    "\n",
    "    # check if the folder existed\n",
    "    # if not, create the folder\n",
    "    b = os.path.exists(dir)\n",
    "    if b == False:\n",
    "        os.mkdir(dir) \n",
    "\n",
    "    for n,u in zip(name,url):\n",
    "        filename = dir + n + '.jpg'\n",
    "        uu = u + 'full/full/0/default.jpg'\n",
    "        try:\n",
    "            z = urllib.request.urlopen(uu)\n",
    "            output = open(filename, 'wb')\n",
    "            output.write(z.read())\n",
    "            output.close()\n",
    "        except:\n",
    "            error_id.append(n)\n",
    "            print(f'error id {n}')\n",
    "            error_n += 1\n",
    "            print(f'{error_n} errors in total')\n",
    "            continue\n",
    "\n",
    "    end = time.time()\n",
    "    print(f'{end - start} secs slipped...')"
   ]
  },
  {
   "cell_type": "markdown",
   "metadata": {},
   "source": [
    "## define function download_image()"
   ]
  },
  {
   "cell_type": "code",
   "execution_count": 35,
   "metadata": {},
   "outputs": [],
   "source": [
    "# check if this object can be downloaded\n",
    "# if not, skip the rest process\n",
    "def check_downloadable(soup2):\n",
    "    # check if the image is downloadable\n",
    "    # there will be a 'download' button\n",
    "    # which believed to be in public domain\n",
    "    bl = soup2.body.findAll(text='DOWNLOAD')\n",
    "    return bool(bl)"
   ]
  },
  {
   "cell_type": "code",
   "execution_count": 84,
   "metadata": {},
   "outputs": [],
   "source": [
    "# save single image\n",
    "def download_image(dir, object_number, download_url, err_object):\n",
    "    # get the name of the file\n",
    "    # create the filepath to save the image\n",
    "    filepath = dir + object_number + '.jpg'\n",
    "\n",
    "    # save the image\n",
    "    # save the object number if failed\n",
    "    try:\n",
    "        z = urllib.request.urlopen(download_url)\n",
    "        output = open(filepath, 'wb')\n",
    "        output.write(z.read())\n",
    "        output.close() \n",
    "    except:\n",
    "        err_object.append(object_number)\n",
    "        print('save img err')"
   ]
  },
  {
   "cell_type": "markdown",
   "metadata": {},
   "source": [
    "## scrape_object() = check downloadable + download image + save dataframe"
   ]
  },
  {
   "cell_type": "code",
   "execution_count": 86,
   "metadata": {},
   "outputs": [],
   "source": [
    "def scrape_object(object_url, object_number, download_url, err_object, df):\n",
    "    try:\n",
    "        # get the bs for object page\n",
    "        req2 = requests.get(object_url)\n",
    "        soup2 = BeautifulSoup(req2.content,'html.parser')\n",
    "\n",
    "        # get the block of item details\n",
    "        tag = soup2.find('div',class_=\"item-details-inner\")\n",
    "\n",
    "        # locate the block that we need \n",
    "        tag1 = tag.contents[1] # which is the table on the left side of page\n",
    "\n",
    "        # check if object image is downloadable\n",
    "        # if not, skip\n",
    "        bl = check_downloadable(soup2)\n",
    "        if bl is True:\n",
    "            download_image(dir, object_number, download_url, err_object)\n",
    "            save_dataframe(tag1, soup2, object_number, df)\n",
    "\n",
    "    except:\n",
    "        err_object.append(object_number)\n",
    "        print('read single page error')"
   ]
  },
  {
   "cell_type": "markdown",
   "metadata": {},
   "source": [
    "## define function read_imgs()"
   ]
  },
  {
   "cell_type": "code",
   "execution_count": 87,
   "metadata": {},
   "outputs": [],
   "source": [
    "def read_imgs(soup, err_object, df):\n",
    "    # each page has 12 images\n",
    "    # read each image\n",
    "    k = soup.find_all('div',class_=\"primaryMedia\")\n",
    "\n",
    "    # there are chances to get timeout when read image page    \n",
    "    for j in range(len(k)):\n",
    "        # locate object number \n",
    "        object_str = k[j].find('a').get('href')\n",
    "        object_number = re.search('objects/(.*?)/', object_str).group(1)\n",
    "        url_base = 'https://collections.mfa.org'\n",
    "        object_url = url_base + object_str \n",
    "\n",
    "        # locate download_number\n",
    "        download_str = k[j].find('img').get('src')\n",
    "        download_number = re.search('dispatcher/(.*?)/', download_str).group(1)\n",
    "        download_url = f'https://collections.mfa.org/internal/media/dispatcher/{download_number}/resize%3Aformat%3Dfull?download'\n",
    "\n",
    "        scrape_object(object_url, object_number, download_url, err_object, df)\n",
    "\n"
   ]
  },
  {
   "cell_type": "code",
   "execution_count": null,
   "metadata": {},
   "outputs": [],
   "source": []
  },
  {
   "cell_type": "code",
   "execution_count": 104,
   "metadata": {},
   "outputs": [],
   "source": [
    "keyword = 'robe'\n",
    "page_n = 6\n",
    "url = f\"https://collections.mfa.org/search/Objects/*/{keyword}/images?filter=allClassifications%3ACostumes%3BimageExistence%3Atrue&page={page_n}\"\n",
    "r = requests.get(url)\n",
    "soup = BeautifulSoup(r.content,'html.parser')"
   ]
  },
  {
   "cell_type": "code",
   "execution_count": 105,
   "metadata": {},
   "outputs": [
    {
     "data": {
      "text/html": [
       "<div>\n",
       "<style scoped>\n",
       "    .dataframe tbody tr th:only-of-type {\n",
       "        vertical-align: middle;\n",
       "    }\n",
       "\n",
       "    .dataframe tbody tr th {\n",
       "        vertical-align: top;\n",
       "    }\n",
       "\n",
       "    .dataframe thead th {\n",
       "        text-align: right;\n",
       "    }\n",
       "</style>\n",
       "<table border=\"1\" class=\"dataframe\">\n",
       "  <thead>\n",
       "    <tr style=\"text-align: right;\">\n",
       "      <th></th>\n",
       "      <th>object number</th>\n",
       "      <th>object url</th>\n",
       "      <th>download number</th>\n",
       "      <th>download url</th>\n",
       "    </tr>\n",
       "  </thead>\n",
       "  <tbody>\n",
       "    <tr>\n",
       "      <th>0</th>\n",
       "      <td>28704</td>\n",
       "      <td>https://collections.mfa.org/objects/28704/buddhist-priests-robe-kesa;jsessionid=ECE5FDBF0220EE0E56509B75BB0B9DFF?ctx=3dbfb08c-163f-47db-b00f-8e3a698829eb&amp;idx=60</td>\n",
       "      <td>1643220</td>\n",
       "      <td>https://collections.mfa.org/internal/media/dispatcher/1643220/resize%3Aformat%3Dfull?download</td>\n",
       "    </tr>\n",
       "    <tr>\n",
       "      <th>0</th>\n",
       "      <td>28705</td>\n",
       "      <td>https://collections.mfa.org/objects/28705/buddhist-priests-robe-kesa;jsessionid=ECE5FDBF0220EE0E56509B75BB0B9DFF?ctx=3dbfb08c-163f-47db-b00f-8e3a698829eb&amp;idx=61</td>\n",
       "      <td>1007836</td>\n",
       "      <td>https://collections.mfa.org/internal/media/dispatcher/1007836/resize%3Aformat%3Dfull?download</td>\n",
       "    </tr>\n",
       "    <tr>\n",
       "      <th>0</th>\n",
       "      <td>28706</td>\n",
       "      <td>https://collections.mfa.org/objects/28706/buddhist-priests-robe-kesa;jsessionid=ECE5FDBF0220EE0E56509B75BB0B9DFF?ctx=3dbfb08c-163f-47db-b00f-8e3a698829eb&amp;idx=62</td>\n",
       "      <td>1007829</td>\n",
       "      <td>https://collections.mfa.org/internal/media/dispatcher/1007829/resize%3Aformat%3Dfull?download</td>\n",
       "    </tr>\n",
       "    <tr>\n",
       "      <th>0</th>\n",
       "      <td>6257</td>\n",
       "      <td>https://collections.mfa.org/objects/6257/strap-for-a-buddhist-priests-robe-kesa;jsessionid=ECE5FDBF0220EE0E56509B75BB0B9DFF?ctx=3dbfb08c-163f-47db-b00f-8e3a698829eb&amp;idx=63</td>\n",
       "      <td>1024060</td>\n",
       "      <td>https://collections.mfa.org/internal/media/dispatcher/1024060/resize%3Aformat%3Dfull?download</td>\n",
       "    </tr>\n",
       "    <tr>\n",
       "      <th>0</th>\n",
       "      <td>6270</td>\n",
       "      <td>https://collections.mfa.org/objects/6270/buddhist-priests-robe-kesa;jsessionid=ECE5FDBF0220EE0E56509B75BB0B9DFF?ctx=3dbfb08c-163f-47db-b00f-8e3a698829eb&amp;idx=64</td>\n",
       "      <td>1007894</td>\n",
       "      <td>https://collections.mfa.org/internal/media/dispatcher/1007894/resize%3Aformat%3Dfull?download</td>\n",
       "    </tr>\n",
       "    <tr>\n",
       "      <th>0</th>\n",
       "      <td>6277</td>\n",
       "      <td>https://collections.mfa.org/objects/6277/buddhist-priests-robe-kesa;jsessionid=ECE5FDBF0220EE0E56509B75BB0B9DFF?ctx=3dbfb08c-163f-47db-b00f-8e3a698829eb&amp;idx=65</td>\n",
       "      <td>1007895</td>\n",
       "      <td>https://collections.mfa.org/internal/media/dispatcher/1007895/resize%3Aformat%3Dfull?download</td>\n",
       "    </tr>\n",
       "    <tr>\n",
       "      <th>0</th>\n",
       "      <td>7252</td>\n",
       "      <td>https://collections.mfa.org/objects/7252/emperors-court-robe-jifu;jsessionid=ECE5FDBF0220EE0E56509B75BB0B9DFF?ctx=3dbfb08c-163f-47db-b00f-8e3a698829eb&amp;idx=66</td>\n",
       "      <td>1022795</td>\n",
       "      <td>https://collections.mfa.org/internal/media/dispatcher/1022795/resize%3Aformat%3Dfull?download</td>\n",
       "    </tr>\n",
       "    <tr>\n",
       "      <th>0</th>\n",
       "      <td>7826</td>\n",
       "      <td>https://collections.mfa.org/objects/7826/fragment-of-a-mans-court-robe-jifu;jsessionid=ECE5FDBF0220EE0E56509B75BB0B9DFF?ctx=3dbfb08c-163f-47db-b00f-8e3a698829eb&amp;idx=67</td>\n",
       "      <td>577463</td>\n",
       "      <td>https://collections.mfa.org/internal/media/dispatcher/577463/resize%3Aformat%3Dfull?download</td>\n",
       "    </tr>\n",
       "    <tr>\n",
       "      <th>0</th>\n",
       "      <td>8040</td>\n",
       "      <td>https://collections.mfa.org/objects/8040/mans-semiformal-court-robe-jifu;jsessionid=ECE5FDBF0220EE0E56509B75BB0B9DFF?ctx=3dbfb08c-163f-47db-b00f-8e3a698829eb&amp;idx=68</td>\n",
       "      <td>1022801</td>\n",
       "      <td>https://collections.mfa.org/internal/media/dispatcher/1022801/resize%3Aformat%3Dfull?download</td>\n",
       "    </tr>\n",
       "    <tr>\n",
       "      <th>0</th>\n",
       "      <td>8041</td>\n",
       "      <td>https://collections.mfa.org/objects/8041/mans-semiformal-court-robe-jifu;jsessionid=ECE5FDBF0220EE0E56509B75BB0B9DFF?ctx=3dbfb08c-163f-47db-b00f-8e3a698829eb&amp;idx=69</td>\n",
       "      <td>962048</td>\n",
       "      <td>https://collections.mfa.org/internal/media/dispatcher/962048/resize%3Aformat%3Dfull?download</td>\n",
       "    </tr>\n",
       "    <tr>\n",
       "      <th>0</th>\n",
       "      <td>8042</td>\n",
       "      <td>https://collections.mfa.org/objects/8042/mans-semiformal-court-robe-jifu;jsessionid=ECE5FDBF0220EE0E56509B75BB0B9DFF?ctx=3dbfb08c-163f-47db-b00f-8e3a698829eb&amp;idx=70</td>\n",
       "      <td>1022802</td>\n",
       "      <td>https://collections.mfa.org/internal/media/dispatcher/1022802/resize%3Aformat%3Dfull?download</td>\n",
       "    </tr>\n",
       "    <tr>\n",
       "      <th>0</th>\n",
       "      <td>8043</td>\n",
       "      <td>https://collections.mfa.org/objects/8043/mans-semiformal-court-robe-jifu;jsessionid=ECE5FDBF0220EE0E56509B75BB0B9DFF?ctx=3dbfb08c-163f-47db-b00f-8e3a698829eb&amp;idx=71</td>\n",
       "      <td>766000</td>\n",
       "      <td>https://collections.mfa.org/internal/media/dispatcher/766000/resize%3Aformat%3Dfull?download</td>\n",
       "    </tr>\n",
       "  </tbody>\n",
       "</table>\n",
       "</div>"
      ],
      "text/plain": [
       "  object number  \\\n",
       "0         28704   \n",
       "0         28705   \n",
       "0         28706   \n",
       "0          6257   \n",
       "0          6270   \n",
       "0          6277   \n",
       "0          7252   \n",
       "0          7826   \n",
       "0          8040   \n",
       "0          8041   \n",
       "0          8042   \n",
       "0          8043   \n",
       "\n",
       "                                                                                                                                                                    object url  \\\n",
       "0             https://collections.mfa.org/objects/28704/buddhist-priests-robe-kesa;jsessionid=ECE5FDBF0220EE0E56509B75BB0B9DFF?ctx=3dbfb08c-163f-47db-b00f-8e3a698829eb&idx=60   \n",
       "0             https://collections.mfa.org/objects/28705/buddhist-priests-robe-kesa;jsessionid=ECE5FDBF0220EE0E56509B75BB0B9DFF?ctx=3dbfb08c-163f-47db-b00f-8e3a698829eb&idx=61   \n",
       "0             https://collections.mfa.org/objects/28706/buddhist-priests-robe-kesa;jsessionid=ECE5FDBF0220EE0E56509B75BB0B9DFF?ctx=3dbfb08c-163f-47db-b00f-8e3a698829eb&idx=62   \n",
       "0  https://collections.mfa.org/objects/6257/strap-for-a-buddhist-priests-robe-kesa;jsessionid=ECE5FDBF0220EE0E56509B75BB0B9DFF?ctx=3dbfb08c-163f-47db-b00f-8e3a698829eb&idx=63   \n",
       "0              https://collections.mfa.org/objects/6270/buddhist-priests-robe-kesa;jsessionid=ECE5FDBF0220EE0E56509B75BB0B9DFF?ctx=3dbfb08c-163f-47db-b00f-8e3a698829eb&idx=64   \n",
       "0              https://collections.mfa.org/objects/6277/buddhist-priests-robe-kesa;jsessionid=ECE5FDBF0220EE0E56509B75BB0B9DFF?ctx=3dbfb08c-163f-47db-b00f-8e3a698829eb&idx=65   \n",
       "0                https://collections.mfa.org/objects/7252/emperors-court-robe-jifu;jsessionid=ECE5FDBF0220EE0E56509B75BB0B9DFF?ctx=3dbfb08c-163f-47db-b00f-8e3a698829eb&idx=66   \n",
       "0      https://collections.mfa.org/objects/7826/fragment-of-a-mans-court-robe-jifu;jsessionid=ECE5FDBF0220EE0E56509B75BB0B9DFF?ctx=3dbfb08c-163f-47db-b00f-8e3a698829eb&idx=67   \n",
       "0         https://collections.mfa.org/objects/8040/mans-semiformal-court-robe-jifu;jsessionid=ECE5FDBF0220EE0E56509B75BB0B9DFF?ctx=3dbfb08c-163f-47db-b00f-8e3a698829eb&idx=68   \n",
       "0         https://collections.mfa.org/objects/8041/mans-semiformal-court-robe-jifu;jsessionid=ECE5FDBF0220EE0E56509B75BB0B9DFF?ctx=3dbfb08c-163f-47db-b00f-8e3a698829eb&idx=69   \n",
       "0         https://collections.mfa.org/objects/8042/mans-semiformal-court-robe-jifu;jsessionid=ECE5FDBF0220EE0E56509B75BB0B9DFF?ctx=3dbfb08c-163f-47db-b00f-8e3a698829eb&idx=70   \n",
       "0         https://collections.mfa.org/objects/8043/mans-semiformal-court-robe-jifu;jsessionid=ECE5FDBF0220EE0E56509B75BB0B9DFF?ctx=3dbfb08c-163f-47db-b00f-8e3a698829eb&idx=71   \n",
       "\n",
       "  download number  \\\n",
       "0         1643220   \n",
       "0         1007836   \n",
       "0         1007829   \n",
       "0         1024060   \n",
       "0         1007894   \n",
       "0         1007895   \n",
       "0         1022795   \n",
       "0          577463   \n",
       "0         1022801   \n",
       "0          962048   \n",
       "0         1022802   \n",
       "0          766000   \n",
       "\n",
       "                                                                                    download url  \n",
       "0  https://collections.mfa.org/internal/media/dispatcher/1643220/resize%3Aformat%3Dfull?download  \n",
       "0  https://collections.mfa.org/internal/media/dispatcher/1007836/resize%3Aformat%3Dfull?download  \n",
       "0  https://collections.mfa.org/internal/media/dispatcher/1007829/resize%3Aformat%3Dfull?download  \n",
       "0  https://collections.mfa.org/internal/media/dispatcher/1024060/resize%3Aformat%3Dfull?download  \n",
       "0  https://collections.mfa.org/internal/media/dispatcher/1007894/resize%3Aformat%3Dfull?download  \n",
       "0  https://collections.mfa.org/internal/media/dispatcher/1007895/resize%3Aformat%3Dfull?download  \n",
       "0  https://collections.mfa.org/internal/media/dispatcher/1022795/resize%3Aformat%3Dfull?download  \n",
       "0   https://collections.mfa.org/internal/media/dispatcher/577463/resize%3Aformat%3Dfull?download  \n",
       "0  https://collections.mfa.org/internal/media/dispatcher/1022801/resize%3Aformat%3Dfull?download  \n",
       "0   https://collections.mfa.org/internal/media/dispatcher/962048/resize%3Aformat%3Dfull?download  \n",
       "0  https://collections.mfa.org/internal/media/dispatcher/1022802/resize%3Aformat%3Dfull?download  \n",
       "0   https://collections.mfa.org/internal/media/dispatcher/766000/resize%3Aformat%3Dfull?download  "
      ]
     },
     "execution_count": 105,
     "metadata": {},
     "output_type": "execute_result"
    }
   ],
   "source": [
    "get_12_obj_df(soup)"
   ]
  },
  {
   "cell_type": "code",
   "execution_count": null,
   "metadata": {},
   "outputs": [],
   "source": []
  },
  {
   "cell_type": "code",
   "execution_count": null,
   "metadata": {},
   "outputs": [],
   "source": []
  },
  {
   "cell_type": "code",
   "execution_count": null,
   "metadata": {},
   "outputs": [],
   "source": []
  },
  {
   "cell_type": "code",
   "execution_count": null,
   "metadata": {},
   "outputs": [],
   "source": [
    "                r = requests.get(url, headers = headers)\n",
    "                soup_key = BeautifulSoup(r.content,'html.parser')\n",
    "\n",
    "                print(f'{keyword} - page {i} - {r}') # check if request 200\n",
    "\n",
    "            except:\n",
    "                # if not sucessful, save the page number\n",
    "                timeout_pages.append(i)\n",
    "                print(f'{keyword} - page {i} - timeout')\n",
    "\n",
    "\n",
    "    # init a list to store timeout pages\n",
    "    timeout_pages = []\n",
    "    for i in range(25,26):\n",
    "        url = f\"https://collections.mfa.org/search/Objects/*/{keyword}/images?filter=allClassifications%3ACostumes%3BimageExistence%3Atrue&page={i}\"\n",
    "\n",
    "        # there are chances to get timeout\n",
    "        # so try\n",
    "        # and save timeout pages for iterate later\n",
    "        try:\n",
    "            r = requests.get(url, headers = headers)\n",
    "            soup_key = BeautifulSoup(r.content,'html.parser')\n",
    "            print(f'{keyword} - page {i} - {r}') # check if request 200\n",
    "            read_imgs(soup_key, err_object, df)\n",
    "\n",
    "        except:\n",
    "            # if not sucessful, save the page number\n",
    "            timeout_pages.append(i)\n",
    "            print(f'{keyword} - page {i} - timeout')\n",
    "        \n",
    "    timeout_dict[keyword] = timeout_pages\n",
    "    print(timeout_dict)\n",
    "\n",
    "\n",
    "#save the timeout pages if needed\n",
    "# with open('timeout_dict.pkl', 'wb') as f:\n",
    "#     pickle.dump(timeout_dict, f)\n"
   ]
  },
  {
   "cell_type": "code",
   "execution_count": 91,
   "metadata": {},
   "outputs": [
    {
     "data": {
      "text/html": [
       "<div>\n",
       "<style scoped>\n",
       "    .dataframe tbody tr th:only-of-type {\n",
       "        vertical-align: middle;\n",
       "    }\n",
       "\n",
       "    .dataframe tbody tr th {\n",
       "        vertical-align: top;\n",
       "    }\n",
       "\n",
       "    .dataframe thead th {\n",
       "        text-align: right;\n",
       "    }\n",
       "</style>\n",
       "<table border=\"1\" class=\"dataframe\">\n",
       "  <thead>\n",
       "    <tr style=\"text-align: right;\">\n",
       "      <th></th>\n",
       "      <th>object number</th>\n",
       "      <th>title</th>\n",
       "      <th>culture</th>\n",
       "      <th>medium</th>\n",
       "      <th>classifications</th>\n",
       "    </tr>\n",
       "  </thead>\n",
       "  <tbody>\n",
       "  </tbody>\n",
       "</table>\n",
       "</div>"
      ],
      "text/plain": [
       "Empty DataFrame\n",
       "Columns: [object number, title, culture, medium, classifications]\n",
       "Index: []"
      ]
     },
     "execution_count": 91,
     "metadata": {},
     "output_type": "execute_result"
    }
   ],
   "source": [
    "df"
   ]
  },
  {
   "cell_type": "code",
   "execution_count": 92,
   "metadata": {},
   "outputs": [
    {
     "data": {
      "text/plain": [
       "['68370',\n",
       " '68372',\n",
       " '68373',\n",
       " '68377',\n",
       " '68394',\n",
       " '68395',\n",
       " '68680',\n",
       " '73666',\n",
       " '23534',\n",
       " '24170',\n",
       " '24171',\n",
       " '24172',\n",
       " '98480',\n",
       " '98560',\n",
       " '98711',\n",
       " '99161',\n",
       " '99242',\n",
       " '100201',\n",
       " '100722',\n",
       " '68394',\n",
       " '68395',\n",
       " '68680',\n",
       " '73666',\n",
       " '23534',\n",
       " '99336']"
      ]
     },
     "execution_count": 92,
     "metadata": {},
     "output_type": "execute_result"
    }
   ],
   "source": [
    "err_object"
   ]
  },
  {
   "cell_type": "code",
   "execution_count": null,
   "metadata": {},
   "outputs": [],
   "source": []
  },
  {
   "cell_type": "code",
   "execution_count": 3,
   "metadata": {},
   "outputs": [],
   "source": [
    "soup_key = BeautifulSoup(r.content,'html.parser')"
   ]
  },
  {
   "cell_type": "markdown",
   "metadata": {},
   "source": [
    "#### find how many pages"
   ]
  },
  {
   "cell_type": "code",
   "execution_count": 4,
   "metadata": {},
   "outputs": [
    {
     "name": "stdout",
     "output_type": "stream",
     "text": [
      "there are 116 pages for keyword dress.\n"
     ]
    }
   ],
   "source": [
    "page_n = soup_key.find('span', class_=\"maxPages\").text[2:].strip()\n",
    "print(f'there are {page_n} pages for keyword {keyword}.')"
   ]
  },
  {
   "cell_type": "markdown",
   "metadata": {},
   "source": [
    "#### find object number and download number"
   ]
  },
  {
   "cell_type": "code",
   "execution_count": 5,
   "metadata": {},
   "outputs": [],
   "source": [
    "# this is the 12 images div info\n",
    "k = soup_key.find_all('div',class_=\"primaryMedia\")"
   ]
  },
  {
   "cell_type": "code",
   "execution_count": 6,
   "metadata": {},
   "outputs": [
    {
     "data": {
      "text/plain": [
       "12"
      ]
     },
     "execution_count": 6,
     "metadata": {},
     "output_type": "execute_result"
    }
   ],
   "source": [
    "len(k)"
   ]
  },
  {
   "cell_type": "code",
   "execution_count": 9,
   "metadata": {},
   "outputs": [
    {
     "data": {
      "text/plain": [
       "<div class=\"primaryMedia img-wrap\"><a href=\"/objects/537843/womans-wedding-dress;jsessionid=41E61B82497A26DB19F0FCDA0B436A3B?ctx=a73acb1e-8c32-4285-b176-9e8e1913efbd&amp;idx=719\" title=\"Woman's wedding dress\"><div class=\"emuseum-img-wrap width-img-wrap\" style=\"max-height:279px;max-width:279px;\"><img class=\"\" src=\"/internal/media/dispatcher/1190013/resize%3Aformat%3Dthumbnail;jsessionid=41E61B82497A26DB19F0FCDA0B436A3B\" title=\"Woman's wedding dress\"/></div><!-- Default (format unspecific) block when media not available --><!-- Access is restricted --><!-- UNKNOWN mimetype --><!-- IMAGE blocks --><!-- AUDIO blocks --><!-- VIDEO blocks --><!-- ZOOMIFY block --><!-- PDF files --><!-- Media info --></a></div>"
      ]
     },
     "execution_count": 9,
     "metadata": {},
     "output_type": "execute_result"
    }
   ],
   "source": [
    "# href has the object number for info scraping\n",
    "# img src has the number of download link\n",
    "k[11]"
   ]
  },
  {
   "cell_type": "code",
   "execution_count": 10,
   "metadata": {},
   "outputs": [
    {
     "data": {
      "text/plain": [
       "'/objects/537843/womans-wedding-dress;jsessionid=41E61B82497A26DB19F0FCDA0B436A3B?ctx=a73acb1e-8c32-4285-b176-9e8e1913efbd&idx=719'"
      ]
     },
     "execution_count": 10,
     "metadata": {},
     "output_type": "execute_result"
    }
   ],
   "source": [
    "# find the object number\n",
    "object_str = k[11].find('a').get('href')\n",
    "object_str"
   ]
  },
  {
   "cell_type": "code",
   "execution_count": 11,
   "metadata": {},
   "outputs": [
    {
     "data": {
      "text/plain": [
       "'537843'"
      ]
     },
     "execution_count": 11,
     "metadata": {},
     "output_type": "execute_result"
    }
   ],
   "source": [
    "object_number = re.search('objects/(.*?)/', object_str).group(1)\n",
    "object_number"
   ]
  },
  {
   "cell_type": "code",
   "execution_count": 12,
   "metadata": {},
   "outputs": [
    {
     "name": "stdout",
     "output_type": "stream",
     "text": [
      "https://collections.mfa.org/objects/537843/womans-wedding-dress;jsessionid=41E61B82497A26DB19F0FCDA0B436A3B?ctx=a73acb1e-8c32-4285-b176-9e8e1913efbd&idx=719\n"
     ]
    }
   ],
   "source": [
    "# url of the certain object\n",
    "# for capturing info for dataframe\n",
    "url_base = 'https://collections.mfa.org'\n",
    "object_url = url_base + object_str\n",
    "print(object_url)\n"
   ]
  },
  {
   "cell_type": "code",
   "execution_count": 13,
   "metadata": {},
   "outputs": [
    {
     "data": {
      "text/plain": [
       "'/internal/media/dispatcher/1190013/resize%3Aformat%3Dthumbnail;jsessionid=41E61B82497A26DB19F0FCDA0B436A3B'"
      ]
     },
     "execution_count": 13,
     "metadata": {},
     "output_type": "execute_result"
    }
   ],
   "source": [
    "# find the download number of this object\n",
    "# the download number is somehow different than the object number\n",
    "download_str = k[11].find('img').get('src')\n",
    "download_str"
   ]
  },
  {
   "cell_type": "code",
   "execution_count": 14,
   "metadata": {},
   "outputs": [
    {
     "data": {
      "text/plain": [
       "'1190013'"
      ]
     },
     "execution_count": 14,
     "metadata": {},
     "output_type": "execute_result"
    }
   ],
   "source": [
    "download_number = re.search('dispatcher/(.*?)/', download_str).group(1)\n",
    "download_number"
   ]
  },
  {
   "cell_type": "code",
   "execution_count": 15,
   "metadata": {},
   "outputs": [
    {
     "name": "stdout",
     "output_type": "stream",
     "text": [
      "https://collections.mfa.org/internal/media/dispatcher/1190013/resize%3Aformat%3Dfull?download\n"
     ]
    }
   ],
   "source": [
    "# the download url\n",
    "url_base = 'https://collections.mfa.org'\n",
    "download_url = f'https://collections.mfa.org/internal/media/dispatcher/{download_number}/resize%3Aformat%3Dfull?download'\n",
    "print(download_url)"
   ]
  },
  {
   "cell_type": "markdown",
   "metadata": {},
   "source": [
    "#### check if image is downloadable"
   ]
  },
  {
   "cell_type": "code",
   "execution_count": 16,
   "metadata": {},
   "outputs": [],
   "source": [
    "# get the bs for object page\n",
    "req2 = requests.get(object_url)\n",
    "soup2 = BeautifulSoup(req2.content,'html.parser')"
   ]
  },
  {
   "cell_type": "code",
   "execution_count": 37,
   "metadata": {},
   "outputs": [
    {
     "name": "stdout",
     "output_type": "stream",
     "text": [
      "This image is downloadable.\n"
     ]
    }
   ],
   "source": [
    "# check if the image is downloadable\n",
    "# there will be a 'download' button\n",
    "# which believed to be in public domain\n",
    "bl = soup2.body.findAll(text='DOWNLOAD')\n",
    "if bool(bl) is True:\n",
    "    print('This image is downloadable.')\n",
    "else:\n",
    "    print('This image cannot be downloaded.')"
   ]
  },
  {
   "cell_type": "markdown",
   "metadata": {},
   "source": [
    "#### save image"
   ]
  },
  {
   "cell_type": "code",
   "execution_count": 28,
   "metadata": {},
   "outputs": [
    {
     "name": "stdout",
     "output_type": "stream",
     "text": [
      "testing/537843.jpg\n"
     ]
    }
   ],
   "source": [
    "# get the name of the file\n",
    "# create the filepath to save the image\n",
    "dir = 'testing/'\n",
    "filepath = dir + object_number + '.jpg'\n",
    "\n",
    "print(filepath)"
   ]
  },
  {
   "cell_type": "code",
   "execution_count": 35,
   "metadata": {},
   "outputs": [],
   "source": [
    "# save the image\n",
    "z = urllib.request.urlopen(download_url)\n",
    "output = open(filepath, 'wb')\n",
    "output.write(z.read())\n",
    "output.close()"
   ]
  },
  {
   "cell_type": "markdown",
   "metadata": {},
   "source": [
    "#### save dataframe"
   ]
  },
  {
   "cell_type": "code",
   "execution_count": 38,
   "metadata": {},
   "outputs": [
    {
     "data": {
      "text/plain": [
       "\"Woman's wedding dress\""
      ]
     },
     "execution_count": 38,
     "metadata": {},
     "output_type": "execute_result"
    }
   ],
   "source": [
    "# title\n",
    "soup2.find('div',class_=\"detailField titleField\").text"
   ]
  },
  {
   "cell_type": "code",
   "execution_count": 39,
   "metadata": {},
   "outputs": [
    {
     "data": {
      "text/plain": [
       "'about 1945'"
      ]
     },
     "execution_count": 39,
     "metadata": {},
     "output_type": "execute_result"
    }
   ],
   "source": [
    "# year?\n",
    "soup2.find('div',class_=\"detailField displayDateField\").text.strip()"
   ]
  },
  {
   "cell_type": "code",
   "execution_count": 40,
   "metadata": {},
   "outputs": [
    {
     "data": {
      "text/plain": [
       "<title>Woman's wedding dress – Works – Museum of Fine Arts, Boston</title>"
      ]
     },
     "execution_count": 40,
     "metadata": {},
     "output_type": "execute_result"
    }
   ],
   "source": [
    "soup2.title"
   ]
  },
  {
   "cell_type": "code",
   "execution_count": 41,
   "metadata": {},
   "outputs": [
    {
     "data": {
      "text/plain": [
       "'Woman\\'s wedding dressLabeled: II O II [Utility] (British, 1945–1950)\\nEnglish\\n\\nabout 1945\\nObject Place: EnglandMedium/Technique\\nAcetate satin weaveDimensions\\nCenter back: 188 cm (74 in.)\\r\\nCenter front: 135.9 x 74.9 cm (53 1/2 CF x 29 1/2 in. Waist measurement)\\r\\nBust: 38 1/2\"Credit Line\\nGift of Jean S. and Frederic A. SharfAccession Number2010.1381NOT ON VIEWCollectionsEurope, Textiles and Fashion ArtsClassificationsCostumesDescriptionWhite satin long sleeve wedding dress with white leaf patterning. Square neckline with padded shoulders. Waistline at natural waist with narrow pleating along waistband, self belt that ties in back. Long skirt with short train. Buttons down center back. Metal zipper on right side. Interior label at neckline: \"II O II\".ProvenanceBy 2010, with Leslie Verrinder, Tin Tin Collectables, London; 2010, sold by Verrinder to Frederic Sharf, Chestnut Hill, MA; 2010, year-end gift of Sharf to the MFA. (Accession date: January 26, 2011)'"
      ]
     },
     "execution_count": 41,
     "metadata": {},
     "output_type": "execute_result"
    }
   ],
   "source": [
    "soup2.find('div',class_=\"item-details-inner\").get_text()"
   ]
  },
  {
   "cell_type": "code",
   "execution_count": 18,
   "metadata": {},
   "outputs": [
    {
     "data": {
      "text/plain": [
       "<div class=\"item-details-inner\"><!-- LEFT COLUMN --><div class=\"col-lg-6\"><div class=\"detailField titleField\"><h2>Woman's wedding dress</h2><!--Woman's wedding dress--></div><div class=\"detailField peopleField\">Labeled: <a href=\"/advancedsearch/Objects/peopleSearch%3AII%20O%20II%20%5BUtility%5D;jsessionid=9145A8B9C886A9D04F94F89AEBD17CEB\">II O II [Utility]</a> (British, 1945–1950)</div><div class=\"detailField cultureField\">\n",
       "English\n",
       "</div><div class=\"detailField displayDateField\">\n",
       "about 1945\n",
       "</div><div class=\"detailField objectGeographyField\">Object Place: England<br/><hr class=\"detailLine\"/></div><div class=\"detailField mediumField\"><span class=\"detailFieldLabel topLabel\">Medium/Technique</span><span class=\"detailFieldValue\">\n",
       "Acetate satin weave<br/></span></div><div class=\"detailField dimensionsField != null\"><span class=\"detailFieldLabel topLabel\">Dimensions</span><span class=\"detailFieldValue\">\n",
       "Center back: 188 cm (74 in.)\n",
       "<br/>\n",
       "Center front: 135.9 x 74.9 cm (53 1/2 CF x 29 1/2 in. Waist measurement)\n",
       "<br/>\n",
       "Bust: 38 1/2\"<br/></span></div><div class=\"detailField creditlineField != null\"><span class=\"detailFieldLabel topLabel\">Credit Line</span><span class=\"detailFieldValue\">\n",
       "Gift of Jean S. and Frederic A. Sharf<br/></span></div><div class=\"detailField invnolineField\"><span class=\"detailFieldLabel topLabel\">Accession Number</span><span class=\"detailFieldValue\">2010.1381</span></div><div class=\"detailField onviewField\"><span class=\"detailFieldLabel\">NOT ON VIEW</span></div><div class=\"detailField collectionTermsField\"><span class=\"detailFieldLabel topLabel\">Collections</span><span class=\"detailFieldValue\"><a href=\"/advancedsearch/Objects/collectionTerms%3AEurope;jsessionid=9145A8B9C886A9D04F94F89AEBD17CEB\">Europe</a>, <a href=\"/advancedsearch/Objects/collectionTerms%3ATextiles%20and%20Fashion%20Arts;jsessionid=9145A8B9C886A9D04F94F89AEBD17CEB\">Textiles and Fashion Arts</a></span></div><div class=\"detailField classificationsField\"><span class=\"detailFieldLabel topLabel\">Classifications</span><span class=\"detailFieldValue\"><a href=\"/advancedsearch/Objects/classifications%3ACostumes;jsessionid=9145A8B9C886A9D04F94F89AEBD17CEB\">Costumes</a><br/></span></div></div><!-- RIGHT COLUMN --><div class=\"col-lg-6\"><div class=\"detailField webDescriptionField\"><hr class=\"detailLine\"/></div><div class=\"detailField descriptionField\"><span class=\"detailFieldLabel topLabel\">Description</span><span class=\"detailFieldValue\">White satin long sleeve wedding dress with white leaf patterning. Square neckline with padded shoulders. Waistline at natural waist with narrow pleating along waistband, self belt that ties in back. Long skirt with short train. Buttons down center back. Metal zipper on right side. Interior label at neckline: \"II O II\".<br/></span></div><div class=\"detailField provenanceField\"><span class=\"detailFieldLabel topLabel\">Provenance</span><span class=\"detailFieldValue\">By 2010, with Leslie Verrinder, Tin Tin Collectables, London; 2010, sold by Verrinder to Frederic Sharf, Chestnut Hill, MA; 2010, year-end gift of Sharf to the MFA. (Accession date: January 26, 2011)<br/></span></div><div class=\"detailField objectGeographyField\"><hr class=\"detailLine\"/></div></div></div>"
      ]
     },
     "execution_count": 18,
     "metadata": {},
     "output_type": "execute_result"
    }
   ],
   "source": [
    "# get the block of item details\n",
    "tag = soup2.find('div',class_=\"item-details-inner\")\n",
    "tag"
   ]
  },
  {
   "cell_type": "code",
   "execution_count": 19,
   "metadata": {},
   "outputs": [
    {
     "data": {
      "text/plain": [
       "<div class=\"col-lg-6\"><div class=\"detailField titleField\"><h2>Woman's wedding dress</h2><!--Woman's wedding dress--></div><div class=\"detailField peopleField\">Labeled: <a href=\"/advancedsearch/Objects/peopleSearch%3AII%20O%20II%20%5BUtility%5D;jsessionid=9145A8B9C886A9D04F94F89AEBD17CEB\">II O II [Utility]</a> (British, 1945–1950)</div><div class=\"detailField cultureField\">\n",
       "English\n",
       "</div><div class=\"detailField displayDateField\">\n",
       "about 1945\n",
       "</div><div class=\"detailField objectGeographyField\">Object Place: England<br/><hr class=\"detailLine\"/></div><div class=\"detailField mediumField\"><span class=\"detailFieldLabel topLabel\">Medium/Technique</span><span class=\"detailFieldValue\">\n",
       "Acetate satin weave<br/></span></div><div class=\"detailField dimensionsField != null\"><span class=\"detailFieldLabel topLabel\">Dimensions</span><span class=\"detailFieldValue\">\n",
       "Center back: 188 cm (74 in.)\n",
       "<br/>\n",
       "Center front: 135.9 x 74.9 cm (53 1/2 CF x 29 1/2 in. Waist measurement)\n",
       "<br/>\n",
       "Bust: 38 1/2\"<br/></span></div><div class=\"detailField creditlineField != null\"><span class=\"detailFieldLabel topLabel\">Credit Line</span><span class=\"detailFieldValue\">\n",
       "Gift of Jean S. and Frederic A. Sharf<br/></span></div><div class=\"detailField invnolineField\"><span class=\"detailFieldLabel topLabel\">Accession Number</span><span class=\"detailFieldValue\">2010.1381</span></div><div class=\"detailField onviewField\"><span class=\"detailFieldLabel\">NOT ON VIEW</span></div><div class=\"detailField collectionTermsField\"><span class=\"detailFieldLabel topLabel\">Collections</span><span class=\"detailFieldValue\"><a href=\"/advancedsearch/Objects/collectionTerms%3AEurope;jsessionid=9145A8B9C886A9D04F94F89AEBD17CEB\">Europe</a>, <a href=\"/advancedsearch/Objects/collectionTerms%3ATextiles%20and%20Fashion%20Arts;jsessionid=9145A8B9C886A9D04F94F89AEBD17CEB\">Textiles and Fashion Arts</a></span></div><div class=\"detailField classificationsField\"><span class=\"detailFieldLabel topLabel\">Classifications</span><span class=\"detailFieldValue\"><a href=\"/advancedsearch/Objects/classifications%3ACostumes;jsessionid=9145A8B9C886A9D04F94F89AEBD17CEB\">Costumes</a><br/></span></div></div>"
      ]
     },
     "execution_count": 19,
     "metadata": {},
     "output_type": "execute_result"
    }
   ],
   "source": [
    "# locate the block that we need\n",
    "tag1 = tag.contents[1]\n",
    "tag1"
   ]
  },
  {
   "cell_type": "code",
   "execution_count": 45,
   "metadata": {},
   "outputs": [
    {
     "data": {
      "text/plain": [
       "12"
      ]
     },
     "execution_count": 45,
     "metadata": {},
     "output_type": "execute_result"
    }
   ],
   "source": [
    "# n of features\n",
    "len(tag1)"
   ]
  },
  {
   "cell_type": "code",
   "execution_count": 47,
   "metadata": {},
   "outputs": [
    {
     "data": {
      "text/plain": [
       "'peopleField'"
      ]
     },
     "execution_count": 47,
     "metadata": {},
     "output_type": "execute_result"
    }
   ],
   "source": [
    "tag1.contents[1]['class'][1]"
   ]
  },
  {
   "cell_type": "code",
   "execution_count": 54,
   "metadata": {},
   "outputs": [
    {
     "data": {
      "text/plain": [
       "'cultureField'"
      ]
     },
     "execution_count": 54,
     "metadata": {},
     "output_type": "execute_result"
    }
   ],
   "source": [
    "tag1.contents[2]['class'][1]"
   ]
  },
  {
   "cell_type": "code",
   "execution_count": 20,
   "metadata": {},
   "outputs": [
    {
     "data": {
      "text/html": [
       "<div>\n",
       "<style scoped>\n",
       "    .dataframe tbody tr th:only-of-type {\n",
       "        vertical-align: middle;\n",
       "    }\n",
       "\n",
       "    .dataframe tbody tr th {\n",
       "        vertical-align: top;\n",
       "    }\n",
       "\n",
       "    .dataframe thead th {\n",
       "        text-align: right;\n",
       "    }\n",
       "</style>\n",
       "<table border=\"1\" class=\"dataframe\">\n",
       "  <thead>\n",
       "    <tr style=\"text-align: right;\">\n",
       "      <th></th>\n",
       "      <th>object number</th>\n",
       "      <th>title</th>\n",
       "      <th>people</th>\n",
       "      <th>culture</th>\n",
       "      <th>displayDate</th>\n",
       "      <th>objectGeography</th>\n",
       "      <th>medium</th>\n",
       "      <th>dimensions</th>\n",
       "      <th>creditline</th>\n",
       "      <th>invnoline</th>\n",
       "      <th>onview</th>\n",
       "      <th>collectionTerms</th>\n",
       "      <th>classifications</th>\n",
       "    </tr>\n",
       "  </thead>\n",
       "  <tbody>\n",
       "  </tbody>\n",
       "</table>\n",
       "</div>"
      ],
      "text/plain": [
       "Empty DataFrame\n",
       "Columns: [object number, title, people, culture, displayDate, objectGeography, medium, dimensions, creditline, invnoline, onview, collectionTerms, classifications]\n",
       "Index: []"
      ]
     },
     "execution_count": 20,
     "metadata": {},
     "output_type": "execute_result"
    }
   ],
   "source": [
    "# initiate df index\n",
    "detailField = []\n",
    "detailField.append('object number')\n",
    "detailField.append('title')\n",
    "for i in range(1,len(tag1)):\n",
    "    detailField.append(tag1.contents[i]['class'][1][:-5])\n",
    "\n",
    "df = pd.DataFrame(columns=detailField)\n",
    "df"
   ]
  },
  {
   "cell_type": "code",
   "execution_count": 22,
   "metadata": {},
   "outputs": [
    {
     "name": "stdout",
     "output_type": "stream",
     "text": [
      "['object number', 'title', 'people', 'culture', 'displayDate', 'objectGeography', 'medium', 'dimensions', 'creditline', 'invnoline', 'onview', 'collectionTerms', 'classifications']\n"
     ]
    }
   ],
   "source": [
    "print(detailField)"
   ]
  },
  {
   "cell_type": "code",
   "execution_count": 59,
   "metadata": {},
   "outputs": [
    {
     "name": "stdout",
     "output_type": "stream",
     "text": [
      "['537843', \"Woman's wedding dress\", '(British, 1945–1950)', 'English', 'about 1945', '', 'Acetate satin weave', 'Center back: 188 cm (74 in.)\\rCenter front: 135.9 x 74.9 cm (53 1/2 CF x 29 1/2 in. Waist measurement)\\rBust: 38 1/2\"', 'Gift of Jean S. and Frederic A. Sharf', '2010.1381', 'NOT ON VIEW', 'Europe, Textiles and Fashion Arts', 'Costumes']\n"
     ]
    }
   ],
   "source": [
    "# get object info\n",
    "detailContent = []\n",
    "\n",
    "# add object number for record\n",
    "detailContent.append(object_number)\n",
    "\n",
    "# the title is special, add it first\n",
    "detailContent.append(tag1.contents[0].text)\n",
    "\n",
    "for i in range(1,len(tag1)):\n",
    "    detailContent.append(tag1.contents[i].contents[-1].text.strip().replace('\\n',''))\n",
    "\n",
    "print(detailContent)"
   ]
  },
  {
   "cell_type": "code",
   "execution_count": 61,
   "metadata": {},
   "outputs": [
    {
     "data": {
      "text/html": [
       "<div>\n",
       "<style scoped>\n",
       "    .dataframe tbody tr th:only-of-type {\n",
       "        vertical-align: middle;\n",
       "    }\n",
       "\n",
       "    .dataframe tbody tr th {\n",
       "        vertical-align: top;\n",
       "    }\n",
       "\n",
       "    .dataframe thead th {\n",
       "        text-align: right;\n",
       "    }\n",
       "</style>\n",
       "<table border=\"1\" class=\"dataframe\">\n",
       "  <thead>\n",
       "    <tr style=\"text-align: right;\">\n",
       "      <th></th>\n",
       "      <th>object number</th>\n",
       "      <th>title</th>\n",
       "      <th>people</th>\n",
       "      <th>culture</th>\n",
       "      <th>displayDate</th>\n",
       "      <th>objectGeography</th>\n",
       "      <th>medium</th>\n",
       "      <th>dimensions</th>\n",
       "      <th>creditline</th>\n",
       "      <th>invnoline</th>\n",
       "      <th>onview</th>\n",
       "      <th>collectionTerms</th>\n",
       "      <th>classifications</th>\n",
       "    </tr>\n",
       "  </thead>\n",
       "  <tbody>\n",
       "    <tr>\n",
       "      <th>0</th>\n",
       "      <td>537843</td>\n",
       "      <td>Woman's wedding dress</td>\n",
       "      <td>(British, 1945–1950)</td>\n",
       "      <td>English</td>\n",
       "      <td>about 1945</td>\n",
       "      <td></td>\n",
       "      <td>Acetate satin weave</td>\n",
       "      <td>Center back: 188 cm (74 in.)\\rCenter front: 135.9 x 74.9 cm (53 1/2 CF x 29 1/2 in. Waist measurement)\\rBust: 38 1/2\"</td>\n",
       "      <td>Gift of Jean S. and Frederic A. Sharf</td>\n",
       "      <td>2010.1381</td>\n",
       "      <td>NOT ON VIEW</td>\n",
       "      <td>Europe, Textiles and Fashion Arts</td>\n",
       "      <td>Costumes</td>\n",
       "    </tr>\n",
       "  </tbody>\n",
       "</table>\n",
       "</div>"
      ],
      "text/plain": [
       "  object number                  title                people  culture  \\\n",
       "0        537843  Woman's wedding dress  (British, 1945–1950)  English   \n",
       "\n",
       "  displayDate objectGeography               medium  \\\n",
       "0  about 1945                  Acetate satin weave   \n",
       "\n",
       "                                                                                                              dimensions  \\\n",
       "0  Center back: 188 cm (74 in.)\\rCenter front: 135.9 x 74.9 cm (53 1/2 CF x 29 1/2 in. Waist measurement)\\rBust: 38 1/2\"   \n",
       "\n",
       "                              creditline  invnoline       onview  \\\n",
       "0  Gift of Jean S. and Frederic A. Sharf  2010.1381  NOT ON VIEW   \n",
       "\n",
       "                     collectionTerms classifications  \n",
       "0  Europe, Textiles and Fashion Arts        Costumes  "
      ]
     },
     "execution_count": 61,
     "metadata": {},
     "output_type": "execute_result"
    }
   ],
   "source": [
    "df_addon = pd.DataFrame(detailContent).T\n",
    "df_addon.columns = detailField\n",
    "df_addon"
   ]
  },
  {
   "cell_type": "code",
   "execution_count": 62,
   "metadata": {},
   "outputs": [],
   "source": [
    "df = pd.concat([df,df_addon])"
   ]
  },
  {
   "cell_type": "code",
   "execution_count": 63,
   "metadata": {},
   "outputs": [
    {
     "data": {
      "text/html": [
       "<div>\n",
       "<style scoped>\n",
       "    .dataframe tbody tr th:only-of-type {\n",
       "        vertical-align: middle;\n",
       "    }\n",
       "\n",
       "    .dataframe tbody tr th {\n",
       "        vertical-align: top;\n",
       "    }\n",
       "\n",
       "    .dataframe thead th {\n",
       "        text-align: right;\n",
       "    }\n",
       "</style>\n",
       "<table border=\"1\" class=\"dataframe\">\n",
       "  <thead>\n",
       "    <tr style=\"text-align: right;\">\n",
       "      <th></th>\n",
       "      <th>object number</th>\n",
       "      <th>title</th>\n",
       "      <th>people</th>\n",
       "      <th>culture</th>\n",
       "      <th>displayDate</th>\n",
       "      <th>objectGeography</th>\n",
       "      <th>medium</th>\n",
       "      <th>dimensions</th>\n",
       "      <th>creditline</th>\n",
       "      <th>invnoline</th>\n",
       "      <th>onview</th>\n",
       "      <th>collectionTerms</th>\n",
       "      <th>classifications</th>\n",
       "    </tr>\n",
       "  </thead>\n",
       "  <tbody>\n",
       "    <tr>\n",
       "      <th>0</th>\n",
       "      <td>537843</td>\n",
       "      <td>Woman's wedding dress</td>\n",
       "      <td>(British, 1945–1950)</td>\n",
       "      <td>English</td>\n",
       "      <td>about 1945</td>\n",
       "      <td></td>\n",
       "      <td>Acetate satin weave</td>\n",
       "      <td>Center back: 188 cm (74 in.)\\rCenter front: 135.9 x 74.9 cm (53 1/2 CF x 29 1/2 in. Waist measurement)\\rBust: 38 1/2\"</td>\n",
       "      <td>Gift of Jean S. and Frederic A. Sharf</td>\n",
       "      <td>2010.1381</td>\n",
       "      <td>NOT ON VIEW</td>\n",
       "      <td>Europe, Textiles and Fashion Arts</td>\n",
       "      <td>Costumes</td>\n",
       "    </tr>\n",
       "  </tbody>\n",
       "</table>\n",
       "</div>"
      ],
      "text/plain": [
       "  object number                  title                people  culture  \\\n",
       "0        537843  Woman's wedding dress  (British, 1945–1950)  English   \n",
       "\n",
       "  displayDate objectGeography               medium  \\\n",
       "0  about 1945                  Acetate satin weave   \n",
       "\n",
       "                                                                                                              dimensions  \\\n",
       "0  Center back: 188 cm (74 in.)\\rCenter front: 135.9 x 74.9 cm (53 1/2 CF x 29 1/2 in. Waist measurement)\\rBust: 38 1/2\"   \n",
       "\n",
       "                              creditline  invnoline       onview  \\\n",
       "0  Gift of Jean S. and Frederic A. Sharf  2010.1381  NOT ON VIEW   \n",
       "\n",
       "                     collectionTerms classifications  \n",
       "0  Europe, Textiles and Fashion Arts        Costumes  "
      ]
     },
     "execution_count": 63,
     "metadata": {},
     "output_type": "execute_result"
    }
   ],
   "source": [
    "df"
   ]
  },
  {
   "cell_type": "code",
   "execution_count": null,
   "metadata": {},
   "outputs": [],
   "source": []
  },
  {
   "cell_type": "code",
   "execution_count": null,
   "metadata": {},
   "outputs": [],
   "source": []
  },
  {
   "cell_type": "markdown",
   "metadata": {},
   "source": [
    "## define functions"
   ]
  },
  {
   "cell_type": "code",
   "execution_count": null,
   "metadata": {},
   "outputs": [],
   "source": []
  },
  {
   "cell_type": "code",
   "execution_count": null,
   "metadata": {},
   "outputs": [],
   "source": []
  },
  {
   "cell_type": "code",
   "execution_count": null,
   "metadata": {},
   "outputs": [],
   "source": []
  },
  {
   "cell_type": "code",
   "execution_count": null,
   "metadata": {},
   "outputs": [],
   "source": []
  },
  {
   "cell_type": "code",
   "execution_count": null,
   "metadata": {},
   "outputs": [],
   "source": []
  },
  {
   "cell_type": "code",
   "execution_count": null,
   "metadata": {},
   "outputs": [],
   "source": []
  },
  {
   "cell_type": "code",
   "execution_count": null,
   "metadata": {},
   "outputs": [],
   "source": []
  },
  {
   "cell_type": "code",
   "execution_count": null,
   "metadata": {},
   "outputs": [],
   "source": []
  },
  {
   "cell_type": "code",
   "execution_count": null,
   "metadata": {},
   "outputs": [],
   "source": []
  },
  {
   "cell_type": "code",
   "execution_count": null,
   "metadata": {},
   "outputs": [],
   "source": []
  },
  {
   "cell_type": "markdown",
   "metadata": {},
   "source": [
    "## def func save_image()"
   ]
  },
  {
   "cell_type": "code",
   "execution_count": null,
   "metadata": {},
   "outputs": [],
   "source": [
    "def download_img(object_url,dir='testing/'):\n",
    "    start = time.time()\n",
    "\n",
    "    name = object_number\n",
    "    url = object_url\n",
    "\n",
    "    filename = dir + str(n) + '.jpg'\n",
    "\n",
    "    try:    \n",
    "        z = urllib.request.urlopen(url)\n",
    "        output = open(filename, 'wb')\n",
    "        output.write(z.read())\n",
    "        output.close()\n",
    "\n",
    "    name = list(name)\n",
    "    url = list(url)\n",
    "\n",
    "    error_id = []\n",
    "    error_n = 0\n",
    "\n",
    "    for n,u in zip(name,url):\n",
    "        \n",
    "        except:\n",
    "            error_id.append(n)\n",
    "            print(f'error id {n}')\n",
    "            error_n += 1\n",
    "            print(f'{error_n} errors in total')\n",
    "            continue\n",
    "\n",
    "\n",
    "    end = time.time()\n",
    "    print(f'{end - start} secs slipped...')"
   ]
  },
  {
   "cell_type": "code",
   "execution_count": null,
   "metadata": {},
   "outputs": [],
   "source": []
  },
  {
   "cell_type": "code",
   "execution_count": null,
   "metadata": {},
   "outputs": [],
   "source": []
  },
  {
   "cell_type": "code",
   "execution_count": 6,
   "metadata": {},
   "outputs": [],
   "source": [
    "x = soup.find_all('img')"
   ]
  },
  {
   "cell_type": "code",
   "execution_count": 7,
   "metadata": {},
   "outputs": [],
   "source": [
    "t = list(x)"
   ]
  },
  {
   "cell_type": "code",
   "execution_count": 9,
   "metadata": {},
   "outputs": [
    {
     "data": {
      "text/plain": [
       "13"
      ]
     },
     "execution_count": 9,
     "metadata": {},
     "output_type": "execute_result"
    }
   ],
   "source": [
    "len(t)"
   ]
  },
  {
   "cell_type": "code",
   "execution_count": 8,
   "metadata": {},
   "outputs": [
    {
     "data": {
      "text/plain": [
       "[<img class=\"\" src=\"/internal/media/dispatcher/1544048/resize%3Aformat%3Dthumbnail;jsessionid=1A1A5B7352C444E0A2FB8651FF5CD4B7\" title=\"Pinned dress and silver pin\"/>,\n",
       " <img class=\"\" src=\"/internal/media/dispatcher/1577155/resize%3Aformat%3Dthumbnail;jsessionid=1A1A5B7352C444E0A2FB8651FF5CD4B7\" title=\"Look 7: Dress, pants, and ankle boots\"/>,\n",
       " <img class=\"\" src=\"/internal/media/dispatcher/1544173/resize%3Aformat%3Dthumbnail;jsessionid=1A1A5B7352C444E0A2FB8651FF5CD4B7\" title=\"Woman's ensemble comprising dress, tights, shoes, and spats\"/>,\n",
       " <img class=\"\" src=\"/internal/media/dispatcher/1577158/resize%3Aformat%3Dthumbnail;jsessionid=1A1A5B7352C444E0A2FB8651FF5CD4B7\" title=\"Woman's ensemble comprising dress, hood, and boots\"/>,\n",
       " <img class=\"\" src=\"/internal/media/dispatcher/1544063/resize%3Aformat%3Dthumbnail;jsessionid=1A1A5B7352C444E0A2FB8651FF5CD4B7\" title=\"Sculpted dress and shoulder harness\"/>,\n",
       " <img class=\"\" src=\"/internal/media/dispatcher/1596815/resize%3Aformat%3Dthumbnail;jsessionid=1A1A5B7352C444E0A2FB8651FF5CD4B7\" title=\"Look 1: Sculptural white dress, socks and shoes.\"/>,\n",
       " <img class=\"\" src=\"/internal/media/dispatcher/1634455/resize%3Aformat%3Dthumbnail;jsessionid=1A1A5B7352C444E0A2FB8651FF5CD4B7\" title=\"Pieced dress\"/>,\n",
       " <img class=\"\" src=\"/internal/media/dispatcher/1634458/resize%3Aformat%3Dthumbnail;jsessionid=1A1A5B7352C444E0A2FB8651FF5CD4B7\" title=\"Woman's dress\"/>,\n",
       " <img class=\"\" src=\"/internal/media/dispatcher/1588174/resize%3Aformat%3Dthumbnail;jsessionid=1A1A5B7352C444E0A2FB8651FF5CD4B7\" title=\"Dress\"/>,\n",
       " <img class=\"\" src=\"/internal/media/dispatcher/1590035/resize%3Aformat%3Dthumbnail;jsessionid=1A1A5B7352C444E0A2FB8651FF5CD4B7\" title='\"Parachute\" dress (Overdress, part 1 of 2)'/>,\n",
       " <img class=\"\" src=\"/internal/media/dispatcher/1590036/resize%3Aformat%3Dthumbnail;jsessionid=1A1A5B7352C444E0A2FB8651FF5CD4B7\" title=\"Dress\"/>,\n",
       " <img class=\"\" src=\"/internal/media/dispatcher/1590038/resize%3Aformat%3Dthumbnail;jsessionid=1A1A5B7352C444E0A2FB8651FF5CD4B7\" title=\"Day dress\"/>]"
      ]
     },
     "execution_count": 8,
     "metadata": {},
     "output_type": "execute_result"
    }
   ],
   "source": [
    "# on one page there are 12 thumbnail images\n",
    "# of the costumes we want\n",
    "# the first one is unrelated, we should get rid of it\n",
    "t[1:]"
   ]
  },
  {
   "cell_type": "code",
   "execution_count": 10,
   "metadata": {},
   "outputs": [
    {
     "name": "stdout",
     "output_type": "stream",
     "text": [
      "1544048\n",
      "1577155\n",
      "1544173\n",
      "1577158\n",
      "1544063\n",
      "1596815\n",
      "1634455\n",
      "1634458\n",
      "1588174\n",
      "1590035\n",
      "1590036\n",
      "1590038\n"
     ]
    }
   ],
   "source": [
    "# we need to locate the numbers after despather\n",
    "# it's the object name we need for downloading\n",
    "for link in t[1:]:\n",
    "    found = re.search('dispatcher/(.*?)/',link.get('src')).group(1)\n",
    "    print(found)\n",
    "    # print(link.get('src'))"
   ]
  },
  {
   "cell_type": "code",
   "execution_count": 66,
   "metadata": {},
   "outputs": [
    {
     "data": {
      "text/plain": [
       "'https://collections.mfa.org/download/815857'"
      ]
     },
     "execution_count": 66,
     "metadata": {},
     "output_type": "execute_result"
    }
   ],
   "source": [
    "# the download ref number is different than object number\n",
    "object_num = '815857'\n",
    "download_page = f'https://collections.mfa.org/download/{object_num}'\n",
    "download_page"
   ]
  },
  {
   "cell_type": "code",
   "execution_count": 68,
   "metadata": {},
   "outputs": [
    {
     "ename": "SyntaxError",
     "evalue": "expression cannot contain assignment, perhaps you meant \"==\"? (2056816795.py, line 5)",
     "output_type": "error",
     "traceback": [
      "\u001b[1;36m  Input \u001b[1;32mIn [68]\u001b[1;36m\u001b[0m\n\u001b[1;33m    soup.find_all('a','target'=\"_blank\")\u001b[0m\n\u001b[1;37m                      ^\u001b[0m\n\u001b[1;31mSyntaxError\u001b[0m\u001b[1;31m:\u001b[0m expression cannot contain assignment, perhaps you meant \"==\"?\n"
     ]
    }
   ],
   "source": [
    "# get the full size download link from the download page\n",
    "url = download_page\n",
    "req = requests.get(url)\n",
    "soup = BeautifulSoup(req.content,'html.parser')\n",
    "soup.find_all('a','target'=\"_blank\")\n",
    "\n",
    "\n",
    "# <a target=\"_blank\" href=\"https://collections.mfa.org/internal/media/dispatcher/757433/resize%3Aformat%3Dfull?download\"><button class=\"emuseum-button \" type=\"button\">\n",
    "# Download\n",
    "# </button></a>"
   ]
  },
  {
   "cell_type": "code",
   "execution_count": 64,
   "metadata": {},
   "outputs": [
    {
     "name": "stdout",
     "output_type": "stream",
     "text": [
      "https://collections.mfa.org/internal/media/dispatcher/815857/resize%3Aformat%3Dfull?download\n"
     ]
    }
   ],
   "source": [
    "\n",
    "download_link = f'https://collections.mfa.org/internal/media/dispatcher/{object_num}/resize%3Aformat%3Dfull?download'\n",
    "\n",
    "print(download_link)"
   ]
  },
  {
   "cell_type": "code",
   "execution_count": 65,
   "metadata": {},
   "outputs": [],
   "source": [
    "z = urllib.request.urlopen(download_link)\n",
    "output = open('test.jpg', 'wb')\n",
    "output.write(z.read())\n",
    "output.close()"
   ]
  },
  {
   "cell_type": "code",
   "execution_count": null,
   "metadata": {},
   "outputs": [],
   "source": []
  },
  {
   "cell_type": "code",
   "execution_count": null,
   "metadata": {},
   "outputs": [],
   "source": []
  },
  {
   "cell_type": "code",
   "execution_count": null,
   "metadata": {},
   "outputs": [],
   "source": []
  }
 ],
 "metadata": {
  "kernelspec": {
   "display_name": "Python 3.9.12 ('base')",
   "language": "python",
   "name": "python3"
  },
  "language_info": {
   "codemirror_mode": {
    "name": "ipython",
    "version": 3
   },
   "file_extension": ".py",
   "mimetype": "text/x-python",
   "name": "python",
   "nbconvert_exporter": "python",
   "pygments_lexer": "ipython3",
   "version": "3.9.12"
  },
  "orig_nbformat": 4,
  "vscode": {
   "interpreter": {
    "hash": "c738c5dbbe27c39534afaf60a228761ec99c842d673ea0c5f841b81d59c4efd4"
   }
  }
 },
 "nbformat": 4,
 "nbformat_minor": 2
}
