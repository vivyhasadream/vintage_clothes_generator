{
 "cells": [
  {
   "cell_type": "markdown",
   "metadata": {},
   "source": [
    "## setup"
   ]
  },
  {
   "cell_type": "code",
   "execution_count": 1,
   "metadata": {},
   "outputs": [],
   "source": [
    "import pandas as pd\n",
    "import cv2\n",
    "import os\n",
    "import os.path\n",
    "\n",
    "import time\n",
    "\n",
    "import requests\n",
    "import json\n",
    "import urllib\n",
    "from bs4 import BeautifulSoup\n",
    "\n",
    "# show all dataframe\n",
    "pd.set_option('display.max_colwidth', None) \n",
    "pd.set_option('display.max_columns', None)  "
   ]
  },
  {
   "cell_type": "markdown",
   "metadata": {},
   "source": [
    "## V&A\n",
    "\n",
    "guidelines here:<br>\n",
    "https://api.vam.ac.uk/docs#/Archives/archive_search_v2_archives_search_get<br>\n",
    "https://developers.vam.ac.uk/guide/v2/images/introduction.html#images-top"
   ]
  },
  {
   "cell_type": "code",
   "execution_count": 2,
   "metadata": {},
   "outputs": [
    {
     "data": {
      "text/plain": [
       "<Response [200]>"
      ]
     },
     "execution_count": 2,
     "metadata": {},
     "output_type": "execute_result"
    }
   ],
   "source": [
    "# checkout a topic\n",
    "url = \"https://api.vam.ac.uk/v2/objects/search?q_object_name=robe&page_size=100&images=true&images_exist=true\"\n",
    "r = requests.get(url)\n",
    "r"
   ]
  },
  {
   "cell_type": "code",
   "execution_count": 3,
   "metadata": {},
   "outputs": [
    {
     "data": {
      "text/plain": [
       "dict_keys(['info', 'records', 'clusters'])"
      ]
     },
     "execution_count": 3,
     "metadata": {},
     "output_type": "execute_result"
    }
   ],
   "source": [
    "r.json().keys()"
   ]
  },
  {
   "cell_type": "code",
   "execution_count": 4,
   "metadata": {},
   "outputs": [
    {
     "data": {
      "text/plain": [
       "{'version': '2.0',\n",
       " 'record_count': 5582,\n",
       " 'record_count_exact': True,\n",
       " 'parameters': {},\n",
       " 'page_size': 100,\n",
       " 'pages': 56,\n",
       " 'page': 1,\n",
       " 'image_count': 6261}"
      ]
     },
     "execution_count": 4,
     "metadata": {},
     "output_type": "execute_result"
    }
   ],
   "source": [
    "r.json()['info'] # the pages cound be used to iterate"
   ]
  },
  {
   "cell_type": "markdown",
   "metadata": {},
   "source": [
    "## get the dataframe for selected topics"
   ]
  },
  {
   "cell_type": "markdown",
   "metadata": {},
   "source": [
    "### prototoype to scrape a certain topic"
   ]
  },
  {
   "cell_type": "code",
   "execution_count": 5,
   "metadata": {},
   "outputs": [],
   "source": [
    "# continue above\n",
    "\n",
    "# get records column names\n",
    "# for initial the full dataframe\n",
    "records_list = r.json()['records']\n",
    "records_df = pd.DataFrame.from_dict(records_list)\n",
    "records_df_columns = records_df.columns\n",
    "\n",
    "# initiate a dataframe for filling in scrapped info\n",
    "df = pd.DataFrame(columns=records_df_columns)"
   ]
  },
  {
   "cell_type": "code",
   "execution_count": 6,
   "metadata": {},
   "outputs": [
    {
     "data": {
      "text/html": [
       "<div>\n",
       "<style scoped>\n",
       "    .dataframe tbody tr th:only-of-type {\n",
       "        vertical-align: middle;\n",
       "    }\n",
       "\n",
       "    .dataframe tbody tr th {\n",
       "        vertical-align: top;\n",
       "    }\n",
       "\n",
       "    .dataframe thead th {\n",
       "        text-align: right;\n",
       "    }\n",
       "</style>\n",
       "<table border=\"1\" class=\"dataframe\">\n",
       "  <thead>\n",
       "    <tr style=\"text-align: right;\">\n",
       "      <th></th>\n",
       "      <th>systemNumber</th>\n",
       "      <th>accessionNumber</th>\n",
       "      <th>objectType</th>\n",
       "      <th>_currentLocation</th>\n",
       "      <th>_primaryTitle</th>\n",
       "      <th>_primaryMaker</th>\n",
       "      <th>_primaryImageId</th>\n",
       "      <th>_primaryDate</th>\n",
       "      <th>_primaryPlace</th>\n",
       "      <th>_warningTypes</th>\n",
       "      <th>_images</th>\n",
       "    </tr>\n",
       "  </thead>\n",
       "  <tbody>\n",
       "  </tbody>\n",
       "</table>\n",
       "</div>"
      ],
      "text/plain": [
       "Empty DataFrame\n",
       "Columns: [systemNumber, accessionNumber, objectType, _currentLocation, _primaryTitle, _primaryMaker, _primaryImageId, _primaryDate, _primaryPlace, _warningTypes, _images]\n",
       "Index: []"
      ]
     },
     "execution_count": 6,
     "metadata": {},
     "output_type": "execute_result"
    }
   ],
   "source": [
    "df # check if initiated"
   ]
  },
  {
   "cell_type": "code",
   "execution_count": 7,
   "metadata": {},
   "outputs": [],
   "source": [
    "keyword = 'dress'"
   ]
  },
  {
   "cell_type": "code",
   "execution_count": 8,
   "metadata": {},
   "outputs": [
    {
     "name": "stdout",
     "output_type": "stream",
     "text": [
      "74 pages for keyword dress\n",
      "7321 records for keyword dress\n"
     ]
    }
   ],
   "source": [
    "urlpath = f'https://api.vam.ac.uk/v2/objects/search?q_object_name={keyword}&page_size=100&images=true&images_exist=true'\n",
    "rr = requests.get(urlpath)\n",
    "\n",
    "info_dict = rr.json()['info'] \n",
    "pages_n = info_dict['pages']\n",
    "record_n = info_dict['record_count']\n",
    "print(f'{pages_n} pages for keyword {keyword}')\n",
    "print(f'{record_n} records for keyword {keyword}')"
   ]
  },
  {
   "cell_type": "code",
   "execution_count": 9,
   "metadata": {},
   "outputs": [
    {
     "name": "stdout",
     "output_type": "stream",
     "text": [
      "47.67231202125549 seconds passed..\n"
     ]
    }
   ],
   "source": [
    "# start timer\n",
    "start = time.time()\n",
    "\n",
    "for p in range(1,pages_n+1):\n",
    "    urlpath = f'https://api.vam.ac.uk/v2/objects/search?q_object_name={keyword}&page_size=100&images=true&images_exist=true&page={p}'\n",
    "    rr = requests.get(urlpath)\n",
    "    thisdf = pd.DataFrame.from_dict(rr.json()['records'])\n",
    "    df = pd.concat([df,thisdf])\n",
    "\n",
    "# timer stops\n",
    "end = time.time()\n",
    "print(f'{end-start} seconds passed..')"
   ]
  },
  {
   "cell_type": "code",
   "execution_count": 10,
   "metadata": {},
   "outputs": [
    {
     "data": {
      "text/html": [
       "<div>\n",
       "<style scoped>\n",
       "    .dataframe tbody tr th:only-of-type {\n",
       "        vertical-align: middle;\n",
       "    }\n",
       "\n",
       "    .dataframe tbody tr th {\n",
       "        vertical-align: top;\n",
       "    }\n",
       "\n",
       "    .dataframe thead th {\n",
       "        text-align: right;\n",
       "    }\n",
       "</style>\n",
       "<table border=\"1\" class=\"dataframe\">\n",
       "  <thead>\n",
       "    <tr style=\"text-align: right;\">\n",
       "      <th></th>\n",
       "      <th>systemNumber</th>\n",
       "      <th>accessionNumber</th>\n",
       "      <th>objectType</th>\n",
       "      <th>_currentLocation</th>\n",
       "      <th>_primaryTitle</th>\n",
       "      <th>_primaryMaker</th>\n",
       "      <th>_primaryImageId</th>\n",
       "      <th>_primaryDate</th>\n",
       "      <th>_primaryPlace</th>\n",
       "      <th>_warningTypes</th>\n",
       "      <th>_images</th>\n",
       "    </tr>\n",
       "  </thead>\n",
       "  <tbody>\n",
       "    <tr>\n",
       "      <th>0</th>\n",
       "      <td>O63107</td>\n",
       "      <td>T.237-2001</td>\n",
       "      <td>Dress</td>\n",
       "      <td>{'id': 'THES50141', 'displayName': 'In store', 'type': 'storage', 'site': 'BH', 'onDisplay': False, 'detail': {'free': '', 'case': '', 'shelf': '', 'box': ''}}</td>\n",
       "      <td>Dress</td>\n",
       "      <td>{'name': 'Tam, Vivienne', 'association': 'Maker, Designer'}</td>\n",
       "      <td>2020MU3350</td>\n",
       "      <td>1999</td>\n",
       "      <td>USA</td>\n",
       "      <td>[]</td>\n",
       "      <td>{'_primary_thumbnail': 'https://framemark.vam.ac.uk/collections/2020MU3350/full/!100,100/0/default.jpg', '_iiif_image_base_url': 'https://framemark.vam.ac.uk/collections/2020MU3350/', '_iiif_presentation_url': None, 'imageResolution': 'low'}</td>\n",
       "    </tr>\n",
       "  </tbody>\n",
       "</table>\n",
       "</div>"
      ],
      "text/plain": [
       "  systemNumber accessionNumber objectType  \\\n",
       "0       O63107      T.237-2001      Dress   \n",
       "\n",
       "                                                                                                                                                  _currentLocation  \\\n",
       "0  {'id': 'THES50141', 'displayName': 'In store', 'type': 'storage', 'site': 'BH', 'onDisplay': False, 'detail': {'free': '', 'case': '', 'shelf': '', 'box': ''}}   \n",
       "\n",
       "  _primaryTitle                                                _primaryMaker  \\\n",
       "0         Dress  {'name': 'Tam, Vivienne', 'association': 'Maker, Designer'}   \n",
       "\n",
       "  _primaryImageId _primaryDate _primaryPlace _warningTypes  \\\n",
       "0      2020MU3350         1999           USA            []   \n",
       "\n",
       "                                                                                                                                                                                                                                             _images  \n",
       "0  {'_primary_thumbnail': 'https://framemark.vam.ac.uk/collections/2020MU3350/full/!100,100/0/default.jpg', '_iiif_image_base_url': 'https://framemark.vam.ac.uk/collections/2020MU3350/', '_iiif_presentation_url': None, 'imageResolution': 'low'}  "
      ]
     },
     "execution_count": 10,
     "metadata": {},
     "output_type": "execute_result"
    }
   ],
   "source": [
    "df.head(1)"
   ]
  },
  {
   "cell_type": "markdown",
   "metadata": {},
   "source": [
    "### define the function"
   ]
  },
  {
   "cell_type": "code",
   "execution_count": 39,
   "metadata": {},
   "outputs": [],
   "source": [
    "def scrape_dataframe(keyword='robe'):\n",
    "    # start timer\n",
    "    start = time.time()    \n",
    "\n",
    "    urlpath = f'https://api.vam.ac.uk/v2/objects/search?q_object_name={keyword}&page_size=100&images=true&images_exist=true'\n",
    "    rr = requests.get(urlpath)\n",
    "\n",
    "    # initiate an empty dataframe to carry the scrapped info\n",
    "    # get records column names\n",
    "    # for initial the full dataframe\n",
    "    records_list = rr.json()['records']\n",
    "    records_df = pd.DataFrame.from_dict(records_list)\n",
    "    records_df_columns = records_df.columns\n",
    "    df = pd.DataFrame(columns=records_df_columns)\n",
    "\n",
    "    # get how many pages\n",
    "    # and total number of records of this keyword\n",
    "    info_dict = rr.json()['info'] \n",
    "    pages_n = info_dict['pages'] # for iterate\n",
    "    record_n = info_dict['record_count']\n",
    "    # print(f'{pages_n} pages for keyword {keyword}')\n",
    "    print(f'we found {record_n} records for keyword {keyword}')\n",
    "\n",
    "    # iterate the pages\n",
    "    # since VA API could only search page by page\n",
    "    for p in range(1,pages_n+1):\n",
    "        urlpath = f'https://api.vam.ac.uk/v2/objects/search?q_object_name={keyword}&page_size=100&images=true&images_exist=true&page={p}'\n",
    "        rr = requests.get(urlpath)\n",
    "        thisdf = pd.DataFrame.from_dict(rr.json()['records'])\n",
    "        df = pd.concat([df,thisdf])\n",
    "\n",
    "    # print(f'we got {df.shape[0]} scarf.')\n",
    "    \n",
    "    # timer stops\n",
    "    end = time.time()\n",
    "    print(f'{end-start} seconds for scraping {keyword}..')\n",
    "\n",
    "    return df"
   ]
  },
  {
   "cell_type": "code",
   "execution_count": 40,
   "metadata": {},
   "outputs": [
    {
     "name": "stdout",
     "output_type": "stream",
     "text": [
      "we found 782 records for keyword scarf\n",
      "5.681551933288574 seconds for scraping scarf..\n"
     ]
    },
    {
     "data": {
      "text/html": [
       "<div>\n",
       "<style scoped>\n",
       "    .dataframe tbody tr th:only-of-type {\n",
       "        vertical-align: middle;\n",
       "    }\n",
       "\n",
       "    .dataframe tbody tr th {\n",
       "        vertical-align: top;\n",
       "    }\n",
       "\n",
       "    .dataframe thead th {\n",
       "        text-align: right;\n",
       "    }\n",
       "</style>\n",
       "<table border=\"1\" class=\"dataframe\">\n",
       "  <thead>\n",
       "    <tr style=\"text-align: right;\">\n",
       "      <th></th>\n",
       "      <th>systemNumber</th>\n",
       "      <th>accessionNumber</th>\n",
       "      <th>objectType</th>\n",
       "      <th>_currentLocation</th>\n",
       "      <th>_primaryTitle</th>\n",
       "      <th>_primaryMaker</th>\n",
       "      <th>_primaryImageId</th>\n",
       "      <th>_primaryDate</th>\n",
       "      <th>_primaryPlace</th>\n",
       "      <th>_warningTypes</th>\n",
       "      <th>_images</th>\n",
       "    </tr>\n",
       "  </thead>\n",
       "  <tbody>\n",
       "    <tr>\n",
       "      <th>0</th>\n",
       "      <td>O102827</td>\n",
       "      <td>T.127-1997</td>\n",
       "      <td>Scarf</td>\n",
       "      <td>{'id': 'THES50141', 'displayName': 'In store', 'type': 'storage', 'site': 'BH', 'onDisplay': False, 'detail': {'free': '', 'case': '', 'shelf': '', 'box': ''}}</td>\n",
       "      <td>Scarf on Scarf</td>\n",
       "      <td>{'name': 'Earley, Rebecca', 'association': 'designer'}</td>\n",
       "      <td>2006AP6466</td>\n",
       "      <td>1996</td>\n",
       "      <td>England</td>\n",
       "      <td>[]</td>\n",
       "      <td>{'_primary_thumbnail': 'https://framemark.vam.ac.uk/collections/2006AP6466/full/!100,100/0/default.jpg', '_iiif_image_base_url': 'https://framemark.vam.ac.uk/collections/2006AP6466/', '_iiif_presentation_url': None, 'imageResolution': 'low'}</td>\n",
       "    </tr>\n",
       "  </tbody>\n",
       "</table>\n",
       "</div>"
      ],
      "text/plain": [
       "  systemNumber accessionNumber objectType  \\\n",
       "0      O102827      T.127-1997      Scarf   \n",
       "\n",
       "                                                                                                                                                  _currentLocation  \\\n",
       "0  {'id': 'THES50141', 'displayName': 'In store', 'type': 'storage', 'site': 'BH', 'onDisplay': False, 'detail': {'free': '', 'case': '', 'shelf': '', 'box': ''}}   \n",
       "\n",
       "    _primaryTitle                                           _primaryMaker  \\\n",
       "0  Scarf on Scarf  {'name': 'Earley, Rebecca', 'association': 'designer'}   \n",
       "\n",
       "  _primaryImageId _primaryDate _primaryPlace _warningTypes  \\\n",
       "0      2006AP6466         1996       England            []   \n",
       "\n",
       "                                                                                                                                                                                                                                             _images  \n",
       "0  {'_primary_thumbnail': 'https://framemark.vam.ac.uk/collections/2006AP6466/full/!100,100/0/default.jpg', '_iiif_image_base_url': 'https://framemark.vam.ac.uk/collections/2006AP6466/', '_iiif_presentation_url': None, 'imageResolution': 'low'}  "
      ]
     },
     "execution_count": 40,
     "metadata": {},
     "output_type": "execute_result"
    }
   ],
   "source": [
    "# test the function\n",
    "df_test = scrape_dataframe('scarf')\n",
    "df_test.head(1)"
   ]
  },
  {
   "cell_type": "code",
   "execution_count": 41,
   "metadata": {},
   "outputs": [],
   "source": [
    "df_test = df_test.head(3)"
   ]
  },
  {
   "cell_type": "markdown",
   "metadata": {},
   "source": [
    "### scrape"
   ]
  },
  {
   "cell_type": "code",
   "execution_count": 15,
   "metadata": {},
   "outputs": [],
   "source": [
    "# initiate an empty datafram\n",
    "url = \"https://api.vam.ac.uk/v2/objects/search?q_object_name=robe&page_size=100&images=true&images_exist=true\"\n",
    "r = requests.get(url)\n",
    "\n",
    "# get records column names\n",
    "# for initial the full dataframe\n",
    "records_list = r.json()['records']\n",
    "records_df = pd.DataFrame.from_dict(records_list)\n",
    "records_df_columns = records_df.columns\n",
    "\n",
    "# initiate a dataframe for filling in scrapped info\n",
    "df = pd.DataFrame(columns=records_df_columns)"
   ]
  },
  {
   "cell_type": "code",
   "execution_count": 16,
   "metadata": {},
   "outputs": [
    {
     "data": {
      "text/html": [
       "<div>\n",
       "<style scoped>\n",
       "    .dataframe tbody tr th:only-of-type {\n",
       "        vertical-align: middle;\n",
       "    }\n",
       "\n",
       "    .dataframe tbody tr th {\n",
       "        vertical-align: top;\n",
       "    }\n",
       "\n",
       "    .dataframe thead th {\n",
       "        text-align: right;\n",
       "    }\n",
       "</style>\n",
       "<table border=\"1\" class=\"dataframe\">\n",
       "  <thead>\n",
       "    <tr style=\"text-align: right;\">\n",
       "      <th></th>\n",
       "      <th>systemNumber</th>\n",
       "      <th>accessionNumber</th>\n",
       "      <th>objectType</th>\n",
       "      <th>_currentLocation</th>\n",
       "      <th>_primaryTitle</th>\n",
       "      <th>_primaryMaker</th>\n",
       "      <th>_primaryImageId</th>\n",
       "      <th>_primaryDate</th>\n",
       "      <th>_primaryPlace</th>\n",
       "      <th>_warningTypes</th>\n",
       "      <th>_images</th>\n",
       "    </tr>\n",
       "  </thead>\n",
       "  <tbody>\n",
       "  </tbody>\n",
       "</table>\n",
       "</div>"
      ],
      "text/plain": [
       "Empty DataFrame\n",
       "Columns: [systemNumber, accessionNumber, objectType, _currentLocation, _primaryTitle, _primaryMaker, _primaryImageId, _primaryDate, _primaryPlace, _warningTypes, _images]\n",
       "Index: []"
      ]
     },
     "execution_count": 16,
     "metadata": {},
     "output_type": "execute_result"
    }
   ],
   "source": [
    "#check\n",
    "df"
   ]
  },
  {
   "cell_type": "code",
   "execution_count": 17,
   "metadata": {},
   "outputs": [],
   "source": [
    "# hand picked some keywords\n",
    "# checked the keywords on VA website\n",
    "\n",
    "keywords = ['costume', 'robe', 'dress', 'shirt','ensemble','jacket','coat','suit','trousers']"
   ]
  },
  {
   "cell_type": "code",
   "execution_count": 18,
   "metadata": {},
   "outputs": [
    {
     "name": "stdout",
     "output_type": "stream",
     "text": [
      "we found 16896 records for keyword costume\n",
      "65.27326703071594 seconds for scraping costume..\n",
      "we found 5582 records for keyword robe\n",
      "35.6450834274292 seconds for scraping robe..\n",
      "we found 7321 records for keyword dress\n",
      "48.430097341537476 seconds for scraping dress..\n",
      "we found 917 records for keyword shirt\n",
      "6.8267552852630615 seconds for scraping shirt..\n",
      "we found 399 records for keyword ensemble\n",
      "3.2287628650665283 seconds for scraping ensemble..\n",
      "we found 835 records for keyword jacket\n",
      "6.3819639682769775 seconds for scraping jacket..\n",
      "we found 763 records for keyword coat\n",
      "5.62924599647522 seconds for scraping coat..\n",
      "we found 979 records for keyword suit\n",
      "7.155668497085571 seconds for scraping suit..\n",
      "we found 360 records for keyword trousers\n",
      "3.063270330429077 seconds for scraping trousers..\n"
     ]
    }
   ],
   "source": [
    "for k in keywords:\n",
    "    df_toadd = scrape_dataframe(k)\n",
    "    df = pd.concat([df,df_toadd])"
   ]
  },
  {
   "cell_type": "code",
   "execution_count": 19,
   "metadata": {},
   "outputs": [
    {
     "data": {
      "text/plain": [
       "(27156, 11)"
      ]
     },
     "execution_count": 19,
     "metadata": {},
     "output_type": "execute_result"
    }
   ],
   "source": [
    "df.shape"
   ]
  },
  {
   "cell_type": "code",
   "execution_count": 20,
   "metadata": {},
   "outputs": [],
   "source": [
    "df.drop_duplicates('_primaryImageId', inplace=True)"
   ]
  },
  {
   "cell_type": "code",
   "execution_count": 21,
   "metadata": {},
   "outputs": [],
   "source": [
    "df.to_csv(r'scrapped_data/VA_uncleaned.csv', index = False)"
   ]
  },
  {
   "cell_type": "code",
   "execution_count": 2,
   "metadata": {},
   "outputs": [],
   "source": [
    "df = pd.read_csv('scrapped_data/VA_uncleaned.csv') "
   ]
  },
  {
   "cell_type": "code",
   "execution_count": 3,
   "metadata": {},
   "outputs": [
    {
     "data": {
      "text/plain": [
       "(26595, 11)"
      ]
     },
     "execution_count": 3,
     "metadata": {},
     "output_type": "execute_result"
    }
   ],
   "source": [
    "df.shape"
   ]
  },
  {
   "cell_type": "markdown",
   "metadata": {},
   "source": [
    "## filter more before download"
   ]
  },
  {
   "cell_type": "markdown",
   "metadata": {},
   "source": [
    "### hand pick certian object types\n",
    "\n",
    "after download test, we found many unrealted images.\n",
    "\n",
    "we could use 'object type' to filter.<br>\n",
    "use the VA website search to determine if the object type needs to be removed."
   ]
  },
  {
   "cell_type": "code",
   "execution_count": 4,
   "metadata": {},
   "outputs": [],
   "source": [
    "df['objectType'] = df['objectType'].map(lambda x: str(x).lower())"
   ]
  },
  {
   "cell_type": "code",
   "execution_count": 5,
   "metadata": {},
   "outputs": [
    {
     "data": {
      "text/plain": [
       "584"
      ]
     },
     "execution_count": 5,
     "metadata": {},
     "output_type": "execute_result"
    }
   ],
   "source": [
    "df['objectType'].nunique()"
   ]
  },
  {
   "cell_type": "code",
   "execution_count": 6,
   "metadata": {},
   "outputs": [
    {
     "data": {
      "text/plain": [
       "array(['costume', 'theatre costume', 'film costume', 'costume design',\n",
       "       'ballet costume', 'opera costume', 'dance costume',\n",
       "       'puppet costume', 'stage costume', 'fancy dress costume',\n",
       "       'circus costume', 'costume plate', 'clown costume',\n",
       "       'rock and pop costume', 'jacket', 'print', 'drawing',\n",
       "       'fashion plate', 'nan', \"doll's outfit\", 'ensemble', 'bodice',\n",
       "       'theatre design', 'figurine', 'oil painting', 'design',\n",
       "       'aquatint etching', 'statuette', 'photograph', 'poster', 'figure',\n",
       "       'relief', 'screenprint', 'fashion design', 'costume sketch',\n",
       "       'costume doll', 'masks (costume)', 'cabaret costume',\n",
       "       'costume accessory', 'marionette costume', 'walking costume',\n",
       "       'bathing costume', 'national costume', 'golf costume',\n",
       "       'costume designs', 'costume dolls', 'usher costume',\n",
       "       'performance costume', 'costume print', 'tv costume',\n",
       "       \"man's costume\", \"acrobat's costume\", 'theatrical costume',\n",
       "       'costume doll ', 'robe', 'robe and trousers', \"boy's robe\",\n",
       "       'image robe', 'christening robe', 'ceremonial robe',\n",
       "       'barbers robe', 'daoist robe', 'chinese robe', 'bath robe',\n",
       "       'shaving robe', \"man's robe\", 'uncut robe', 'open-robe',\n",
       "       'model robe', 'ceremonial robe ', 'court robe', \"baby's long robe\",\n",
       "       'model robe stand', 'christening robe panel', 'image robe bodice?',\n",
       "       'robe and belt', \"man's robe (jama)\", 'daoist ritual robe',\n",
       "       \"emperor's court robe\", \"man's robe, choga\", 'dragon robe panel',\n",
       "       'woven silk', 'nightrobe', 'doll in robe & petticoat',\n",
       "       'robe à la piédmontaise', \"doll's robe and petticoat\",\n",
       "       'robe a la francaise', 'kesa (buddhist priest’s robe)',\n",
       "       \"queen's robe of state\", 'evening dress', 'dress', 'painting',\n",
       "       'illustrated manuscript', 'watercolour', 'engraving', 'dress ',\n",
       "       'dress panel', 'dress ornament', 'wedding dress', 'dress fabric',\n",
       "       'paper dress', 'cocktail dress', 'invitation', 'panel',\n",
       "       'trade literature', 'picture', 'highland outfit', 'dressing gown',\n",
       "       'trade catalogue', 'installation', 'wood engraving',\n",
       "       'portrait miniature', 'enamel miniature', 'sheet music',\n",
       "       'fashion illustration', 'etching', 'paper doll', 'stick handle',\n",
       "       'satirical print', 'stipple engraving', 'sample', 'doll', 'puppet',\n",
       "       'pastel', 'dummy board', 'tapestry', 'plaque', 'brass rubbing',\n",
       "       'sari', 'greetings card', 'miniature', 'aquatint', 'shawl',\n",
       "       'woodblock print', 'doll in mantua', 'architectural drawing',\n",
       "       'lithograph', 'paper doll set', 'gouache', 'etching and stipple',\n",
       "       'book', 'etching and engraving', 'manuscript cutting',\n",
       "       'dress fabric ', 'dress front', 'dress coat', 'day dress',\n",
       "       'afternoon dress', 'dress bag', 'court dress', 'dress bodice',\n",
       "       'dress trimming', 'dress fringe', 'transformation dress',\n",
       "       'walking dress', 'dress fastener', 'dress buckle', 'tennis dress',\n",
       "       'head dress', 'doll dress', 'head-dress', 'fancy dress',\n",
       "       'mourning dress', 'dress clasp', 'mini-dress', 'dress pattern',\n",
       "       'miniature dress', 'dress piece', 'pinafore dress', 'dress shirt',\n",
       "       'pyjama dress', 'night dress', 'delphos dress', 'baby dress',\n",
       "       'bridesmaid dress', 'dress clip', 'dress brooch', 'dress shape',\n",
       "       'beach dress', 'mini dress', 'dinner dress', 'ballet dress',\n",
       "       'party dress', 'dress sword', 'dress appliqué', 'dress hooks',\n",
       "       'dress holder', \"boy's dress\", 'dress hook', 'dress label',\n",
       "       \"doll's dress\", 'dress cuff', 'maternity dress', 'coat dress',\n",
       "       'dress robings', 'dress material', 'morning dress', 'tunic dress',\n",
       "       'slip dress', 'dress trim', 'culotte dress', 'smock-dress',\n",
       "       'dress kit', 'dress accessory', 'miniature day dress',\n",
       "       'court dress train', 'miniature evening dress',\n",
       "       'miniature court dress', 'dress-making sample',\n",
       "       'dress ornament pair', 'court presentation dress',\n",
       "       'dress clip set', 'paper dress set', 'paper doll dress',\n",
       "       'wedding dress design', 'korean traditional dress',\n",
       "       'paper dress fabric', 'wedding dress skirt', 'dress label roll',\n",
       "       'state evening dress', 'court dress coat', 'evening coat dress',\n",
       "       'prints', 'cocktail dress and jacket', 'jacket from fancy dress',\n",
       "       'fancy dress costume design', 'pair of dress clips',\n",
       "       'pair of dress clasps', 'cocktail dress and coat',\n",
       "       'afternoon dress and mantle', 'letter', 'shirt', 't-shirt',\n",
       "       'sweat shirt', 'clothing', 'blouse', 'wallpaper', 'waistcoat',\n",
       "       'shirt studs', \"boy's shirt\", 'habit shirt', 'shirt sampler',\n",
       "       'evening shirt', \"doll's shirt\", 'shirt frill', \"man's shirt\",\n",
       "       'shirt part', 't shirt', 'football shirt', \"baby's shirt\",\n",
       "       'talismanic shirt', 'polo shirt', 'unmade shirt', 'shirt panel',\n",
       "       'shirt links', 'mail shirt', 'shirt stud', 'first shirt',\n",
       "       'shirt set', 'racing shirt', 'bowling shirt', 'hawaiian shirt',\n",
       "       'western shirt', 'wedding shirt', 't- shirt', 't. shirt',\n",
       "       \"girl's shirt\", 'shirt (hse)', 'shirt (c)', \"child's t-shirt\",\n",
       "       'riding habit shirt', 'shirt and collars', 'shirt and collar',\n",
       "       'wedding shirt front', 'shirt and tie', 'shirt and sash',\n",
       "       'sample of shirt fabric', 'pair of shirt studs',\n",
       "       \"shirt from 'jockey' costume\", 'pair of shirt cuffs',\n",
       "       'pair of shirt panels', 'shirt and top set',\n",
       "       'shirt frill and ruffles', 'shirt and collar tips',\n",
       "       't-shirt and badge', \"trutex 'topper' shirt and packaging\",\n",
       "       \"'trax' trutex shirt and box\",\n",
       "       'sari and matching long-sleeved shirt',\n",
       "       'jacket, jeans, shirt and ankle boots', 'shoe', 'earring',\n",
       "       'skirt suit', 'trousers', 'day ensemble', 'evening ensemble',\n",
       "       'wedding ensemble', 'miniature ensemble', 'beach ensemble',\n",
       "       'swimsuit ensemble', 'kaba ensemble', \"doll's ensemble\",\n",
       "       'skiing ensemble', 'sport ensemble', \"man's ensemble\",\n",
       "       'lingerie ensemble', 'court ensemble', 'wearable art ensemble',\n",
       "       'roller skating ensemble', 'driving jacket', 'jacket and apron',\n",
       "       'jacket and scarf', 'bomber jacket', 'top (clothing)',\n",
       "       'action man outfit; cat. no. 34285', 'jacket ', 'music',\n",
       "       'matinée jacket', 'book jacket', \"man's jacket\", \"baby's jacket\",\n",
       "       'bed jacket', 'dressing jacket', 'evening jacket', 'sweat jacket',\n",
       "       'matinee jacket', 'jacket panels', \"boy's jacket\",\n",
       "       'sleeveless jacket', \"doll's jacket\", \"toddler's jacket\",\n",
       "       \"baby's  jacket\", 'ski jacket', 'fur jacket', 'baseball jacket',\n",
       "       'shooting jacket', 'norfolk jacket', 'suit jacket', 'jacket clasp',\n",
       "       'jeogori jacket', 'spencer jacket', 'flying jacket',\n",
       "       'riding jacket', 'donkey jacket', 'dinner jacket', 'biker jacket',\n",
       "       'under jacket', 'smoking jacket', 'flight jacket', 'safari jacket',\n",
       "       \"girl's jacket\", 'puffer jacket', \"baby's matineé jacket\",\n",
       "       'haori (kimono jacket)', 'haori (kimono jacket) ',\n",
       "       'jacket and trousers', \"boy's pyjama jacket\", 'jacket and skirt',\n",
       "       'après ski jacket', 'riding habit jacket', 'jacket and cap',\n",
       "       'jumper and jacket', 'half-mourning jacket',\n",
       "       'jacket and waistcoat', 'jacket and belt', \"child's bed-jacket\",\n",
       "       'quilted cropped jacket', 'fall hanbok - yellow jacket',\n",
       "       'summer hanbok - jade jacket', 'winter hanbok - yellow jacket',\n",
       "       'printed summer hanbok-jacket', 'fur jacket and muff',\n",
       "       'jacket, skirt and storage box', 'coat', 'evening coat',\n",
       "       'sleeveless coat', 'coat of arms', 'woolen coat and hat',\n",
       "       'half of a coat', 'hat and coat hooks', 'intaglio', 'body armour',\n",
       "       'shield of arms', 'tempera painting', 'chair', 'mortar', 'medal',\n",
       "       'hatstand', 'coat stand', 'driving coat', 'riding coat',\n",
       "       'coat parts', 'tea coat', 'dust coat', 'formal coat',\n",
       "       \"doll's coat\", 'mail coat', 'frock coat', 'coat rail',\n",
       "       \"boy's coat\", \"girl's coat\", 'paper coat', 'matinee coat',\n",
       "       \"toddler's coat\", 'matinée coat', \"baby's coat\", 'coat panel',\n",
       "       'buff coat', 'lounge coat', 'opera coat', 'morning coat',\n",
       "       'coat hook', 'tail coat', 'military coat', 'hunting coat',\n",
       "       'motoring coat', \"man's coat\", 'travelling coat', 'fur coat',\n",
       "       'cape coat', 'wedding coat', 'archery coat', 'livery coat',\n",
       "       'duffel coat', 'coat & breeches', 'coat & waistcoat',\n",
       "       'wardrobe hook', 'coat and breeches', 'coat and bonnet',\n",
       "       'coat and scarf', \"baby's carrying coat\", 'riding habit coat',\n",
       "       'coat and cape', 'coat and waistcoat', 'coat and belt',\n",
       "       'coat and trousers', 'coat and stole', 'skirt and coat',\n",
       "       \"man's coat & waistcoat\", \"child's coat hanger\",\n",
       "       'kimono coat (michiyuki)', 'silk coat section',\n",
       "       'coat, body and leggings', 'set of coat panels',\n",
       "       'morning coat and waistcoat', 'court coat and waistcoat',\n",
       "       'coat and pyjama trousers', 'coat and hat set',\n",
       "       \"boy's coat and cap\", 'coat, waistcoat and breeches',\n",
       "       'evening coat and handbag', 'evening coat and hat',\n",
       "       'double-breasted frock coat', 'crown and coat of arms', 'suit',\n",
       "       'trouser suit', \"man's suit\", 'plaisir skirt suit',\n",
       "       'suit of armour', 'sherry glass', 'decanter and stopper', 'button',\n",
       "       'jackets', 'bathroom suite', \"'living' marionette\", 'broadsheet',\n",
       "       'pamphlet', 'buster suit', 'shorts suit', \"boy's suit\",\n",
       "       'walking suit', 'romper suit', 'cycling suit', \"girl's suit\",\n",
       "       'sleeping suit', 'evening suit', 'morning suit', 'day suit',\n",
       "       'bathing suit', 'ski suit', 'knickerbocker suit', 'stretch suit',\n",
       "       'sailor suit', 'smoking suit', \"baby's suit\", 'suit top',\n",
       "       'beach suit', 'cocktail suit', 'miniature suit', 'track suit',\n",
       "       'wedding suit', 'dinner suit', 'court suit', 'boating suit',\n",
       "       'skeleton suit', 'bubble-suit', 'sun suit', 'western suit',\n",
       "       'hunting suit', 'camouflage suit', 'shooting suit', 'karate suit',\n",
       "       'bondage suit', 'culottes suit', 'culotte suit', 'mess suit',\n",
       "       'boiler suit', 'knickerbockers suit', 'lounge suit', 'snow suit',\n",
       "       'riding suit', 'cowgirl suit', 'ski-suit', 'pyjama suit',\n",
       "       'collage', 'paper pattern', 'caricature portrait sketch',\n",
       "       \"baby's ski suit\", 'one piece suit', \"page boy's suit\",\n",
       "       'double-breasted suit', 'evening trouser suit',\n",
       "       \"girl's siren suit\", \"boy's sailor suit\", \"boy's attendant suit\",\n",
       "       'knitted skirt suit', 'single-breasted suit', 'formal day suit',\n",
       "       'body-bag suit', 'evening pyjama suit', 'beach trouser suit',\n",
       "       'track suit top', \"child's jump-suit\", \"girl's sailor suit\",\n",
       "       \"baby's buster suit\", \"boy's eton suit\", 'evening skirt suit',\n",
       "       \"man's riding suit\", \"man's evening suit\", \"man's skirt suit\",\n",
       "       \"man's wedding suit\", 'civil partnership suit', 'romper suit top',\n",
       "       \"child's romper suit\", \"man's summer suit\", 'two-piece suit',\n",
       "       'court suit shape parts', 'skirt suit and scarf',\n",
       "       \"boy's sailor suit blouse\", 'skirt suit and stole',\n",
       "       'skirt suit and hat', 'miniature suit of armour',\n",
       "       'siren suit and belt', 'track suit pullover and pants',\n",
       "       'evening trouser suit and blouse', 'evening skirt suit and cloak',\n",
       "       'doll clothes', 'stained glass design', 'trousers ',\n",
       "       'cossack trousers', 'evening trousers', 'hakama (trousers)',\n",
       "       'trousers (shalwar)', 'pyjama trousers', \"child's trousers\",\n",
       "       'mail trousers', 'jodphur trousers', 'trousers (clothing)',\n",
       "       'trousers (paijama)', 'ski trousers', 'trousers (hakama)',\n",
       "       'pair of trousers', 'trousers and waistcoat', 'tunic and trousers',\n",
       "       'waistcoat and trousers', 'jumper and trousers.',\n",
       "       'top and trousers', 'trousers and pinafore', 'jumper and trousers',\n",
       "       'quilted tie trousers', 'veil, trousers and drawstring',\n",
       "       \"pair of man's trousers\", 'trousers from \"sailor\" costume',\n",
       "       'trousers and bum flap', 'recycled lace bedding trousers'],\n",
       "      dtype=object)"
      ]
     },
     "execution_count": 6,
     "metadata": {},
     "output_type": "execute_result"
    }
   ],
   "source": [
    "df['objectType'].unique()"
   ]
  },
  {
   "cell_type": "code",
   "execution_count": 15,
   "metadata": {},
   "outputs": [
    {
     "data": {
      "text/plain": [
       "costume design                7379\n",
       "fashion design                5388\n",
       "dress fabric                  3774\n",
       "theatre costume               1723\n",
       "dress                         1141\n",
       "evening dress                  638\n",
       "jacket                         552\n",
       "shirt                          437\n",
       "coat                           379\n",
       "t-shirt                        338\n",
       "print                          334\n",
       "ensemble                       332\n",
       "trousers                       276\n",
       "suit                           233\n",
       "costume                        207\n",
       "robe                           188\n",
       "skirt suit                     175\n",
       "drawing                        159\n",
       "photograph                     140\n",
       "wedding dress                  134\n",
       "dress panel                    130\n",
       "dance costume                  115\n",
       "fashion plate                   94\n",
       "trouser suit                    68\n",
       "dress ornament                  65\n",
       "day dress                       62\n",
       "dress trimming                  61\n",
       "book jacket                     61\n",
       "costume doll                    61\n",
       "dress-making sample             58\n",
       "evening coat                    51\n",
       "costume plate                   49\n",
       "painting                        48\n",
       "dress piece                     47\n",
       "fancy dress costume design      41\n",
       "christening robe                38\n",
       "image robe                      37\n",
       "cocktail dress                  36\n",
       "mini-dress                      30\n",
       "man's suit                      29\n",
       "watercolour                     27\n",
       "etching                         26\n",
       "costume sketch                  20\n",
       "oil painting                    20\n",
       "fancy dress costume             19\n",
       "opera costume                   18\n",
       "paper dress                     17\n",
       "dress label                     17\n",
       "day ensemble                    16\n",
       "dress bodice                    16\n",
       "engraving                       15\n",
       "boy's suit                      14\n",
       "portrait miniature              14\n",
       "bathing costume                 14\n",
       "dress front                     14\n",
       "evening suit                    13\n",
       "dress trim                      13\n",
       "walking costume                 13\n",
       "matinee jacket                  12\n",
       "poster                          12\n",
       "Name: objectType, dtype: int64"
      ]
     },
     "execution_count": 15,
     "metadata": {},
     "output_type": "execute_result"
    }
   ],
   "source": [
    "df['objectType'].value_counts().head(60)"
   ]
  },
  {
   "cell_type": "code",
   "execution_count": 16,
   "metadata": {},
   "outputs": [],
   "source": [
    "sel = ['costume design', 'fashion design','dress fabric','photograph',\n",
    "        'print','drawing','dress panel','costume doll',\n",
    "        'dress trimming','dress-making sample','book jacket','painting',\n",
    "        'fancy dress costume design','watercolour','etching','costume sketch',\n",
    "        'oil painting','costume plate','theatre costume']"
   ]
  },
  {
   "cell_type": "code",
   "execution_count": 17,
   "metadata": {},
   "outputs": [],
   "source": [
    "for s in sel:\n",
    "    sel_index = df[df['objectType'] == s].index\n",
    "    df.drop(sel_index, inplace=True)"
   ]
  },
  {
   "cell_type": "code",
   "execution_count": 18,
   "metadata": {},
   "outputs": [
    {
     "data": {
      "text/plain": [
       "(7096, 11)"
      ]
     },
     "execution_count": 18,
     "metadata": {},
     "output_type": "execute_result"
    }
   ],
   "source": [
    "df.shape"
   ]
  },
  {
   "cell_type": "code",
   "execution_count": 24,
   "metadata": {},
   "outputs": [
    {
     "data": {
      "text/html": [
       "<div>\n",
       "<style scoped>\n",
       "    .dataframe tbody tr th:only-of-type {\n",
       "        vertical-align: middle;\n",
       "    }\n",
       "\n",
       "    .dataframe tbody tr th {\n",
       "        vertical-align: top;\n",
       "    }\n",
       "\n",
       "    .dataframe thead th {\n",
       "        text-align: right;\n",
       "    }\n",
       "</style>\n",
       "<table border=\"1\" class=\"dataframe\">\n",
       "  <thead>\n",
       "    <tr style=\"text-align: right;\">\n",
       "      <th></th>\n",
       "      <th>systemNumber</th>\n",
       "      <th>accessionNumber</th>\n",
       "      <th>objectType</th>\n",
       "      <th>_currentLocation</th>\n",
       "      <th>_primaryTitle</th>\n",
       "      <th>_primaryMaker</th>\n",
       "      <th>_primaryImageId</th>\n",
       "      <th>_primaryDate</th>\n",
       "      <th>_primaryPlace</th>\n",
       "      <th>_warningTypes</th>\n",
       "      <th>_images</th>\n",
       "    </tr>\n",
       "  </thead>\n",
       "  <tbody>\n",
       "    <tr>\n",
       "      <th>3</th>\n",
       "      <td>O1682165</td>\n",
       "      <td>S.8:1 to 5-2022</td>\n",
       "      <td>costume</td>\n",
       "      <td>{'id': 'THES49929', 'displayName': 'Theatre &amp; Performance, Room 104', 'type': 'Display', 'site': 'VA', 'onDisplay': True, 'detail': {'free': '', 'case': 'PL1', 'shelf': 'EXP', 'box': 'FIG1'}}</td>\n",
       "      <td>costume</td>\n",
       "      <td>{'name': 'Slade, Gabriella', 'association': 'designer'}</td>\n",
       "      <td>2022NG6373</td>\n",
       "      <td>2020</td>\n",
       "      <td>New York</td>\n",
       "      <td>[]</td>\n",
       "      <td>{'_primary_thumbnail': 'https://framemark.vam.ac.uk/collections/2022NG6373/full/!100,100/0/default.jpg', '_iiif_image_base_url': 'https://framemark.vam.ac.uk/collections/2022NG6373/', '_iiif_presentation_url': 'https://iiif.vam.ac.uk/collections/O1682165/manifest.json', 'imageResolution': 'high'}</td>\n",
       "    </tr>\n",
       "  </tbody>\n",
       "</table>\n",
       "</div>"
      ],
      "text/plain": [
       "  systemNumber  accessionNumber objectType  \\\n",
       "3     O1682165  S.8:1 to 5-2022    costume   \n",
       "\n",
       "                                                                                                                                                                                  _currentLocation  \\\n",
       "3  {'id': 'THES49929', 'displayName': 'Theatre & Performance, Room 104', 'type': 'Display', 'site': 'VA', 'onDisplay': True, 'detail': {'free': '', 'case': 'PL1', 'shelf': 'EXP', 'box': 'FIG1'}}   \n",
       "\n",
       "  _primaryTitle                                            _primaryMaker  \\\n",
       "3       costume  {'name': 'Slade, Gabriella', 'association': 'designer'}   \n",
       "\n",
       "  _primaryImageId _primaryDate _primaryPlace _warningTypes  \\\n",
       "3      2022NG6373         2020      New York            []   \n",
       "\n",
       "                                                                                                                                                                                                                                                                                                     _images  \n",
       "3  {'_primary_thumbnail': 'https://framemark.vam.ac.uk/collections/2022NG6373/full/!100,100/0/default.jpg', '_iiif_image_base_url': 'https://framemark.vam.ac.uk/collections/2022NG6373/', '_iiif_presentation_url': 'https://iiif.vam.ac.uk/collections/O1682165/manifest.json', 'imageResolution': 'high'}  "
      ]
     },
     "execution_count": 24,
     "metadata": {},
     "output_type": "execute_result"
    }
   ],
   "source": [
    "# easy check an object\n",
    "sysnumber = 'O1682165'\n",
    "df[df['systemNumber']==sysnumber]"
   ]
  },
  {
   "cell_type": "code",
   "execution_count": null,
   "metadata": {},
   "outputs": [],
   "source": []
  },
  {
   "cell_type": "markdown",
   "metadata": {},
   "source": [
    "## image download"
   ]
  },
  {
   "cell_type": "markdown",
   "metadata": {},
   "source": [
    "### extract base url"
   ]
  },
  {
   "cell_type": "code",
   "execution_count": 25,
   "metadata": {},
   "outputs": [],
   "source": [
    "df['image_value'] = df['_images'].map(lambda x: eval(x))"
   ]
  },
  {
   "cell_type": "code",
   "execution_count": 26,
   "metadata": {},
   "outputs": [],
   "source": [
    "df['image_value'] = df['image_value'].map(lambda x: x.values())"
   ]
  },
  {
   "cell_type": "code",
   "execution_count": 27,
   "metadata": {},
   "outputs": [],
   "source": [
    "df['image_base'] = df['image_value'].map(lambda x: (list(x)[1]))"
   ]
  },
  {
   "cell_type": "code",
   "execution_count": 28,
   "metadata": {},
   "outputs": [
    {
     "data": {
      "text/html": [
       "<div>\n",
       "<style scoped>\n",
       "    .dataframe tbody tr th:only-of-type {\n",
       "        vertical-align: middle;\n",
       "    }\n",
       "\n",
       "    .dataframe tbody tr th {\n",
       "        vertical-align: top;\n",
       "    }\n",
       "\n",
       "    .dataframe thead th {\n",
       "        text-align: right;\n",
       "    }\n",
       "</style>\n",
       "<table border=\"1\" class=\"dataframe\">\n",
       "  <thead>\n",
       "    <tr style=\"text-align: right;\">\n",
       "      <th></th>\n",
       "      <th>systemNumber</th>\n",
       "      <th>accessionNumber</th>\n",
       "      <th>objectType</th>\n",
       "      <th>_currentLocation</th>\n",
       "      <th>_primaryTitle</th>\n",
       "      <th>_primaryMaker</th>\n",
       "      <th>_primaryImageId</th>\n",
       "      <th>_primaryDate</th>\n",
       "      <th>_primaryPlace</th>\n",
       "      <th>_warningTypes</th>\n",
       "      <th>_images</th>\n",
       "      <th>image_value</th>\n",
       "      <th>image_base</th>\n",
       "    </tr>\n",
       "  </thead>\n",
       "  <tbody>\n",
       "    <tr>\n",
       "      <th>0</th>\n",
       "      <td>O1314778</td>\n",
       "      <td>S.1658-2015</td>\n",
       "      <td>costume</td>\n",
       "      <td>{'id': 'THES49318', 'displayName': 'In store', 'type': 'storage', 'site': 'BH', 'onDisplay': False, 'detail': {'free': '', 'case': '', 'shelf': '', 'box': ''}}</td>\n",
       "      <td>Costume</td>\n",
       "      <td>{'name': 'Strassner, Joe', 'association': 'designers'}</td>\n",
       "      <td>2015HV9075</td>\n",
       "      <td>1936</td>\n",
       "      <td>Great Britain</td>\n",
       "      <td>[]</td>\n",
       "      <td>{'_primary_thumbnail': 'https://framemark.vam.ac.uk/collections/2015HV9075/full/!100,100/0/default.jpg', '_iiif_image_base_url': 'https://framemark.vam.ac.uk/collections/2015HV9075/', '_iiif_presentation_url': None, 'imageResolution': 'low'}</td>\n",
       "      <td>(https://framemark.vam.ac.uk/collections/2015HV9075/full/!100,100/0/default.jpg, https://framemark.vam.ac.uk/collections/2015HV9075/, None, low)</td>\n",
       "      <td>https://framemark.vam.ac.uk/collections/2015HV9075/</td>\n",
       "    </tr>\n",
       "  </tbody>\n",
       "</table>\n",
       "</div>"
      ],
      "text/plain": [
       "  systemNumber accessionNumber objectType  \\\n",
       "0     O1314778     S.1658-2015    costume   \n",
       "\n",
       "                                                                                                                                                  _currentLocation  \\\n",
       "0  {'id': 'THES49318', 'displayName': 'In store', 'type': 'storage', 'site': 'BH', 'onDisplay': False, 'detail': {'free': '', 'case': '', 'shelf': '', 'box': ''}}   \n",
       "\n",
       "  _primaryTitle                                           _primaryMaker  \\\n",
       "0       Costume  {'name': 'Strassner, Joe', 'association': 'designers'}   \n",
       "\n",
       "  _primaryImageId _primaryDate  _primaryPlace _warningTypes  \\\n",
       "0      2015HV9075         1936  Great Britain            []   \n",
       "\n",
       "                                                                                                                                                                                                                                             _images  \\\n",
       "0  {'_primary_thumbnail': 'https://framemark.vam.ac.uk/collections/2015HV9075/full/!100,100/0/default.jpg', '_iiif_image_base_url': 'https://framemark.vam.ac.uk/collections/2015HV9075/', '_iiif_presentation_url': None, 'imageResolution': 'low'}   \n",
       "\n",
       "                                                                                                                                        image_value  \\\n",
       "0  (https://framemark.vam.ac.uk/collections/2015HV9075/full/!100,100/0/default.jpg, https://framemark.vam.ac.uk/collections/2015HV9075/, None, low)   \n",
       "\n",
       "                                            image_base  \n",
       "0  https://framemark.vam.ac.uk/collections/2015HV9075/  "
      ]
     },
     "execution_count": 28,
     "metadata": {},
     "output_type": "execute_result"
    }
   ],
   "source": [
    "df.head(1)"
   ]
  },
  {
   "cell_type": "code",
   "execution_count": 44,
   "metadata": {},
   "outputs": [],
   "source": [
    "df_test['image_value'] = df_test['_images'].map(lambda x: x.values())\n",
    "df_test['image_base'] = df_test['image_value'].map(lambda x: (list(x)[1]))"
   ]
  },
  {
   "cell_type": "markdown",
   "metadata": {},
   "source": [
    "### prototype"
   ]
  },
  {
   "cell_type": "code",
   "execution_count": null,
   "metadata": {},
   "outputs": [
    {
     "data": {
      "text/plain": [
       "Index(['systemNumber', 'accessionNumber', 'objectType', '_currentLocation',\n",
       "       '_primaryTitle', '_primaryMaker', '_primaryImageId', '_primaryDate',\n",
       "       '_primaryPlace', '_warningTypes', '_images'],\n",
       "      dtype='object')"
      ]
     },
     "execution_count": 229,
     "metadata": {},
     "output_type": "execute_result"
    }
   ],
   "source": [
    "test_sample = df.sample(1,random_state = 2333)\n",
    "test_sample.columns"
   ]
  },
  {
   "cell_type": "code",
   "execution_count": null,
   "metadata": {},
   "outputs": [],
   "source": [
    "image_url_dict = test_sample['_images'].to_dict()"
   ]
  },
  {
   "cell_type": "code",
   "execution_count": null,
   "metadata": {},
   "outputs": [],
   "source": [
    "k = list(image_url_dict.keys())\n",
    "k=k[0]"
   ]
  },
  {
   "cell_type": "code",
   "execution_count": null,
   "metadata": {},
   "outputs": [],
   "source": [
    "image_base_url = image_url_dict[k]['_iiif_image_base_url']"
   ]
  },
  {
   "cell_type": "code",
   "execution_count": null,
   "metadata": {},
   "outputs": [
    {
     "data": {
      "text/plain": [
       "'https://framemark.vam.ac.uk/collections/2011EP4395/'"
      ]
     },
     "execution_count": 235,
     "metadata": {},
     "output_type": "execute_result"
    }
   ],
   "source": [
    "image_base_url"
   ]
  },
  {
   "cell_type": "code",
   "execution_count": null,
   "metadata": {},
   "outputs": [
    {
     "data": {
      "text/plain": [
       "'https://framemark.vam.ac.uk/collections/2011EP4395/full/full/0/default.jpg'"
      ]
     },
     "execution_count": 236,
     "metadata": {},
     "output_type": "execute_result"
    }
   ],
   "source": [
    "image_download_url = image_base_url + 'full/full/0/default.jpg'\n",
    "image_download_url"
   ]
  },
  {
   "cell_type": "code",
   "execution_count": null,
   "metadata": {},
   "outputs": [
    {
     "name": "stdout",
     "output_type": "stream",
     "text": [
      "clean image/VA/O1174504.jpg\n"
     ]
    }
   ],
   "source": [
    "# get the name of the file\n",
    "# create the filepath to save the image\n",
    "dir = 'clean image/VA/'\n",
    "systemNumber = test_sample['systemNumber'].to_string(index=False)\n",
    "filepath = dir + systemNumber + '.jpg'\n",
    "\n",
    "print(filepath)"
   ]
  },
  {
   "cell_type": "code",
   "execution_count": null,
   "metadata": {},
   "outputs": [],
   "source": [
    "# save the image\n",
    "z = urllib.request.urlopen(image_download_url)\n",
    "output = open(filepath, 'wb')\n",
    "output.write(z.read())\n",
    "output.close()"
   ]
  },
  {
   "cell_type": "code",
   "execution_count": null,
   "metadata": {},
   "outputs": [
    {
     "data": {
      "text/plain": [
       "0    https://framemark.vam.ac.uk/collections/2006AP6466/\n",
       "1    https://framemark.vam.ac.uk/collections/2019LM0853/\n",
       "2    https://framemark.vam.ac.uk/collections/2019LM1011/\n",
       "Name: image_base, dtype: object"
      ]
     },
     "execution_count": 77,
     "metadata": {},
     "output_type": "execute_result"
    }
   ],
   "source": [
    "df_test['image_base']"
   ]
  },
  {
   "cell_type": "markdown",
   "metadata": {},
   "source": [
    "### define the function"
   ]
  },
  {
   "cell_type": "code",
   "execution_count": 31,
   "metadata": {},
   "outputs": [],
   "source": [
    "def download_image(dir = 'clean image/VA/', df=df):\n",
    "    start = time.time()\n",
    "    print(f'{df.shape[0]} images will be downloaded.')    \n",
    "\n",
    "    name = df['systemNumber']\n",
    "    url = df['image_base']\n",
    "    name = list(name)\n",
    "    url = list(url)\n",
    "\n",
    "    error_id = []\n",
    "    error_n = 0\n",
    "\n",
    "    # check if the folder existed\n",
    "    # if not, create the folder\n",
    "    b = os.path.exists(dir)\n",
    "    if b == False:\n",
    "        os.mkdir(dir) \n",
    "\n",
    "    for n,u in zip(name,url):\n",
    "        filename = dir + n + '.jpg'\n",
    "        uu = u + 'full/full/0/default.jpg'\n",
    "        try:\n",
    "            z = urllib.request.urlopen(uu)\n",
    "            output = open(filename, 'wb')\n",
    "            output.write(z.read())\n",
    "            output.close()\n",
    "        except:\n",
    "            error_id.append(n)\n",
    "            print(f'error id {n}')\n",
    "            error_n += 1\n",
    "            print(f'{error_n} errors in total')\n",
    "            continue\n",
    "\n",
    "    end = time.time()\n",
    "    print(f'{end - start} secs slipped...')"
   ]
  },
  {
   "cell_type": "code",
   "execution_count": 45,
   "metadata": {},
   "outputs": [
    {
     "name": "stdout",
     "output_type": "stream",
     "text": [
      "3 images will be downloaded.\n",
      "3.106887102127075 secs slipped...\n"
     ]
    }
   ],
   "source": [
    "# test\n",
    "download_image('vatest/', df_test)"
   ]
  },
  {
   "cell_type": "markdown",
   "metadata": {},
   "source": [
    "### scrape"
   ]
  },
  {
   "cell_type": "code",
   "execution_count": 33,
   "metadata": {},
   "outputs": [
    {
     "data": {
      "text/plain": [
       "(7096, 13)"
      ]
     },
     "execution_count": 33,
     "metadata": {},
     "output_type": "execute_result"
    }
   ],
   "source": [
    "df.shape"
   ]
  },
  {
   "cell_type": "code",
   "execution_count": 32,
   "metadata": {},
   "outputs": [
    {
     "name": "stdout",
     "output_type": "stream",
     "text": [
      "7096 images will be downloaded.\n",
      "9284.307857513428 secs slipped...\n"
     ]
    }
   ],
   "source": [
    "download_image('clean image/VA_sel/', df)"
   ]
  },
  {
   "cell_type": "code",
   "execution_count": 34,
   "metadata": {},
   "outputs": [],
   "source": [
    "df.to_csv(r'scrapped_data/VA_all_sel.csv', index = False)"
   ]
  },
  {
   "cell_type": "code",
   "execution_count": 35,
   "metadata": {},
   "outputs": [],
   "source": [
    "df = pd.read_csv('scrapped_data/VA_all_sel.csv') "
   ]
  },
  {
   "cell_type": "code",
   "execution_count": null,
   "metadata": {},
   "outputs": [],
   "source": []
  }
 ],
 "metadata": {
  "kernelspec": {
   "display_name": "Python 3.9.12 ('base')",
   "language": "python",
   "name": "python3"
  },
  "language_info": {
   "codemirror_mode": {
    "name": "ipython",
    "version": 3
   },
   "file_extension": ".py",
   "mimetype": "text/x-python",
   "name": "python",
   "nbconvert_exporter": "python",
   "pygments_lexer": "ipython3",
   "version": "3.9.12"
  },
  "orig_nbformat": 4,
  "vscode": {
   "interpreter": {
    "hash": "c738c5dbbe27c39534afaf60a228761ec99c842d673ea0c5f841b81d59c4efd4"
   }
  }
 },
 "nbformat": 4,
 "nbformat_minor": 2
}
