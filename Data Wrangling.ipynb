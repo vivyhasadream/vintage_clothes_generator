{
 "cells": [
  {
   "cell_type": "markdown",
   "metadata": {},
   "source": [
    "### setup"
   ]
  },
  {
   "cell_type": "code",
   "execution_count": 1,
   "metadata": {},
   "outputs": [],
   "source": [
    "import pandas as pd"
   ]
  },
  {
   "cell_type": "markdown",
   "metadata": {},
   "source": [
    "### import\n",
    "\n",
    "The Metropolitan Museum of Art Open Access CSV <br>\n",
    "https://github.com/metmuseum/openaccess\n"
   ]
  },
  {
   "cell_type": "code",
   "execution_count": 6,
   "metadata": {},
   "outputs": [],
   "source": [
    "df = pd.read_csv('openaccess\\MetObjects.csv', dtype='str')"
   ]
  },
  {
   "cell_type": "code",
   "execution_count": 7,
   "metadata": {},
   "outputs": [
    {
     "data": {
      "text/plain": [
       "(477804, 54)"
      ]
     },
     "execution_count": 7,
     "metadata": {},
     "output_type": "execute_result"
    }
   ],
   "source": [
    "df.shape"
   ]
  },
  {
   "cell_type": "code",
   "execution_count": 8,
   "metadata": {},
   "outputs": [
    {
     "data": {
      "text/html": [
       "<div>\n",
       "<style scoped>\n",
       "    .dataframe tbody tr th:only-of-type {\n",
       "        vertical-align: middle;\n",
       "    }\n",
       "\n",
       "    .dataframe tbody tr th {\n",
       "        vertical-align: top;\n",
       "    }\n",
       "\n",
       "    .dataframe thead th {\n",
       "        text-align: right;\n",
       "    }\n",
       "</style>\n",
       "<table border=\"1\" class=\"dataframe\">\n",
       "  <thead>\n",
       "    <tr style=\"text-align: right;\">\n",
       "      <th></th>\n",
       "      <th>Object Number</th>\n",
       "      <th>Is Highlight</th>\n",
       "      <th>Is Timeline Work</th>\n",
       "      <th>Is Public Domain</th>\n",
       "      <th>Object ID</th>\n",
       "      <th>Gallery Number</th>\n",
       "      <th>Department</th>\n",
       "      <th>AccessionYear</th>\n",
       "      <th>Object Name</th>\n",
       "      <th>Title</th>\n",
       "      <th>...</th>\n",
       "      <th>River</th>\n",
       "      <th>Classification</th>\n",
       "      <th>Rights and Reproduction</th>\n",
       "      <th>Link Resource</th>\n",
       "      <th>Object Wikidata URL</th>\n",
       "      <th>Metadata Date</th>\n",
       "      <th>Repository</th>\n",
       "      <th>Tags</th>\n",
       "      <th>Tags AAT URL</th>\n",
       "      <th>Tags Wikidata URL</th>\n",
       "    </tr>\n",
       "  </thead>\n",
       "  <tbody>\n",
       "    <tr>\n",
       "      <th>0</th>\n",
       "      <td>1979.486.1</td>\n",
       "      <td>False</td>\n",
       "      <td>False</td>\n",
       "      <td>False</td>\n",
       "      <td>1</td>\n",
       "      <td>NaN</td>\n",
       "      <td>The American Wing</td>\n",
       "      <td>1979</td>\n",
       "      <td>Coin</td>\n",
       "      <td>One-dollar Liberty Head Coin</td>\n",
       "      <td>...</td>\n",
       "      <td>NaN</td>\n",
       "      <td>NaN</td>\n",
       "      <td>NaN</td>\n",
       "      <td>http://www.metmuseum.org/art/collection/search/1</td>\n",
       "      <td>NaN</td>\n",
       "      <td>NaN</td>\n",
       "      <td>Metropolitan Museum of Art, New York, NY</td>\n",
       "      <td>NaN</td>\n",
       "      <td>NaN</td>\n",
       "      <td>NaN</td>\n",
       "    </tr>\n",
       "    <tr>\n",
       "      <th>1</th>\n",
       "      <td>1980.264.5</td>\n",
       "      <td>False</td>\n",
       "      <td>False</td>\n",
       "      <td>False</td>\n",
       "      <td>2</td>\n",
       "      <td>NaN</td>\n",
       "      <td>The American Wing</td>\n",
       "      <td>1980</td>\n",
       "      <td>Coin</td>\n",
       "      <td>Ten-dollar Liberty Head Coin</td>\n",
       "      <td>...</td>\n",
       "      <td>NaN</td>\n",
       "      <td>NaN</td>\n",
       "      <td>NaN</td>\n",
       "      <td>http://www.metmuseum.org/art/collection/search/2</td>\n",
       "      <td>NaN</td>\n",
       "      <td>NaN</td>\n",
       "      <td>Metropolitan Museum of Art, New York, NY</td>\n",
       "      <td>NaN</td>\n",
       "      <td>NaN</td>\n",
       "      <td>NaN</td>\n",
       "    </tr>\n",
       "    <tr>\n",
       "      <th>2</th>\n",
       "      <td>67.265.9</td>\n",
       "      <td>False</td>\n",
       "      <td>False</td>\n",
       "      <td>False</td>\n",
       "      <td>3</td>\n",
       "      <td>NaN</td>\n",
       "      <td>The American Wing</td>\n",
       "      <td>1967</td>\n",
       "      <td>Coin</td>\n",
       "      <td>Two-and-a-Half Dollar Coin</td>\n",
       "      <td>...</td>\n",
       "      <td>NaN</td>\n",
       "      <td>NaN</td>\n",
       "      <td>NaN</td>\n",
       "      <td>http://www.metmuseum.org/art/collection/search/3</td>\n",
       "      <td>NaN</td>\n",
       "      <td>NaN</td>\n",
       "      <td>Metropolitan Museum of Art, New York, NY</td>\n",
       "      <td>NaN</td>\n",
       "      <td>NaN</td>\n",
       "      <td>NaN</td>\n",
       "    </tr>\n",
       "    <tr>\n",
       "      <th>3</th>\n",
       "      <td>67.265.10</td>\n",
       "      <td>False</td>\n",
       "      <td>False</td>\n",
       "      <td>False</td>\n",
       "      <td>4</td>\n",
       "      <td>NaN</td>\n",
       "      <td>The American Wing</td>\n",
       "      <td>1967</td>\n",
       "      <td>Coin</td>\n",
       "      <td>Two-and-a-Half Dollar Coin</td>\n",
       "      <td>...</td>\n",
       "      <td>NaN</td>\n",
       "      <td>NaN</td>\n",
       "      <td>NaN</td>\n",
       "      <td>http://www.metmuseum.org/art/collection/search/4</td>\n",
       "      <td>NaN</td>\n",
       "      <td>NaN</td>\n",
       "      <td>Metropolitan Museum of Art, New York, NY</td>\n",
       "      <td>NaN</td>\n",
       "      <td>NaN</td>\n",
       "      <td>NaN</td>\n",
       "    </tr>\n",
       "    <tr>\n",
       "      <th>4</th>\n",
       "      <td>67.265.11</td>\n",
       "      <td>False</td>\n",
       "      <td>False</td>\n",
       "      <td>False</td>\n",
       "      <td>5</td>\n",
       "      <td>NaN</td>\n",
       "      <td>The American Wing</td>\n",
       "      <td>1967</td>\n",
       "      <td>Coin</td>\n",
       "      <td>Two-and-a-Half Dollar Coin</td>\n",
       "      <td>...</td>\n",
       "      <td>NaN</td>\n",
       "      <td>NaN</td>\n",
       "      <td>NaN</td>\n",
       "      <td>http://www.metmuseum.org/art/collection/search/5</td>\n",
       "      <td>NaN</td>\n",
       "      <td>NaN</td>\n",
       "      <td>Metropolitan Museum of Art, New York, NY</td>\n",
       "      <td>NaN</td>\n",
       "      <td>NaN</td>\n",
       "      <td>NaN</td>\n",
       "    </tr>\n",
       "  </tbody>\n",
       "</table>\n",
       "<p>5 rows × 54 columns</p>\n",
       "</div>"
      ],
      "text/plain": [
       "  Object Number Is Highlight Is Timeline Work Is Public Domain Object ID  \\\n",
       "0    1979.486.1        False            False            False         1   \n",
       "1    1980.264.5        False            False            False         2   \n",
       "2      67.265.9        False            False            False         3   \n",
       "3     67.265.10        False            False            False         4   \n",
       "4     67.265.11        False            False            False         5   \n",
       "\n",
       "  Gallery Number         Department AccessionYear Object Name  \\\n",
       "0            NaN  The American Wing          1979        Coin   \n",
       "1            NaN  The American Wing          1980        Coin   \n",
       "2            NaN  The American Wing          1967        Coin   \n",
       "3            NaN  The American Wing          1967        Coin   \n",
       "4            NaN  The American Wing          1967        Coin   \n",
       "\n",
       "                          Title  ... River Classification  \\\n",
       "0  One-dollar Liberty Head Coin  ...   NaN            NaN   \n",
       "1  Ten-dollar Liberty Head Coin  ...   NaN            NaN   \n",
       "2    Two-and-a-Half Dollar Coin  ...   NaN            NaN   \n",
       "3    Two-and-a-Half Dollar Coin  ...   NaN            NaN   \n",
       "4    Two-and-a-Half Dollar Coin  ...   NaN            NaN   \n",
       "\n",
       "  Rights and Reproduction                                     Link Resource  \\\n",
       "0                     NaN  http://www.metmuseum.org/art/collection/search/1   \n",
       "1                     NaN  http://www.metmuseum.org/art/collection/search/2   \n",
       "2                     NaN  http://www.metmuseum.org/art/collection/search/3   \n",
       "3                     NaN  http://www.metmuseum.org/art/collection/search/4   \n",
       "4                     NaN  http://www.metmuseum.org/art/collection/search/5   \n",
       "\n",
       "  Object Wikidata URL Metadata Date                                Repository  \\\n",
       "0                 NaN           NaN  Metropolitan Museum of Art, New York, NY   \n",
       "1                 NaN           NaN  Metropolitan Museum of Art, New York, NY   \n",
       "2                 NaN           NaN  Metropolitan Museum of Art, New York, NY   \n",
       "3                 NaN           NaN  Metropolitan Museum of Art, New York, NY   \n",
       "4                 NaN           NaN  Metropolitan Museum of Art, New York, NY   \n",
       "\n",
       "  Tags Tags AAT URL Tags Wikidata URL  \n",
       "0  NaN          NaN               NaN  \n",
       "1  NaN          NaN               NaN  \n",
       "2  NaN          NaN               NaN  \n",
       "3  NaN          NaN               NaN  \n",
       "4  NaN          NaN               NaN  \n",
       "\n",
       "[5 rows x 54 columns]"
      ]
     },
     "execution_count": 8,
     "metadata": {},
     "output_type": "execute_result"
    }
   ],
   "source": [
    "df.head()"
   ]
  },
  {
   "cell_type": "code",
   "execution_count": 9,
   "metadata": {},
   "outputs": [
    {
     "data": {
      "text/plain": [
       "477804"
      ]
     },
     "execution_count": 9,
     "metadata": {},
     "output_type": "execute_result"
    }
   ],
   "source": [
    "df['Object ID'].nunique()"
   ]
  },
  {
   "cell_type": "code",
   "execution_count": 10,
   "metadata": {},
   "outputs": [
    {
     "data": {
      "text/plain": [
       "Index(['Object Number', 'Is Highlight', 'Is Timeline Work', 'Is Public Domain',\n",
       "       'Object ID', 'Gallery Number', 'Department', 'AccessionYear',\n",
       "       'Object Name', 'Title', 'Culture', 'Period', 'Dynasty', 'Reign',\n",
       "       'Portfolio', 'Constituent ID', 'Artist Role', 'Artist Prefix',\n",
       "       'Artist Display Name', 'Artist Display Bio', 'Artist Suffix',\n",
       "       'Artist Alpha Sort', 'Artist Nationality', 'Artist Begin Date',\n",
       "       'Artist End Date', 'Artist Gender', 'Artist ULAN URL',\n",
       "       'Artist Wikidata URL', 'Object Date', 'Object Begin Date',\n",
       "       'Object End Date', 'Medium', 'Dimensions', 'Credit Line',\n",
       "       'Geography Type', 'City', 'State', 'County', 'Country', 'Region',\n",
       "       'Subregion', 'Locale', 'Locus', 'Excavation', 'River', 'Classification',\n",
       "       'Rights and Reproduction', 'Link Resource', 'Object Wikidata URL',\n",
       "       'Metadata Date', 'Repository', 'Tags', 'Tags AAT URL',\n",
       "       'Tags Wikidata URL'],\n",
       "      dtype='object')"
      ]
     },
     "execution_count": 10,
     "metadata": {},
     "output_type": "execute_result"
    }
   ],
   "source": [
    "df.columns"
   ]
  },
  {
   "cell_type": "code",
   "execution_count": 14,
   "metadata": {},
   "outputs": [
    {
     "name": "stdout",
     "output_type": "stream",
     "text": [
      "<class 'pandas.core.frame.DataFrame'>\n",
      "RangeIndex: 477804 entries, 0 to 477803\n",
      "Data columns (total 54 columns):\n",
      " #   Column                   Non-Null Count   Dtype  \n",
      "---  ------                   --------------   -----  \n",
      " 0   Object Number            477804 non-null  object \n",
      " 1   Is Highlight             477804 non-null  bool   \n",
      " 2   Is Timeline Work         477804 non-null  bool   \n",
      " 3   Is Public Domain         477804 non-null  bool   \n",
      " 4   Object ID                477804 non-null  int64  \n",
      " 5   Gallery Number           51776 non-null   object \n",
      " 6   Department               477804 non-null  object \n",
      " 7   AccessionYear            474248 non-null  object \n",
      " 8   Object Name              476113 non-null  object \n",
      " 9   Title                    448619 non-null  object \n",
      " 10  Culture                  207379 non-null  object \n",
      " 11  Period                   90956 non-null   object \n",
      " 12  Dynasty                  23233 non-null   object \n",
      " 13  Reign                    11226 non-null   object \n",
      " 14  Portfolio                23530 non-null   object \n",
      " 15  Constituent ID           275535 non-null  object \n",
      " 16  Artist Role              273436 non-null  object \n",
      " 17  Artist Prefix            275535 non-null  object \n",
      " 18  Artist Display Name      275535 non-null  object \n",
      " 19  Artist Display Bio       273436 non-null  object \n",
      " 20  Artist Suffix            275487 non-null  object \n",
      " 21  Artist Alpha Sort        275535 non-null  object \n",
      " 22  Artist Nationality       275535 non-null  object \n",
      " 23  Artist Begin Date        275535 non-null  object \n",
      " 24  Artist End Date          275535 non-null  object \n",
      " 25  Artist Gender            103061 non-null  object \n",
      " 26  Artist ULAN URL          222021 non-null  object \n",
      " 27  Artist Wikidata URL      217732 non-null  object \n",
      " 28  Object Date              463937 non-null  object \n",
      " 29  Object Begin Date        477804 non-null  int64  \n",
      " 30  Object End Date          477804 non-null  int64  \n",
      " 31  Medium                   470684 non-null  object \n",
      " 32  Dimensions               402510 non-null  object \n",
      " 33  Credit Line              477353 non-null  object \n",
      " 34  Geography Type           59769 non-null   object \n",
      " 35  City                     32407 non-null   object \n",
      " 36  State                    2550 non-null    object \n",
      " 37  County                   8450 non-null    object \n",
      " 38  Country                  75751 non-null   object \n",
      " 39  Region                   31360 non-null   object \n",
      " 40  Subregion                22124 non-null   object \n",
      " 41  Locale                   15709 non-null   object \n",
      " 42  Locus                    7493 non-null    object \n",
      " 43  Excavation               16558 non-null   object \n",
      " 44  River                    2095 non-null    object \n",
      " 45  Classification           399598 non-null  object \n",
      " 46  Rights and Reproduction  24198 non-null   object \n",
      " 47  Link Resource            477804 non-null  object \n",
      " 48  Object Wikidata URL      22265 non-null   object \n",
      " 49  Metadata Date            0 non-null       float64\n",
      " 50  Repository               477804 non-null  object \n",
      " 51  Tags                     200400 non-null  object \n",
      " 52  Tags AAT URL             200400 non-null  object \n",
      " 53  Tags Wikidata URL        200400 non-null  object \n",
      "dtypes: bool(3), float64(1), int64(3), object(47)\n",
      "memory usage: 187.3+ MB\n"
     ]
    }
   ],
   "source": [
    "df.info()"
   ]
  },
  {
   "cell_type": "code",
   "execution_count": 13,
   "metadata": {},
   "outputs": [
    {
     "data": {
      "text/plain": [
       "477804"
      ]
     },
     "execution_count": 13,
     "metadata": {},
     "output_type": "execute_result"
    }
   ],
   "source": [
    "len(df['Link Resource'].unique())"
   ]
  },
  {
   "cell_type": "code",
   "execution_count": 15,
   "metadata": {},
   "outputs": [
    {
     "data": {
      "text/plain": [
       "Drawings and Prints                          0.349834\n",
       "European Sculpture and Decorative Arts       0.089857\n",
       "Photographs                                  0.077839\n",
       "Asian Art                                    0.077055\n",
       "Greek and Roman Art                          0.070636\n",
       "Costume Institute                            0.065742\n",
       "Egyptian Art                                 0.058522\n",
       "The American Wing                            0.038535\n",
       "Islamic Art                                  0.032384\n",
       "Modern and Contemporary Art                  0.029805\n",
       "Arms and Armor                               0.028487\n",
       "Arts of Africa, Oceania, and the Americas    0.025816\n",
       "Medieval Art                                 0.014964\n",
       "Ancient Near Eastern Art                     0.013022\n",
       "Musical Instruments                          0.010904\n",
       "European Paintings                           0.005477\n",
       "Robert Lehman Collection                     0.005412\n",
       "The Cloisters                                0.004893\n",
       "The Libraries                                0.000816\n",
       "Name: Department, dtype: float64"
      ]
     },
     "execution_count": 15,
     "metadata": {},
     "output_type": "execute_result"
    }
   ],
   "source": [
    "df['Department'].value_counts(normalize=True)"
   ]
  },
  {
   "cell_type": "markdown",
   "metadata": {},
   "source": [
    "### check with requests"
   ]
  },
  {
   "cell_type": "code",
   "execution_count": 2,
   "metadata": {},
   "outputs": [],
   "source": [
    "import requests"
   ]
  },
  {
   "cell_type": "code",
   "execution_count": 16,
   "metadata": {},
   "outputs": [
    {
     "data": {
      "text/plain": [
       "<Response [200]>"
      ]
     },
     "execution_count": 16,
     "metadata": {},
     "output_type": "execute_result"
    }
   ],
   "source": [
    "random_chucknorris_url = \"https://collectionapi.metmuseum.org/public/collection/v1/departments\"\n",
    "r = requests.get(random_chucknorris_url)\n",
    "r"
   ]
  },
  {
   "cell_type": "code",
   "execution_count": 5,
   "metadata": {},
   "outputs": [
    {
     "data": {
      "text/plain": [
       "<Response [200]>"
      ]
     },
     "execution_count": 5,
     "metadata": {},
     "output_type": "execute_result"
    }
   ],
   "source": [
    "url = \"https://collectionapi.metmuseum.org/public/collection/v1/objects/69066\"\n",
    "\n",
    "r = requests.get(url)\n",
    "r\n"
   ]
  },
  {
   "cell_type": "code",
   "execution_count": 6,
   "metadata": {},
   "outputs": [
    {
     "data": {
      "text/plain": [
       "'{\"objectID\":69066,\"isHighlight\":false,\"accessionNumber\":\"35.84.8\",\"accessionYear\":\"1935\",\"isPublicDomain\":true,\"primaryImage\":\"https://images.metmuseum.org/CRDImages/as/original/DT4918.jpg\",\"primaryImageSmall\":\"https://images.metmuseum.org/CRDImages/as/web-large/DT4918.jpg\",\"additionalImages\":[\"https://images.metmuseum.org/CRDImages/as/original/TP468C.jpg\",\"https://images.metmuseum.org/CRDImages/as/original/100832.jpg\"],\"constituents\":null,\"department\":\"Asian Art\",\"objectName\":\"Robe\",\"title\":\"Festival Robe\",\"culture\":\"China\",\"period\":\"Qing dynasty (1644–1911)\",\"dynasty\":\"\",\"reign\":\"\",\"portfolio\":\"\",\"artistRole\":\"\",\"artistPrefix\":\"\",\"artistDisplayName\":\"\",\"artistDisplayBio\":\"\",\"artistSuffix\":\"\",\"artistAlphaSort\":\"\",\"artistNationality\":\"\",\"artistBeginDate\":\"\",\"artistEndDate\":\"\",\"artistGender\":\"\",\"artistWikidata_URL\":\"\",\"artistULAN_URL\":\"\",\"objectDate\":\"second half of the 18th century\",\"objectBeginDate\":1750,\"objectEndDate\":1799,\"medium\":\"Silk and metallic thread embroidery on silk satin\",\"dimensions\":\"57 × 73 1/4 in. (144.8 × 186.1 cm)\",\"measurements\":[{\"elementName\":\"Overall\",\"elementDescription\":null,\"elementMeasurements\":{\"Height\":144.78029,\"Width\":186.05537}}],\"creditLine\":\"Purchase, Joseph Pulitzer Bequest, 1935\",\"geographyType\":\"\",\"city\":\"\",\"state\":\"\",\"county\":\"\",\"country\":\"\",\"region\":\"\",\"subregion\":\"\",\"locale\":\"\",\"locus\":\"\",\"excavation\":\"\",\"river\":\"\",\"classification\":\"Costumes-Embroidered\",\"rightsAndReproduction\":\"\",\"linkResource\":\"\",\"metadataDate\":\"2022-04-22T05:09:02.033Z\",\"repository\":\"Metropolitan Museum of Art, New York, NY\",\"objectURL\":\"https://www.metmuseum.org/art/collection/search/69066\",\"tags\":[{\"term\":\"Dragons\",\"AAT_URL\":\"http://vocab.getty.edu/page/aat/300375726\",\"Wikidata_URL\":\"https://www.wikidata.org/wiki/Q7559\"}],\"objectWikidata_URL\":\"\",\"isTimelineWork\":false,\"GalleryNumber\":\"\"}'"
      ]
     },
     "execution_count": 6,
     "metadata": {},
     "output_type": "execute_result"
    }
   ],
   "source": [
    "r.text"
   ]
  },
  {
   "cell_type": "code",
   "execution_count": null,
   "metadata": {},
   "outputs": [],
   "source": []
  },
  {
   "cell_type": "code",
   "execution_count": null,
   "metadata": {},
   "outputs": [],
   "source": []
  },
  {
   "cell_type": "code",
   "execution_count": null,
   "metadata": {},
   "outputs": [],
   "source": []
  },
  {
   "cell_type": "code",
   "execution_count": null,
   "metadata": {},
   "outputs": [],
   "source": []
  },
  {
   "cell_type": "markdown",
   "metadata": {},
   "source": [
    "### make a dataframe of costume institute"
   ]
  },
  {
   "cell_type": "code",
   "execution_count": 21,
   "metadata": {},
   "outputs": [],
   "source": [
    "df_costume = df[df['Department']=='Costume Institute']"
   ]
  },
  {
   "cell_type": "code",
   "execution_count": 22,
   "metadata": {},
   "outputs": [
    {
     "name": "stdout",
     "output_type": "stream",
     "text": [
      "<class 'pandas.core.frame.DataFrame'>\n",
      "Int64Index: 31412 entries, 65554 to 477470\n",
      "Data columns (total 54 columns):\n",
      " #   Column                   Non-Null Count  Dtype  \n",
      "---  ------                   --------------  -----  \n",
      " 0   Object Number            31412 non-null  object \n",
      " 1   Is Highlight             31412 non-null  bool   \n",
      " 2   Is Timeline Work         31412 non-null  bool   \n",
      " 3   Is Public Domain         31412 non-null  bool   \n",
      " 4   Object ID                31412 non-null  int64  \n",
      " 5   Gallery Number           42 non-null     object \n",
      " 6   Department               31412 non-null  object \n",
      " 7   AccessionYear            31369 non-null  object \n",
      " 8   Object Name              31412 non-null  object \n",
      " 9   Title                    31409 non-null  object \n",
      " 10  Culture                  31412 non-null  object \n",
      " 11  Period                   0 non-null      object \n",
      " 12  Dynasty                  0 non-null      object \n",
      " 13  Reign                    0 non-null      object \n",
      " 14  Portfolio                0 non-null      object \n",
      " 15  Constituent ID           16560 non-null  object \n",
      " 16  Artist Role              16560 non-null  object \n",
      " 17  Artist Prefix            16560 non-null  object \n",
      " 18  Artist Display Name      16560 non-null  object \n",
      " 19  Artist Display Bio       16560 non-null  object \n",
      " 20  Artist Suffix            16560 non-null  object \n",
      " 21  Artist Alpha Sort        16560 non-null  object \n",
      " 22  Artist Nationality       16560 non-null  object \n",
      " 23  Artist Begin Date        16560 non-null  object \n",
      " 24  Artist End Date          16560 non-null  object \n",
      " 25  Artist Gender            8536 non-null   object \n",
      " 26  Artist ULAN URL          12683 non-null  object \n",
      " 27  Artist Wikidata URL      12496 non-null  object \n",
      " 28  Object Date              31412 non-null  object \n",
      " 29  Object Begin Date        31412 non-null  int64  \n",
      " 30  Object End Date          31412 non-null  int64  \n",
      " 31  Medium                   31409 non-null  object \n",
      " 32  Dimensions               0 non-null      object \n",
      " 33  Credit Line              31401 non-null  object \n",
      " 34  Geography Type           0 non-null      object \n",
      " 35  City                     0 non-null      object \n",
      " 36  State                    0 non-null      object \n",
      " 37  County                   0 non-null      object \n",
      " 38  Country                  0 non-null      object \n",
      " 39  Region                   0 non-null      object \n",
      " 40  Subregion                0 non-null      object \n",
      " 41  Locale                   0 non-null      object \n",
      " 42  Locus                    0 non-null      object \n",
      " 43  Excavation               0 non-null      object \n",
      " 44  River                    0 non-null      object \n",
      " 45  Classification           0 non-null      object \n",
      " 46  Rights and Reproduction  67 non-null     object \n",
      " 47  Link Resource            31412 non-null  object \n",
      " 48  Object Wikidata URL      1195 non-null   object \n",
      " 49  Metadata Date            0 non-null      float64\n",
      " 50  Repository               31412 non-null  object \n",
      " 51  Tags                     7739 non-null   object \n",
      " 52  Tags AAT URL             7739 non-null   object \n",
      " 53  Tags Wikidata URL        7739 non-null   object \n",
      "dtypes: bool(3), float64(1), int64(3), object(47)\n",
      "memory usage: 12.6+ MB\n"
     ]
    }
   ],
   "source": [
    "df_costume.info()"
   ]
  },
  {
   "cell_type": "code",
   "execution_count": 29,
   "metadata": {},
   "outputs": [
    {
     "data": {
      "text/plain": [
       "2959"
      ]
     },
     "execution_count": 29,
     "metadata": {},
     "output_type": "execute_result"
    }
   ],
   "source": [
    "len(df_costume[df_costume['Object Name'].str.contains('Dress')])"
   ]
  },
  {
   "cell_type": "code",
   "execution_count": 30,
   "metadata": {},
   "outputs": [
    {
     "data": {
      "text/plain": [
       "2178"
      ]
     },
     "execution_count": 30,
     "metadata": {},
     "output_type": "execute_result"
    }
   ],
   "source": [
    "len(df_costume[df_costume['Object Name'].str.contains('Ensemble')])"
   ]
  },
  {
   "cell_type": "markdown",
   "metadata": {},
   "source": [
    "### select clothes"
   ]
  },
  {
   "cell_type": "code",
   "execution_count": 37,
   "metadata": {},
   "outputs": [
    {
     "name": "stdout",
     "output_type": "stream",
     "text": [
      "There are 2959 Dress\n",
      "There are 2178 Ensemble\n",
      "There are 798 Coat\n",
      "There are 245 Blouse\n",
      "There are 977 Suit\n",
      "There are 13 Bolero\n",
      "There are 21 Shorts\n",
      "There are 21 Caftan\n",
      "There are 143 Petticoat\n",
      "There are 140 Robe\n",
      "My data size will be 7495\n"
     ]
    }
   ],
   "source": [
    "size = 0\n",
    "costume_sel = ['Dress','Ensemble','Coat','Blouse','Suit','Bolero','Shorts', 'Caftan', 'Petticoat','Robe']\n",
    "\n",
    "for cos in costume_sel:\n",
    "    number = len(df_costume[df_costume['Object Name'].str.contains(cos)])\n",
    "    print(f'There are {number} {cos}')\n",
    "    size += number\n",
    "\n",
    "print(f'My data size will be {size}')"
   ]
  },
  {
   "cell_type": "code",
   "execution_count": null,
   "metadata": {},
   "outputs": [],
   "source": []
  },
  {
   "cell_type": "code",
   "execution_count": 79,
   "metadata": {},
   "outputs": [],
   "source": [
    "import urllib\n",
    "resource = urllib.request.urlopen(\"https://collectionapi.metmuseum.org/api/collection/v1/iiif/69922/1354526/main-image\")\n",
    "output = open(\"file02.jpg\",\"wb\")\n",
    "output.write(resource.read())\n",
    "output.close()"
   ]
  },
  {
   "cell_type": "code",
   "execution_count": null,
   "metadata": {},
   "outputs": [],
   "source": []
  }
 ],
 "metadata": {
  "kernelspec": {
   "display_name": "Python 3.9.12 ('base')",
   "language": "python",
   "name": "python3"
  },
  "language_info": {
   "codemirror_mode": {
    "name": "ipython",
    "version": 3
   },
   "file_extension": ".py",
   "mimetype": "text/x-python",
   "name": "python",
   "nbconvert_exporter": "python",
   "pygments_lexer": "ipython3",
   "version": "3.9.12"
  },
  "orig_nbformat": 4,
  "vscode": {
   "interpreter": {
    "hash": "c738c5dbbe27c39534afaf60a228761ec99c842d673ea0c5f841b81d59c4efd4"
   }
  }
 },
 "nbformat": 4,
 "nbformat_minor": 2
}
