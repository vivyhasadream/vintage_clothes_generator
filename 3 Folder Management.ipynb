{
 "cells": [
  {
   "cell_type": "markdown",
   "metadata": {},
   "source": [
    "## setup"
   ]
  },
  {
   "cell_type": "code",
   "execution_count": 1,
   "metadata": {},
   "outputs": [],
   "source": [
    "import pandas as pd\n",
    "import numpy as np\n",
    "import cv2\n",
    "import os\n",
    "import time\n",
    "import matplotlib.pyplot as plt\n",
    "from matplotlib import image as mpimg\n",
    "from PIL import Image\n",
    "\n",
    "# show all dataframe\n",
    "pd.set_option('display.max_colwidth', None) \n",
    "pd.set_option('display.max_columns', None)  "
   ]
  },
  {
   "cell_type": "markdown",
   "metadata": {},
   "source": [
    "## params"
   ]
  },
  {
   "cell_type": "code",
   "execution_count": 7,
   "metadata": {},
   "outputs": [],
   "source": [
    "directory = 'test' # select the folder, no / at the end"
   ]
  },
  {
   "cell_type": "markdown",
   "metadata": {},
   "source": [
    "## delete grayscale images"
   ]
  },
  {
   "cell_type": "markdown",
   "metadata": {},
   "source": [
    "### prototype"
   ]
  },
  {
   "cell_type": "code",
   "execution_count": 2,
   "metadata": {},
   "outputs": [
    {
     "name": "stdout",
     "output_type": "stream",
     "text": [
      "310 grayscale images deleted.\n"
     ]
    }
   ],
   "source": [
    "directory = 'clean image/full_selection_sel' # select the folder\n",
    "counter = 0\n",
    "\n",
    "for filename in os.listdir(directory):\n",
    "    r = directory + '/' + filename\n",
    "    image = cv2.imread(r)\n",
    "    (B, G, R) = cv2.split(image)\n",
    "\n",
    "    if (B==G).all() == True:\n",
    "        os.remove(r)\n",
    "        counter += 1\n",
    "\n",
    "print(f'{counter} grayscale images deleted.')"
   ]
  },
  {
   "cell_type": "markdown",
   "metadata": {},
   "source": [
    "### define function"
   ]
  },
  {
   "cell_type": "code",
   "execution_count": 3,
   "metadata": {},
   "outputs": [],
   "source": [
    "directory = 'clean image/full_selection_sel' # select the folder\n",
    "\n",
    "def delete_gray_image_in_folder(directory):\n",
    "    start = time.time() # start timer\n",
    "    counter = 0 # handy counter for how many gracyscale images to be deleted\n",
    "\n",
    "    for filename in os.listdir(directory):\n",
    "        r = directory + '/' + filename\n",
    "        image = cv2.imread(r)\n",
    "        (B, G, R) = cv2.split(image)\n",
    "\n",
    "        if (B==G).all() == True: # RBG channels are same for grayscales\n",
    "            os.remove(r)\n",
    "            counter += 1\n",
    "\n",
    "    print(f'{counter} grayscale images deleted.')\n",
    "    print(f'{time.time()-start} seconds slipped...') # print out the time spent"
   ]
  },
  {
   "cell_type": "code",
   "execution_count": null,
   "metadata": {},
   "outputs": [],
   "source": [
    "# uncomment to use the fuction \n",
    "# directory = 'clean image/VA_sel' # select the folder\n",
    "# delete_gray_image_in_folder(directory)"
   ]
  },
  {
   "cell_type": "markdown",
   "metadata": {},
   "source": [
    "## checkout dimension of images"
   ]
  },
  {
   "cell_type": "markdown",
   "metadata": {},
   "source": [
    "### prototype"
   ]
  },
  {
   "cell_type": "code",
   "execution_count": 3,
   "metadata": {},
   "outputs": [],
   "source": [
    "# create dataframe of dimension of the images\n",
    "\n",
    "# initialte a dataframe for dimension\n",
    "keys = ['Object ID', 'width','height']\n",
    "df_dim = pd.DataFrame(columns=keys)\n",
    "\n",
    "# params\n",
    "directory = 'clean image/full_selection_sel' # select the folder\n",
    "\n",
    "# function\n",
    "for filename in os.listdir(directory):\n",
    "    r = directory + '/' + filename\n",
    "    image = cv2.imread(r)\n",
    "    new_row = {'Object ID':filename, 'width':image.shape[1],'height':image.shape[0]}\n",
    "    new_row = pd.DataFrame(new_row,index=[0])\n",
    "    df_dim = pd.concat([df_dim, new_row], ignore_index=True)"
   ]
  },
  {
   "cell_type": "code",
   "execution_count": 4,
   "metadata": {},
   "outputs": [],
   "source": [
    "# clean the .jpg in df\n",
    "df_dim['Object ID'] = df_dim['Object ID'].map(lambda x: x[:-4])"
   ]
  },
  {
   "cell_type": "code",
   "execution_count": 10,
   "metadata": {},
   "outputs": [
    {
     "data": {
      "text/html": [
       "<div>\n",
       "<style scoped>\n",
       "    .dataframe tbody tr th:only-of-type {\n",
       "        vertical-align: middle;\n",
       "    }\n",
       "\n",
       "    .dataframe tbody tr th {\n",
       "        vertical-align: top;\n",
       "    }\n",
       "\n",
       "    .dataframe thead th {\n",
       "        text-align: right;\n",
       "    }\n",
       "</style>\n",
       "<table border=\"1\" class=\"dataframe\">\n",
       "  <thead>\n",
       "    <tr style=\"text-align: right;\">\n",
       "      <th></th>\n",
       "      <th>Object ID</th>\n",
       "      <th>width</th>\n",
       "      <th>height</th>\n",
       "      <th>ratio</th>\n",
       "    </tr>\n",
       "  </thead>\n",
       "  <tbody>\n",
       "    <tr>\n",
       "      <th>0</th>\n",
       "      <td>100017</td>\n",
       "      <td>991</td>\n",
       "      <td>1795</td>\n",
       "      <td>vertical</td>\n",
       "    </tr>\n",
       "    <tr>\n",
       "      <th>1</th>\n",
       "      <td>100019</td>\n",
       "      <td>1800</td>\n",
       "      <td>1898</td>\n",
       "      <td>square</td>\n",
       "    </tr>\n",
       "    <tr>\n",
       "      <th>2</th>\n",
       "      <td>100020</td>\n",
       "      <td>1440</td>\n",
       "      <td>2526</td>\n",
       "      <td>vertical</td>\n",
       "    </tr>\n",
       "    <tr>\n",
       "      <th>3</th>\n",
       "      <td>100021</td>\n",
       "      <td>1663</td>\n",
       "      <td>1960</td>\n",
       "      <td>vertical</td>\n",
       "    </tr>\n",
       "    <tr>\n",
       "      <th>4</th>\n",
       "      <td>100024</td>\n",
       "      <td>1225</td>\n",
       "      <td>2838</td>\n",
       "      <td>vertical</td>\n",
       "    </tr>\n",
       "  </tbody>\n",
       "</table>\n",
       "</div>"
      ],
      "text/plain": [
       "  Object ID width height     ratio\n",
       "0    100017   991   1795  vertical\n",
       "1    100019  1800   1898    square\n",
       "2    100020  1440   2526  vertical\n",
       "3    100021  1663   1960  vertical\n",
       "4    100024  1225   2838  vertical"
      ]
     },
     "execution_count": 10,
     "metadata": {},
     "output_type": "execute_result"
    }
   ],
   "source": [
    "# create a list of our conditions\n",
    "conditions = [\n",
    "    df_dim['height'] / df_dim['width'] >=1.1,\n",
    "    df_dim['height'] / df_dim['width'] <=0.9,\n",
    "    (df_dim['height'] / df_dim['width'] >0.9) & (df_dim['height'] / df_dim['width'] <1.1) \n",
    "    ]\n",
    "\n",
    "# create a list of the values we want to assign for each condition\n",
    "values = ['vertical', 'horizontal', 'square']\n",
    "\n",
    "# create a new column and use np.select to assign values to it using our lists as arguments\n",
    "df_dim['ratio'] = np.select(conditions, values)\n",
    "\n",
    "# display updated DataFrame\n",
    "df_dim.head()"
   ]
  },
  {
   "cell_type": "code",
   "execution_count": 11,
   "metadata": {},
   "outputs": [],
   "source": [
    "ra = df_dim['ratio'].value_counts()"
   ]
  },
  {
   "cell_type": "code",
   "execution_count": 22,
   "metadata": {},
   "outputs": [
    {
     "data": {
      "text/plain": [
       "{'vertical': 2081, 'horizontal': 295, 'square': 189}"
      ]
     },
     "execution_count": 22,
     "metadata": {},
     "output_type": "execute_result"
    }
   ],
   "source": [
    "ra.to_dict()"
   ]
  },
  {
   "cell_type": "markdown",
   "metadata": {},
   "source": [
    "### define function"
   ]
  },
  {
   "cell_type": "code",
   "execution_count": 8,
   "metadata": {},
   "outputs": [],
   "source": [
    "# directory = 'clean image/full_selection_sel' # select the folder\n",
    "\n",
    "def dimension_df(directory):\n",
    "    \"\"\"return a dataframe\"\"\"\n",
    "    \"\"\"print out the dimension quantities\"\"\"\n",
    "\n",
    "    # start timer\n",
    "    start = time.time() # start timer\n",
    "\n",
    "    # initialte a dataframe for dimension\n",
    "    keys = ['Object ID', 'width','height']\n",
    "    df_dim = pd.DataFrame(columns=keys)\n",
    "\n",
    "    # function\n",
    "    for filename in os.listdir(directory):\n",
    "        r = directory + '/' + filename\n",
    "        image = cv2.imread(r)\n",
    "        new_row = {'Object ID':filename, 'width':image.shape[1],'height':image.shape[0]}\n",
    "        new_row = pd.DataFrame(new_row,index=[0])\n",
    "        df_dim = pd.concat([df_dim, new_row], ignore_index=True)\n",
    "\n",
    "    # clean the .jpg in df\n",
    "    df_dim['Object ID'] = df_dim['Object ID'].map(lambda x: x[:-4])\n",
    "\n",
    "    # create a list of the conditions\n",
    "    conditions = [\n",
    "        df_dim['height'] > df_dim['width'],\n",
    "        df_dim['height'] < df_dim['width'],\n",
    "        df_dim['height'] == df_dim['width']\n",
    "        ]\n",
    "\n",
    "    # conditions for rough square\n",
    "    # a rough square doesn't need to be cropped using other tools\n",
    "    # if there are many rough square, it will save some processing time\n",
    "    conditions2 = [\n",
    "        df_dim['height'] / df_dim['width'] >=1.1,\n",
    "        df_dim['height'] / df_dim['width'] <=0.9,\n",
    "        (df_dim['height'] / df_dim['width'] >0.9) & (df_dim['height'] / df_dim['width'] <1.1) \n",
    "        ]\n",
    "\n",
    "    # create a list of the values we want to assign for each condition\n",
    "    values = ['vertical', 'horizontal', 'square']\n",
    "\n",
    "    # create a new column and use np.select to assign values to it using our lists as arguments\n",
    "    df_dim['ratio'] = np.select(conditions, values)\n",
    "    df_dim['rough ratio'] = np.select(conditions2, values)\n",
    "\n",
    "    # print out the numbers of vertical and horizontal images\n",
    "    ra = df_dim['ratio'].value_counts().to_dict()\n",
    "    ra2 = df_dim['rough ratio'].value_counts().to_dict()\n",
    "    print(f'explict the square counts: {ra}')\n",
    "    print(f'rough square counts: {ra2}')\n",
    "\n",
    "    # timer stops\n",
    "    print(f'{time.time()-start} seconds slipped...') # print out the time spent\n",
    "\n",
    "    return df_dim"
   ]
  },
  {
   "cell_type": "markdown",
   "metadata": {},
   "source": [
    "### checkout different folders/selection"
   ]
  },
  {
   "cell_type": "code",
   "execution_count": 9,
   "metadata": {},
   "outputs": [
    {
     "name": "stdout",
     "output_type": "stream",
     "text": [
      "explict the square counts: {'vertical': 5557, 'horizontal': 1300, 'square': 138}\n",
      "rough square counts: {'vertical': 5428, 'horizontal': 1154, 'square': 413}\n",
      "106.93425917625427 seconds slipped...\n"
     ]
    },
    {
     "data": {
      "text/html": [
       "<div>\n",
       "<style scoped>\n",
       "    .dataframe tbody tr th:only-of-type {\n",
       "        vertical-align: middle;\n",
       "    }\n",
       "\n",
       "    .dataframe tbody tr th {\n",
       "        vertical-align: top;\n",
       "    }\n",
       "\n",
       "    .dataframe thead th {\n",
       "        text-align: right;\n",
       "    }\n",
       "</style>\n",
       "<table border=\"1\" class=\"dataframe\">\n",
       "  <thead>\n",
       "    <tr style=\"text-align: right;\">\n",
       "      <th></th>\n",
       "      <th>Object ID</th>\n",
       "      <th>width</th>\n",
       "      <th>height</th>\n",
       "      <th>ratio</th>\n",
       "      <th>rough ratio</th>\n",
       "    </tr>\n",
       "  </thead>\n",
       "  <tbody>\n",
       "    <tr>\n",
       "      <th>0</th>\n",
       "      <td>O100677</td>\n",
       "      <td>2500</td>\n",
       "      <td>1875</td>\n",
       "      <td>horizontal</td>\n",
       "      <td>horizontal</td>\n",
       "    </tr>\n",
       "    <tr>\n",
       "      <th>1</th>\n",
       "      <td>O100690</td>\n",
       "      <td>512</td>\n",
       "      <td>768</td>\n",
       "      <td>vertical</td>\n",
       "      <td>vertical</td>\n",
       "    </tr>\n",
       "    <tr>\n",
       "      <th>2</th>\n",
       "      <td>O100699</td>\n",
       "      <td>567</td>\n",
       "      <td>768</td>\n",
       "      <td>vertical</td>\n",
       "      <td>vertical</td>\n",
       "    </tr>\n",
       "    <tr>\n",
       "      <th>3</th>\n",
       "      <td>O100805</td>\n",
       "      <td>370</td>\n",
       "      <td>768</td>\n",
       "      <td>vertical</td>\n",
       "      <td>vertical</td>\n",
       "    </tr>\n",
       "    <tr>\n",
       "      <th>4</th>\n",
       "      <td>O100872</td>\n",
       "      <td>1667</td>\n",
       "      <td>2500</td>\n",
       "      <td>vertical</td>\n",
       "      <td>vertical</td>\n",
       "    </tr>\n",
       "    <tr>\n",
       "      <th>...</th>\n",
       "      <td>...</td>\n",
       "      <td>...</td>\n",
       "      <td>...</td>\n",
       "      <td>...</td>\n",
       "      <td>...</td>\n",
       "    </tr>\n",
       "    <tr>\n",
       "      <th>6990</th>\n",
       "      <td>O98911</td>\n",
       "      <td>682</td>\n",
       "      <td>768</td>\n",
       "      <td>vertical</td>\n",
       "      <td>vertical</td>\n",
       "    </tr>\n",
       "    <tr>\n",
       "      <th>6991</th>\n",
       "      <td>O9915</td>\n",
       "      <td>1874</td>\n",
       "      <td>2500</td>\n",
       "      <td>vertical</td>\n",
       "      <td>vertical</td>\n",
       "    </tr>\n",
       "    <tr>\n",
       "      <th>6992</th>\n",
       "      <td>O99384</td>\n",
       "      <td>1667</td>\n",
       "      <td>2500</td>\n",
       "      <td>vertical</td>\n",
       "      <td>vertical</td>\n",
       "    </tr>\n",
       "    <tr>\n",
       "      <th>6993</th>\n",
       "      <td>O99551</td>\n",
       "      <td>2500</td>\n",
       "      <td>1667</td>\n",
       "      <td>horizontal</td>\n",
       "      <td>horizontal</td>\n",
       "    </tr>\n",
       "    <tr>\n",
       "      <th>6994</th>\n",
       "      <td>O99670</td>\n",
       "      <td>1667</td>\n",
       "      <td>2500</td>\n",
       "      <td>vertical</td>\n",
       "      <td>vertical</td>\n",
       "    </tr>\n",
       "  </tbody>\n",
       "</table>\n",
       "<p>6995 rows × 5 columns</p>\n",
       "</div>"
      ],
      "text/plain": [
       "     Object ID width height       ratio rough ratio\n",
       "0      O100677  2500   1875  horizontal  horizontal\n",
       "1      O100690   512    768    vertical    vertical\n",
       "2      O100699   567    768    vertical    vertical\n",
       "3      O100805   370    768    vertical    vertical\n",
       "4      O100872  1667   2500    vertical    vertical\n",
       "...        ...   ...    ...         ...         ...\n",
       "6990    O98911   682    768    vertical    vertical\n",
       "6991     O9915  1874   2500    vertical    vertical\n",
       "6992    O99384  1667   2500    vertical    vertical\n",
       "6993    O99551  2500   1667  horizontal  horizontal\n",
       "6994    O99670  1667   2500    vertical    vertical\n",
       "\n",
       "[6995 rows x 5 columns]"
      ]
     },
     "execution_count": 9,
     "metadata": {},
     "output_type": "execute_result"
    }
   ],
   "source": [
    "# VA museum, selected keywords\n",
    "dimension_df('clean image/VA_sel')\n",
    "\n",
    "# mostly vertical"
   ]
  },
  {
   "cell_type": "code",
   "execution_count": 10,
   "metadata": {},
   "outputs": [
    {
     "name": "stdout",
     "output_type": "stream",
     "text": [
      "explict the square counts: {'horizontal': 118, 'vertical': 71}\n",
      "rough square counts: {'horizontal': 111, 'vertical': 62, 'square': 16}\n",
      "16.772913455963135 seconds slipped...\n"
     ]
    },
    {
     "data": {
      "text/html": [
       "<div>\n",
       "<style scoped>\n",
       "    .dataframe tbody tr th:only-of-type {\n",
       "        vertical-align: middle;\n",
       "    }\n",
       "\n",
       "    .dataframe tbody tr th {\n",
       "        vertical-align: top;\n",
       "    }\n",
       "\n",
       "    .dataframe thead th {\n",
       "        text-align: right;\n",
       "    }\n",
       "</style>\n",
       "<table border=\"1\" class=\"dataframe\">\n",
       "  <thead>\n",
       "    <tr style=\"text-align: right;\">\n",
       "      <th></th>\n",
       "      <th>Object ID</th>\n",
       "      <th>width</th>\n",
       "      <th>height</th>\n",
       "      <th>ratio</th>\n",
       "      <th>rough ratio</th>\n",
       "    </tr>\n",
       "  </thead>\n",
       "  <tbody>\n",
       "    <tr>\n",
       "      <th>0</th>\n",
       "      <td>126312</td>\n",
       "      <td>1500</td>\n",
       "      <td>2111</td>\n",
       "      <td>vertical</td>\n",
       "      <td>vertical</td>\n",
       "    </tr>\n",
       "    <tr>\n",
       "      <th>1</th>\n",
       "      <td>126722</td>\n",
       "      <td>1250</td>\n",
       "      <td>2757</td>\n",
       "      <td>vertical</td>\n",
       "      <td>vertical</td>\n",
       "    </tr>\n",
       "    <tr>\n",
       "      <th>2</th>\n",
       "      <td>127542</td>\n",
       "      <td>1400</td>\n",
       "      <td>2418</td>\n",
       "      <td>vertical</td>\n",
       "      <td>vertical</td>\n",
       "    </tr>\n",
       "    <tr>\n",
       "      <th>3</th>\n",
       "      <td>39317</td>\n",
       "      <td>2000</td>\n",
       "      <td>1604</td>\n",
       "      <td>horizontal</td>\n",
       "      <td>horizontal</td>\n",
       "    </tr>\n",
       "    <tr>\n",
       "      <th>4</th>\n",
       "      <td>39747</td>\n",
       "      <td>3811</td>\n",
       "      <td>3049</td>\n",
       "      <td>horizontal</td>\n",
       "      <td>horizontal</td>\n",
       "    </tr>\n",
       "    <tr>\n",
       "      <th>...</th>\n",
       "      <td>...</td>\n",
       "      <td>...</td>\n",
       "      <td>...</td>\n",
       "      <td>...</td>\n",
       "      <td>...</td>\n",
       "    </tr>\n",
       "    <tr>\n",
       "      <th>184</th>\n",
       "      <td>88303</td>\n",
       "      <td>1227</td>\n",
       "      <td>2439</td>\n",
       "      <td>vertical</td>\n",
       "      <td>vertical</td>\n",
       "    </tr>\n",
       "    <tr>\n",
       "      <th>185</th>\n",
       "      <td>88308</td>\n",
       "      <td>1250</td>\n",
       "      <td>2757</td>\n",
       "      <td>vertical</td>\n",
       "      <td>vertical</td>\n",
       "    </tr>\n",
       "    <tr>\n",
       "      <th>186</th>\n",
       "      <td>88350</td>\n",
       "      <td>1800</td>\n",
       "      <td>1636</td>\n",
       "      <td>horizontal</td>\n",
       "      <td>square</td>\n",
       "    </tr>\n",
       "    <tr>\n",
       "      <th>187</th>\n",
       "      <td>93922</td>\n",
       "      <td>1425</td>\n",
       "      <td>2450</td>\n",
       "      <td>vertical</td>\n",
       "      <td>vertical</td>\n",
       "    </tr>\n",
       "    <tr>\n",
       "      <th>188</th>\n",
       "      <td>95811</td>\n",
       "      <td>1550</td>\n",
       "      <td>2244</td>\n",
       "      <td>vertical</td>\n",
       "      <td>vertical</td>\n",
       "    </tr>\n",
       "  </tbody>\n",
       "</table>\n",
       "<p>189 rows × 5 columns</p>\n",
       "</div>"
      ],
      "text/plain": [
       "    Object ID width height       ratio rough ratio\n",
       "0      126312  1500   2111    vertical    vertical\n",
       "1      126722  1250   2757    vertical    vertical\n",
       "2      127542  1400   2418    vertical    vertical\n",
       "3       39317  2000   1604  horizontal  horizontal\n",
       "4       39747  3811   3049  horizontal  horizontal\n",
       "..        ...   ...    ...         ...         ...\n",
       "184     88303  1227   2439    vertical    vertical\n",
       "185     88308  1250   2757    vertical    vertical\n",
       "186     88350  1800   1636  horizontal      square\n",
       "187     93922  1425   2450    vertical    vertical\n",
       "188     95811  1550   2244    vertical    vertical\n",
       "\n",
       "[189 rows x 5 columns]"
      ]
     },
     "execution_count": 10,
     "metadata": {},
     "output_type": "execute_result"
    }
   ],
   "source": [
    "# checkout met's asian clothes\n",
    "dimension_df('clean image/met_asian_sel')"
   ]
  },
  {
   "cell_type": "code",
   "execution_count": 11,
   "metadata": {},
   "outputs": [
    {
     "name": "stdout",
     "output_type": "stream",
     "text": [
      "explict the square counts: {'vertical': 2175, 'horizontal': 370}\n",
      "rough square counts: {'vertical': 2070, 'horizontal': 288, 'square': 187}\n",
      "156.10705041885376 seconds slipped...\n"
     ]
    },
    {
     "data": {
      "text/html": [
       "<div>\n",
       "<style scoped>\n",
       "    .dataframe tbody tr th:only-of-type {\n",
       "        vertical-align: middle;\n",
       "    }\n",
       "\n",
       "    .dataframe tbody tr th {\n",
       "        vertical-align: top;\n",
       "    }\n",
       "\n",
       "    .dataframe thead th {\n",
       "        text-align: right;\n",
       "    }\n",
       "</style>\n",
       "<table border=\"1\" class=\"dataframe\">\n",
       "  <thead>\n",
       "    <tr style=\"text-align: right;\">\n",
       "      <th></th>\n",
       "      <th>Object ID</th>\n",
       "      <th>width</th>\n",
       "      <th>height</th>\n",
       "      <th>ratio</th>\n",
       "      <th>rough ratio</th>\n",
       "    </tr>\n",
       "  </thead>\n",
       "  <tbody>\n",
       "    <tr>\n",
       "      <th>0</th>\n",
       "      <td>100017</td>\n",
       "      <td>991</td>\n",
       "      <td>1795</td>\n",
       "      <td>vertical</td>\n",
       "      <td>vertical</td>\n",
       "    </tr>\n",
       "    <tr>\n",
       "      <th>1</th>\n",
       "      <td>100019</td>\n",
       "      <td>1800</td>\n",
       "      <td>1898</td>\n",
       "      <td>vertical</td>\n",
       "      <td>square</td>\n",
       "    </tr>\n",
       "    <tr>\n",
       "      <th>2</th>\n",
       "      <td>100020</td>\n",
       "      <td>1440</td>\n",
       "      <td>2526</td>\n",
       "      <td>vertical</td>\n",
       "      <td>vertical</td>\n",
       "    </tr>\n",
       "    <tr>\n",
       "      <th>3</th>\n",
       "      <td>100021</td>\n",
       "      <td>1663</td>\n",
       "      <td>1960</td>\n",
       "      <td>vertical</td>\n",
       "      <td>vertical</td>\n",
       "    </tr>\n",
       "    <tr>\n",
       "      <th>4</th>\n",
       "      <td>100024</td>\n",
       "      <td>1225</td>\n",
       "      <td>2838</td>\n",
       "      <td>vertical</td>\n",
       "      <td>vertical</td>\n",
       "    </tr>\n",
       "    <tr>\n",
       "      <th>...</th>\n",
       "      <td>...</td>\n",
       "      <td>...</td>\n",
       "      <td>...</td>\n",
       "      <td>...</td>\n",
       "      <td>...</td>\n",
       "    </tr>\n",
       "    <tr>\n",
       "      <th>2540</th>\n",
       "      <td>98751</td>\n",
       "      <td>2949</td>\n",
       "      <td>3892</td>\n",
       "      <td>vertical</td>\n",
       "      <td>vertical</td>\n",
       "    </tr>\n",
       "    <tr>\n",
       "      <th>2541</th>\n",
       "      <td>99061</td>\n",
       "      <td>1850</td>\n",
       "      <td>1885</td>\n",
       "      <td>vertical</td>\n",
       "      <td>square</td>\n",
       "    </tr>\n",
       "    <tr>\n",
       "      <th>2542</th>\n",
       "      <td>99070</td>\n",
       "      <td>1500</td>\n",
       "      <td>2250</td>\n",
       "      <td>vertical</td>\n",
       "      <td>vertical</td>\n",
       "    </tr>\n",
       "    <tr>\n",
       "      <th>2543</th>\n",
       "      <td>99509</td>\n",
       "      <td>3000</td>\n",
       "      <td>4000</td>\n",
       "      <td>vertical</td>\n",
       "      <td>vertical</td>\n",
       "    </tr>\n",
       "    <tr>\n",
       "      <th>2544</th>\n",
       "      <td>99989</td>\n",
       "      <td>1344</td>\n",
       "      <td>2184</td>\n",
       "      <td>vertical</td>\n",
       "      <td>vertical</td>\n",
       "    </tr>\n",
       "  </tbody>\n",
       "</table>\n",
       "<p>2545 rows × 5 columns</p>\n",
       "</div>"
      ],
      "text/plain": [
       "     Object ID width height     ratio rough ratio\n",
       "0       100017   991   1795  vertical    vertical\n",
       "1       100019  1800   1898  vertical      square\n",
       "2       100020  1440   2526  vertical    vertical\n",
       "3       100021  1663   1960  vertical    vertical\n",
       "4       100024  1225   2838  vertical    vertical\n",
       "...        ...   ...    ...       ...         ...\n",
       "2540     98751  2949   3892  vertical    vertical\n",
       "2541     99061  1850   1885  vertical      square\n",
       "2542     99070  1500   2250  vertical    vertical\n",
       "2543     99509  3000   4000  vertical    vertical\n",
       "2544     99989  1344   2184  vertical    vertical\n",
       "\n",
       "[2545 rows x 5 columns]"
      ]
     },
     "execution_count": 11,
     "metadata": {},
     "output_type": "execute_result"
    }
   ],
   "source": [
    "# met museum, seleted keywords\n",
    "dimension_df('clean image/met_all_sel')\n",
    "\n",
    "# mostly vertical, most asian clothes are horizontal"
   ]
  },
  {
   "cell_type": "markdown",
   "metadata": {},
   "source": [
    "## 'semi-auto' delete unrelated images"
   ]
  },
  {
   "cell_type": "code",
   "execution_count": 14,
   "metadata": {},
   "outputs": [],
   "source": [
    "df_va = pd.read_csv('scrapped_data\\VA_all_sel.csv')"
   ]
  },
  {
   "cell_type": "code",
   "execution_count": 258,
   "metadata": {},
   "outputs": [
    {
     "name": "stdout",
     "output_type": "stream",
     "text": [
      "fashion illustration\n"
     ]
    },
    {
     "data": {
      "image/png": "[encoded data removed]",
      "text/plain": [
       "<Figure size 576x576 with 1 Axes>"
      ]
     },
     "metadata": {
      "needs_background": "light"
     },
     "output_type": "display_data"
    }
   ],
   "source": [
    "# use the following code\n",
    "# to filter out more object types\n",
    "image_number = 'O711715'\n",
    "\n",
    "img = df_va[df_va['systemNumber']==image_number]\n",
    "object_type = img['objectType'].to_string(index=False)\n",
    "print(object_type)\n",
    "\n",
    "dir = 'clean image/va_sel/'\n",
    "filepath = dir + image_number + '.jpg'\n",
    "img = Image.open(filepath)\n",
    "\n",
    "plt.figure(figsize=(8,8))\n",
    "plt.axis('off')\n",
    "plt.imshow(img)\n",
    "plt.show()"
   ]
  },
  {
   "cell_type": "code",
   "execution_count": 259,
   "metadata": {},
   "outputs": [
    {
     "data": {
      "text/plain": [
       "'fashion illustration'"
      ]
     },
     "execution_count": 259,
     "metadata": {},
     "output_type": "execute_result"
    }
   ],
   "source": [
    "object_type"
   ]
  },
  {
   "cell_type": "code",
   "execution_count": 260,
   "metadata": {},
   "outputs": [
    {
     "data": {
      "text/html": [
       "<div>\n",
       "<style scoped>\n",
       "    .dataframe tbody tr th:only-of-type {\n",
       "        vertical-align: middle;\n",
       "    }\n",
       "\n",
       "    .dataframe tbody tr th {\n",
       "        vertical-align: top;\n",
       "    }\n",
       "\n",
       "    .dataframe thead th {\n",
       "        text-align: right;\n",
       "    }\n",
       "</style>\n",
       "<table border=\"1\" class=\"dataframe\">\n",
       "  <thead>\n",
       "    <tr style=\"text-align: right;\">\n",
       "      <th></th>\n",
       "      <th>systemNumber</th>\n",
       "      <th>accessionNumber</th>\n",
       "      <th>objectType</th>\n",
       "      <th>_currentLocation</th>\n",
       "      <th>_primaryTitle</th>\n",
       "      <th>_primaryMaker</th>\n",
       "      <th>_primaryImageId</th>\n",
       "      <th>_primaryDate</th>\n",
       "      <th>_primaryPlace</th>\n",
       "      <th>_warningTypes</th>\n",
       "      <th>_images</th>\n",
       "      <th>image_value</th>\n",
       "      <th>image_base</th>\n",
       "    </tr>\n",
       "  </thead>\n",
       "  <tbody>\n",
       "    <tr>\n",
       "      <th>968</th>\n",
       "      <td>O711722</td>\n",
       "      <td>E.3571-1914</td>\n",
       "      <td>fashion illustration</td>\n",
       "      <td>{'id': 'THES49171', 'displayName': 'Prints &amp; Drawings Study Room, level C', 'type': 'display', 'site': 'VA', 'onDisplay': True, 'detail': {'free': '', 'case': 'GG', 'shelf': '81', 'box': ''}}</td>\n",
       "      <td>A Handsome Evening Dress</td>\n",
       "      <td>{'name': 'Albert, V.', 'association': 'artist'}</td>\n",
       "      <td>2015HM1787</td>\n",
       "      <td>1899</td>\n",
       "      <td>Britain</td>\n",
       "      <td>[]</td>\n",
       "      <td>{'_primary_thumbnail': 'https://framemark.vam.ac.uk/collections/2015HM1787/full/!100,100/0/default.jpg', '_iiif_image_base_url': 'https://framemark.vam.ac.uk/collections/2015HM1787/', '_iiif_presentation_url': None, 'imageResolution': 'low'}</td>\n",
       "      <td>dict_values(['https://framemark.vam.ac.uk/collections/2015HM1787/full/!100,100/0/default.jpg', 'https://framemark.vam.ac.uk/collections/2015HM1787/', None, 'low'])</td>\n",
       "      <td>https://framemark.vam.ac.uk/collections/2015HM1787/</td>\n",
       "    </tr>\n",
       "    <tr>\n",
       "      <th>969</th>\n",
       "      <td>O711719</td>\n",
       "      <td>E.3574-1914</td>\n",
       "      <td>fashion illustration</td>\n",
       "      <td>{'id': 'THES49171', 'displayName': 'Prints &amp; Drawings Study Room, level C', 'type': 'display', 'site': 'VA', 'onDisplay': True, 'detail': {'free': '', 'case': 'GG', 'shelf': '81', 'box': ''}}</td>\n",
       "      <td>A Garden-Party Dress</td>\n",
       "      <td>{'name': 'Albert, V.', 'association': 'artist'}</td>\n",
       "      <td>2015HM1625</td>\n",
       "      <td>1899</td>\n",
       "      <td>Britain</td>\n",
       "      <td>[]</td>\n",
       "      <td>{'_primary_thumbnail': 'https://framemark.vam.ac.uk/collections/2015HM1625/full/!100,100/0/default.jpg', '_iiif_image_base_url': 'https://framemark.vam.ac.uk/collections/2015HM1625/', '_iiif_presentation_url': None, 'imageResolution': 'low'}</td>\n",
       "      <td>dict_values(['https://framemark.vam.ac.uk/collections/2015HM1625/full/!100,100/0/default.jpg', 'https://framemark.vam.ac.uk/collections/2015HM1625/', None, 'low'])</td>\n",
       "      <td>https://framemark.vam.ac.uk/collections/2015HM1625/</td>\n",
       "    </tr>\n",
       "    <tr>\n",
       "      <th>970</th>\n",
       "      <td>O711715</td>\n",
       "      <td>E.3578-1914</td>\n",
       "      <td>fashion illustration</td>\n",
       "      <td>{'id': 'THES49171', 'displayName': 'Prints &amp; Drawings Study Room, level C', 'type': 'display', 'site': 'VA', 'onDisplay': True, 'detail': {'free': '', 'case': 'GG', 'shelf': '81', 'box': ''}}</td>\n",
       "      <td>An ideal dress for the country</td>\n",
       "      <td>{'name': 'Albert, V.', 'association': 'artist'}</td>\n",
       "      <td>2015HM1701</td>\n",
       "      <td>1899</td>\n",
       "      <td>Britain</td>\n",
       "      <td>[]</td>\n",
       "      <td>{'_primary_thumbnail': 'https://framemark.vam.ac.uk/collections/2015HM1701/full/!100,100/0/default.jpg', '_iiif_image_base_url': 'https://framemark.vam.ac.uk/collections/2015HM1701/', '_iiif_presentation_url': None, 'imageResolution': 'low'}</td>\n",
       "      <td>dict_values(['https://framemark.vam.ac.uk/collections/2015HM1701/full/!100,100/0/default.jpg', 'https://framemark.vam.ac.uk/collections/2015HM1701/', None, 'low'])</td>\n",
       "      <td>https://framemark.vam.ac.uk/collections/2015HM1701/</td>\n",
       "    </tr>\n",
       "    <tr>\n",
       "      <th>2106</th>\n",
       "      <td>O711716</td>\n",
       "      <td>E.3577-1914</td>\n",
       "      <td>fashion illustration</td>\n",
       "      <td>{'id': 'THES49171', 'displayName': 'Prints &amp; Drawings Study Room, level C', 'type': 'display', 'site': 'VA', 'onDisplay': True, 'detail': {'free': '', 'case': 'GG', 'shelf': '81', 'box': ''}}</td>\n",
       "      <td>A charming dress worn at the Duchess of Albany's garden party</td>\n",
       "      <td>{'name': 'Albert, V.', 'association': 'artist'}</td>\n",
       "      <td>2015HM1624</td>\n",
       "      <td>1899</td>\n",
       "      <td>Britain</td>\n",
       "      <td>[]</td>\n",
       "      <td>{'_primary_thumbnail': 'https://framemark.vam.ac.uk/collections/2015HM1624/full/!100,100/0/default.jpg', '_iiif_image_base_url': 'https://framemark.vam.ac.uk/collections/2015HM1624/', '_iiif_presentation_url': None, 'imageResolution': 'low'}</td>\n",
       "      <td>dict_values(['https://framemark.vam.ac.uk/collections/2015HM1624/full/!100,100/0/default.jpg', 'https://framemark.vam.ac.uk/collections/2015HM1624/', None, 'low'])</td>\n",
       "      <td>https://framemark.vam.ac.uk/collections/2015HM1624/</td>\n",
       "    </tr>\n",
       "  </tbody>\n",
       "</table>\n",
       "</div>"
      ],
      "text/plain": [
       "     systemNumber accessionNumber            objectType  \\\n",
       "968       O711722     E.3571-1914  fashion illustration   \n",
       "969       O711719     E.3574-1914  fashion illustration   \n",
       "970       O711715     E.3578-1914  fashion illustration   \n",
       "2106      O711716     E.3577-1914  fashion illustration   \n",
       "\n",
       "                                                                                                                                                                                     _currentLocation  \\\n",
       "968   {'id': 'THES49171', 'displayName': 'Prints & Drawings Study Room, level C', 'type': 'display', 'site': 'VA', 'onDisplay': True, 'detail': {'free': '', 'case': 'GG', 'shelf': '81', 'box': ''}}   \n",
       "969   {'id': 'THES49171', 'displayName': 'Prints & Drawings Study Room, level C', 'type': 'display', 'site': 'VA', 'onDisplay': True, 'detail': {'free': '', 'case': 'GG', 'shelf': '81', 'box': ''}}   \n",
       "970   {'id': 'THES49171', 'displayName': 'Prints & Drawings Study Room, level C', 'type': 'display', 'site': 'VA', 'onDisplay': True, 'detail': {'free': '', 'case': 'GG', 'shelf': '81', 'box': ''}}   \n",
       "2106  {'id': 'THES49171', 'displayName': 'Prints & Drawings Study Room, level C', 'type': 'display', 'site': 'VA', 'onDisplay': True, 'detail': {'free': '', 'case': 'GG', 'shelf': '81', 'box': ''}}   \n",
       "\n",
       "                                                      _primaryTitle  \\\n",
       "968                                        A Handsome Evening Dress   \n",
       "969                                            A Garden-Party Dress   \n",
       "970                                  An ideal dress for the country   \n",
       "2106  A charming dress worn at the Duchess of Albany's garden party   \n",
       "\n",
       "                                        _primaryMaker _primaryImageId  \\\n",
       "968   {'name': 'Albert, V.', 'association': 'artist'}      2015HM1787   \n",
       "969   {'name': 'Albert, V.', 'association': 'artist'}      2015HM1625   \n",
       "970   {'name': 'Albert, V.', 'association': 'artist'}      2015HM1701   \n",
       "2106  {'name': 'Albert, V.', 'association': 'artist'}      2015HM1624   \n",
       "\n",
       "     _primaryDate _primaryPlace _warningTypes  \\\n",
       "968          1899       Britain            []   \n",
       "969          1899       Britain            []   \n",
       "970          1899       Britain            []   \n",
       "2106         1899       Britain            []   \n",
       "\n",
       "                                                                                                                                                                                                                                                _images  \\\n",
       "968   {'_primary_thumbnail': 'https://framemark.vam.ac.uk/collections/2015HM1787/full/!100,100/0/default.jpg', '_iiif_image_base_url': 'https://framemark.vam.ac.uk/collections/2015HM1787/', '_iiif_presentation_url': None, 'imageResolution': 'low'}   \n",
       "969   {'_primary_thumbnail': 'https://framemark.vam.ac.uk/collections/2015HM1625/full/!100,100/0/default.jpg', '_iiif_image_base_url': 'https://framemark.vam.ac.uk/collections/2015HM1625/', '_iiif_presentation_url': None, 'imageResolution': 'low'}   \n",
       "970   {'_primary_thumbnail': 'https://framemark.vam.ac.uk/collections/2015HM1701/full/!100,100/0/default.jpg', '_iiif_image_base_url': 'https://framemark.vam.ac.uk/collections/2015HM1701/', '_iiif_presentation_url': None, 'imageResolution': 'low'}   \n",
       "2106  {'_primary_thumbnail': 'https://framemark.vam.ac.uk/collections/2015HM1624/full/!100,100/0/default.jpg', '_iiif_image_base_url': 'https://framemark.vam.ac.uk/collections/2015HM1624/', '_iiif_presentation_url': None, 'imageResolution': 'low'}   \n",
       "\n",
       "                                                                                                                                                              image_value  \\\n",
       "968   dict_values(['https://framemark.vam.ac.uk/collections/2015HM1787/full/!100,100/0/default.jpg', 'https://framemark.vam.ac.uk/collections/2015HM1787/', None, 'low'])   \n",
       "969   dict_values(['https://framemark.vam.ac.uk/collections/2015HM1625/full/!100,100/0/default.jpg', 'https://framemark.vam.ac.uk/collections/2015HM1625/', None, 'low'])   \n",
       "970   dict_values(['https://framemark.vam.ac.uk/collections/2015HM1701/full/!100,100/0/default.jpg', 'https://framemark.vam.ac.uk/collections/2015HM1701/', None, 'low'])   \n",
       "2106  dict_values(['https://framemark.vam.ac.uk/collections/2015HM1624/full/!100,100/0/default.jpg', 'https://framemark.vam.ac.uk/collections/2015HM1624/', None, 'low'])   \n",
       "\n",
       "                                               image_base  \n",
       "968   https://framemark.vam.ac.uk/collections/2015HM1787/  \n",
       "969   https://framemark.vam.ac.uk/collections/2015HM1625/  \n",
       "970   https://framemark.vam.ac.uk/collections/2015HM1701/  \n",
       "2106  https://framemark.vam.ac.uk/collections/2015HM1624/  "
      ]
     },
     "execution_count": 260,
     "metadata": {},
     "output_type": "execute_result"
    }
   ],
   "source": [
    "df_va[df_va['objectType']==object_type]"
   ]
  },
  {
   "cell_type": "markdown",
   "metadata": {},
   "source": [
    "### select features"
   ]
  },
  {
   "cell_type": "code",
   "execution_count": 261,
   "metadata": {},
   "outputs": [],
   "source": [
    "# use the above code to help selecting these object type\n",
    "# yes, it's 'semi' select\n",
    "sel = ['sherry glass','design','gouache', 'dress material','paper doll','pamphlet','invitation',\n",
    "    'dress label','jacket, skirt and storage box','dress sword','coat of arms','dress piece',\n",
    "    'portrait miniature','greetings card','illustrated manuscript','dress ornament','manuscript cutting',\n",
    "    'dress hook','masks (costume)','tempera painting','beach ensemble','jacket clasp','dress label roll',\n",
    "    'bathroom suite','statuette','dress kit','relief','miniature suit of armour','suit of armour',\n",
    "    'fashion plate','paper doll dress','engraving','theatre design','poster','costume dolls',\n",
    "    'paper doll set','screenprint','sheet music','plaque','trade catalogue','costume accessory',\n",
    "    'dress pattern','shirt frill','dress trim','fashion illustration']"
   ]
  },
  {
   "cell_type": "code",
   "execution_count": 262,
   "metadata": {},
   "outputs": [],
   "source": [
    "sel = set(sel)"
   ]
  },
  {
   "cell_type": "markdown",
   "metadata": {},
   "source": [
    "### prototype"
   ]
  },
  {
   "cell_type": "code",
   "execution_count": 220,
   "metadata": {},
   "outputs": [
    {
     "data": {
      "text/html": [
       "<div>\n",
       "<style scoped>\n",
       "    .dataframe tbody tr th:only-of-type {\n",
       "        vertical-align: middle;\n",
       "    }\n",
       "\n",
       "    .dataframe tbody tr th {\n",
       "        vertical-align: top;\n",
       "    }\n",
       "\n",
       "    .dataframe thead th {\n",
       "        text-align: right;\n",
       "    }\n",
       "</style>\n",
       "<table border=\"1\" class=\"dataframe\">\n",
       "  <thead>\n",
       "    <tr style=\"text-align: right;\">\n",
       "      <th></th>\n",
       "      <th>systemNumber</th>\n",
       "      <th>accessionNumber</th>\n",
       "      <th>objectType</th>\n",
       "      <th>_currentLocation</th>\n",
       "      <th>_primaryTitle</th>\n",
       "      <th>_primaryMaker</th>\n",
       "      <th>_primaryImageId</th>\n",
       "      <th>_primaryDate</th>\n",
       "      <th>_primaryPlace</th>\n",
       "      <th>_warningTypes</th>\n",
       "      <th>_images</th>\n",
       "      <th>image_value</th>\n",
       "      <th>image_base</th>\n",
       "    </tr>\n",
       "  </thead>\n",
       "  <tbody>\n",
       "    <tr>\n",
       "      <th>4787</th>\n",
       "      <td>O10383</td>\n",
       "      <td>807-1904</td>\n",
       "      <td>jacket</td>\n",
       "      <td>{'id': 'THES50146', 'displayName': 'In store', 'type': 'storage', 'site': 'BH', 'onDisplay': False, 'detail': {'free': '', 'case': '', 'shelf': '', 'box': ''}}</td>\n",
       "      <td>NaN</td>\n",
       "      <td>{'name': 'Unknown', 'association': ''}</td>\n",
       "      <td>2010EB2572</td>\n",
       "      <td>ca. 1630-1700</td>\n",
       "      <td>Italy</td>\n",
       "      <td>[]</td>\n",
       "      <td>{'_primary_thumbnail': 'https://framemark.vam.ac.uk/collections/2010EB2572/full/!100,100/0/default.jpg', '_iiif_image_base_url': 'https://framemark.vam.ac.uk/collections/2010EB2572/', '_iiif_presentation_url': 'https://iiif.vam.ac.uk/collections/O10383/manifest.json', 'imageResolution': 'high'}</td>\n",
       "      <td>dict_values(['https://framemark.vam.ac.uk/collections/2010EB2572/full/!100,100/0/default.jpg', 'https://framemark.vam.ac.uk/collections/2010EB2572/', 'https://iiif.vam.ac.uk/collections/O10383/manifest.json', 'high'])</td>\n",
       "      <td>https://framemark.vam.ac.uk/collections/2010EB2572/</td>\n",
       "    </tr>\n",
       "  </tbody>\n",
       "</table>\n",
       "</div>"
      ],
      "text/plain": [
       "     systemNumber accessionNumber objectType  \\\n",
       "4787       O10383        807-1904     jacket   \n",
       "\n",
       "                                                                                                                                                     _currentLocation  \\\n",
       "4787  {'id': 'THES50146', 'displayName': 'In store', 'type': 'storage', 'site': 'BH', 'onDisplay': False, 'detail': {'free': '', 'case': '', 'shelf': '', 'box': ''}}   \n",
       "\n",
       "     _primaryTitle                           _primaryMaker _primaryImageId  \\\n",
       "4787           NaN  {'name': 'Unknown', 'association': ''}      2010EB2572   \n",
       "\n",
       "       _primaryDate _primaryPlace _warningTypes  \\\n",
       "4787  ca. 1630-1700         Italy            []   \n",
       "\n",
       "                                                                                                                                                                                                                                                                                                      _images  \\\n",
       "4787  {'_primary_thumbnail': 'https://framemark.vam.ac.uk/collections/2010EB2572/full/!100,100/0/default.jpg', '_iiif_image_base_url': 'https://framemark.vam.ac.uk/collections/2010EB2572/', '_iiif_presentation_url': 'https://iiif.vam.ac.uk/collections/O10383/manifest.json', 'imageResolution': 'high'}   \n",
       "\n",
       "                                                                                                                                                                                                                    image_value  \\\n",
       "4787  dict_values(['https://framemark.vam.ac.uk/collections/2010EB2572/full/!100,100/0/default.jpg', 'https://framemark.vam.ac.uk/collections/2010EB2572/', 'https://iiif.vam.ac.uk/collections/O10383/manifest.json', 'high'])   \n",
       "\n",
       "                                               image_base  \n",
       "4787  https://framemark.vam.ac.uk/collections/2010EB2572/  "
      ]
     },
     "execution_count": 220,
     "metadata": {},
     "output_type": "execute_result"
    }
   ],
   "source": [
    "df_va[df_va['systemNumber']==filename[:-4]]"
   ]
  },
  {
   "cell_type": "code",
   "execution_count": 223,
   "metadata": {},
   "outputs": [
    {
     "name": "stdout",
     "output_type": "stream",
     "text": [
      "6 unrealated images could be deleted.\n"
     ]
    }
   ],
   "source": [
    "# put some images in a test folder\n",
    "# and run the following code\n",
    "directory = 'test/' # select the folder\n",
    "counter = 0\n",
    "\n",
    "for filename in os.listdir(directory):\n",
    "    r = directory + '/' + filename\n",
    "    object_type = df_va[df_va['systemNumber']==filename[:-4]]\n",
    "    object_type = object_type['objectType'].to_string(index=False)\n",
    "    \n",
    "    if object_type in sel:\n",
    "        # os.remove(r)\n",
    "        counter += 1\n",
    "\n",
    "print(f'{counter} unrealated images could be deleted.')"
   ]
  },
  {
   "cell_type": "markdown",
   "metadata": {},
   "source": [
    "### define function"
   ]
  },
  {
   "cell_type": "code",
   "execution_count": 263,
   "metadata": {},
   "outputs": [],
   "source": [
    "def del_unrelated(directory='test'):\n",
    "    # start timer\n",
    "    start = time.time()\n",
    "    counter = 0\n",
    "\n",
    "    for filename in os.listdir(directory):\n",
    "        r = directory + '/' + filename\n",
    "        object_type = df_va[df_va['systemNumber']==filename[:-4]]\n",
    "        object_type = object_type['objectType'].to_string(index=False)\n",
    "        \n",
    "        if object_type in sel:\n",
    "            os.remove(r) # hide this line to check the results, before permantly delete\n",
    "            counter += 1\n",
    "\n",
    "    print(f'{counter} unrealated images have been deleted.')\n",
    "    \n",
    "    # timer stops\n",
    "    end = time.time()\n",
    "    print(f'{end-start} seconds slipped...') # print out the time spent"
   ]
  },
  {
   "cell_type": "code",
   "execution_count": 230,
   "metadata": {},
   "outputs": [
    {
     "name": "stdout",
     "output_type": "stream",
     "text": [
      "0 unrealated images have been deleted.\n",
      "0.013437271118164062 seconds slipped...\n"
     ]
    }
   ],
   "source": [
    "del_unrelated()"
   ]
  },
  {
   "cell_type": "markdown",
   "metadata": {},
   "source": [
    "### run"
   ]
  },
  {
   "cell_type": "code",
   "execution_count": 264,
   "metadata": {},
   "outputs": [
    {
     "name": "stdout",
     "output_type": "stream",
     "text": [
      "33 unrealated images have been deleted.\n",
      "3.208949565887451 seconds slipped...\n"
     ]
    }
   ],
   "source": [
    "del_unrelated('clean image/VA_sel')"
   ]
  },
  {
   "cell_type": "code",
   "execution_count": null,
   "metadata": {},
   "outputs": [],
   "source": [
    "# 6588 left"
   ]
  }
 ],
 "metadata": {
  "kernelspec": {
   "display_name": "Python 3.9.13 ('tf')",
   "language": "python",
   "name": "python3"
  },
  "language_info": {
   "codemirror_mode": {
    "name": "ipython",
    "version": 3
   },
   "file_extension": ".py",
   "mimetype": "text/x-python",
   "name": "python",
   "nbconvert_exporter": "python",
   "pygments_lexer": "ipython3",
   "version": "3.9.13"
  },
  "orig_nbformat": 4,
  "vscode": {
   "interpreter": {
    "hash": "181136286f70e14e4c9f67dd94a3e862e2daeea7c14cdc5e8501a24a6c514a6e"
   }
  }
 },
 "nbformat": 4,
 "nbformat_minor": 2
}
