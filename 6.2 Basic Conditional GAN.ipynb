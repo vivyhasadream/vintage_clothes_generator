{
 "cells": [
  {
   "cell_type": "markdown",
   "metadata": {},
   "source": [
    "## setup"
   ]
  },
  {
   "cell_type": "code",
   "execution_count": 2,
   "metadata": {},
   "outputs": [],
   "source": [
    "from tensorflow import keras\n",
    "from tensorflow.keras import layers\n",
    "\n",
    "from tensorflow_docs.vis import embed\n",
    "import matplotlib.pyplot as plt\n",
    "import tensorflow as tf\n",
    "import numpy as np\n",
    "import imageio"
   ]
  },
  {
   "cell_type": "markdown",
   "metadata": {},
   "source": [
    "## params"
   ]
  },
  {
   "cell_type": "code",
   "execution_count": 43,
   "metadata": {},
   "outputs": [],
   "source": [
    "batch_size = 64\n",
    "num_channels = 3 # BW 1, color 3\n",
    "num_classes = 21 # labels\n",
    "image_size = 512\n",
    "latent_dim = 128 # embedding dimension?"
   ]
  },
  {
   "cell_type": "markdown",
   "metadata": {},
   "source": [
    "# process image"
   ]
  },
  {
   "cell_type": "code",
   "execution_count": 44,
   "metadata": {},
   "outputs": [
    {
     "name": "stdout",
     "output_type": "stream",
     "text": [
      "Found 2544 files belonging to 21 classes.\n"
     ]
    }
   ],
   "source": [
    "dataset = keras.preprocessing.image_dataset_from_directory(\n",
    "    \"images_tf\", image_size=(512, 512), labels='inferred',\n",
    "    label_mode='categorical',batch_size=64)"
   ]
  },
  {
   "cell_type": "code",
   "execution_count": 45,
   "metadata": {},
   "outputs": [],
   "source": [
    "normalization_layer = layers.Rescaling(1./255)"
   ]
  },
  {
   "cell_type": "code",
   "execution_count": 46,
   "metadata": {},
   "outputs": [
    {
     "name": "stdout",
     "output_type": "stream",
     "text": [
      "0.06311275 0.99116886\n"
     ]
    }
   ],
   "source": [
    "normalized_ds = dataset.map(lambda x, y: (normalization_layer(x), y))\n",
    "image_batch, labels_batch = next(iter(normalized_ds))\n",
    "first_image = image_batch[0]\n",
    "# Notice the pixel values are now in `[0,1]`.\n",
    "print(np.min(first_image), np.max(first_image))"
   ]
  },
  {
   "cell_type": "code",
   "execution_count": 47,
   "metadata": {},
   "outputs": [],
   "source": [
    "dataset = dataset.shuffle(buffer_size=1024).batch(batch_size)"
   ]
  },
  {
   "cell_type": "markdown",
   "metadata": {},
   "source": [
    "## discriminator & generator"
   ]
  },
  {
   "cell_type": "code",
   "execution_count": 48,
   "metadata": {},
   "outputs": [
    {
     "name": "stdout",
     "output_type": "stream",
     "text": [
      "149 24\n"
     ]
    }
   ],
   "source": [
    "generator_in_channels = latent_dim + num_classes\n",
    "discriminator_in_channels = num_channels + num_classes\n",
    "print(generator_in_channels, discriminator_in_channels)"
   ]
  },
  {
   "cell_type": "code",
   "execution_count": 49,
   "metadata": {},
   "outputs": [],
   "source": [
    "# Create the discriminator.\n",
    "discriminator = keras.Sequential(\n",
    "    [\n",
    "        keras.layers.InputLayer((512, 512, discriminator_in_channels)),\n",
    "        layers.Conv2D(64, (3, 3), strides=(2, 2), padding=\"same\"),\n",
    "        layers.LeakyReLU(alpha=0.2),\n",
    "        layers.Conv2D(128, (3, 3), strides=(2, 2), padding=\"same\"),\n",
    "        layers.LeakyReLU(alpha=0.2),\n",
    "        layers.GlobalMaxPooling2D(),\n",
    "        layers.Dense(1),\n",
    "    ],\n",
    "    name=\"discriminator\",\n",
    ")\n",
    "\n",
    "# Create the generator.\n",
    "generator = keras.Sequential(\n",
    "    [\n",
    "        keras.layers.InputLayer((generator_in_channels,)),\n",
    "        # We want to generate 128 + num_classes coefficients to reshape into a\n",
    "        # 7x7x(128 + num_classes) map.\n",
    "        layers.Dense(7 * 7 * generator_in_channels),\n",
    "        layers.LeakyReLU(alpha=0.2),\n",
    "        layers.Reshape((7, 7, generator_in_channels)),\n",
    "        layers.Conv2DTranspose(128, (4, 4), strides=(2, 2), padding=\"same\"),\n",
    "        layers.LeakyReLU(alpha=0.2),\n",
    "        layers.Conv2DTranspose(128, (4, 4), strides=(2, 2), padding=\"same\"),\n",
    "        layers.LeakyReLU(alpha=0.2),\n",
    "        layers.Conv2D(1, (7, 7), padding=\"same\", activation=\"sigmoid\"),\n",
    "    ],\n",
    "    name=\"generator\",\n",
    ")"
   ]
  },
  {
   "cell_type": "code",
   "execution_count": 50,
   "metadata": {},
   "outputs": [],
   "source": [
    "class ConditionalGAN(keras.Model):\n",
    "    def __init__(self, discriminator, generator, latent_dim):\n",
    "        super(ConditionalGAN, self).__init__()\n",
    "        self.discriminator = discriminator\n",
    "        self.generator = generator\n",
    "        self.latent_dim = latent_dim\n",
    "        self.gen_loss_tracker = keras.metrics.Mean(name=\"generator_loss\")\n",
    "        self.disc_loss_tracker = keras.metrics.Mean(name=\"discriminator_loss\")\n",
    "\n",
    "    @property\n",
    "    def metrics(self):\n",
    "        return [self.gen_loss_tracker, self.disc_loss_tracker]\n",
    "\n",
    "    def compile(self, d_optimizer, g_optimizer, loss_fn):\n",
    "        super(ConditionalGAN, self).compile()\n",
    "        self.d_optimizer = d_optimizer\n",
    "        self.g_optimizer = g_optimizer\n",
    "        self.loss_fn = loss_fn\n",
    "\n",
    "    def train_step(self, data):\n",
    "        # Unpack the data.\n",
    "        real_images, one_hot_labels = data\n",
    "\n",
    "        # Add dummy dimensions to the labels so that they can be concatenated with\n",
    "        # the images. This is for the discriminator.\n",
    "        image_one_hot_labels = one_hot_labels[:, :, None, None]\n",
    "        image_one_hot_labels = tf.repeat(\n",
    "            image_one_hot_labels, repeats=[image_size * image_size]\n",
    "        )\n",
    "        image_one_hot_labels = tf.reshape(\n",
    "            image_one_hot_labels, (-1, image_size, image_size, num_classes)\n",
    "        )\n",
    "\n",
    "        # Sample random points in the latent space and concatenate the labels.\n",
    "        # This is for the generator.\n",
    "        batch_size = tf.shape(real_images)[0]\n",
    "        random_latent_vectors = tf.random.normal(shape=(batch_size, self.latent_dim))\n",
    "        random_vector_labels = tf.concat(\n",
    "            [random_latent_vectors, one_hot_labels], axis=1\n",
    "        )\n",
    "\n",
    "        # Decode the noise (guided by labels) to fake images.\n",
    "        generated_images = self.generator(random_vector_labels)\n",
    "\n",
    "        # Combine them with real images. Note that we are concatenating the labels\n",
    "        # with these images here.\n",
    "        fake_image_and_labels = tf.concat([generated_images, image_one_hot_labels], -1)\n",
    "        real_image_and_labels = tf.concat([real_images, image_one_hot_labels], -1)\n",
    "        combined_images = tf.concat(\n",
    "            [fake_image_and_labels, real_image_and_labels], axis=0\n",
    "        )\n",
    "\n",
    "        # Assemble labels discriminating real from fake images.\n",
    "        labels = tf.concat(\n",
    "            [tf.ones((batch_size, 1)), tf.zeros((batch_size, 1))], axis=0\n",
    "        )\n",
    "\n",
    "        # Train the discriminator.\n",
    "        with tf.GradientTape() as tape:\n",
    "            predictions = self.discriminator(combined_images)\n",
    "            d_loss = self.loss_fn(labels, predictions)\n",
    "        grads = tape.gradient(d_loss, self.discriminator.trainable_weights)\n",
    "        self.d_optimizer.apply_gradients(\n",
    "            zip(grads, self.discriminator.trainable_weights)\n",
    "        )\n",
    "\n",
    "        # Sample random points in the latent space.\n",
    "        random_latent_vectors = tf.random.normal(shape=(batch_size, self.latent_dim))\n",
    "        random_vector_labels = tf.concat(\n",
    "            [random_latent_vectors, one_hot_labels], axis=1\n",
    "        )\n",
    "\n",
    "        # Assemble labels that say \"all real images\".\n",
    "        misleading_labels = tf.zeros((batch_size, 1))\n",
    "\n",
    "        # Train the generator (note that we should *not* update the weights\n",
    "        # of the discriminator)!\n",
    "        with tf.GradientTape() as tape:\n",
    "            fake_images = self.generator(random_vector_labels)\n",
    "            fake_image_and_labels = tf.concat([fake_images, image_one_hot_labels], -1)\n",
    "            predictions = self.discriminator(fake_image_and_labels)\n",
    "            g_loss = self.loss_fn(misleading_labels, predictions)\n",
    "        grads = tape.gradient(g_loss, self.generator.trainable_weights)\n",
    "        self.g_optimizer.apply_gradients(zip(grads, self.generator.trainable_weights))\n",
    "\n",
    "        # Monitor loss.\n",
    "        self.gen_loss_tracker.update_state(g_loss)\n",
    "        self.disc_loss_tracker.update_state(d_loss)\n",
    "        return {\n",
    "            \"g_loss\": self.gen_loss_tracker.result(),\n",
    "            \"d_loss\": self.disc_loss_tracker.result(),\n",
    "        }"
   ]
  },
  {
   "cell_type": "markdown",
   "metadata": {},
   "source": [
    "### training"
   ]
  },
  {
   "cell_type": "code",
   "execution_count": 51,
   "metadata": {},
   "outputs": [
    {
     "ename": "ValueError",
     "evalue": "in user code:\n\n    File \"c:\\Users\\yanha\\anaconda3\\envs\\tf\\lib\\site-packages\\keras\\engine\\training.py\", line 1021, in train_function  *\n        return step_function(self, iterator)\n    File \"c:\\Users\\yanha\\anaconda3\\envs\\tf\\lib\\site-packages\\keras\\engine\\training.py\", line 1010, in step_function  **\n        outputs = model.distribute_strategy.run(run_step, args=(data,))\n    File \"c:\\Users\\yanha\\anaconda3\\envs\\tf\\lib\\site-packages\\keras\\engine\\training.py\", line 1000, in run_step  **\n        outputs = model.train_step(data)\n    File \"C:\\Users\\yanha\\AppData\\Local\\Temp\\ipykernel_22300\\3580991076.py\", line 38, in train_step\n        random_vector_labels = tf.concat(\n\n    ValueError: Shape must be rank 2 but is rank 3 for '{{node concat}} = ConcatV2[N=2, T=DT_FLOAT, Tidx=DT_INT32](random_normal, IteratorGetNext:1, concat/axis)' with input shapes: [?,128], [?,?,21], [].\n",
     "output_type": "error",
     "traceback": [
      "\u001b[1;31m---------------------------------------------------------------------------\u001b[0m",
      "\u001b[1;31mValueError\u001b[0m                                Traceback (most recent call last)",
      "\u001b[1;32md:\\VIVY_LEARNING\\Flatiron\\vintage_clothes_generator\\6.2 Basic Conditional GAN.ipynb Cell 15\u001b[0m in \u001b[0;36m<cell line: 10>\u001b[1;34m()\u001b[0m\n\u001b[0;32m      <a href='vscode-notebook-cell:/d%3A/VIVY_LEARNING/Flatiron/vintage_clothes_generator/6.2%20Basic%20Conditional%20GAN.ipynb#X15sZmlsZQ%3D%3D?line=0'>1</a>\u001b[0m cond_gan \u001b[39m=\u001b[39m ConditionalGAN(\n\u001b[0;32m      <a href='vscode-notebook-cell:/d%3A/VIVY_LEARNING/Flatiron/vintage_clothes_generator/6.2%20Basic%20Conditional%20GAN.ipynb#X15sZmlsZQ%3D%3D?line=1'>2</a>\u001b[0m     discriminator\u001b[39m=\u001b[39mdiscriminator, generator\u001b[39m=\u001b[39mgenerator, latent_dim\u001b[39m=\u001b[39mlatent_dim\n\u001b[0;32m      <a href='vscode-notebook-cell:/d%3A/VIVY_LEARNING/Flatiron/vintage_clothes_generator/6.2%20Basic%20Conditional%20GAN.ipynb#X15sZmlsZQ%3D%3D?line=2'>3</a>\u001b[0m )\n\u001b[0;32m      <a href='vscode-notebook-cell:/d%3A/VIVY_LEARNING/Flatiron/vintage_clothes_generator/6.2%20Basic%20Conditional%20GAN.ipynb#X15sZmlsZQ%3D%3D?line=3'>4</a>\u001b[0m cond_gan\u001b[39m.\u001b[39mcompile(\n\u001b[0;32m      <a href='vscode-notebook-cell:/d%3A/VIVY_LEARNING/Flatiron/vintage_clothes_generator/6.2%20Basic%20Conditional%20GAN.ipynb#X15sZmlsZQ%3D%3D?line=4'>5</a>\u001b[0m     d_optimizer\u001b[39m=\u001b[39mkeras\u001b[39m.\u001b[39moptimizers\u001b[39m.\u001b[39mAdam(learning_rate\u001b[39m=\u001b[39m\u001b[39m0.0003\u001b[39m),\n\u001b[0;32m      <a href='vscode-notebook-cell:/d%3A/VIVY_LEARNING/Flatiron/vintage_clothes_generator/6.2%20Basic%20Conditional%20GAN.ipynb#X15sZmlsZQ%3D%3D?line=5'>6</a>\u001b[0m     g_optimizer\u001b[39m=\u001b[39mkeras\u001b[39m.\u001b[39moptimizers\u001b[39m.\u001b[39mAdam(learning_rate\u001b[39m=\u001b[39m\u001b[39m0.0003\u001b[39m),\n\u001b[0;32m      <a href='vscode-notebook-cell:/d%3A/VIVY_LEARNING/Flatiron/vintage_clothes_generator/6.2%20Basic%20Conditional%20GAN.ipynb#X15sZmlsZQ%3D%3D?line=6'>7</a>\u001b[0m     loss_fn\u001b[39m=\u001b[39mkeras\u001b[39m.\u001b[39mlosses\u001b[39m.\u001b[39mBinaryCrossentropy(from_logits\u001b[39m=\u001b[39m\u001b[39mTrue\u001b[39;00m),\n\u001b[0;32m      <a href='vscode-notebook-cell:/d%3A/VIVY_LEARNING/Flatiron/vintage_clothes_generator/6.2%20Basic%20Conditional%20GAN.ipynb#X15sZmlsZQ%3D%3D?line=7'>8</a>\u001b[0m )\n\u001b[1;32m---> <a href='vscode-notebook-cell:/d%3A/VIVY_LEARNING/Flatiron/vintage_clothes_generator/6.2%20Basic%20Conditional%20GAN.ipynb#X15sZmlsZQ%3D%3D?line=9'>10</a>\u001b[0m cond_gan\u001b[39m.\u001b[39;49mfit(dataset, epochs\u001b[39m=\u001b[39;49m\u001b[39m1\u001b[39;49m)\n",
      "File \u001b[1;32mc:\\Users\\yanha\\anaconda3\\envs\\tf\\lib\\site-packages\\keras\\utils\\traceback_utils.py:67\u001b[0m, in \u001b[0;36mfilter_traceback.<locals>.error_handler\u001b[1;34m(*args, **kwargs)\u001b[0m\n\u001b[0;32m     65\u001b[0m \u001b[39mexcept\u001b[39;00m \u001b[39mException\u001b[39;00m \u001b[39mas\u001b[39;00m e:  \u001b[39m# pylint: disable=broad-except\u001b[39;00m\n\u001b[0;32m     66\u001b[0m   filtered_tb \u001b[39m=\u001b[39m _process_traceback_frames(e\u001b[39m.\u001b[39m__traceback__)\n\u001b[1;32m---> 67\u001b[0m   \u001b[39mraise\u001b[39;00m e\u001b[39m.\u001b[39mwith_traceback(filtered_tb) \u001b[39mfrom\u001b[39;00m \u001b[39mNone\u001b[39m\n\u001b[0;32m     68\u001b[0m \u001b[39mfinally\u001b[39;00m:\n\u001b[0;32m     69\u001b[0m   \u001b[39mdel\u001b[39;00m filtered_tb\n",
      "File \u001b[1;32mc:\\Users\\yanha\\anaconda3\\envs\\tf\\lib\\site-packages\\tensorflow\\python\\framework\\func_graph.py:1147\u001b[0m, in \u001b[0;36mfunc_graph_from_py_func.<locals>.autograph_handler\u001b[1;34m(*args, **kwargs)\u001b[0m\n\u001b[0;32m   1145\u001b[0m \u001b[39mexcept\u001b[39;00m \u001b[39mException\u001b[39;00m \u001b[39mas\u001b[39;00m e:  \u001b[39m# pylint:disable=broad-except\u001b[39;00m\n\u001b[0;32m   1146\u001b[0m   \u001b[39mif\u001b[39;00m \u001b[39mhasattr\u001b[39m(e, \u001b[39m\"\u001b[39m\u001b[39mag_error_metadata\u001b[39m\u001b[39m\"\u001b[39m):\n\u001b[1;32m-> 1147\u001b[0m     \u001b[39mraise\u001b[39;00m e\u001b[39m.\u001b[39mag_error_metadata\u001b[39m.\u001b[39mto_exception(e)\n\u001b[0;32m   1148\u001b[0m   \u001b[39melse\u001b[39;00m:\n\u001b[0;32m   1149\u001b[0m     \u001b[39mraise\u001b[39;00m\n",
      "\u001b[1;31mValueError\u001b[0m: in user code:\n\n    File \"c:\\Users\\yanha\\anaconda3\\envs\\tf\\lib\\site-packages\\keras\\engine\\training.py\", line 1021, in train_function  *\n        return step_function(self, iterator)\n    File \"c:\\Users\\yanha\\anaconda3\\envs\\tf\\lib\\site-packages\\keras\\engine\\training.py\", line 1010, in step_function  **\n        outputs = model.distribute_strategy.run(run_step, args=(data,))\n    File \"c:\\Users\\yanha\\anaconda3\\envs\\tf\\lib\\site-packages\\keras\\engine\\training.py\", line 1000, in run_step  **\n        outputs = model.train_step(data)\n    File \"C:\\Users\\yanha\\AppData\\Local\\Temp\\ipykernel_22300\\3580991076.py\", line 38, in train_step\n        random_vector_labels = tf.concat(\n\n    ValueError: Shape must be rank 2 but is rank 3 for '{{node concat}} = ConcatV2[N=2, T=DT_FLOAT, Tidx=DT_INT32](random_normal, IteratorGetNext:1, concat/axis)' with input shapes: [?,128], [?,?,21], [].\n"
     ]
    }
   ],
   "source": [
    "cond_gan = ConditionalGAN(\n",
    "    discriminator=discriminator, generator=generator, latent_dim=latent_dim\n",
    ")\n",
    "cond_gan.compile(\n",
    "    d_optimizer=keras.optimizers.Adam(learning_rate=0.0003),\n",
    "    g_optimizer=keras.optimizers.Adam(learning_rate=0.0003),\n",
    "    loss_fn=keras.losses.BinaryCrossentropy(from_logits=True),\n",
    ")\n",
    "\n",
    "cond_gan.fit(dataset, epochs=1)"
   ]
  },
  {
   "cell_type": "code",
   "execution_count": null,
   "metadata": {},
   "outputs": [],
   "source": []
  },
  {
   "cell_type": "code",
   "execution_count": null,
   "metadata": {},
   "outputs": [],
   "source": []
  },
  {
   "cell_type": "code",
   "execution_count": null,
   "metadata": {},
   "outputs": [],
   "source": []
  },
  {
   "cell_type": "code",
   "execution_count": 28,
   "metadata": {},
   "outputs": [],
   "source": [
    "# We first extract the trained generator from our Conditiona GAN.\n",
    "trained_gen = cond_gan.generator\n",
    "\n",
    "# Choose the number of intermediate images that would be generated in\n",
    "# between the interpolation + 2 (start and last images).\n",
    "num_interpolation = 9  # @param {type:\"integer\"}\n",
    "\n",
    "# Sample noise for the interpolation.\n",
    "interpolation_noise = tf.random.normal(shape=(1, latent_dim))\n",
    "interpolation_noise = tf.repeat(interpolation_noise, repeats=num_interpolation)\n",
    "interpolation_noise = tf.reshape(interpolation_noise, (num_interpolation, latent_dim))\n",
    "\n",
    "\n",
    "def interpolate_class(first_number, second_number):\n",
    "    # Convert the start and end labels to one-hot encoded vectors.\n",
    "    first_label = keras.utils.to_categorical([first_number], num_classes)\n",
    "    second_label = keras.utils.to_categorical([second_number], num_classes)\n",
    "    first_label = tf.cast(first_label, tf.float32)\n",
    "    second_label = tf.cast(second_label, tf.float32)\n",
    "\n",
    "    # Calculate the interpolation vector between the two labels.\n",
    "    percent_second_label = tf.linspace(0, 1, num_interpolation)[:, None]\n",
    "    percent_second_label = tf.cast(percent_second_label, tf.float32)\n",
    "    interpolation_labels = (\n",
    "        first_label * (1 - percent_second_label) + second_label * percent_second_label\n",
    "    )\n",
    "\n",
    "    # Combine the noise and the labels and run inference with the generator.\n",
    "    noise_and_labels = tf.concat([interpolation_noise, interpolation_labels], 1)\n",
    "    fake = trained_gen.predict(noise_and_labels)\n",
    "    return fake\n",
    "\n",
    "\n",
    "start_class = 4  # @param {type:\"slider\", min:0, max:9, step:1}\n",
    "end_class = 7  # @param {type:\"slider\", min:0, max:9, step:1}\n",
    "\n",
    "fake_images = interpolate_class(start_class, end_class)"
   ]
  },
  {
   "cell_type": "code",
   "execution_count": 29,
   "metadata": {},
   "outputs": [
    {
     "data": {
      "text/html": [
       "<img src=\"data:image/gif;base64,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\"/>"
      ],
      "text/plain": [
       "<IPython.core.display.HTML object>"
      ]
     },
     "execution_count": 29,
     "metadata": {},
     "output_type": "execute_result"
    }
   ],
   "source": [
    "fake_images *= 255.0\n",
    "converted_images = fake_images.astype(np.uint8)\n",
    "converted_images = tf.image.resize(converted_images, (96, 96)).numpy().astype(np.uint8)\n",
    "imageio.mimsave(\"animation.gif\", converted_images, fps=1)\n",
    "embed.embed_file(\"animation.gif\")"
   ]
  },
  {
   "cell_type": "code",
   "execution_count": null,
   "metadata": {},
   "outputs": [],
   "source": []
  }
 ],
 "metadata": {
  "kernelspec": {
   "display_name": "Python 3.9.13 ('tf')",
   "language": "python",
   "name": "python3"
  },
  "language_info": {
   "codemirror_mode": {
    "name": "ipython",
    "version": 3
   },
   "file_extension": ".py",
   "mimetype": "text/x-python",
   "name": "python",
   "nbconvert_exporter": "python",
   "pygments_lexer": "ipython3",
   "version": "3.9.13"
  },
  "orig_nbformat": 4,
  "vscode": {
   "interpreter": {
    "hash": "181136286f70e14e4c9f67dd94a3e862e2daeea7c14cdc5e8501a24a6c514a6e"
   }
  }
 },
 "nbformat": 4,
 "nbformat_minor": 2
}
