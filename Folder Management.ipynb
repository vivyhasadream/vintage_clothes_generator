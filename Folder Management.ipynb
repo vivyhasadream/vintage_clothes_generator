{
 "cells": [
  {
   "cell_type": "code",
   "execution_count": 1,
   "metadata": {},
   "outputs": [],
   "source": [
    "import pandas as pd\n",
    "import numpy as np\n",
    "import cv2\n",
    "import os\n",
    "\n",
    "import time"
   ]
  },
  {
   "cell_type": "markdown",
   "metadata": {},
   "source": [
    "### params"
   ]
  },
  {
   "cell_type": "code",
   "execution_count": null,
   "metadata": {},
   "outputs": [],
   "source": [
    "directory = 'clean image/full_selection_sel' # select the folder"
   ]
  },
  {
   "cell_type": "markdown",
   "metadata": {},
   "source": [
    "## prototype"
   ]
  },
  {
   "cell_type": "markdown",
   "metadata": {},
   "source": [
    "### delete grayscale images"
   ]
  },
  {
   "cell_type": "code",
   "execution_count": 2,
   "metadata": {},
   "outputs": [
    {
     "name": "stdout",
     "output_type": "stream",
     "text": [
      "310 grayscale images deleted.\n"
     ]
    }
   ],
   "source": [
    "directory = 'clean image/full_selection_sel' # select the folder\n",
    "counter = 0\n",
    "\n",
    "for filename in os.listdir(directory):\n",
    "    r = directory + '/' + filename\n",
    "    image = cv2.imread(r)\n",
    "    (B, G, R) = cv2.split(image)\n",
    "\n",
    "    if (B==G).all() == True:\n",
    "        os.remove(r)\n",
    "        counter += 1\n",
    "\n",
    "print(f'{counter} grayscale images deleted.')"
   ]
  },
  {
   "cell_type": "markdown",
   "metadata": {},
   "source": [
    "### dimension of images"
   ]
  },
  {
   "cell_type": "code",
   "execution_count": 3,
   "metadata": {},
   "outputs": [],
   "source": [
    "# create dataframe of dimension of the images\n",
    "\n",
    "# initialte a dataframe for dimension\n",
    "keys = ['Object ID', 'width','height']\n",
    "df_dim = pd.DataFrame(columns=keys)\n",
    "\n",
    "# params\n",
    "directory = 'clean image/full_selection_sel' # select the folder\n",
    "\n",
    "# function\n",
    "for filename in os.listdir(directory):\n",
    "    r = directory + '/' + filename\n",
    "    image = cv2.imread(r)\n",
    "    new_row = {'Object ID':filename, 'width':image.shape[1],'height':image.shape[0]}\n",
    "    new_row = pd.DataFrame(new_row,index=[0])\n",
    "    df_dim = pd.concat([df_dim, new_row], ignore_index=True)"
   ]
  },
  {
   "cell_type": "code",
   "execution_count": 4,
   "metadata": {},
   "outputs": [],
   "source": [
    "# clean the .jpg in df\n",
    "df_dim['Object ID'] = df_dim['Object ID'].map(lambda x: x[:-4])"
   ]
  },
  {
   "cell_type": "code",
   "execution_count": 10,
   "metadata": {},
   "outputs": [
    {
     "data": {
      "text/html": [
       "<div>\n",
       "<style scoped>\n",
       "    .dataframe tbody tr th:only-of-type {\n",
       "        vertical-align: middle;\n",
       "    }\n",
       "\n",
       "    .dataframe tbody tr th {\n",
       "        vertical-align: top;\n",
       "    }\n",
       "\n",
       "    .dataframe thead th {\n",
       "        text-align: right;\n",
       "    }\n",
       "</style>\n",
       "<table border=\"1\" class=\"dataframe\">\n",
       "  <thead>\n",
       "    <tr style=\"text-align: right;\">\n",
       "      <th></th>\n",
       "      <th>Object ID</th>\n",
       "      <th>width</th>\n",
       "      <th>height</th>\n",
       "      <th>ratio</th>\n",
       "    </tr>\n",
       "  </thead>\n",
       "  <tbody>\n",
       "    <tr>\n",
       "      <th>0</th>\n",
       "      <td>100017</td>\n",
       "      <td>991</td>\n",
       "      <td>1795</td>\n",
       "      <td>vertical</td>\n",
       "    </tr>\n",
       "    <tr>\n",
       "      <th>1</th>\n",
       "      <td>100019</td>\n",
       "      <td>1800</td>\n",
       "      <td>1898</td>\n",
       "      <td>square</td>\n",
       "    </tr>\n",
       "    <tr>\n",
       "      <th>2</th>\n",
       "      <td>100020</td>\n",
       "      <td>1440</td>\n",
       "      <td>2526</td>\n",
       "      <td>vertical</td>\n",
       "    </tr>\n",
       "    <tr>\n",
       "      <th>3</th>\n",
       "      <td>100021</td>\n",
       "      <td>1663</td>\n",
       "      <td>1960</td>\n",
       "      <td>vertical</td>\n",
       "    </tr>\n",
       "    <tr>\n",
       "      <th>4</th>\n",
       "      <td>100024</td>\n",
       "      <td>1225</td>\n",
       "      <td>2838</td>\n",
       "      <td>vertical</td>\n",
       "    </tr>\n",
       "  </tbody>\n",
       "</table>\n",
       "</div>"
      ],
      "text/plain": [
       "  Object ID width height     ratio\n",
       "0    100017   991   1795  vertical\n",
       "1    100019  1800   1898    square\n",
       "2    100020  1440   2526  vertical\n",
       "3    100021  1663   1960  vertical\n",
       "4    100024  1225   2838  vertical"
      ]
     },
     "execution_count": 10,
     "metadata": {},
     "output_type": "execute_result"
    }
   ],
   "source": [
    "# create a list of our conditions\n",
    "conditions = [\n",
    "    df_dim['height'] / df_dim['width'] >=1.1,\n",
    "    df_dim['height'] / df_dim['width'] <=0.9,\n",
    "    (df_dim['height'] / df_dim['width'] >0.9) & (df_dim['height'] / df_dim['width'] <1.1) \n",
    "    ]\n",
    "\n",
    "# create a list of the values we want to assign for each condition\n",
    "values = ['vertical', 'horizontal', 'square']\n",
    "\n",
    "# create a new column and use np.select to assign values to it using our lists as arguments\n",
    "df_dim['ratio'] = np.select(conditions, values)\n",
    "\n",
    "# display updated DataFrame\n",
    "df_dim.head()"
   ]
  },
  {
   "cell_type": "code",
   "execution_count": 11,
   "metadata": {},
   "outputs": [],
   "source": [
    "ra = df_dim['ratio'].value_counts()"
   ]
  },
  {
   "cell_type": "code",
   "execution_count": 22,
   "metadata": {},
   "outputs": [
    {
     "data": {
      "text/plain": [
       "{'vertical': 2081, 'horizontal': 295, 'square': 189}"
      ]
     },
     "execution_count": 22,
     "metadata": {},
     "output_type": "execute_result"
    }
   ],
   "source": [
    "ra.to_dict()"
   ]
  },
  {
   "cell_type": "markdown",
   "metadata": {},
   "source": [
    "## define functions"
   ]
  },
  {
   "cell_type": "markdown",
   "metadata": {},
   "source": [
    "### delete grayscale images in folder"
   ]
  },
  {
   "cell_type": "code",
   "execution_count": null,
   "metadata": {},
   "outputs": [],
   "source": [
    "# directory = 'clean image/full_selection_sel' # select the folder\n",
    "\n",
    "def delete_gray_image_in_folder(directory):\n",
    "    start = time.time() # start timer\n",
    "    counter = 0 # handy counter\n",
    "\n",
    "    for filename in os.listdir(directory):\n",
    "        r = directory + '/' + filename\n",
    "        image = cv2.imread(r)\n",
    "        (B, G, R) = cv2.split(image)\n",
    "\n",
    "        if (B==G).all() == True: # RBG channels are same for grayscales\n",
    "            os.remove(r)\n",
    "            counter += 1\n",
    "\n",
    "    print(f'{counter} grayscale images deleted.')\n",
    "    print(f'{time.time()-start_time} seconds slipped...') # print out the time spent"
   ]
  },
  {
   "cell_type": "markdown",
   "metadata": {},
   "source": [
    "### create a df for dimension checkout"
   ]
  },
  {
   "cell_type": "code",
   "execution_count": 28,
   "metadata": {},
   "outputs": [],
   "source": [
    "# directory = 'clean image/full_selection_sel' # select the folder\n",
    "\n",
    "def dimension_df(directory):\n",
    "    \"\"\"return a dataframe\"\"\"\n",
    "\n",
    "    # initialte a dataframe for dimension\n",
    "    keys = ['Object ID', 'width','height']\n",
    "    df_dim = pd.DataFrame(columns=keys)\n",
    "\n",
    "    # function\n",
    "    for filename in os.listdir(directory):\n",
    "        r = directory + '/' + filename\n",
    "        image = cv2.imread(r)\n",
    "        new_row = {'Object ID':filename, 'width':image.shape[1],'height':image.shape[0]}\n",
    "        new_row = pd.DataFrame(new_row,index=[0])\n",
    "        df_dim = pd.concat([df_dim, new_row], ignore_index=True)\n",
    "\n",
    "    # clean the .jpg in df\n",
    "    df_dim['Object ID'] = df_dim['Object ID'].map(lambda x: x[:-4])\n",
    "\n",
    "    # create a list of our conditions\n",
    "    conditions = [\n",
    "        df_dim['height'] > df_dim['width'],\n",
    "        df_dim['height'] < df_dim['width'],\n",
    "        df_dim['height'] == df_dim['width']\n",
    "        ]\n",
    "\n",
    "    # conditions for rough square\n",
    "    # a rough square doesn't need to be cropped using other tools\n",
    "    # if there are many rough square, it will save some processing time\n",
    "    conditions2 = [\n",
    "        df_dim['height'] / df_dim['width'] >=1.1,\n",
    "        df_dim['height'] / df_dim['width'] <=0.9,\n",
    "        (df_dim['height'] / df_dim['width'] >0.9) & (df_dim['height'] / df_dim['width'] <1.1) \n",
    "        ]\n",
    "\n",
    "    # create a list of the values we want to assign for each condition\n",
    "    values = ['vertical', 'horizontal', 'square']\n",
    "\n",
    "    # create a new column and use np.select to assign values to it using our lists as arguments\n",
    "    df_dim['ratio'] = np.select(conditions, values)\n",
    "    df_dim['rough ratio'] = np.select(conditions2, values)\n",
    "\n",
    "\n",
    "    ra = df_dim['ratio'].value_counts().to_dict()\n",
    "    ra2 = df_dim['rough ratio'].value_counts().to_dict()\n",
    "\n",
    "    print(f'explict the square counts: {ra}')\n",
    "    print(f'rough square counts: {ra2}')\n",
    "\n",
    "    return df_dim"
   ]
  },
  {
   "cell_type": "markdown",
   "metadata": {},
   "source": [
    "## use funcs"
   ]
  },
  {
   "cell_type": "code",
   "execution_count": 29,
   "metadata": {},
   "outputs": [
    {
     "name": "stdout",
     "output_type": "stream",
     "text": [
      "explict the square counts: {'horizontal': 118, 'vertical': 71}\n",
      "rough square counts: {'horizontal': 111, 'vertical': 62, 'square': 16}\n"
     ]
    },
    {
     "data": {
      "text/html": [
       "<div>\n",
       "<style scoped>\n",
       "    .dataframe tbody tr th:only-of-type {\n",
       "        vertical-align: middle;\n",
       "    }\n",
       "\n",
       "    .dataframe tbody tr th {\n",
       "        vertical-align: top;\n",
       "    }\n",
       "\n",
       "    .dataframe thead th {\n",
       "        text-align: right;\n",
       "    }\n",
       "</style>\n",
       "<table border=\"1\" class=\"dataframe\">\n",
       "  <thead>\n",
       "    <tr style=\"text-align: right;\">\n",
       "      <th></th>\n",
       "      <th>Object ID</th>\n",
       "      <th>width</th>\n",
       "      <th>height</th>\n",
       "      <th>ratio</th>\n",
       "      <th>rough ratio</th>\n",
       "    </tr>\n",
       "  </thead>\n",
       "  <tbody>\n",
       "    <tr>\n",
       "      <th>0</th>\n",
       "      <td>126312</td>\n",
       "      <td>1500</td>\n",
       "      <td>2111</td>\n",
       "      <td>vertical</td>\n",
       "      <td>vertical</td>\n",
       "    </tr>\n",
       "    <tr>\n",
       "      <th>1</th>\n",
       "      <td>126722</td>\n",
       "      <td>1250</td>\n",
       "      <td>2757</td>\n",
       "      <td>vertical</td>\n",
       "      <td>vertical</td>\n",
       "    </tr>\n",
       "    <tr>\n",
       "      <th>2</th>\n",
       "      <td>127542</td>\n",
       "      <td>1400</td>\n",
       "      <td>2418</td>\n",
       "      <td>vertical</td>\n",
       "      <td>vertical</td>\n",
       "    </tr>\n",
       "    <tr>\n",
       "      <th>3</th>\n",
       "      <td>39317</td>\n",
       "      <td>2000</td>\n",
       "      <td>1604</td>\n",
       "      <td>horizontal</td>\n",
       "      <td>horizontal</td>\n",
       "    </tr>\n",
       "    <tr>\n",
       "      <th>4</th>\n",
       "      <td>39747</td>\n",
       "      <td>3811</td>\n",
       "      <td>3049</td>\n",
       "      <td>horizontal</td>\n",
       "      <td>horizontal</td>\n",
       "    </tr>\n",
       "    <tr>\n",
       "      <th>...</th>\n",
       "      <td>...</td>\n",
       "      <td>...</td>\n",
       "      <td>...</td>\n",
       "      <td>...</td>\n",
       "      <td>...</td>\n",
       "    </tr>\n",
       "    <tr>\n",
       "      <th>184</th>\n",
       "      <td>88303</td>\n",
       "      <td>1227</td>\n",
       "      <td>2439</td>\n",
       "      <td>vertical</td>\n",
       "      <td>vertical</td>\n",
       "    </tr>\n",
       "    <tr>\n",
       "      <th>185</th>\n",
       "      <td>88308</td>\n",
       "      <td>1250</td>\n",
       "      <td>2757</td>\n",
       "      <td>vertical</td>\n",
       "      <td>vertical</td>\n",
       "    </tr>\n",
       "    <tr>\n",
       "      <th>186</th>\n",
       "      <td>88350</td>\n",
       "      <td>1800</td>\n",
       "      <td>1636</td>\n",
       "      <td>horizontal</td>\n",
       "      <td>square</td>\n",
       "    </tr>\n",
       "    <tr>\n",
       "      <th>187</th>\n",
       "      <td>93922</td>\n",
       "      <td>1425</td>\n",
       "      <td>2450</td>\n",
       "      <td>vertical</td>\n",
       "      <td>vertical</td>\n",
       "    </tr>\n",
       "    <tr>\n",
       "      <th>188</th>\n",
       "      <td>95811</td>\n",
       "      <td>1550</td>\n",
       "      <td>2244</td>\n",
       "      <td>vertical</td>\n",
       "      <td>vertical</td>\n",
       "    </tr>\n",
       "  </tbody>\n",
       "</table>\n",
       "<p>189 rows × 5 columns</p>\n",
       "</div>"
      ],
      "text/plain": [
       "    Object ID width height       ratio rough ratio\n",
       "0      126312  1500   2111    vertical    vertical\n",
       "1      126722  1250   2757    vertical    vertical\n",
       "2      127542  1400   2418    vertical    vertical\n",
       "3       39317  2000   1604  horizontal  horizontal\n",
       "4       39747  3811   3049  horizontal  horizontal\n",
       "..        ...   ...    ...         ...         ...\n",
       "184     88303  1227   2439    vertical    vertical\n",
       "185     88308  1250   2757    vertical    vertical\n",
       "186     88350  1800   1636  horizontal      square\n",
       "187     93922  1425   2450    vertical    vertical\n",
       "188     95811  1550   2244    vertical    vertical\n",
       "\n",
       "[189 rows x 5 columns]"
      ]
     },
     "execution_count": 29,
     "metadata": {},
     "output_type": "execute_result"
    }
   ],
   "source": [
    "dimension_df('clean image/asian_art_sel')"
   ]
  },
  {
   "cell_type": "code",
   "execution_count": 30,
   "metadata": {},
   "outputs": [
    {
     "name": "stdout",
     "output_type": "stream",
     "text": [
      "explict the square counts: {'vertical': 2186, 'horizontal': 378, 'square': 1}\n",
      "rough square counts: {'vertical': 2081, 'horizontal': 295, 'square': 189}\n"
     ]
    },
    {
     "data": {
      "text/html": [
       "<div>\n",
       "<style scoped>\n",
       "    .dataframe tbody tr th:only-of-type {\n",
       "        vertical-align: middle;\n",
       "    }\n",
       "\n",
       "    .dataframe tbody tr th {\n",
       "        vertical-align: top;\n",
       "    }\n",
       "\n",
       "    .dataframe thead th {\n",
       "        text-align: right;\n",
       "    }\n",
       "</style>\n",
       "<table border=\"1\" class=\"dataframe\">\n",
       "  <thead>\n",
       "    <tr style=\"text-align: right;\">\n",
       "      <th></th>\n",
       "      <th>Object ID</th>\n",
       "      <th>width</th>\n",
       "      <th>height</th>\n",
       "      <th>ratio</th>\n",
       "      <th>rough ratio</th>\n",
       "    </tr>\n",
       "  </thead>\n",
       "  <tbody>\n",
       "    <tr>\n",
       "      <th>0</th>\n",
       "      <td>100017</td>\n",
       "      <td>991</td>\n",
       "      <td>1795</td>\n",
       "      <td>vertical</td>\n",
       "      <td>vertical</td>\n",
       "    </tr>\n",
       "    <tr>\n",
       "      <th>1</th>\n",
       "      <td>100019</td>\n",
       "      <td>1800</td>\n",
       "      <td>1898</td>\n",
       "      <td>vertical</td>\n",
       "      <td>square</td>\n",
       "    </tr>\n",
       "    <tr>\n",
       "      <th>2</th>\n",
       "      <td>100020</td>\n",
       "      <td>1440</td>\n",
       "      <td>2526</td>\n",
       "      <td>vertical</td>\n",
       "      <td>vertical</td>\n",
       "    </tr>\n",
       "    <tr>\n",
       "      <th>3</th>\n",
       "      <td>100021</td>\n",
       "      <td>1663</td>\n",
       "      <td>1960</td>\n",
       "      <td>vertical</td>\n",
       "      <td>vertical</td>\n",
       "    </tr>\n",
       "    <tr>\n",
       "      <th>4</th>\n",
       "      <td>100024</td>\n",
       "      <td>1225</td>\n",
       "      <td>2838</td>\n",
       "      <td>vertical</td>\n",
       "      <td>vertical</td>\n",
       "    </tr>\n",
       "    <tr>\n",
       "      <th>...</th>\n",
       "      <td>...</td>\n",
       "      <td>...</td>\n",
       "      <td>...</td>\n",
       "      <td>...</td>\n",
       "      <td>...</td>\n",
       "    </tr>\n",
       "    <tr>\n",
       "      <th>2560</th>\n",
       "      <td>98751</td>\n",
       "      <td>2949</td>\n",
       "      <td>3892</td>\n",
       "      <td>vertical</td>\n",
       "      <td>vertical</td>\n",
       "    </tr>\n",
       "    <tr>\n",
       "      <th>2561</th>\n",
       "      <td>99061</td>\n",
       "      <td>1850</td>\n",
       "      <td>1885</td>\n",
       "      <td>vertical</td>\n",
       "      <td>square</td>\n",
       "    </tr>\n",
       "    <tr>\n",
       "      <th>2562</th>\n",
       "      <td>99070</td>\n",
       "      <td>1500</td>\n",
       "      <td>2250</td>\n",
       "      <td>vertical</td>\n",
       "      <td>vertical</td>\n",
       "    </tr>\n",
       "    <tr>\n",
       "      <th>2563</th>\n",
       "      <td>99509</td>\n",
       "      <td>3000</td>\n",
       "      <td>4000</td>\n",
       "      <td>vertical</td>\n",
       "      <td>vertical</td>\n",
       "    </tr>\n",
       "    <tr>\n",
       "      <th>2564</th>\n",
       "      <td>99989</td>\n",
       "      <td>1344</td>\n",
       "      <td>2184</td>\n",
       "      <td>vertical</td>\n",
       "      <td>vertical</td>\n",
       "    </tr>\n",
       "  </tbody>\n",
       "</table>\n",
       "<p>2565 rows × 5 columns</p>\n",
       "</div>"
      ],
      "text/plain": [
       "     Object ID width height     ratio rough ratio\n",
       "0       100017   991   1795  vertical    vertical\n",
       "1       100019  1800   1898  vertical      square\n",
       "2       100020  1440   2526  vertical    vertical\n",
       "3       100021  1663   1960  vertical    vertical\n",
       "4       100024  1225   2838  vertical    vertical\n",
       "...        ...   ...    ...       ...         ...\n",
       "2560     98751  2949   3892  vertical    vertical\n",
       "2561     99061  1850   1885  vertical      square\n",
       "2562     99070  1500   2250  vertical    vertical\n",
       "2563     99509  3000   4000  vertical    vertical\n",
       "2564     99989  1344   2184  vertical    vertical\n",
       "\n",
       "[2565 rows x 5 columns]"
      ]
     },
     "execution_count": 30,
     "metadata": {},
     "output_type": "execute_result"
    }
   ],
   "source": [
    "dimension_df('clean image/full_selection_sel')"
   ]
  },
  {
   "cell_type": "markdown",
   "metadata": {},
   "source": [
    "overall most clothes images are vertical, but most asian clothes are horizontal. "
   ]
  },
  {
   "cell_type": "markdown",
   "metadata": {},
   "source": []
  }
 ],
 "metadata": {
  "kernelspec": {
   "display_name": "Python 3.8.5",
   "language": "python",
   "name": "python3"
  },
  "language_info": {
   "codemirror_mode": {
    "name": "ipython",
    "version": 3
   },
   "file_extension": ".py",
   "mimetype": "text/x-python",
   "name": "python",
   "nbconvert_exporter": "python",
   "pygments_lexer": "ipython3",
   "version": "3.8.5"
  },
  "orig_nbformat": 4,
  "vscode": {
   "interpreter": {
    "hash": "6b28c59abdd3e0e411b5a11229b93f68acf962b5a35d0ef77ee79d5a719cc0f0"
   }
  }
 },
 "nbformat": 4,
 "nbformat_minor": 2
}
