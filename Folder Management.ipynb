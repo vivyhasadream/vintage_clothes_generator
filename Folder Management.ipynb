{
 "cells": [
  {
   "cell_type": "code",
   "execution_count": 8,
   "metadata": {},
   "outputs": [],
   "source": [
    "import pandas as pd\n",
    "import numpy as np\n",
    "import cv2\n",
    "import os\n",
    "\n",
    "import time"
   ]
  },
  {
   "cell_type": "markdown",
   "metadata": {},
   "source": [
    "### delete grayscale images"
   ]
  },
  {
   "cell_type": "code",
   "execution_count": 5,
   "metadata": {},
   "outputs": [
    {
     "name": "stdout",
     "output_type": "stream",
     "text": [
      "0 grayscale images deleted.\n"
     ]
    }
   ],
   "source": [
    "directory = 'asian_art_sel'\n",
    "counter = 0\n",
    "\n",
    "for filename in os.listdir(directory):\n",
    "    r = directory + '/' + filename\n",
    "    image = cv2.imread(r)\n",
    "    (B, G, R) = cv2.split(image)\n",
    "\n",
    "    if (B==G).all() == True:\n",
    "        os.remove(r)\n",
    "        counter += 1\n",
    "\n",
    "print(f'{counter} grayscale images deleted.')"
   ]
  },
  {
   "cell_type": "markdown",
   "metadata": {},
   "source": [
    "### dimension of images"
   ]
  },
  {
   "cell_type": "code",
   "execution_count": 114,
   "metadata": {},
   "outputs": [],
   "source": [
    "# create dataframe of dimension of the images\n",
    "\n",
    "# initialte a dataframe for dimension\n",
    "keys = ['Object ID', 'width','height']\n",
    "df_dim = pd.DataFrame(columns=keys)\n",
    "\n",
    "# params\n",
    "directory = 'asian_art_sel'\n",
    "\n",
    "# function\n",
    "for filename in os.listdir(directory):\n",
    "    r = directory + '/' + filename\n",
    "    image = cv2.imread(r)\n",
    "    new_row = {'Object ID':filename, 'width':image.shape[1],'height':image.shape[0]}\n",
    "    new_row = pd.DataFrame(new_row,index=[0])\n",
    "    df_dim = pd.concat([df_dim, new_row], ignore_index=True)"
   ]
  },
  {
   "cell_type": "code",
   "execution_count": 115,
   "metadata": {},
   "outputs": [],
   "source": [
    "# clean the .jpg\n",
    "df_dim['Object ID'] = df_dim['Object ID'].map(lambda x: x[:-4])"
   ]
  },
  {
   "cell_type": "code",
   "execution_count": 116,
   "metadata": {},
   "outputs": [
    {
     "data": {
      "text/html": [
       "<div>\n",
       "<style scoped>\n",
       "    .dataframe tbody tr th:only-of-type {\n",
       "        vertical-align: middle;\n",
       "    }\n",
       "\n",
       "    .dataframe tbody tr th {\n",
       "        vertical-align: top;\n",
       "    }\n",
       "\n",
       "    .dataframe thead th {\n",
       "        text-align: right;\n",
       "    }\n",
       "</style>\n",
       "<table border=\"1\" class=\"dataframe\">\n",
       "  <thead>\n",
       "    <tr style=\"text-align: right;\">\n",
       "      <th></th>\n",
       "      <th>Object ID</th>\n",
       "      <th>width</th>\n",
       "      <th>height</th>\n",
       "      <th>ratio</th>\n",
       "    </tr>\n",
       "  </thead>\n",
       "  <tbody>\n",
       "    <tr>\n",
       "      <th>0</th>\n",
       "      <td>126312</td>\n",
       "      <td>1500</td>\n",
       "      <td>2111</td>\n",
       "      <td>vertical</td>\n",
       "    </tr>\n",
       "    <tr>\n",
       "      <th>1</th>\n",
       "      <td>126722</td>\n",
       "      <td>1250</td>\n",
       "      <td>2757</td>\n",
       "      <td>vertical</td>\n",
       "    </tr>\n",
       "    <tr>\n",
       "      <th>2</th>\n",
       "      <td>127542</td>\n",
       "      <td>1400</td>\n",
       "      <td>2418</td>\n",
       "      <td>vertical</td>\n",
       "    </tr>\n",
       "    <tr>\n",
       "      <th>3</th>\n",
       "      <td>39317</td>\n",
       "      <td>2000</td>\n",
       "      <td>1604</td>\n",
       "      <td>horizontal</td>\n",
       "    </tr>\n",
       "    <tr>\n",
       "      <th>4</th>\n",
       "      <td>39747</td>\n",
       "      <td>3811</td>\n",
       "      <td>3049</td>\n",
       "      <td>horizontal</td>\n",
       "    </tr>\n",
       "  </tbody>\n",
       "</table>\n",
       "</div>"
      ],
      "text/plain": [
       "  Object ID width height       ratio\n",
       "0    126312  1500   2111    vertical\n",
       "1    126722  1250   2757    vertical\n",
       "2    127542  1400   2418    vertical\n",
       "3     39317  2000   1604  horizontal\n",
       "4     39747  3811   3049  horizontal"
      ]
     },
     "execution_count": 116,
     "metadata": {},
     "output_type": "execute_result"
    }
   ],
   "source": [
    "# create a list of our conditions\n",
    "conditions = [\n",
    "    df_dim['height'] > df_dim['width'],\n",
    "    df_dim['height'] < df_dim['width'],\n",
    "    df_dim['height'] == df_dim['width']\n",
    "    ]\n",
    "\n",
    "# create a list of the values we want to assign for each condition\n",
    "values = ['vertical', 'horizontal', 'square']\n",
    "\n",
    "# create a new column and use np.select to assign values to it using our lists as arguments\n",
    "df_dim['ratio'] = np.select(conditions, values)\n",
    "\n",
    "# display updated DataFrame\n",
    "df_dim.head()"
   ]
  },
  {
   "cell_type": "code",
   "execution_count": 117,
   "metadata": {},
   "outputs": [
    {
     "data": {
      "text/plain": [
       "horizontal    118\n",
       "vertical       71\n",
       "Name: ratio, dtype: int64"
      ]
     },
     "execution_count": 117,
     "metadata": {},
     "output_type": "execute_result"
    }
   ],
   "source": [
    "df_dim['ratio'].value_counts()"
   ]
  },
  {
   "cell_type": "code",
   "execution_count": null,
   "metadata": {},
   "outputs": [],
   "source": []
  }
 ],
 "metadata": {
  "kernelspec": {
   "display_name": "Python 3.8.5",
   "language": "python",
   "name": "python3"
  },
  "language_info": {
   "codemirror_mode": {
    "name": "ipython",
    "version": 3
   },
   "file_extension": ".py",
   "mimetype": "text/x-python",
   "name": "python",
   "nbconvert_exporter": "python",
   "pygments_lexer": "ipython3",
   "version": "3.8.5"
  },
  "orig_nbformat": 4,
  "vscode": {
   "interpreter": {
    "hash": "6b28c59abdd3e0e411b5a11229b93f68acf962b5a35d0ef77ee79d5a719cc0f0"
   }
  }
 },
 "nbformat": 4,
 "nbformat_minor": 2
}
